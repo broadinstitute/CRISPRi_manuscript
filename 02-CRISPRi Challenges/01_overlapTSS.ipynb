{
 "cells": [
  {
   "cell_type": "code",
   "execution_count": 1,
   "id": "073e4e71",
   "metadata": {},
   "outputs": [],
   "source": [
    "import pandas as pd\n",
    "import seaborn as sns\n",
    "import matplotlib.pyplot as plt\n",
    "import matplotlib\n",
    "import numpy as np\n",
    "import json\n",
    "\n",
    "matplotlib.rcParams['pdf.fonttype'] = 42\n",
    "matplotlib.rcParams['ps.fonttype'] = 42"
   ]
  },
  {
   "cell_type": "code",
   "execution_count": 2,
   "id": "f2383740",
   "metadata": {},
   "outputs": [],
   "source": [
    "# 07_overlapping_gene_ensembl_whole_gw_protein_coding: the orginal version"
   ]
  },
  {
   "cell_type": "code",
   "execution_count": 3,
   "id": "5804b14d",
   "metadata": {},
   "outputs": [],
   "source": [
    "def is_distance_less_than_x(row1, row2, start , end, x ):\n",
    "    row2_range = range(int(row2[start]), int(row2[end]))\n",
    "    print(row1['Strand'])\n",
    "\n",
    "    if row1['Strand'] == 1:\n",
    "        start_row1_minus_end_row2 = abs(float(row1[start]) - float(row2[end]))\n",
    "        start_row1_minus_start_row2 = abs(float(row1[start]) - float(row2[start]))\n",
    "        start_row1_between_row2 = int(row1[start]) in row2_range\n",
    "        return start_row1_minus_end_row2 < x or start_row1_minus_start_row2 < x or start_row1_between_row2\n",
    "   \n",
    "    elif row1['Strand'] == -1:\n",
    "        end_row1_minus_start_row2 = abs(float(row1[end]) - float(row2[start]))\n",
    "        end_row1_minus_end_row2 = abs(float(row1[end]) - float(row2[end]))\n",
    "        end_row1_between_row2 = int(row1[end]) in row2_range\n",
    "        return end_row1_minus_start_row2 < x or end_row1_minus_end_row2 < x or end_row1_between_row2\n",
    "    else:\n",
    "        raise Exception(\"The strand is neither 1 nor -1. Review is_distance_less_than_x!\")\n",
    "\n",
    "def add_element(dict, key, value):\n",
    "    #https://stackoverflow.com/questions/33272588/appending-elements-to-an-empty-dictionary-of-lists-in-python\n",
    "    if key not in dict:\n",
    "        dict[key] = []\n",
    "    if value not in dict[key]:  # Check if the value is not already in the list\n",
    "        dict[key].append(value)\n",
    "\n",
    "        \n",
    "        \n",
    "def overlap_list(biomart_df, start = 'Gene start (bp)', end = 'Gene end (bp)', x = 1000):\n",
    "    filtered_objects = dict()\n",
    "\n",
    "    for chromo in biomart_df['Chromosome/scaffold name'].unique():\n",
    "\n",
    "    # select choromosom\n",
    "        c1 = biomart_df[biomart_df['Chromosome/scaffold name'] == chromo]\n",
    "#         # esstential gene in the chromosome\n",
    "#         ess_gene_c1 = c1[c1['Gene name'].isin(ess_gene_list)]\n",
    "        # Filter the DataFrame\n",
    "\n",
    "        for i, row1 in c1.iterrows():\n",
    "            for j, row2 in c1.iterrows():\n",
    "                if i != j:\n",
    "                    if is_distance_less_than_x(row1, row2, start = start, end = end, x = x):\n",
    "                        add_element(filtered_objects, row1['Gene stable ID'], row2['Gene stable ID'])\n",
    "                    else:\n",
    "                        pass\n",
    "    return filtered_objects\n",
    "# Convert the dictionary into a list of tuples \n",
    "# then into df then melt datframe\n",
    "def dict_to_df(example_dict):\n",
    "    test_gene_overlap = []\n",
    "    for key, value_list in example_dict.items():\n",
    "        for value in value_list:\n",
    "            test_gene_overlap.append((key, value))\n",
    "    \n",
    "    example_dict_data = pd.DataFrame(test_gene_overlap, columns=['Selected Gene', 'Overlapping Gene'])\n",
    "    example_dict_data = example_dict_data.drop_duplicates()\n",
    "    return example_dict_data\n",
    "\n",
    "                    \n",
    "def overlap_type(gene_1, gene_2, x = 1000):   \n",
    "\n",
    "    # gene_1 and gene_2 are rows \n",
    "    if (float(gene_1['Strand'].iloc[0]) == 1) and (float(gene_2['Strand'].iloc[0]) == -1):\n",
    "        distance_tss = abs(float(gene_1['Gene start (bp)'].iloc[0]) - float(gene_2['Gene end (bp)'].iloc[0]))\n",
    "        other_distance_tss = abs(float(gene_1['Gene start (bp)'].iloc[0]) - float(gene_2['Gene start (bp)'].iloc[0]))\n",
    "\n",
    "        if distance_tss <= x:\n",
    "            return 2\n",
    "        else:\n",
    "            if other_distance_tss <= x:\n",
    "                return 4\n",
    "            else:\n",
    "                return 5\n",
    "\n",
    "    if (float(gene_1['Strand'].iloc[0]) == 1) and (float(gene_2['Strand'].iloc[0]) == 1):\n",
    "        distance_tss = abs(float(gene_1['Gene start (bp)'].iloc[0]) - float(gene_2['Gene start (bp)'].iloc[0]))\n",
    "        other_distance_tss_case1 = abs(float(gene_1['Gene start (bp)'].iloc[0]) - float(gene_2['Gene end (bp)'].iloc[0]))\n",
    "        other_distance_tss_case2 = abs(float(gene_2['Gene start (bp)'].iloc[0]) - float(gene_1['Gene end (bp)'].iloc[0]))\n",
    "\n",
    "\n",
    "        if distance_tss <= x:\n",
    "            return 3\n",
    "        else:\n",
    "\n",
    "            if (other_distance_tss_case1 <= x) or (other_distance_tss_case2 <= x):\n",
    "                return 1\n",
    "            else:\n",
    "                return 6\n",
    "    \n",
    "    if (float(gene_1['Strand'].iloc[0]) == -1) and (float(gene_2['Strand'].iloc[0]) == 1):\n",
    "        distance_tss =  abs(float(gene_2['Gene start (bp)'].iloc[0]) - float(gene_1['Gene end (bp)'].iloc[0]))\n",
    "        other_distance_tss = abs(float(gene_2['Gene start (bp)'].iloc[0]) - float(gene_1['Gene start (bp)'].iloc[0]))\n",
    "\n",
    "        if distance_tss <= x:\n",
    "            return 2\n",
    "        else:\n",
    "            if other_distance_tss <= x:\n",
    "                return 4\n",
    "            else:\n",
    "                return 5\n",
    "    if (float(gene_1['Strand'].iloc[0]) == -1) and (float(gene_2['Strand'].iloc[0]) == -1):\n",
    "        distance_tss = abs(float(gene_1['Gene end (bp)'].iloc[0]) - float(gene_2['Gene end (bp)'].iloc[0]))\n",
    "        other_distance_tss_case1 = abs(float(gene_1['Gene end (bp)'].iloc[0]) - float(gene_2['Gene start (bp)'].iloc[0]))\n",
    "        other_distance_tss_case2 = abs(float(gene_2['Gene end (bp)'].iloc[0]) - float(gene_1['Gene start (bp)'].iloc[0]))\n",
    "\n",
    "        if distance_tss <= x:\n",
    "            return 3\n",
    "        else:\n",
    "\n",
    "            if (other_distance_tss_case1 <= x) or (other_distance_tss_case2 <= x):\n",
    "                return 1\n",
    "            else:\n",
    "                return 6\n",
    "                        \n"
   ]
  },
  {
   "cell_type": "code",
   "execution_count": 4,
   "id": "ed1a4c4a",
   "metadata": {},
   "outputs": [
    {
     "data": {
      "text/html": [
       "<div>\n",
       "<style scoped>\n",
       "    .dataframe tbody tr th:only-of-type {\n",
       "        vertical-align: middle;\n",
       "    }\n",
       "\n",
       "    .dataframe tbody tr th {\n",
       "        vertical-align: top;\n",
       "    }\n",
       "\n",
       "    .dataframe thead th {\n",
       "        text-align: right;\n",
       "    }\n",
       "</style>\n",
       "<table border=\"1\" class=\"dataframe\">\n",
       "  <thead>\n",
       "    <tr style=\"text-align: right;\">\n",
       "      <th></th>\n",
       "      <th>Gene stable ID</th>\n",
       "      <th>Gene stable ID version</th>\n",
       "      <th>Transcript stable ID</th>\n",
       "      <th>Transcript stable ID version</th>\n",
       "      <th>Gene type</th>\n",
       "      <th>Gene name</th>\n",
       "      <th>Gene description</th>\n",
       "      <th>Chromosome/scaffold name</th>\n",
       "      <th>Gene start (bp)</th>\n",
       "      <th>Gene end (bp)</th>\n",
       "      <th>Transcription start site (TSS)</th>\n",
       "      <th>Strand</th>\n",
       "      <th>Transcript start (bp)</th>\n",
       "      <th>Transcript end (bp)</th>\n",
       "    </tr>\n",
       "  </thead>\n",
       "  <tbody>\n",
       "    <tr>\n",
       "      <th>0</th>\n",
       "      <td>ENSG00000210049</td>\n",
       "      <td>ENSG00000210049.1</td>\n",
       "      <td>ENST00000387314</td>\n",
       "      <td>ENST00000387314.1</td>\n",
       "      <td>Mt_tRNA</td>\n",
       "      <td>MT-TF</td>\n",
       "      <td>mitochondrially encoded tRNA-Phe (UUU/C) [Sour...</td>\n",
       "      <td>MT</td>\n",
       "      <td>577</td>\n",
       "      <td>647</td>\n",
       "      <td>577</td>\n",
       "      <td>1</td>\n",
       "      <td>577</td>\n",
       "      <td>647</td>\n",
       "    </tr>\n",
       "    <tr>\n",
       "      <th>1</th>\n",
       "      <td>ENSG00000211459</td>\n",
       "      <td>ENSG00000211459.2</td>\n",
       "      <td>ENST00000389680</td>\n",
       "      <td>ENST00000389680.2</td>\n",
       "      <td>Mt_rRNA</td>\n",
       "      <td>MT-RNR1</td>\n",
       "      <td>mitochondrially encoded 12S rRNA [Source:HGNC ...</td>\n",
       "      <td>MT</td>\n",
       "      <td>648</td>\n",
       "      <td>1601</td>\n",
       "      <td>648</td>\n",
       "      <td>1</td>\n",
       "      <td>648</td>\n",
       "      <td>1601</td>\n",
       "    </tr>\n",
       "    <tr>\n",
       "      <th>2</th>\n",
       "      <td>ENSG00000210077</td>\n",
       "      <td>ENSG00000210077.1</td>\n",
       "      <td>ENST00000387342</td>\n",
       "      <td>ENST00000387342.1</td>\n",
       "      <td>Mt_tRNA</td>\n",
       "      <td>MT-TV</td>\n",
       "      <td>mitochondrially encoded tRNA-Val (GUN) [Source...</td>\n",
       "      <td>MT</td>\n",
       "      <td>1602</td>\n",
       "      <td>1670</td>\n",
       "      <td>1602</td>\n",
       "      <td>1</td>\n",
       "      <td>1602</td>\n",
       "      <td>1670</td>\n",
       "    </tr>\n",
       "    <tr>\n",
       "      <th>3</th>\n",
       "      <td>ENSG00000210082</td>\n",
       "      <td>ENSG00000210082.2</td>\n",
       "      <td>ENST00000387347</td>\n",
       "      <td>ENST00000387347.2</td>\n",
       "      <td>Mt_rRNA</td>\n",
       "      <td>MT-RNR2</td>\n",
       "      <td>mitochondrially encoded 16S rRNA [Source:HGNC ...</td>\n",
       "      <td>MT</td>\n",
       "      <td>1671</td>\n",
       "      <td>3229</td>\n",
       "      <td>1671</td>\n",
       "      <td>1</td>\n",
       "      <td>1671</td>\n",
       "      <td>3229</td>\n",
       "    </tr>\n",
       "    <tr>\n",
       "      <th>4</th>\n",
       "      <td>ENSG00000209082</td>\n",
       "      <td>ENSG00000209082.1</td>\n",
       "      <td>ENST00000386347</td>\n",
       "      <td>ENST00000386347.1</td>\n",
       "      <td>Mt_tRNA</td>\n",
       "      <td>MT-TL1</td>\n",
       "      <td>mitochondrially encoded tRNA-Leu (UUA/G) 1 [So...</td>\n",
       "      <td>MT</td>\n",
       "      <td>3230</td>\n",
       "      <td>3304</td>\n",
       "      <td>3230</td>\n",
       "      <td>1</td>\n",
       "      <td>3230</td>\n",
       "      <td>3304</td>\n",
       "    </tr>\n",
       "  </tbody>\n",
       "</table>\n",
       "</div>"
      ],
      "text/plain": [
       "    Gene stable ID Gene stable ID version Transcript stable ID  \\\n",
       "0  ENSG00000210049      ENSG00000210049.1      ENST00000387314   \n",
       "1  ENSG00000211459      ENSG00000211459.2      ENST00000389680   \n",
       "2  ENSG00000210077      ENSG00000210077.1      ENST00000387342   \n",
       "3  ENSG00000210082      ENSG00000210082.2      ENST00000387347   \n",
       "4  ENSG00000209082      ENSG00000209082.1      ENST00000386347   \n",
       "\n",
       "  Transcript stable ID version Gene type Gene name  \\\n",
       "0            ENST00000387314.1   Mt_tRNA     MT-TF   \n",
       "1            ENST00000389680.2   Mt_rRNA   MT-RNR1   \n",
       "2            ENST00000387342.1   Mt_tRNA     MT-TV   \n",
       "3            ENST00000387347.2   Mt_rRNA   MT-RNR2   \n",
       "4            ENST00000386347.1   Mt_tRNA    MT-TL1   \n",
       "\n",
       "                                    Gene description Chromosome/scaffold name  \\\n",
       "0  mitochondrially encoded tRNA-Phe (UUU/C) [Sour...                       MT   \n",
       "1  mitochondrially encoded 12S rRNA [Source:HGNC ...                       MT   \n",
       "2  mitochondrially encoded tRNA-Val (GUN) [Source...                       MT   \n",
       "3  mitochondrially encoded 16S rRNA [Source:HGNC ...                       MT   \n",
       "4  mitochondrially encoded tRNA-Leu (UUA/G) 1 [So...                       MT   \n",
       "\n",
       "   Gene start (bp)  Gene end (bp)  Transcription start site (TSS)  Strand  \\\n",
       "0              577            647                             577       1   \n",
       "1              648           1601                             648       1   \n",
       "2             1602           1670                            1602       1   \n",
       "3             1671           3229                            1671       1   \n",
       "4             3230           3304                            3230       1   \n",
       "\n",
       "   Transcript start (bp)  Transcript end (bp)  \n",
       "0                    577                  647  \n",
       "1                    648                 1601  \n",
       "2                   1602                 1670  \n",
       "3                   1671                 3229  \n",
       "4                   3230                 3304  "
      ]
     },
     "execution_count": 4,
     "metadata": {},
     "output_type": "execute_result"
    }
   ],
   "source": [
    "path = '../Data/CRISPRiChallenges/bioMart/'\n",
    "biomart = pd.read_table(path + 'mart_export.txt', sep = ',', low_memory=False)\n",
    "biomart.head()"
   ]
  },
  {
   "cell_type": "code",
   "execution_count": 5,
   "id": "d5ffde65",
   "metadata": {},
   "outputs": [],
   "source": [
    "chromo1_22 = [str(num) for num in range(1, 23)]\n",
    "\n",
    "biomart = biomart[biomart['Chromosome/scaffold name'].isin(chromo1_22+['X','Y'])]\n",
    "biomart_protein_coding = biomart[biomart['Gene type'] == 'protein_coding']\n",
    "proteinCodingGeneNoDup = biomart_protein_coding.drop_duplicates('Gene stable ID')\n"
   ]
  },
  {
   "cell_type": "raw",
   "id": "9e08ee35",
   "metadata": {},
   "source": [
    "# ensembl_protein_coding_gene_list = overlap_list(proteinCodingGeneNoDup, \n",
    "#                                                 start = 'Gene start (bp)', \n",
    "#                                                 end = 'Gene end (bp)', \n",
    "#                                                 x = 1000)\n",
    "\n",
    "# with open('../Data/CRISPRiChallenges/geneOverlap/all_gene_length_protein_coding.json', 'w') as file:\n",
    "#     json.dump(ensembl_protein_coding_gene_list, file)"
   ]
  },
  {
   "cell_type": "markdown",
   "id": "4cf52e55",
   "metadata": {},
   "source": [
    "### above code are submitted in a python file in terminal and ran. the below code are analysising the GW run "
   ]
  },
  {
   "cell_type": "code",
   "execution_count": 6,
   "id": "5082fbe8",
   "metadata": {},
   "outputs": [
    {
     "name": "stdout",
     "output_type": "stream",
     "text": [
      "There are 7218 genes with at least one overlap.\n",
      "This 36.030549593171266 percent of total genes.\n"
     ]
    }
   ],
   "source": [
    "with open('../Data/CRISPRiChallenges/geneOverlap/all_gene_length_protein_coding.json', 'r') as file:\n",
    "    GW_ensembl_protein_coding = json.load(file)\n",
    "GW_ensembl_protein_coding_df = dict_to_df(GW_ensembl_protein_coding)\n",
    "total_gene = list(GW_ensembl_protein_coding_df['Selected Gene']) + list(GW_ensembl_protein_coding_df['Overlapping Gene'])\n",
    "\n",
    "print(f'There are {len(set(total_gene))} genes with at least one overlap.')\n",
    "print(f'This {100*(len(set(total_gene))/20033)} percent of total genes.')\n",
    "\n"
   ]
  },
  {
   "cell_type": "code",
   "execution_count": 7,
   "id": "c360798f",
   "metadata": {},
   "outputs": [],
   "source": [
    "# merge Overlapping gene\n",
    "GW_ensembl_protein_coding_df = pd.merge(GW_ensembl_protein_coding_df,\n",
    "         proteinCodingGeneNoDup[['Gene stable ID', 'Strand', 'Gene name','Gene start (bp)', \n",
    "                                'Gene end (bp)']].rename(columns = {'Gene stable ID': 'Overlapping Gene',\n",
    "                                                            'Strand': 'Overlapping Strand', \n",
    "                                                              'Gene name': 'Overlapping Gene name',\n",
    "                                                              'Gene start (bp)': 'Overlapping Gene start (bp)', \n",
    "                                                              'Gene end (bp)': 'Overlapping Gene end (bp)' }))\n",
    "\n"
   ]
  },
  {
   "cell_type": "code",
   "execution_count": 8,
   "id": "82d3e935",
   "metadata": {},
   "outputs": [],
   "source": [
    "# merge Selected gene\n",
    "GW_ensembl_protein_coding_df = pd.merge(GW_ensembl_protein_coding_df,\n",
    "         proteinCodingGeneNoDup[['Gene stable ID', 'Strand', 'Gene name','Gene start (bp)', \n",
    "                                'Gene end (bp)']].rename(columns = {'Gene stable ID': 'Selected Gene',\n",
    "                                                            'Strand': 'Selected Strand', \n",
    "                                                              'Gene name': 'Selected Gene name',\n",
    "                                                              'Gene start (bp)': 'Selected Gene start (bp)', \n",
    "                                                              'Gene end (bp)': 'Selected Gene end (bp)' }))\n",
    "    "
   ]
  },
  {
   "cell_type": "code",
   "execution_count": 9,
   "id": "5edbe9c2",
   "metadata": {
    "scrolled": true
   },
   "outputs": [],
   "source": [
    "for index, row in GW_ensembl_protein_coding_df.iterrows():\n",
    "    gene_name_1 = row['Selected Gene']\n",
    "    gene_name_2 = row['Overlapping Gene']\n",
    "    gene_name_1_row = proteinCodingGeneNoDup[proteinCodingGeneNoDup['Gene stable ID'].isin([gene_name_1])]\n",
    "    gene_name_2_row = proteinCodingGeneNoDup[proteinCodingGeneNoDup['Gene stable ID'].isin([gene_name_2])]\n",
    "    overlap_type_number = overlap_type(gene_name_1_row, gene_name_2_row)\n",
    "    GW_ensembl_protein_coding_df.loc[index,'overlap type'] = overlap_type_number\n"
   ]
  },
  {
   "cell_type": "code",
   "execution_count": 10,
   "id": "c9335e0d",
   "metadata": {},
   "outputs": [
    {
     "data": {
      "text/html": [
       "<div>\n",
       "<style scoped>\n",
       "    .dataframe tbody tr th:only-of-type {\n",
       "        vertical-align: middle;\n",
       "    }\n",
       "\n",
       "    .dataframe tbody tr th {\n",
       "        vertical-align: top;\n",
       "    }\n",
       "\n",
       "    .dataframe thead th {\n",
       "        text-align: right;\n",
       "    }\n",
       "</style>\n",
       "<table border=\"1\" class=\"dataframe\">\n",
       "  <thead>\n",
       "    <tr style=\"text-align: right;\">\n",
       "      <th></th>\n",
       "      <th>Selected Gene</th>\n",
       "      <th>Overlapping Gene</th>\n",
       "      <th>Overlapping Strand</th>\n",
       "      <th>Overlapping Gene name</th>\n",
       "      <th>Overlapping Gene start (bp)</th>\n",
       "      <th>Overlapping Gene end (bp)</th>\n",
       "      <th>Selected Strand</th>\n",
       "      <th>Selected Gene name</th>\n",
       "      <th>Selected Gene start (bp)</th>\n",
       "      <th>Selected Gene end (bp)</th>\n",
       "      <th>overlap type</th>\n",
       "    </tr>\n",
       "  </thead>\n",
       "  <tbody>\n",
       "    <tr>\n",
       "      <th>0</th>\n",
       "      <td>ENSG00000099721</td>\n",
       "      <td>ENSG00000092377</td>\n",
       "      <td>1</td>\n",
       "      <td>TBL1Y</td>\n",
       "      <td>6910686</td>\n",
       "      <td>7101970</td>\n",
       "      <td>-1</td>\n",
       "      <td>AMELY</td>\n",
       "      <td>6865918</td>\n",
       "      <td>6911752</td>\n",
       "      <td>5.0</td>\n",
       "    </tr>\n",
       "    <tr>\n",
       "      <th>1</th>\n",
       "      <td>ENSG00000092377</td>\n",
       "      <td>ENSG00000099721</td>\n",
       "      <td>-1</td>\n",
       "      <td>AMELY</td>\n",
       "      <td>6865918</td>\n",
       "      <td>6911752</td>\n",
       "      <td>1</td>\n",
       "      <td>TBL1Y</td>\n",
       "      <td>6910686</td>\n",
       "      <td>7101970</td>\n",
       "      <td>5.0</td>\n",
       "    </tr>\n",
       "    <tr>\n",
       "      <th>2</th>\n",
       "      <td>ENSG00000292345</td>\n",
       "      <td>ENSG00000292338</td>\n",
       "      <td>-1</td>\n",
       "      <td>DHRSX</td>\n",
       "      <td>2219506</td>\n",
       "      <td>2502805</td>\n",
       "      <td>-1</td>\n",
       "      <td>ZBED1</td>\n",
       "      <td>2486414</td>\n",
       "      <td>2500976</td>\n",
       "      <td>6.0</td>\n",
       "    </tr>\n",
       "    <tr>\n",
       "      <th>3</th>\n",
       "      <td>ENSG00000132952</td>\n",
       "      <td>ENSG00000189403</td>\n",
       "      <td>-1</td>\n",
       "      <td>HMGB1</td>\n",
       "      <td>30456704</td>\n",
       "      <td>30617597</td>\n",
       "      <td>1</td>\n",
       "      <td>USPL1</td>\n",
       "      <td>30617693</td>\n",
       "      <td>30660770</td>\n",
       "      <td>2.0</td>\n",
       "    </tr>\n",
       "    <tr>\n",
       "      <th>4</th>\n",
       "      <td>ENSG00000189403</td>\n",
       "      <td>ENSG00000132952</td>\n",
       "      <td>1</td>\n",
       "      <td>USPL1</td>\n",
       "      <td>30617693</td>\n",
       "      <td>30660770</td>\n",
       "      <td>-1</td>\n",
       "      <td>HMGB1</td>\n",
       "      <td>30456704</td>\n",
       "      <td>30617597</td>\n",
       "      <td>2.0</td>\n",
       "    </tr>\n",
       "  </tbody>\n",
       "</table>\n",
       "</div>"
      ],
      "text/plain": [
       "     Selected Gene Overlapping Gene  Overlapping Strand Overlapping Gene name  \\\n",
       "0  ENSG00000099721  ENSG00000092377                   1                 TBL1Y   \n",
       "1  ENSG00000092377  ENSG00000099721                  -1                 AMELY   \n",
       "2  ENSG00000292345  ENSG00000292338                  -1                 DHRSX   \n",
       "3  ENSG00000132952  ENSG00000189403                  -1                 HMGB1   \n",
       "4  ENSG00000189403  ENSG00000132952                   1                 USPL1   \n",
       "\n",
       "   Overlapping Gene start (bp)  Overlapping Gene end (bp)  Selected Strand  \\\n",
       "0                      6910686                    7101970               -1   \n",
       "1                      6865918                    6911752                1   \n",
       "2                      2219506                    2502805               -1   \n",
       "3                     30456704                   30617597                1   \n",
       "4                     30617693                   30660770               -1   \n",
       "\n",
       "  Selected Gene name  Selected Gene start (bp)  Selected Gene end (bp)  \\\n",
       "0              AMELY                   6865918                 6911752   \n",
       "1              TBL1Y                   6910686                 7101970   \n",
       "2              ZBED1                   2486414                 2500976   \n",
       "3              USPL1                  30617693                30660770   \n",
       "4              HMGB1                  30456704                30617597   \n",
       "\n",
       "   overlap type  \n",
       "0           5.0  \n",
       "1           5.0  \n",
       "2           6.0  \n",
       "3           2.0  \n",
       "4           2.0  "
      ]
     },
     "execution_count": 10,
     "metadata": {},
     "output_type": "execute_result"
    }
   ],
   "source": [
    "GW_ensembl_protein_coding_df.head()"
   ]
  },
  {
   "cell_type": "code",
   "execution_count": 11,
   "id": "25b678a2",
   "metadata": {},
   "outputs": [],
   "source": [
    "GW_ensembl_protein_coding_df.to_csv('../Data/CRISPRiChallenges/geneOverlap/GW_ensembl_protein_coding_df_1kb.csv', \n",
    "                                   index = False)\n"
   ]
  },
  {
   "cell_type": "code",
   "execution_count": 14,
   "id": "12159684",
   "metadata": {},
   "outputs": [],
   "source": [
    "graph_pathout = '../Figure/Figure 2/Individual Figures/'\n"
   ]
  },
  {
   "cell_type": "code",
   "execution_count": 15,
   "id": "f53d50a5",
   "metadata": {},
   "outputs": [
    {
     "data": {
      "image/png": "[encoded data removed]",
      "text/plain": [
       "<Figure size 400x400 with 1 Axes>"
      ]
     },
     "metadata": {},
     "output_type": "display_data"
    }
   ],
   "source": [
    "plt.subplots(figsize=(4, 4))\n",
    "\n",
    "sns.histplot(GW_ensembl_protein_coding_df, x=\"overlap type\")\n",
    "plt.title('Number of Overlapping Gene Set')\n",
    "plt.xlabel('Overlap Type')\n",
    "plt.ylabel('Count of Gene Set')\n",
    "plt.savefig(graph_pathout + \"Overlapping Gene Set.pdf\", dpi=300, bbox_inches='tight')\n"
   ]
  },
  {
   "cell_type": "code",
   "execution_count": 16,
   "id": "63acb2e6",
   "metadata": {},
   "outputs": [
    {
     "data": {
      "text/plain": [
       "overlap type\n",
       "2.0    2792\n",
       "6.0    1601\n",
       "5.0    1456\n",
       "3.0    1038\n",
       "1.0     765\n",
       "4.0      74\n",
       "Name: count, dtype: int64"
      ]
     },
     "execution_count": 16,
     "metadata": {},
     "output_type": "execute_result"
    }
   ],
   "source": [
    "GW_ensembl_protein_coding_df[\"overlap type\"].value_counts()"
   ]
  },
  {
   "cell_type": "code",
   "execution_count": 17,
   "id": "45fdc7c1",
   "metadata": {},
   "outputs": [
    {
     "name": "stdout",
     "output_type": "stream",
     "text": [
      "number of gene with at least one overlap type: 7218\n"
     ]
    }
   ],
   "source": [
    "overlappingGene = GW_ensembl_protein_coding_df['Selected Gene'].tolist() + GW_ensembl_protein_coding_df['Overlapping Gene'].tolist()\n",
    "print(f'number of gene with at least one overlap type: {len(set(overlappingGene))}')"
   ]
  },
  {
   "cell_type": "code",
   "execution_count": 18,
   "id": "4047c2e2",
   "metadata": {},
   "outputs": [
    {
     "name": "stdout",
     "output_type": "stream",
     "text": [
      "number of gene with at least one overlap type in Type 2 or 3: 3478\n"
     ]
    }
   ],
   "source": [
    "overlappingGeneType23 = GW_ensembl_protein_coding_df[GW_ensembl_protein_coding_df['overlap type'].isin([2,3])]\n",
    "overlappingGeneType23 = overlappingGeneType23['Selected Gene'].tolist() + overlappingGeneType23['Overlapping Gene'].tolist()\n",
    "print(f'number of gene with at least one overlap type in Type 2 or 3: {len(set(overlappingGeneType23))}')"
   ]
  },
  {
   "cell_type": "code",
   "execution_count": 19,
   "id": "9910741e",
   "metadata": {},
   "outputs": [
    {
     "name": "stdout",
     "output_type": "stream",
     "text": [
      "number of total gene: 20033\n"
     ]
    }
   ],
   "source": [
    "print(f'number of total gene: {len(proteinCodingGeneNoDup[\"Gene stable ID\"])}')\n"
   ]
  },
  {
   "cell_type": "code",
   "execution_count": 20,
   "id": "f4b5785b",
   "metadata": {},
   "outputs": [],
   "source": [
    "geneNumberOverlap ={'Total Protein Coding Gene': len(proteinCodingGeneNoDup[\"Gene stable ID\"]),\n",
    "                     'Gene with Overlap': len(set(overlappingGene)),\n",
    "                    'Gene with Overlap Type 2 or 3': len(set(overlappingGeneType23))\n",
    "                    }\n",
    "\n",
    "\n",
    "geneNumberOverlap = {\"Gene Type\": ['Total Protein Coding Gene', 'Gene with Overlap', 'Gene with Overlap Type 2 or 3'],\n",
    "                    \"Count of Gene\": [len(proteinCodingGeneNoDup[\"Gene stable ID\"]), len(set(overlappingGene)), len(set(overlappingGeneType23))]}\n",
    "                                          \n",
    "                                          \n",
    "\n"
   ]
  },
  {
   "cell_type": "code",
   "execution_count": 21,
   "id": "f3d6d68d",
   "metadata": {},
   "outputs": [
    {
     "data": {
      "image/png": "[encoded data removed]",
      "text/plain": [
       "<Figure size 400x400 with 1 Axes>"
      ]
     },
     "metadata": {},
     "output_type": "display_data"
    }
   ],
   "source": [
    "plt.subplots(figsize=(4, 4))\n",
    "\n",
    "g = sns.barplot(x='Gene Type', y='Count of Gene', data=pd.DataFrame(geneNumberOverlap))\n",
    "plt.xlabel('')\n",
    "g.bar_label(g.containers[0], labels=geneNumberOverlap['Count of Gene'])\n",
    "plt.title('Number of Overlapping Gene')\n",
    "plt.savefig(graph_pathout + \"Overlapping Gene.pdf\", dpi=300, bbox_inches='tight')\n"
   ]
  },
  {
   "cell_type": "code",
   "execution_count": null,
   "id": "c3f350a5",
   "metadata": {},
   "outputs": [],
   "source": []
  }
 ],
 "metadata": {
  "kernelspec": {
   "display_name": "comp_resources",
   "language": "python",
   "name": "comp_resources"
  },
  "language_info": {
   "codemirror_mode": {
    "name": "ipython",
    "version": 3
   },
   "file_extension": ".py",
   "mimetype": "text/x-python",
   "name": "python",
   "nbconvert_exporter": "python",
   "pygments_lexer": "ipython3",
   "version": "3.8.19"
  }
 },
 "nbformat": 4,
 "nbformat_minor": 5
}
