{
 "cells": [
  {
   "cell_type": "code",
   "execution_count": 1,
   "id": "5e431c48",
   "metadata": {},
   "outputs": [],
   "source": [
    "import pandas as pd\n",
    "import seaborn as sns\n",
    "import matplotlib.pyplot as plt\n",
    "import matplotlib\n",
    "from copy import deepcopy \n",
    "matplotlib.rcParams['pdf.fonttype'] = 42\n",
    "matplotlib.rcParams['ps.fonttype'] = 42"
   ]
  },
  {
   "cell_type": "code",
   "execution_count": 2,
   "id": "8563666d",
   "metadata": {},
   "outputs": [
    {
     "data": {
      "text/html": [
       "<div>\n",
       "<style scoped>\n",
       "    .dataframe tbody tr th:only-of-type {\n",
       "        vertical-align: middle;\n",
       "    }\n",
       "\n",
       "    .dataframe tbody tr th {\n",
       "        vertical-align: top;\n",
       "    }\n",
       "\n",
       "    .dataframe thead th {\n",
       "        text-align: right;\n",
       "    }\n",
       "</style>\n",
       "<table border=\"1\" class=\"dataframe\">\n",
       "  <thead>\n",
       "    <tr style=\"text-align: right;\">\n",
       "      <th></th>\n",
       "      <th>Target Gene Symbol</th>\n",
       "      <th>Category</th>\n",
       "      <th>TSS Position</th>\n",
       "      <th>sgRNA Sequence</th>\n",
       "      <th>sgRNA Context Sequence</th>\n",
       "      <th>On-Target Efficacy Score</th>\n",
       "      <th>sgRNA 'Cut' Site TSS Offset</th>\n",
       "      <th>TSS Bucket</th>\n",
       "      <th>avg_lfc_A549_Zim3</th>\n",
       "      <th>z_scored_avg_lfc_A549_Zim3</th>\n",
       "      <th>avg_lfc_A549_Kox1</th>\n",
       "      <th>z_scored_avg_lfc_A549_Kox1</th>\n",
       "      <th>avg_lfc_HCT116_Zim3</th>\n",
       "      <th>z_scored_avg_lfc_HCT116_Zim3</th>\n",
       "      <th>avg_lfc_HCT116_Kox1</th>\n",
       "      <th>z_scored_avg_lfc_HCT116_Kox1</th>\n",
       "    </tr>\n",
       "  </thead>\n",
       "  <tbody>\n",
       "    <tr>\n",
       "      <th>0</th>\n",
       "      <td>OR6K6</td>\n",
       "      <td>Non-essential</td>\n",
       "      <td>158754721.0</td>\n",
       "      <td>AAAAAAAAAAGGTCATTCAG</td>\n",
       "      <td>CTAGAAAAAAAAAAGGTCATTCAGGGGTCC</td>\n",
       "      <td>-0.1532</td>\n",
       "      <td>-24.0</td>\n",
       "      <td>[-50, 0)</td>\n",
       "      <td>0.216872</td>\n",
       "      <td>0.023685</td>\n",
       "      <td>-0.110835</td>\n",
       "      <td>-0.744721</td>\n",
       "      <td>-0.265074</td>\n",
       "      <td>-1.285187</td>\n",
       "      <td>-0.272546</td>\n",
       "      <td>-1.421982</td>\n",
       "    </tr>\n",
       "  </tbody>\n",
       "</table>\n",
       "</div>"
      ],
      "text/plain": [
       "  Target Gene Symbol       Category  TSS Position        sgRNA Sequence  \\\n",
       "0              OR6K6  Non-essential   158754721.0  AAAAAAAAAAGGTCATTCAG   \n",
       "\n",
       "           sgRNA Context Sequence  On-Target Efficacy Score  \\\n",
       "0  CTAGAAAAAAAAAAGGTCATTCAGGGGTCC                   -0.1532   \n",
       "\n",
       "   sgRNA 'Cut' Site TSS Offset TSS Bucket  avg_lfc_A549_Zim3  \\\n",
       "0                        -24.0   [-50, 0)           0.216872   \n",
       "\n",
       "   z_scored_avg_lfc_A549_Zim3  avg_lfc_A549_Kox1  z_scored_avg_lfc_A549_Kox1  \\\n",
       "0                    0.023685          -0.110835                   -0.744721   \n",
       "\n",
       "   avg_lfc_HCT116_Zim3  z_scored_avg_lfc_HCT116_Zim3  avg_lfc_HCT116_Kox1  \\\n",
       "0            -0.265074                     -1.285187            -0.272546   \n",
       "\n",
       "   z_scored_avg_lfc_HCT116_Kox1  \n",
       "0                     -1.421982  "
      ]
     },
     "execution_count": 2,
     "metadata": {},
     "output_type": "execute_result"
    }
   ],
   "source": [
    "# import combined dataset\n",
    "in_path = \"../Data/PrimaryLibrary/processed_z_score/\"\n",
    "merged_df = pd.read_csv(in_path + \"inHouseDatasetsCombined.csv\")\n",
    "merged_df.head(1)"
   ]
  },
  {
   "cell_type": "code",
   "execution_count": 3,
   "id": "92a92a14",
   "metadata": {},
   "outputs": [],
   "source": [
    "overlapping_gene = pd.read_csv('../Data/CRISPRiChallenges/geneOverlap/GW_ensembl_protein_coding_df_1kb.csv')\n",
    "overlapping_gene_2_3 =overlapping_gene[overlapping_gene['overlap type'].isin([2,3])]\n",
    "gene_2_3_unique = set(list(overlapping_gene_2_3['Selected Gene name']) +\\\n",
    "list(overlapping_gene_2_3['Overlapping Gene name']))\n",
    "merged_overlappingGene= deepcopy(merged_df[merged_df['Target Gene Symbol'].isin(gene_2_3_unique)])"
   ]
  },
  {
   "cell_type": "code",
   "execution_count": 4,
   "id": "04f83b87",
   "metadata": {},
   "outputs": [],
   "source": [
    "overlapGeneIninhouseDataset = overlapping_gene_2_3[overlapping_gene_2_3['Overlapping Gene name'].isin(merged_df['Target Gene Symbol']) | overlapping_gene_2_3['Selected Gene name'].isin(merged_df['Target Gene Symbol'])]\n"
   ]
  },
  {
   "cell_type": "code",
   "execution_count": 6,
   "id": "2ce3c707-4719-4076-9336-d62d555559b1",
   "metadata": {},
   "outputs": [],
   "source": [
    "depmap = \"../Data/CRISPRiChallenges/DepMap/\"\n",
    "depmap_df = pd.read_excel(depmap + \"HCT116_A549_depmap genes scores.xlsx\", sheet_name = \"Depmap scores A549\")"
   ]
  },
  {
   "cell_type": "code",
   "execution_count": 7,
   "id": "d589b53d",
   "metadata": {},
   "outputs": [
    {
     "data": {
      "text/html": [
       "<div>\n",
       "<style scoped>\n",
       "    .dataframe tbody tr th:only-of-type {\n",
       "        vertical-align: middle;\n",
       "    }\n",
       "\n",
       "    .dataframe tbody tr th {\n",
       "        vertical-align: top;\n",
       "    }\n",
       "\n",
       "    .dataframe thead th {\n",
       "        text-align: right;\n",
       "    }\n",
       "</style>\n",
       "<table border=\"1\" class=\"dataframe\">\n",
       "  <thead>\n",
       "    <tr style=\"text-align: right;\">\n",
       "      <th></th>\n",
       "      <th>gene</th>\n",
       "      <th>gene_effect</th>\n",
       "      <th>z_score</th>\n",
       "      <th>mean</th>\n",
       "      <th>stddev</th>\n",
       "    </tr>\n",
       "  </thead>\n",
       "  <tbody>\n",
       "    <tr>\n",
       "      <th>0</th>\n",
       "      <td>FOXA2</td>\n",
       "      <td>-1.01135</td>\n",
       "      <td>-4.870456</td>\n",
       "      <td>-0.113376</td>\n",
       "      <td>0.184372</td>\n",
       "    </tr>\n",
       "  </tbody>\n",
       "</table>\n",
       "</div>"
      ],
      "text/plain": [
       "    gene  gene_effect   z_score      mean    stddev\n",
       "0  FOXA2     -1.01135 -4.870456 -0.113376  0.184372"
      ]
     },
     "execution_count": 7,
     "metadata": {},
     "output_type": "execute_result"
    }
   ],
   "source": [
    "ess_gene_depmap = depmap_df[depmap_df['gene_effect'] <= -1]\n",
    "ess_gene_depmap.head(1)"
   ]
  },
  {
   "cell_type": "code",
   "execution_count": 8,
   "id": "2a812dbb",
   "metadata": {},
   "outputs": [
    {
     "data": {
      "text/html": [
       "<div>\n",
       "<style scoped>\n",
       "    .dataframe tbody tr th:only-of-type {\n",
       "        vertical-align: middle;\n",
       "    }\n",
       "\n",
       "    .dataframe tbody tr th {\n",
       "        vertical-align: top;\n",
       "    }\n",
       "\n",
       "    .dataframe thead th {\n",
       "        text-align: right;\n",
       "    }\n",
       "</style>\n",
       "<table border=\"1\" class=\"dataframe\">\n",
       "  <thead>\n",
       "    <tr style=\"text-align: right;\">\n",
       "      <th></th>\n",
       "      <th>Selected Gene</th>\n",
       "      <th>Overlapping Gene</th>\n",
       "      <th>Overlapping Strand</th>\n",
       "      <th>Overlapping Gene name</th>\n",
       "      <th>Overlapping Gene start (bp)</th>\n",
       "      <th>Overlapping Gene end (bp)</th>\n",
       "      <th>Selected Strand</th>\n",
       "      <th>Selected Gene name</th>\n",
       "      <th>Selected Gene start (bp)</th>\n",
       "      <th>Selected Gene end (bp)</th>\n",
       "      <th>overlap type</th>\n",
       "    </tr>\n",
       "  </thead>\n",
       "  <tbody>\n",
       "    <tr>\n",
       "      <th>438</th>\n",
       "      <td>ENSG00000070010</td>\n",
       "      <td>ENSG00000093009</td>\n",
       "      <td>1</td>\n",
       "      <td>CDC45</td>\n",
       "      <td>19479457</td>\n",
       "      <td>19520612</td>\n",
       "      <td>-1</td>\n",
       "      <td>UFD1</td>\n",
       "      <td>19449911</td>\n",
       "      <td>19479202</td>\n",
       "      <td>2.0</td>\n",
       "    </tr>\n",
       "    <tr>\n",
       "      <th>439</th>\n",
       "      <td>ENSG00000093009</td>\n",
       "      <td>ENSG00000070010</td>\n",
       "      <td>-1</td>\n",
       "      <td>UFD1</td>\n",
       "      <td>19449911</td>\n",
       "      <td>19479202</td>\n",
       "      <td>1</td>\n",
       "      <td>CDC45</td>\n",
       "      <td>19479457</td>\n",
       "      <td>19520612</td>\n",
       "      <td>2.0</td>\n",
       "    </tr>\n",
       "  </tbody>\n",
       "</table>\n",
       "</div>"
      ],
      "text/plain": [
       "       Selected Gene Overlapping Gene  Overlapping Strand  \\\n",
       "438  ENSG00000070010  ENSG00000093009                   1   \n",
       "439  ENSG00000093009  ENSG00000070010                  -1   \n",
       "\n",
       "    Overlapping Gene name  Overlapping Gene start (bp)  \\\n",
       "438                 CDC45                     19479457   \n",
       "439                  UFD1                     19449911   \n",
       "\n",
       "     Overlapping Gene end (bp)  Selected Strand Selected Gene name  \\\n",
       "438                   19520612               -1               UFD1   \n",
       "439                   19479202                1              CDC45   \n",
       "\n",
       "     Selected Gene start (bp)  Selected Gene end (bp)  overlap type  \n",
       "438                  19449911                19479202           2.0  \n",
       "439                  19479457                19520612           2.0  "
      ]
     },
     "execution_count": 8,
     "metadata": {},
     "output_type": "execute_result"
    }
   ],
   "source": [
    "overlapGeneIninhouseDataset[overlapGeneIninhouseDataset['Overlapping Gene name'].isin(ess_gene_depmap['gene']) & \n",
    "                            overlapGeneIninhouseDataset['Selected Gene name'].isin(ess_gene_depmap['gene'])]\n",
    "\n"
   ]
  },
  {
   "cell_type": "code",
   "execution_count": 9,
   "id": "fbcd50bc",
   "metadata": {},
   "outputs": [],
   "source": [
    "selectGene = 'CDC45'#AAMP PDCD11 USP5 TRMT5\n",
    "#yes ANKRD49\n",
    "# no PFDN2\n",
    "selectGeneDf = merged_df[merged_df['Target Gene Symbol'] == selectGene]\n",
    "y_min = -10\n",
    "y_max = 10"
   ]
  },
  {
   "cell_type": "code",
   "execution_count": 10,
   "id": "8b0b4f4f",
   "metadata": {},
   "outputs": [
    {
     "data": {
      "text/html": [
       "<div>\n",
       "<style scoped>\n",
       "    .dataframe tbody tr th:only-of-type {\n",
       "        vertical-align: middle;\n",
       "    }\n",
       "\n",
       "    .dataframe tbody tr th {\n",
       "        vertical-align: top;\n",
       "    }\n",
       "\n",
       "    .dataframe thead th {\n",
       "        text-align: right;\n",
       "    }\n",
       "</style>\n",
       "<table border=\"1\" class=\"dataframe\">\n",
       "  <thead>\n",
       "    <tr style=\"text-align: right;\">\n",
       "      <th></th>\n",
       "      <th>Selected Gene</th>\n",
       "      <th>Overlapping Gene</th>\n",
       "      <th>Overlapping Strand</th>\n",
       "      <th>Overlapping Gene name</th>\n",
       "      <th>Overlapping Gene start (bp)</th>\n",
       "      <th>Overlapping Gene end (bp)</th>\n",
       "      <th>Selected Strand</th>\n",
       "      <th>Selected Gene name</th>\n",
       "      <th>Selected Gene start (bp)</th>\n",
       "      <th>Selected Gene end (bp)</th>\n",
       "      <th>overlap type</th>\n",
       "    </tr>\n",
       "  </thead>\n",
       "  <tbody>\n",
       "    <tr>\n",
       "      <th>438</th>\n",
       "      <td>ENSG00000070010</td>\n",
       "      <td>ENSG00000093009</td>\n",
       "      <td>1</td>\n",
       "      <td>CDC45</td>\n",
       "      <td>19479457</td>\n",
       "      <td>19520612</td>\n",
       "      <td>-1</td>\n",
       "      <td>UFD1</td>\n",
       "      <td>19449911</td>\n",
       "      <td>19479202</td>\n",
       "      <td>2.0</td>\n",
       "    </tr>\n",
       "  </tbody>\n",
       "</table>\n",
       "</div>"
      ],
      "text/plain": [
       "       Selected Gene Overlapping Gene  Overlapping Strand  \\\n",
       "438  ENSG00000070010  ENSG00000093009                   1   \n",
       "\n",
       "    Overlapping Gene name  Overlapping Gene start (bp)  \\\n",
       "438                 CDC45                     19479457   \n",
       "\n",
       "     Overlapping Gene end (bp)  Selected Strand Selected Gene name  \\\n",
       "438                   19520612               -1               UFD1   \n",
       "\n",
       "     Selected Gene start (bp)  Selected Gene end (bp)  overlap type  \n",
       "438                  19449911                19479202           2.0  "
      ]
     },
     "execution_count": 10,
     "metadata": {},
     "output_type": "execute_result"
    }
   ],
   "source": [
    "overlapping_gene_2_3[overlapping_gene_2_3['Overlapping Gene name'] == selectGene]"
   ]
  },
  {
   "cell_type": "code",
   "execution_count": 11,
   "id": "508695ca",
   "metadata": {},
   "outputs": [
    {
     "data": {
      "text/plain": [
       "[-1000, -500)    105\n",
       "[500, 1000)       48\n",
       "[100, 200)        39\n",
       "[300, 400)        30\n",
       "[400, 500)        23\n",
       "[-200, -100)      16\n",
       "[-300, -200)      15\n",
       "[200, 300)        14\n",
       "[-50, 0)          13\n",
       "[-500, -400)      13\n",
       "[-400, -300)      11\n",
       "[0, 50)            9\n",
       "[-100, -50)        7\n",
       "[50, 100)          6\n",
       "Name: TSS Bucket, dtype: int64"
      ]
     },
     "execution_count": 11,
     "metadata": {},
     "output_type": "execute_result"
    }
   ],
   "source": [
    "selectGeneDf['TSS Bucket'].value_counts()"
   ]
  },
  {
   "cell_type": "code",
   "execution_count": 12,
   "id": "362a67dd",
   "metadata": {},
   "outputs": [
    {
     "data": {
      "text/html": [
       "<div>\n",
       "<style scoped>\n",
       "    .dataframe tbody tr th:only-of-type {\n",
       "        vertical-align: middle;\n",
       "    }\n",
       "\n",
       "    .dataframe tbody tr th {\n",
       "        vertical-align: top;\n",
       "    }\n",
       "\n",
       "    .dataframe thead th {\n",
       "        text-align: right;\n",
       "    }\n",
       "</style>\n",
       "<table border=\"1\" class=\"dataframe\">\n",
       "  <thead>\n",
       "    <tr style=\"text-align: right;\">\n",
       "      <th></th>\n",
       "      <th>Target Gene Symbol</th>\n",
       "      <th>Category</th>\n",
       "      <th>TSS Position</th>\n",
       "      <th>sgRNA Sequence</th>\n",
       "      <th>sgRNA Context Sequence</th>\n",
       "      <th>On-Target Efficacy Score</th>\n",
       "      <th>sgRNA 'Cut' Site TSS Offset</th>\n",
       "      <th>TSS Bucket</th>\n",
       "      <th>avg_lfc_A549_Zim3</th>\n",
       "      <th>z_scored_avg_lfc_A549_Zim3</th>\n",
       "      <th>avg_lfc_A549_Kox1</th>\n",
       "      <th>z_scored_avg_lfc_A549_Kox1</th>\n",
       "      <th>avg_lfc_HCT116_Zim3</th>\n",
       "      <th>z_scored_avg_lfc_HCT116_Zim3</th>\n",
       "      <th>avg_lfc_HCT116_Kox1</th>\n",
       "      <th>z_scored_avg_lfc_HCT116_Kox1</th>\n",
       "    </tr>\n",
       "  </thead>\n",
       "  <tbody>\n",
       "    <tr>\n",
       "      <th>9007</th>\n",
       "      <td>CDC45</td>\n",
       "      <td>Essential</td>\n",
       "      <td>19479921.0</td>\n",
       "      <td>ACGAACATAGCCACGGCGGC</td>\n",
       "      <td>GGACACGAACATAGCCACGGCGGCCGGACG</td>\n",
       "      <td>-0.64420</td>\n",
       "      <td>39.0</td>\n",
       "      <td>[0, 50)</td>\n",
       "      <td>0.110204</td>\n",
       "      <td>-0.260496</td>\n",
       "      <td>0.225280</td>\n",
       "      <td>0.071461</td>\n",
       "      <td>-0.142783</td>\n",
       "      <td>-0.989147</td>\n",
       "      <td>0.419541</td>\n",
       "      <td>0.401627</td>\n",
       "    </tr>\n",
       "    <tr>\n",
       "      <th>13632</th>\n",
       "      <td>CDC45</td>\n",
       "      <td>Essential</td>\n",
       "      <td>19479921.0</td>\n",
       "      <td>AGCCACGGCGGCCGGACGCC</td>\n",
       "      <td>ACATAGCCACGGCGGCCGGACGCCTGGCGC</td>\n",
       "      <td>-1.03400</td>\n",
       "      <td>31.0</td>\n",
       "      <td>[0, 50)</td>\n",
       "      <td>0.353879</td>\n",
       "      <td>0.388691</td>\n",
       "      <td>-0.069895</td>\n",
       "      <td>-0.645308</td>\n",
       "      <td>0.892126</td>\n",
       "      <td>1.516132</td>\n",
       "      <td>0.713990</td>\n",
       "      <td>1.177484</td>\n",
       "    </tr>\n",
       "    <tr>\n",
       "      <th>20862</th>\n",
       "      <td>CDC45</td>\n",
       "      <td>Essential</td>\n",
       "      <td>19479921.0</td>\n",
       "      <td>ATCGGACACGAACATAGCCA</td>\n",
       "      <td>GGAAATCGGACACGAACATAGCCACGGCGG</td>\n",
       "      <td>0.56120</td>\n",
       "      <td>46.0</td>\n",
       "      <td>[0, 50)</td>\n",
       "      <td>-0.512285</td>\n",
       "      <td>-1.918905</td>\n",
       "      <td>-0.829349</td>\n",
       "      <td>-2.489479</td>\n",
       "      <td>-1.403153</td>\n",
       "      <td>-4.040217</td>\n",
       "      <td>-1.457128</td>\n",
       "      <td>-4.543290</td>\n",
       "    </tr>\n",
       "    <tr>\n",
       "      <th>27700</th>\n",
       "      <td>CDC45</td>\n",
       "      <td>Essential</td>\n",
       "      <td>19479921.0</td>\n",
       "      <td>CAGCGCGAGCGCCAGGCGTC</td>\n",
       "      <td>ACCTCAGCGCGAGCGCCAGGCGTCCGGCCG</td>\n",
       "      <td>0.06374</td>\n",
       "      <td>31.0</td>\n",
       "      <td>[0, 50)</td>\n",
       "      <td>-2.265982</td>\n",
       "      <td>-6.591032</td>\n",
       "      <td>-1.994627</td>\n",
       "      <td>-5.319110</td>\n",
       "      <td>-2.612504</td>\n",
       "      <td>-6.967779</td>\n",
       "      <td>-2.489213</td>\n",
       "      <td>-7.262777</td>\n",
       "    </tr>\n",
       "    <tr>\n",
       "      <th>51578</th>\n",
       "      <td>CDC45</td>\n",
       "      <td>Essential</td>\n",
       "      <td>19479921.0</td>\n",
       "      <td>CTTGACCGCCGCCGGGCTCT</td>\n",
       "      <td>GAGTCTTGACCGCCGCCGGGCTCTTGGTAC</td>\n",
       "      <td>-0.62180</td>\n",
       "      <td>3.0</td>\n",
       "      <td>[0, 50)</td>\n",
       "      <td>-2.612607</td>\n",
       "      <td>-7.514495</td>\n",
       "      <td>-2.638293</td>\n",
       "      <td>-6.882114</td>\n",
       "      <td>-3.828519</td>\n",
       "      <td>-9.911476</td>\n",
       "      <td>-3.395049</td>\n",
       "      <td>-9.649603</td>\n",
       "    </tr>\n",
       "    <tr>\n",
       "      <th>55101</th>\n",
       "      <td>CDC45</td>\n",
       "      <td>Essential</td>\n",
       "      <td>19479921.0</td>\n",
       "      <td>GACGCCTGGCGCTCGCGCTG</td>\n",
       "      <td>GCCGGACGCCTGGCGCTCGCGCTGAGGTAC</td>\n",
       "      <td>-0.13170</td>\n",
       "      <td>17.0</td>\n",
       "      <td>[0, 50)</td>\n",
       "      <td>-2.636021</td>\n",
       "      <td>-7.576873</td>\n",
       "      <td>-2.898710</td>\n",
       "      <td>-7.514482</td>\n",
       "      <td>-3.255247</td>\n",
       "      <td>-8.523715</td>\n",
       "      <td>-3.051662</td>\n",
       "      <td>-8.744797</td>\n",
       "    </tr>\n",
       "    <tr>\n",
       "      <th>65041</th>\n",
       "      <td>CDC45</td>\n",
       "      <td>Essential</td>\n",
       "      <td>19479921.0</td>\n",
       "      <td>GCGCTGAGGTACCAAGAGCC</td>\n",
       "      <td>GCTCGCGCTGAGGTACCAAGAGCCCGGCGG</td>\n",
       "      <td>-0.41230</td>\n",
       "      <td>3.0</td>\n",
       "      <td>[0, 50)</td>\n",
       "      <td>-1.041885</td>\n",
       "      <td>-3.329845</td>\n",
       "      <td>-1.382211</td>\n",
       "      <td>-3.831987</td>\n",
       "      <td>-1.541385</td>\n",
       "      <td>-4.374844</td>\n",
       "      <td>-0.914509</td>\n",
       "      <td>-3.113520</td>\n",
       "    </tr>\n",
       "    <tr>\n",
       "      <th>69044</th>\n",
       "      <td>CDC45</td>\n",
       "      <td>Essential</td>\n",
       "      <td>19479921.0</td>\n",
       "      <td>GGACACGAACATAGCCACGG</td>\n",
       "      <td>AATCGGACACGAACATAGCCACGGCGGCCG</td>\n",
       "      <td>0.56450</td>\n",
       "      <td>43.0</td>\n",
       "      <td>[0, 50)</td>\n",
       "      <td>-2.424264</td>\n",
       "      <td>-7.012719</td>\n",
       "      <td>-3.045302</td>\n",
       "      <td>-7.870449</td>\n",
       "      <td>-2.677606</td>\n",
       "      <td>-7.125377</td>\n",
       "      <td>-3.187707</td>\n",
       "      <td>-9.103269</td>\n",
       "    </tr>\n",
       "    <tr>\n",
       "      <th>78209</th>\n",
       "      <td>CDC45</td>\n",
       "      <td>Essential</td>\n",
       "      <td>19479921.0</td>\n",
       "      <td>GGTACCTCAGCGCGAGCGCC</td>\n",
       "      <td>TCTTGGTACCTCAGCGCGAGCGCCAGGCGT</td>\n",
       "      <td>-0.90690</td>\n",
       "      <td>24.0</td>\n",
       "      <td>[0, 50)</td>\n",
       "      <td>-1.759373</td>\n",
       "      <td>-5.241345</td>\n",
       "      <td>-1.392295</td>\n",
       "      <td>-3.856473</td>\n",
       "      <td>-2.144533</td>\n",
       "      <td>-5.834930</td>\n",
       "      <td>-1.411526</td>\n",
       "      <td>-4.423132</td>\n",
       "    </tr>\n",
       "  </tbody>\n",
       "</table>\n",
       "</div>"
      ],
      "text/plain": [
       "      Target Gene Symbol   Category  TSS Position        sgRNA Sequence  \\\n",
       "9007               CDC45  Essential    19479921.0  ACGAACATAGCCACGGCGGC   \n",
       "13632              CDC45  Essential    19479921.0  AGCCACGGCGGCCGGACGCC   \n",
       "20862              CDC45  Essential    19479921.0  ATCGGACACGAACATAGCCA   \n",
       "27700              CDC45  Essential    19479921.0  CAGCGCGAGCGCCAGGCGTC   \n",
       "51578              CDC45  Essential    19479921.0  CTTGACCGCCGCCGGGCTCT   \n",
       "55101              CDC45  Essential    19479921.0  GACGCCTGGCGCTCGCGCTG   \n",
       "65041              CDC45  Essential    19479921.0  GCGCTGAGGTACCAAGAGCC   \n",
       "69044              CDC45  Essential    19479921.0  GGACACGAACATAGCCACGG   \n",
       "78209              CDC45  Essential    19479921.0  GGTACCTCAGCGCGAGCGCC   \n",
       "\n",
       "               sgRNA Context Sequence  On-Target Efficacy Score  \\\n",
       "9007   GGACACGAACATAGCCACGGCGGCCGGACG                  -0.64420   \n",
       "13632  ACATAGCCACGGCGGCCGGACGCCTGGCGC                  -1.03400   \n",
       "20862  GGAAATCGGACACGAACATAGCCACGGCGG                   0.56120   \n",
       "27700  ACCTCAGCGCGAGCGCCAGGCGTCCGGCCG                   0.06374   \n",
       "51578  GAGTCTTGACCGCCGCCGGGCTCTTGGTAC                  -0.62180   \n",
       "55101  GCCGGACGCCTGGCGCTCGCGCTGAGGTAC                  -0.13170   \n",
       "65041  GCTCGCGCTGAGGTACCAAGAGCCCGGCGG                  -0.41230   \n",
       "69044  AATCGGACACGAACATAGCCACGGCGGCCG                   0.56450   \n",
       "78209  TCTTGGTACCTCAGCGCGAGCGCCAGGCGT                  -0.90690   \n",
       "\n",
       "       sgRNA 'Cut' Site TSS Offset TSS Bucket  avg_lfc_A549_Zim3  \\\n",
       "9007                          39.0    [0, 50)           0.110204   \n",
       "13632                         31.0    [0, 50)           0.353879   \n",
       "20862                         46.0    [0, 50)          -0.512285   \n",
       "27700                         31.0    [0, 50)          -2.265982   \n",
       "51578                          3.0    [0, 50)          -2.612607   \n",
       "55101                         17.0    [0, 50)          -2.636021   \n",
       "65041                          3.0    [0, 50)          -1.041885   \n",
       "69044                         43.0    [0, 50)          -2.424264   \n",
       "78209                         24.0    [0, 50)          -1.759373   \n",
       "\n",
       "       z_scored_avg_lfc_A549_Zim3  avg_lfc_A549_Kox1  \\\n",
       "9007                    -0.260496           0.225280   \n",
       "13632                    0.388691          -0.069895   \n",
       "20862                   -1.918905          -0.829349   \n",
       "27700                   -6.591032          -1.994627   \n",
       "51578                   -7.514495          -2.638293   \n",
       "55101                   -7.576873          -2.898710   \n",
       "65041                   -3.329845          -1.382211   \n",
       "69044                   -7.012719          -3.045302   \n",
       "78209                   -5.241345          -1.392295   \n",
       "\n",
       "       z_scored_avg_lfc_A549_Kox1  avg_lfc_HCT116_Zim3  \\\n",
       "9007                     0.071461            -0.142783   \n",
       "13632                   -0.645308             0.892126   \n",
       "20862                   -2.489479            -1.403153   \n",
       "27700                   -5.319110            -2.612504   \n",
       "51578                   -6.882114            -3.828519   \n",
       "55101                   -7.514482            -3.255247   \n",
       "65041                   -3.831987            -1.541385   \n",
       "69044                   -7.870449            -2.677606   \n",
       "78209                   -3.856473            -2.144533   \n",
       "\n",
       "       z_scored_avg_lfc_HCT116_Zim3  avg_lfc_HCT116_Kox1  \\\n",
       "9007                      -0.989147             0.419541   \n",
       "13632                      1.516132             0.713990   \n",
       "20862                     -4.040217            -1.457128   \n",
       "27700                     -6.967779            -2.489213   \n",
       "51578                     -9.911476            -3.395049   \n",
       "55101                     -8.523715            -3.051662   \n",
       "65041                     -4.374844            -0.914509   \n",
       "69044                     -7.125377            -3.187707   \n",
       "78209                     -5.834930            -1.411526   \n",
       "\n",
       "       z_scored_avg_lfc_HCT116_Kox1  \n",
       "9007                       0.401627  \n",
       "13632                      1.177484  \n",
       "20862                     -4.543290  \n",
       "27700                     -7.262777  \n",
       "51578                     -9.649603  \n",
       "55101                     -8.744797  \n",
       "65041                     -3.113520  \n",
       "69044                     -9.103269  \n",
       "78209                     -4.423132  "
      ]
     },
     "execution_count": 12,
     "metadata": {},
     "output_type": "execute_result"
    }
   ],
   "source": [
    "selectGeneDf[selectGeneDf['TSS Bucket'] == '[0, 50)']"
   ]
  },
  {
   "cell_type": "code",
   "execution_count": 13,
   "id": "bb0d5e1c",
   "metadata": {},
   "outputs": [
    {
     "name": "stdout",
     "output_type": "stream",
     "text": [
      "Average of y within 25 to 75: -2.183866844121552\n",
      "Average of y outside 25 to 75: -0.5023760647450356\n"
     ]
    }
   ],
   "source": [
    "within_range = selectGeneDf[(selectGeneDf['sgRNA \\'Cut\\' Site TSS Offset'] >= 25) & (selectGeneDf['sgRNA \\'Cut\\' Site TSS Offset'] <= 75)]\n",
    "outside_range = selectGeneDf[(selectGeneDf['sgRNA \\'Cut\\' Site TSS Offset'] < 25) | (selectGeneDf['sgRNA \\'Cut\\' Site TSS Offset'] > 75)]\n",
    "\n",
    "average_within_range = within_range['z_scored_avg_lfc_A549_Kox1'].median()\n",
    "average_outside_range = outside_range['z_scored_avg_lfc_A549_Kox1'].median()\n",
    "\n",
    "print(f\"Average of y within 25 to 75: {average_within_range}\")\n",
    "print(f\"Average of y outside 25 to 75: {average_outside_range}\")"
   ]
  },
  {
   "cell_type": "code",
   "execution_count": 14,
   "id": "692ac753",
   "metadata": {},
   "outputs": [
    {
     "data": {
      "text/plain": [
       "7"
      ]
     },
     "execution_count": 14,
     "metadata": {},
     "output_type": "execute_result"
    }
   ],
   "source": [
    "len(within_range)"
   ]
  },
  {
   "cell_type": "code",
   "execution_count": 16,
   "id": "6e0cc255",
   "metadata": {},
   "outputs": [
    {
     "data": {
      "image/png": "[encoded data removed]",
      "text/plain": [
       "<Figure size 432x288 with 1 Axes>"
      ]
     },
     "metadata": {
      "needs_background": "light"
     },
     "output_type": "display_data"
    }
   ],
   "source": [
    "graph_pathout = '../Figure/Figure 2/Individual Figures/'\n",
    "plt.figure(figsize=(6, 4))\n",
    "default_colors = sns.color_palette()\n",
    "ax = sns.scatterplot(data = selectGeneDf, x='sgRNA \\'Cut\\' Site TSS Offset', \n",
    "                y='z_scored_avg_lfc_A549_Kox1',\n",
    "                   hue=(selectGeneDf['sgRNA \\'Cut\\' Site TSS Offset'].between(25, 75)), palette={True: 'red', False: default_colors[0]}, legend=False)\n",
    "#AAMP: https://portals.broadinstitute.org/gppx/crispick/platform/results/3c2197e7-cdc5-48c0-b9c0-063b6385ea9c\n",
    "#MRE11: https://portals.broadinstitute.org/gppx/crispick/platform/results/17d759b4-e05b-4102-ad75-e1cf77467913\n",
    "#UFD1: https://portals.broadinstitute.org/gppx/crispick/platform/results/d7f33b9d-1613-4270-8583-9d01ffa05a1d\n",
    "\n",
    "# Input\tQuota\tTarget Taxon\tTarget Gene ID\tTarget Gene Symbol\tTarget Alias\tCRISPR Mechanism\tTarget Domain\tReference Sequence\tStrand of Target\tTSS Position\tPAM Policy\tOff-Target Match Ruleset Version\tOff-Target Tier Policy\tOff-Target Match Bin Policy\tStrand of sgRNA\tOrientation\tsgRNA 'Cut' Position\n",
    "# UFD1\t1\t9606\t7353\tUFD1\tUFD1\tCRISPRi\t[TSS-50,TSS+300]\tNC_000022.11\t-\t19479193\tSpyoCas9\t1\t1\t5.20.100\t-\tsense\t19479149\n",
    "\n",
    "# Input\tQuota\tTarget Taxon\tTarget Gene ID\tTarget Gene Symbol\tTarget Alias\tCRISPR Mechanism\tTarget Domain\tReference Sequence\tStrand of Target\tTSS Position\n",
    "# MRE11\t1\t9606\t4361\tMRE11\tMRE11\tCRISPRi\t[TSS-50,TSS+300]\tNC_000011.10\t-\t94493844\n",
    "ax.set_ylim(y_min, y_max)\n",
    "plt.fill_betweenx(y=[y_min, y_max], \n",
    "                  x1=25, x2=75, color='lightgrey', alpha=0.5)\n",
    "\n",
    "#plt.axvline(x=(94493844.0 - 94493985.0), color = 'green')\n",
    "diff = (19479193.0 - 19479921.0)\n",
    "plt.fill_betweenx(y=[y_min, y_max], \n",
    "                  x1=diff-25, x2=diff-75, color='lightgreen', alpha=0.5)\n",
    "\n",
    "# plt.fill_betweenx(y=[y_min, y_max], \n",
    "#                   x1=(94493844.0 - 94493985.0)-25, x2=(94493844.0 - 94493985.0)-75, color='lightgreen', alpha=0.5)\n",
    "\n",
    "plt.text(-(218270520 - 218270137)-100, -8, 'Optimal region \\n for UFD1', color='green', ha='center', va='top', fontsize=10)\n",
    "plt.text(400, -8, 'Optimal region \\n for CDC45', color='red', ha='center', va='top', fontsize=10)\n",
    "plt.ylabel('A549 Kox1 (z-score)')\n",
    "plt.title('guides designed to target chr22:19478921-19480921')\n",
    "plt.savefig(graph_pathout + \"CDC45.pdf\", dpi=300, bbox_inches='tight')\n"
   ]
  },
  {
   "cell_type": "code",
   "execution_count": 17,
   "id": "62cb609c",
   "metadata": {},
   "outputs": [
    {
     "name": "stdout",
     "output_type": "stream",
     "text": [
      "Average of y within -753.0 to -803.0: -1.7569742614053712\n"
     ]
    }
   ],
   "source": [
    "other_within_range = selectGeneDf[(selectGeneDf['sgRNA \\'Cut\\' Site TSS Offset'] >= diff-75) & \n",
    "                                  (selectGeneDf['sgRNA \\'Cut\\' Site TSS Offset'] <= diff-25)]\n",
    "\n",
    "other_average_within_range = other_within_range['z_scored_avg_lfc_A549_Kox1'].median()\n",
    "\n",
    "print(f\"Average of y within {diff-25} to {diff-75}: {other_average_within_range}\")\n"
   ]
  },
  {
   "cell_type": "code",
   "execution_count": 19,
   "id": "f8cea142",
   "metadata": {},
   "outputs": [
    {
     "data": {
      "text/plain": [
       "-0.4615326197961498"
      ]
     },
     "execution_count": 19,
     "metadata": {},
     "output_type": "execute_result"
    }
   ],
   "source": [
    "all_other_guide = selectGeneDf[~(((selectGeneDf['sgRNA \\'Cut\\' Site TSS Offset'] >= diff-75) & \n",
    "            (selectGeneDf['sgRNA \\'Cut\\' Site TSS Offset'] <= diff-25)) |\n",
    "            ((selectGeneDf['sgRNA \\'Cut\\' Site TSS Offset'] >= 25) &\n",
    "            (selectGeneDf['sgRNA \\'Cut\\' Site TSS Offset'] <= 75)))]\n",
    "all_other_guide['z_scored_avg_lfc_A549_Kox1'].median()"
   ]
  },
  {
   "cell_type": "code",
   "execution_count": 20,
   "id": "37c6abbf",
   "metadata": {},
   "outputs": [],
   "source": [
    "selectGene = 'ZNF131'\n",
    "selectGeneDf = merged_df[merged_df['Target Gene Symbol'] == selectGene].copy()\n"
   ]
  },
  {
   "cell_type": "code",
   "execution_count": 21,
   "id": "46a98c41",
   "metadata": {},
   "outputs": [
    {
     "data": {
      "image/png": "[encoded data removed]",
      "text/plain": [
       "<Figure size 432x288 with 1 Axes>"
      ]
     },
     "metadata": {
      "needs_background": "light"
     },
     "output_type": "display_data"
    }
   ],
   "source": [
    "#02 TSS for ZNF121\n",
    "#https://genome.ucsc.edu/cgi-bin/hgc?hgsid=2297900164_Le4bOO43Sd9Za7Sa71m3AAWY2YBC&db=hg38&c=chr5&l=43119345&r=43125408&o=43121609&t=43121651&g=robustPeaks&i=p2%40ZNF131\n",
    "#chr5:43121610-43121651 for p2\n",
    "tss_p1 = 43120915 # CRISPick\n",
    "tss_p2 = 43121616 # one based system asked tom to check the bed file round((43121610+43121651)/2)\n",
    "\n",
    "# Define a custom palette for the scatter plot\n",
    "palette = {'other': default_colors[0], 'p1 optimal': 'red', 'p2 optimal': 'green'}\n",
    "\n",
    "# Create a new column to define the color categories\n",
    "selectGeneDf['color'] = 'other'  # default blue\n",
    "selectGeneDf.loc[selectGeneDf['sgRNA \\'Cut\\' Site TSS Offset'].between(25, 75), 'color'] = 'p1 optimal'  # red for range 25-75\n",
    "selectGeneDf.loc[selectGeneDf['sgRNA \\'Cut\\' Site TSS Offset'].between(tss_p2-43120915.0+25, tss_p2-43120915.0+75), 'color'] = 'p2 optimal'  # green for range 100-120\n",
    "\n",
    "# Plotting with seaborn\n",
    "plt.figure(figsize=(6,4))\n",
    "\n",
    "ax = sns.scatterplot(data = selectGeneDf, x='sgRNA \\'Cut\\' Site TSS Offset', \n",
    "                y='z_scored_avg_lfc_A549_Kox1',\n",
    "                   hue='color', palette=palette, legend=False)\n",
    "\n",
    "ax.set_ylim(y_min, y_max)\n",
    "plt.fill_betweenx(y=[y_min, y_max], \n",
    "                  x1=25, x2=75, color='lightgrey', alpha=0.5)\n",
    "plt.text(-300, 5, 'MANE select TSS \\n optimal region \\n for ZNF131', color='red', ha='center', va='top', fontsize=10)\n",
    "\n",
    "plt.ylabel('A549 Kox1 (z-score)')\n",
    "\n",
    "\n",
    "#plt.axvline(x=tss_p2-tss_p1, color = 'green')\n",
    "plt.fill_betweenx(y=[y_min, y_max], \n",
    "                  x1=tss_p2-tss_p1+25, x2=tss_p2-tss_p1+75, color='green', alpha=0.2)\n",
    "plt.text(400, -6, 'Altenative TSS \\n optimal region \\n for ZNF131', color='green', ha='center', va='top', fontsize=10)\n",
    "\n",
    "plt.title('guides designed to target ZNF131 (essential gene)')\n",
    "\n",
    "plt.savefig(graph_pathout + \"ZNF131.pdf\", dpi=300, bbox_inches='tight')\n",
    "\n"
   ]
  },
  {
   "cell_type": "code",
   "execution_count": 22,
   "id": "05da082c",
   "metadata": {},
   "outputs": [
    {
     "name": "stdout",
     "output_type": "stream",
     "text": [
      "Median of y within p1: 0.3558264125189635\n",
      "Median of y within p2: -1.271011414442492\n",
      "Median of y within other: -0.41306044756649674\n"
     ]
    }
   ],
   "source": [
    "ZNF131_within_range_p1 = selectGeneDf[(selectGeneDf['sgRNA \\'Cut\\' Site TSS Offset'] >= 25) & (selectGeneDf['sgRNA \\'Cut\\' Site TSS Offset'] <= 75)]\n",
    "ZNF131_within_range_p2 = selectGeneDf[(selectGeneDf['sgRNA \\'Cut\\' Site TSS Offset'] >= tss_p2-tss_p1+25) & (selectGeneDf['sgRNA \\'Cut\\' Site TSS Offset'] <= tss_p2-tss_p1+75)]\n",
    "other_range = selectGeneDf[~(((selectGeneDf['sgRNA \\'Cut\\' Site TSS Offset'] >= 25) & (selectGeneDf['sgRNA \\'Cut\\' Site TSS Offset'] <= 75)) |\n",
    "            ((selectGeneDf['sgRNA \\'Cut\\' Site TSS Offset'] >= tss_p2-tss_p1+25) & (selectGeneDf['sgRNA \\'Cut\\' Site TSS Offset'] <= tss_p2-tss_p1+75)))]\n",
    "\n",
    "\n",
    "\n",
    "\n",
    "print(f\"Median of y within p1: {ZNF131_within_range_p1['z_scored_avg_lfc_A549_Kox1'].median()}\")\n",
    "print(f\"Median of y within p2: {ZNF131_within_range_p2['z_scored_avg_lfc_A549_Kox1'].median()}\")\n",
    "print(f\"Median of y within other: {other_range['z_scored_avg_lfc_A549_Kox1'].median()}\")"
   ]
  },
  {
   "cell_type": "code",
   "execution_count": 23,
   "id": "8d1661da",
   "metadata": {},
   "outputs": [
    {
     "data": {
      "text/plain": [
       "296"
      ]
     },
     "execution_count": 23,
     "metadata": {},
     "output_type": "execute_result"
    }
   ],
   "source": [
    "len(other_range)"
   ]
  },
  {
   "cell_type": "code",
   "execution_count": 24,
   "id": "a5e6e701",
   "metadata": {},
   "outputs": [
    {
     "data": {
      "text/html": [
       "<div>\n",
       "<style scoped>\n",
       "    .dataframe tbody tr th:only-of-type {\n",
       "        vertical-align: middle;\n",
       "    }\n",
       "\n",
       "    .dataframe tbody tr th {\n",
       "        vertical-align: top;\n",
       "    }\n",
       "\n",
       "    .dataframe thead th {\n",
       "        text-align: right;\n",
       "    }\n",
       "</style>\n",
       "<table border=\"1\" class=\"dataframe\">\n",
       "  <thead>\n",
       "    <tr style=\"text-align: right;\">\n",
       "      <th></th>\n",
       "      <th>gene</th>\n",
       "      <th>gene_effect</th>\n",
       "      <th>z_score</th>\n",
       "      <th>mean</th>\n",
       "      <th>stddev</th>\n",
       "    </tr>\n",
       "  </thead>\n",
       "  <tbody>\n",
       "    <tr>\n",
       "      <th>15220</th>\n",
       "      <td>ZNF131</td>\n",
       "      <td>-0.829037</td>\n",
       "      <td>0.900199</td>\n",
       "      <td>-1.049103</td>\n",
       "      <td>0.244464</td>\n",
       "    </tr>\n",
       "  </tbody>\n",
       "</table>\n",
       "</div>"
      ],
      "text/plain": [
       "         gene  gene_effect   z_score      mean    stddev\n",
       "15220  ZNF131    -0.829037  0.900199 -1.049103  0.244464"
      ]
     },
     "execution_count": 24,
     "metadata": {},
     "output_type": "execute_result"
    }
   ],
   "source": [
    "depmap_df[depmap_df['gene'] == 'ZNF131']"
   ]
  },
  {
   "cell_type": "code",
   "execution_count": null,
   "id": "75ffafda",
   "metadata": {},
   "outputs": [],
   "source": []
  }
 ],
 "metadata": {
  "kernelspec": {
   "display_name": "Python 3 (ipykernel)",
   "language": "python",
   "name": "python3"
  },
  "language_info": {
   "codemirror_mode": {
    "name": "ipython",
    "version": 3
   },
   "file_extension": ".py",
   "mimetype": "text/x-python",
   "name": "python",
   "nbconvert_exporter": "python",
   "pygments_lexer": "ipython3",
   "version": "3.8.13"
  }
 },
 "nbformat": 4,
 "nbformat_minor": 5
}
