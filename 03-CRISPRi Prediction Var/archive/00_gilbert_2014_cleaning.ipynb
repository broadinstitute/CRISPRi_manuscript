{
 "cells": [
  {
   "cell_type": "code",
   "execution_count": 1,
   "id": "0b2b6d5a",
   "metadata": {},
   "outputs": [],
   "source": [
    "import pandas as pd\n",
    "import numpy as np\n"
   ]
  },
  {
   "cell_type": "code",
   "execution_count": 2,
   "id": "f52cef42",
   "metadata": {
    "scrolled": true
   },
   "outputs": [
    {
     "name": "stderr",
     "output_type": "stream",
     "text": [
      "/Users/fzheng/opt/anaconda3/lib/python3.8/site-packages/openpyxl/worksheet/_reader.py:312: UserWarning: Unknown extension is not supported and will be removed\n",
      "  warn(msg)\n"
     ]
    }
   ],
   "source": [
    "path = '/Users/fzheng/Library/CloudStorage/GoogleDrive-fzheng@broadinstitute.org/Shared drives/GPP Cloud /R&D/Comp Data Sets/Tiling Library/Gilbert 2014/'\n",
    "seq_detail = pd.read_table(path+\"CRISPRicin library 20130912_final_draft_CRISPRicin.txt\", header = None)\n",
    "seq_phenotpye = pd.read_excel(path + 'CRISPRricin compiled all sgRNA data.xlsx', header = None)\n",
    "new_col_seq_phenotpye = ['guide id'] + seq_phenotpye[[1,  2,  3,  4,  5,  6,  7,  8,  9, 10, 11, 12, 13, 14, 15, 16,17, 18, 19, 20, 21, 22, 23, 24]][0:3].apply('_'.join,  axis=0).tolist()\n",
    "seq_phenotpye = seq_phenotpye.drop([0, 1,2,3], axis=0)\n",
    "seq_phenotpye.columns = new_col_seq_phenotpye\n",
    "\n",
    "path = '/Users/fzheng/Library/CloudStorage/GoogleDrive-fzheng@broadinstitute.org/Shared drives/GPP Cloud /R&D/People/Fengyi/rule_set/crispri/data/2023/k562_tiling/CRISPRko/'\n",
    "new_tiling = pd.read_csv(path+'cleaned_horlbeck_tiling.csv')\n"
   ]
  },
  {
   "cell_type": "code",
   "execution_count": 3,
   "id": "d293a5c4",
   "metadata": {},
   "outputs": [
    {
     "data": {
      "text/html": [
       "<div>\n",
       "<style scoped>\n",
       "    .dataframe tbody tr th:only-of-type {\n",
       "        vertical-align: middle;\n",
       "    }\n",
       "\n",
       "    .dataframe tbody tr th {\n",
       "        vertical-align: top;\n",
       "    }\n",
       "\n",
       "    .dataframe thead th {\n",
       "        text-align: right;\n",
       "    }\n",
       "</style>\n",
       "<table border=\"1\" class=\"dataframe\">\n",
       "  <thead>\n",
       "    <tr style=\"text-align: right;\">\n",
       "      <th></th>\n",
       "      <th>0</th>\n",
       "      <th>1</th>\n",
       "    </tr>\n",
       "  </thead>\n",
       "  <tbody>\n",
       "    <tr>\n",
       "      <th>0</th>\n",
       "      <td>IGF2R_w_160385167.25</td>\n",
       "      <td>cccttggagaaCCAcctTGTTGGGGAATAAAGAAAAACTACTTTGT...</td>\n",
       "    </tr>\n",
       "    <tr>\n",
       "      <th>1</th>\n",
       "      <td>IGF2R_w_160385190.28</td>\n",
       "      <td>cccttggagaaCCAcctTGTTGGCCTTTTGCTTAAGCAAAAGTCAC...</td>\n",
       "    </tr>\n",
       "    <tr>\n",
       "      <th>2</th>\n",
       "      <td>IGF2R_w_160385278.28</td>\n",
       "      <td>cccttggagaaCCAcctTGTTGgggaaatttagggaaaggacattg...</td>\n",
       "    </tr>\n",
       "    <tr>\n",
       "      <th>3</th>\n",
       "      <td>IGF2R_w_160385278.27</td>\n",
       "      <td>cccttggagaaCCAcctTGTTGggaaatttagggaaaggacattgt...</td>\n",
       "    </tr>\n",
       "    <tr>\n",
       "      <th>4</th>\n",
       "      <td>IGF2R_w_160385278.26</td>\n",
       "      <td>cccttggagaaCCAcctTGTTGgaaatttagggaaaggacattgtG...</td>\n",
       "    </tr>\n",
       "  </tbody>\n",
       "</table>\n",
       "</div>"
      ],
      "text/plain": [
       "                      0                                                  1\n",
       "0  IGF2R_w_160385167.25  cccttggagaaCCAcctTGTTGGGGAATAAAGAAAAACTACTTTGT...\n",
       "1  IGF2R_w_160385190.28  cccttggagaaCCAcctTGTTGGCCTTTTGCTTAAGCAAAAGTCAC...\n",
       "2  IGF2R_w_160385278.28  cccttggagaaCCAcctTGTTGgggaaatttagggaaaggacattg...\n",
       "3  IGF2R_w_160385278.27  cccttggagaaCCAcctTGTTGggaaatttagggaaaggacattgt...\n",
       "4  IGF2R_w_160385278.26  cccttggagaaCCAcctTGTTGgaaatttagggaaaggacattgtG..."
      ]
     },
     "execution_count": 3,
     "metadata": {},
     "output_type": "execute_result"
    }
   ],
   "source": [
    "seq_detail.head()"
   ]
  },
  {
   "cell_type": "code",
   "execution_count": 4,
   "id": "2d4c8ddf",
   "metadata": {},
   "outputs": [
    {
     "data": {
      "text/html": [
       "<div>\n",
       "<style scoped>\n",
       "    .dataframe tbody tr th:only-of-type {\n",
       "        vertical-align: middle;\n",
       "    }\n",
       "\n",
       "    .dataframe tbody tr th {\n",
       "        vertical-align: top;\n",
       "    }\n",
       "\n",
       "    .dataframe thead th {\n",
       "        text-align: right;\n",
       "    }\n",
       "</style>\n",
       "<table border=\"1\" class=\"dataframe\">\n",
       "  <thead>\n",
       "    <tr style=\"text-align: right;\">\n",
       "      <th></th>\n",
       "      <th>guide id</th>\n",
       "      <th>Cas9-nuclease_gamma_ave_LG_JEV</th>\n",
       "      <th>Cas9-nuclease_rho_ave_LG_JEV</th>\n",
       "      <th>Cas9-nuclease_tau_ave_LG_JEV</th>\n",
       "      <th>dCas9_gamma_ave_LG2_LG_MH2_MH</th>\n",
       "      <th>dCas9_rho_ave_LG2_LG_MH2_MH</th>\n",
       "      <th>dCas9_tau_ave_LG2_LG_MH2_MH</th>\n",
       "      <th>dCas9-KRAB_gamma_ave_LG2_LG_MH2_MH</th>\n",
       "      <th>dCas9-KRAB_rho_ave_LG2_LG_MH2_MH</th>\n",
       "      <th>dCas9-KRAB_tau_ave_LG2_LG_MH2_MH</th>\n",
       "      <th>...</th>\n",
       "      <th>scFV-VP64_tau_ave_LG_JEV</th>\n",
       "      <th>tet-Cas9-nuclease_gamma_ave_LG_JEV</th>\n",
       "      <th>tet-Cas9-nuclease_rho_ave_LG_JEV</th>\n",
       "      <th>tet-Cas9-nuclease_tau_ave_LG_JEV</th>\n",
       "      <th>tet-dCas9_gamma_ave_LG_JEV</th>\n",
       "      <th>tet-dCas9_rho_ave_LG_JEV</th>\n",
       "      <th>tet-dCas9_tau_ave_LG_JEV</th>\n",
       "      <th>tet-dCas9-KRAB_gamma_ave_LG_JEV</th>\n",
       "      <th>tet-dCas9-KRAB_rho_ave_LG_JEV</th>\n",
       "      <th>tet-dCas9-KRAB_tau_ave_LG_JEV</th>\n",
       "    </tr>\n",
       "  </thead>\n",
       "  <tbody>\n",
       "    <tr>\n",
       "      <th>4</th>\n",
       "      <td>ARCN1_c_118438373.25</td>\n",
       "      <td>-0.042085</td>\n",
       "      <td>0.067389</td>\n",
       "      <td>-0.009748</td>\n",
       "      <td>-0.008239</td>\n",
       "      <td>-0.11281</td>\n",
       "      <td>-0.145932</td>\n",
       "      <td>-0.003073</td>\n",
       "      <td>-0.120761</td>\n",
       "      <td>-0.136305</td>\n",
       "      <td>...</td>\n",
       "      <td>-0.000032</td>\n",
       "      <td>-0.011297</td>\n",
       "      <td>-0.097876</td>\n",
       "      <td>-0.124901</td>\n",
       "      <td>-0.006776</td>\n",
       "      <td>0.089315</td>\n",
       "      <td>0.102563</td>\n",
       "      <td>0.000996</td>\n",
       "      <td>-0.005057</td>\n",
       "      <td>-0.00068</td>\n",
       "    </tr>\n",
       "    <tr>\n",
       "      <th>5</th>\n",
       "      <td>ARCN1_c_118438478.24</td>\n",
       "      <td>-0.028864</td>\n",
       "      <td>-0.029428</td>\n",
       "      <td>-0.075971</td>\n",
       "      <td>-0.009053</td>\n",
       "      <td>0.027236</td>\n",
       "      <td>0.007994</td>\n",
       "      <td>-0.003389</td>\n",
       "      <td>0.012341</td>\n",
       "      <td>0.002547</td>\n",
       "      <td>...</td>\n",
       "      <td>0.02593</td>\n",
       "      <td>-0.000848</td>\n",
       "      <td>-0.007781</td>\n",
       "      <td>-0.011579</td>\n",
       "      <td>0.008855</td>\n",
       "      <td>-0.018122</td>\n",
       "      <td>-0.008353</td>\n",
       "      <td>0.009998</td>\n",
       "      <td>-0.012417</td>\n",
       "      <td>0.00571</td>\n",
       "    </tr>\n",
       "    <tr>\n",
       "      <th>6</th>\n",
       "      <td>ARCN1_c_118438478.26</td>\n",
       "      <td>-0.010585</td>\n",
       "      <td>0.082849</td>\n",
       "      <td>0.055826</td>\n",
       "      <td>0.000392</td>\n",
       "      <td>-0.058185</td>\n",
       "      <td>-0.05975</td>\n",
       "      <td>-0.01074</td>\n",
       "      <td>0.029811</td>\n",
       "      <td>0.009294</td>\n",
       "      <td>...</td>\n",
       "      <td>0.051061</td>\n",
       "      <td>0.021742</td>\n",
       "      <td>0.061692</td>\n",
       "      <td>0.098399</td>\n",
       "      <td>0.001522</td>\n",
       "      <td>-0.003338</td>\n",
       "      <td>-0.006786</td>\n",
       "      <td>-0.001491</td>\n",
       "      <td>-0.028662</td>\n",
       "      <td>-0.030491</td>\n",
       "    </tr>\n",
       "    <tr>\n",
       "      <th>7</th>\n",
       "      <td>ARCN1_c_118438508.26</td>\n",
       "      <td>-0.002614</td>\n",
       "      <td>-0.114052</td>\n",
       "      <td>-0.10155</td>\n",
       "      <td>-0.015898</td>\n",
       "      <td>0.02013</td>\n",
       "      <td>-0.009754</td>\n",
       "      <td>0.00132</td>\n",
       "      <td>0.022175</td>\n",
       "      <td>0.023339</td>\n",
       "      <td>...</td>\n",
       "      <td>-0.016855</td>\n",
       "      <td>0.011423</td>\n",
       "      <td>0.000828</td>\n",
       "      <td>0.017933</td>\n",
       "      <td>0.020234</td>\n",
       "      <td>-0.005401</td>\n",
       "      <td>0.03163</td>\n",
       "      <td>-0.008477</td>\n",
       "      <td>0.005852</td>\n",
       "      <td>-0.01496</td>\n",
       "    </tr>\n",
       "    <tr>\n",
       "      <th>8</th>\n",
       "      <td>ARCN1_c_118438682.27</td>\n",
       "      <td>0.027815</td>\n",
       "      <td>-0.101679</td>\n",
       "      <td>-0.03159</td>\n",
       "      <td>0.032612</td>\n",
       "      <td>0.013335</td>\n",
       "      <td>0.080821</td>\n",
       "      <td>0.02712</td>\n",
       "      <td>-0.031622</td>\n",
       "      <td>0.017937</td>\n",
       "      <td>...</td>\n",
       "      <td>0.024278</td>\n",
       "      <td>NaN</td>\n",
       "      <td>NaN</td>\n",
       "      <td>NaN</td>\n",
       "      <td>-0.042612</td>\n",
       "      <td>0.08502</td>\n",
       "      <td>0.037326</td>\n",
       "      <td>NaN</td>\n",
       "      <td>NaN</td>\n",
       "      <td>NaN</td>\n",
       "    </tr>\n",
       "  </tbody>\n",
       "</table>\n",
       "<p>5 rows × 25 columns</p>\n",
       "</div>"
      ],
      "text/plain": [
       "               guide id Cas9-nuclease_gamma_ave_LG_JEV  \\\n",
       "4  ARCN1_c_118438373.25                      -0.042085   \n",
       "5  ARCN1_c_118438478.24                      -0.028864   \n",
       "6  ARCN1_c_118438478.26                      -0.010585   \n",
       "7  ARCN1_c_118438508.26                      -0.002614   \n",
       "8  ARCN1_c_118438682.27                       0.027815   \n",
       "\n",
       "  Cas9-nuclease_rho_ave_LG_JEV Cas9-nuclease_tau_ave_LG_JEV  \\\n",
       "4                     0.067389                    -0.009748   \n",
       "5                    -0.029428                    -0.075971   \n",
       "6                     0.082849                     0.055826   \n",
       "7                    -0.114052                     -0.10155   \n",
       "8                    -0.101679                     -0.03159   \n",
       "\n",
       "  dCas9_gamma_ave_LG2_LG_MH2_MH dCas9_rho_ave_LG2_LG_MH2_MH  \\\n",
       "4                     -0.008239                    -0.11281   \n",
       "5                     -0.009053                    0.027236   \n",
       "6                      0.000392                   -0.058185   \n",
       "7                     -0.015898                     0.02013   \n",
       "8                      0.032612                    0.013335   \n",
       "\n",
       "  dCas9_tau_ave_LG2_LG_MH2_MH dCas9-KRAB_gamma_ave_LG2_LG_MH2_MH  \\\n",
       "4                   -0.145932                          -0.003073   \n",
       "5                    0.007994                          -0.003389   \n",
       "6                    -0.05975                           -0.01074   \n",
       "7                   -0.009754                            0.00132   \n",
       "8                    0.080821                            0.02712   \n",
       "\n",
       "  dCas9-KRAB_rho_ave_LG2_LG_MH2_MH dCas9-KRAB_tau_ave_LG2_LG_MH2_MH  ...  \\\n",
       "4                        -0.120761                        -0.136305  ...   \n",
       "5                         0.012341                         0.002547  ...   \n",
       "6                         0.029811                         0.009294  ...   \n",
       "7                         0.022175                         0.023339  ...   \n",
       "8                        -0.031622                         0.017937  ...   \n",
       "\n",
       "  scFV-VP64_tau_ave_LG_JEV tet-Cas9-nuclease_gamma_ave_LG_JEV  \\\n",
       "4                -0.000032                          -0.011297   \n",
       "5                  0.02593                          -0.000848   \n",
       "6                 0.051061                           0.021742   \n",
       "7                -0.016855                           0.011423   \n",
       "8                 0.024278                                NaN   \n",
       "\n",
       "  tet-Cas9-nuclease_rho_ave_LG_JEV tet-Cas9-nuclease_tau_ave_LG_JEV  \\\n",
       "4                        -0.097876                        -0.124901   \n",
       "5                        -0.007781                        -0.011579   \n",
       "6                         0.061692                         0.098399   \n",
       "7                         0.000828                         0.017933   \n",
       "8                              NaN                              NaN   \n",
       "\n",
       "  tet-dCas9_gamma_ave_LG_JEV tet-dCas9_rho_ave_LG_JEV  \\\n",
       "4                  -0.006776                 0.089315   \n",
       "5                   0.008855                -0.018122   \n",
       "6                   0.001522                -0.003338   \n",
       "7                   0.020234                -0.005401   \n",
       "8                  -0.042612                  0.08502   \n",
       "\n",
       "  tet-dCas9_tau_ave_LG_JEV tet-dCas9-KRAB_gamma_ave_LG_JEV  \\\n",
       "4                 0.102563                        0.000996   \n",
       "5                -0.008353                        0.009998   \n",
       "6                -0.006786                       -0.001491   \n",
       "7                  0.03163                       -0.008477   \n",
       "8                 0.037326                             NaN   \n",
       "\n",
       "  tet-dCas9-KRAB_rho_ave_LG_JEV tet-dCas9-KRAB_tau_ave_LG_JEV  \n",
       "4                     -0.005057                      -0.00068  \n",
       "5                     -0.012417                       0.00571  \n",
       "6                     -0.028662                     -0.030491  \n",
       "7                      0.005852                      -0.01496  \n",
       "8                           NaN                           NaN  \n",
       "\n",
       "[5 rows x 25 columns]"
      ]
     },
     "execution_count": 4,
     "metadata": {},
     "output_type": "execute_result"
    }
   ],
   "source": [
    "seq_phenotpye.head()"
   ]
  },
  {
   "cell_type": "code",
   "execution_count": 5,
   "id": "59f9c208",
   "metadata": {},
   "outputs": [
    {
     "data": {
      "text/html": [
       "<div>\n",
       "<style scoped>\n",
       "    .dataframe tbody tr th:only-of-type {\n",
       "        vertical-align: middle;\n",
       "    }\n",
       "\n",
       "    .dataframe tbody tr th {\n",
       "        vertical-align: top;\n",
       "    }\n",
       "\n",
       "    .dataframe thead th {\n",
       "        text-align: right;\n",
       "    }\n",
       "</style>\n",
       "<table border=\"1\" class=\"dataframe\">\n",
       "  <thead>\n",
       "    <tr style=\"text-align: right;\">\n",
       "      <th></th>\n",
       "      <th>gene symbol</th>\n",
       "      <th>chromosome</th>\n",
       "      <th>PAM genomic coordinate [hg19]</th>\n",
       "      <th>strand targeted</th>\n",
       "      <th>sgRNA length (including PAM)</th>\n",
       "      <th>sgRNA sequence</th>\n",
       "      <th>FANTOM 5 TSS [Where P1 and P2 are &gt;1kb apart, TSSs were treated separately and sgRNAs assigned to the closest TSS; otherwise, P1P2 indicates all coordinates are related to the P1 TSS]</th>\n",
       "      <th>Position relative to FANTOM5 TSS</th>\n",
       "      <th>Cas9 nuclease phenotype-signed z-score</th>\n",
       "      <th>Target site MNase signal</th>\n",
       "      <th>Doench et al. Nat. Biotech 2014 sgRNA sequence score</th>\n",
       "      <th>is targeting CDS?</th>\n",
       "      <th>liftover</th>\n",
       "      <th>PAM genomic coordinate [hg38]</th>\n",
       "    </tr>\n",
       "  </thead>\n",
       "  <tbody>\n",
       "    <tr>\n",
       "      <th>0</th>\n",
       "      <td>ARCN1</td>\n",
       "      <td>chr11</td>\n",
       "      <td>118438372</td>\n",
       "      <td>-</td>\n",
       "      <td>25</td>\n",
       "      <td>GAAAACCTACCAGAGGTAAACA</td>\n",
       "      <td>P1P2</td>\n",
       "      <td>-4774</td>\n",
       "      <td>-0.817426</td>\n",
       "      <td>0.164000</td>\n",
       "      <td>0.127736</td>\n",
       "      <td>False</td>\n",
       "      <td>chr11:118438372-118438372</td>\n",
       "      <td>118567657</td>\n",
       "    </tr>\n",
       "    <tr>\n",
       "      <th>1</th>\n",
       "      <td>ARCN1</td>\n",
       "      <td>chr11</td>\n",
       "      <td>118438477</td>\n",
       "      <td>-</td>\n",
       "      <td>24</td>\n",
       "      <td>GATCTGTTTTGCTCGtaatag</td>\n",
       "      <td>P1P2</td>\n",
       "      <td>-4669</td>\n",
       "      <td>0.356962</td>\n",
       "      <td>1.112500</td>\n",
       "      <td>0.018762</td>\n",
       "      <td>False</td>\n",
       "      <td>chr11:118438477-118438477</td>\n",
       "      <td>118567762</td>\n",
       "    </tr>\n",
       "    <tr>\n",
       "      <th>2</th>\n",
       "      <td>ARCN1</td>\n",
       "      <td>chr11</td>\n",
       "      <td>118438477</td>\n",
       "      <td>-</td>\n",
       "      <td>26</td>\n",
       "      <td>GTGATCTGTTTTGCTCGtaatag</td>\n",
       "      <td>P1P2</td>\n",
       "      <td>-4669</td>\n",
       "      <td>-1.004960</td>\n",
       "      <td>1.096154</td>\n",
       "      <td>0.018762</td>\n",
       "      <td>False</td>\n",
       "      <td>chr11:118438477-118438477</td>\n",
       "      <td>118567762</td>\n",
       "    </tr>\n",
       "    <tr>\n",
       "      <th>3</th>\n",
       "      <td>ARCN1</td>\n",
       "      <td>chr11</td>\n",
       "      <td>118438507</td>\n",
       "      <td>-</td>\n",
       "      <td>26</td>\n",
       "      <td>gtaatgtgcagtacttactatgt</td>\n",
       "      <td>P1P2</td>\n",
       "      <td>-4639</td>\n",
       "      <td>1.383449</td>\n",
       "      <td>0.392308</td>\n",
       "      <td>0.193313</td>\n",
       "      <td>False</td>\n",
       "      <td>chr11:118438507-118438507</td>\n",
       "      <td>118567792</td>\n",
       "    </tr>\n",
       "    <tr>\n",
       "      <th>4</th>\n",
       "      <td>ARCN1</td>\n",
       "      <td>chr11</td>\n",
       "      <td>118438681</td>\n",
       "      <td>-</td>\n",
       "      <td>27</td>\n",
       "      <td>gcgctgaaaatagcagccaaacac</td>\n",
       "      <td>P1P2</td>\n",
       "      <td>-4465</td>\n",
       "      <td>1.233363</td>\n",
       "      <td>1.611111</td>\n",
       "      <td>0.193313</td>\n",
       "      <td>False</td>\n",
       "      <td>chr11:118438681-118438681</td>\n",
       "      <td>118567966</td>\n",
       "    </tr>\n",
       "  </tbody>\n",
       "</table>\n",
       "</div>"
      ],
      "text/plain": [
       "  gene symbol chromosome  PAM genomic coordinate [hg19] strand targeted  \\\n",
       "0       ARCN1      chr11                      118438372               -   \n",
       "1       ARCN1      chr11                      118438477               -   \n",
       "2       ARCN1      chr11                      118438477               -   \n",
       "3       ARCN1      chr11                      118438507               -   \n",
       "4       ARCN1      chr11                      118438681               -   \n",
       "\n",
       "   sgRNA length (including PAM)            sgRNA sequence  \\\n",
       "0                            25    GAAAACCTACCAGAGGTAAACA   \n",
       "1                            24     GATCTGTTTTGCTCGtaatag   \n",
       "2                            26   GTGATCTGTTTTGCTCGtaatag   \n",
       "3                            26   gtaatgtgcagtacttactatgt   \n",
       "4                            27  gcgctgaaaatagcagccaaacac   \n",
       "\n",
       "  FANTOM 5 TSS [Where P1 and P2 are >1kb apart, TSSs were treated separately and sgRNAs assigned to the closest TSS; otherwise, P1P2 indicates all coordinates are related to the P1 TSS]  \\\n",
       "0                                               P1P2                                                                                                                                        \n",
       "1                                               P1P2                                                                                                                                        \n",
       "2                                               P1P2                                                                                                                                        \n",
       "3                                               P1P2                                                                                                                                        \n",
       "4                                               P1P2                                                                                                                                        \n",
       "\n",
       "   Position relative to FANTOM5 TSS  Cas9 nuclease phenotype-signed z-score  \\\n",
       "0                             -4774                               -0.817426   \n",
       "1                             -4669                                0.356962   \n",
       "2                             -4669                               -1.004960   \n",
       "3                             -4639                                1.383449   \n",
       "4                             -4465                                1.233363   \n",
       "\n",
       "   Target site MNase signal  \\\n",
       "0                  0.164000   \n",
       "1                  1.112500   \n",
       "2                  1.096154   \n",
       "3                  0.392308   \n",
       "4                  1.611111   \n",
       "\n",
       "   Doench et al. Nat. Biotech 2014 sgRNA sequence score  is targeting CDS?  \\\n",
       "0                                           0.127736                 False   \n",
       "1                                           0.018762                 False   \n",
       "2                                           0.018762                 False   \n",
       "3                                           0.193313                 False   \n",
       "4                                           0.193313                 False   \n",
       "\n",
       "                    liftover  PAM genomic coordinate [hg38]  \n",
       "0  chr11:118438372-118438372                      118567657  \n",
       "1  chr11:118438477-118438477                      118567762  \n",
       "2  chr11:118438477-118438477                      118567762  \n",
       "3  chr11:118438507-118438507                      118567792  \n",
       "4  chr11:118438681-118438681                      118567966  "
      ]
     },
     "execution_count": 5,
     "metadata": {},
     "output_type": "execute_result"
    }
   ],
   "source": [
    "new_tiling.head()"
   ]
  },
  {
   "cell_type": "markdown",
   "id": "511deed1",
   "metadata": {},
   "source": [
    "### check corrleation among different dcas methods"
   ]
  },
  {
   "cell_type": "code",
   "execution_count": 6,
   "id": "78f98e6f",
   "metadata": {},
   "outputs": [
    {
     "data": {
      "text/html": [
       "<div>\n",
       "<style scoped>\n",
       "    .dataframe tbody tr th:only-of-type {\n",
       "        vertical-align: middle;\n",
       "    }\n",
       "\n",
       "    .dataframe tbody tr th {\n",
       "        vertical-align: top;\n",
       "    }\n",
       "\n",
       "    .dataframe thead th {\n",
       "        text-align: right;\n",
       "    }\n",
       "</style>\n",
       "<table border=\"1\" class=\"dataframe\">\n",
       "  <thead>\n",
       "    <tr style=\"text-align: right;\">\n",
       "      <th></th>\n",
       "      <th>dCas9_rho_ave_LG2_LG_MH2_MH</th>\n",
       "      <th>dCas9-KRAB_rho_ave_LG2_LG_MH2_MH</th>\n",
       "      <th>tet-dCas9_rho_ave_LG_JEV</th>\n",
       "      <th>tet-dCas9-KRAB_rho_ave_LG_JEV</th>\n",
       "    </tr>\n",
       "  </thead>\n",
       "  <tbody>\n",
       "    <tr>\n",
       "      <th>dCas9_rho_ave_LG2_LG_MH2_MH</th>\n",
       "      <td>1.000000</td>\n",
       "      <td>0.488875</td>\n",
       "      <td>0.357679</td>\n",
       "      <td>0.306273</td>\n",
       "    </tr>\n",
       "    <tr>\n",
       "      <th>dCas9-KRAB_rho_ave_LG2_LG_MH2_MH</th>\n",
       "      <td>0.488875</td>\n",
       "      <td>1.000000</td>\n",
       "      <td>0.268658</td>\n",
       "      <td>0.518444</td>\n",
       "    </tr>\n",
       "    <tr>\n",
       "      <th>tet-dCas9_rho_ave_LG_JEV</th>\n",
       "      <td>0.357679</td>\n",
       "      <td>0.268658</td>\n",
       "      <td>1.000000</td>\n",
       "      <td>0.193303</td>\n",
       "    </tr>\n",
       "    <tr>\n",
       "      <th>tet-dCas9-KRAB_rho_ave_LG_JEV</th>\n",
       "      <td>0.306273</td>\n",
       "      <td>0.518444</td>\n",
       "      <td>0.193303</td>\n",
       "      <td>1.000000</td>\n",
       "    </tr>\n",
       "  </tbody>\n",
       "</table>\n",
       "</div>"
      ],
      "text/plain": [
       "                                  dCas9_rho_ave_LG2_LG_MH2_MH  \\\n",
       "dCas9_rho_ave_LG2_LG_MH2_MH                          1.000000   \n",
       "dCas9-KRAB_rho_ave_LG2_LG_MH2_MH                     0.488875   \n",
       "tet-dCas9_rho_ave_LG_JEV                             0.357679   \n",
       "tet-dCas9-KRAB_rho_ave_LG_JEV                        0.306273   \n",
       "\n",
       "                                  dCas9-KRAB_rho_ave_LG2_LG_MH2_MH  \\\n",
       "dCas9_rho_ave_LG2_LG_MH2_MH                               0.488875   \n",
       "dCas9-KRAB_rho_ave_LG2_LG_MH2_MH                          1.000000   \n",
       "tet-dCas9_rho_ave_LG_JEV                                  0.268658   \n",
       "tet-dCas9-KRAB_rho_ave_LG_JEV                             0.518444   \n",
       "\n",
       "                                  tet-dCas9_rho_ave_LG_JEV  \\\n",
       "dCas9_rho_ave_LG2_LG_MH2_MH                       0.357679   \n",
       "dCas9-KRAB_rho_ave_LG2_LG_MH2_MH                  0.268658   \n",
       "tet-dCas9_rho_ave_LG_JEV                          1.000000   \n",
       "tet-dCas9-KRAB_rho_ave_LG_JEV                     0.193303   \n",
       "\n",
       "                                  tet-dCas9-KRAB_rho_ave_LG_JEV  \n",
       "dCas9_rho_ave_LG2_LG_MH2_MH                            0.306273  \n",
       "dCas9-KRAB_rho_ave_LG2_LG_MH2_MH                       0.518444  \n",
       "tet-dCas9_rho_ave_LG_JEV                               0.193303  \n",
       "tet-dCas9-KRAB_rho_ave_LG_JEV                          1.000000  "
      ]
     },
     "execution_count": 6,
     "metadata": {},
     "output_type": "execute_result"
    }
   ],
   "source": [
    "rho_dcas = seq_phenotpye[['dCas9_rho_ave_LG2_LG_MH2_MH', 'dCas9-KRAB_rho_ave_LG2_LG_MH2_MH', \n",
    "                       'tet-dCas9_rho_ave_LG_JEV', 'tet-dCas9-KRAB_rho_ave_LG_JEV']].dropna().astype(float)\n",
    "rho_dcas.corr()\n",
    "# those three methods don't correlate well so just gonna move forward with dCas9-KRAB\n"
   ]
  },
  {
   "cell_type": "markdown",
   "id": "ae8eabb2",
   "metadata": {},
   "source": [
    "## analysis using dCas9-KRAB"
   ]
  },
  {
   "cell_type": "code",
   "execution_count": 7,
   "id": "d7c03f42",
   "metadata": {},
   "outputs": [],
   "source": [
    "seq_detail.columns = ['guide id', 'oligo']"
   ]
  },
  {
   "cell_type": "code",
   "execution_count": 8,
   "id": "c529d245",
   "metadata": {},
   "outputs": [],
   "source": [
    "dcas_krab = pd.merge(seq_phenotpye[['guide id', 'dCas9-KRAB_rho_ave_LG2_LG_MH2_MH']],seq_detail, on = 'guide id' ).dropna()"
   ]
  },
  {
   "cell_type": "code",
   "execution_count": 9,
   "id": "323c2551",
   "metadata": {},
   "outputs": [
    {
     "name": "stderr",
     "output_type": "stream",
     "text": [
      "/var/folders/h4/ryygmkjj3m32xw7cjfk2gbvr0000gq/T/ipykernel_29842/2330417970.py:1: FutureWarning: In a future version of pandas all arguments of StringMethods.split except for the argument 'pat' will be keyword-only.\n",
      "  dcas_krab[['Gene', 'Position']] = dcas_krab['guide id'].str.split('_', 1, expand=True)\n"
     ]
    },
    {
     "data": {
      "text/html": [
       "<div>\n",
       "<style scoped>\n",
       "    .dataframe tbody tr th:only-of-type {\n",
       "        vertical-align: middle;\n",
       "    }\n",
       "\n",
       "    .dataframe tbody tr th {\n",
       "        vertical-align: top;\n",
       "    }\n",
       "\n",
       "    .dataframe thead th {\n",
       "        text-align: right;\n",
       "    }\n",
       "</style>\n",
       "<table border=\"1\" class=\"dataframe\">\n",
       "  <thead>\n",
       "    <tr style=\"text-align: right;\">\n",
       "      <th></th>\n",
       "      <th>guide id</th>\n",
       "      <th>dCas9-KRAB_rho_ave_LG2_LG_MH2_MH</th>\n",
       "      <th>oligo</th>\n",
       "      <th>Gene</th>\n",
       "      <th>Position</th>\n",
       "    </tr>\n",
       "  </thead>\n",
       "  <tbody>\n",
       "    <tr>\n",
       "      <th>0</th>\n",
       "      <td>ARCN1_c_118438373.25</td>\n",
       "      <td>-0.120761</td>\n",
       "      <td>cccttggagaaCCAcctTGTTGGAAAACCTACCAGAGGTAAACAGT...</td>\n",
       "      <td>ARCN1</td>\n",
       "      <td>c_118438373.25</td>\n",
       "    </tr>\n",
       "    <tr>\n",
       "      <th>1</th>\n",
       "      <td>ARCN1_c_118438478.24</td>\n",
       "      <td>0.012341</td>\n",
       "      <td>cccttggagaaCCAcctTGTTGGATCTGTTTTGCTCGtaatagGTT...</td>\n",
       "      <td>ARCN1</td>\n",
       "      <td>c_118438478.24</td>\n",
       "    </tr>\n",
       "    <tr>\n",
       "      <th>2</th>\n",
       "      <td>ARCN1_c_118438478.26</td>\n",
       "      <td>0.029811</td>\n",
       "      <td>cccttggagaaCCAcctTGTTGGTGATCTGTTTTGCTCGtaatagG...</td>\n",
       "      <td>ARCN1</td>\n",
       "      <td>c_118438478.26</td>\n",
       "    </tr>\n",
       "    <tr>\n",
       "      <th>3</th>\n",
       "      <td>ARCN1_c_118438508.26</td>\n",
       "      <td>0.022175</td>\n",
       "      <td>cccttggagaaCCAcctTGTTGgtaatgtgcagtacttactatgtG...</td>\n",
       "      <td>ARCN1</td>\n",
       "      <td>c_118438508.26</td>\n",
       "    </tr>\n",
       "    <tr>\n",
       "      <th>4</th>\n",
       "      <td>ARCN1_c_118438682.27</td>\n",
       "      <td>-0.031622</td>\n",
       "      <td>cccttggagaaCCAcctTGTTGgcgctgaaaatagcagccaaacac...</td>\n",
       "      <td>ARCN1</td>\n",
       "      <td>c_118438682.27</td>\n",
       "    </tr>\n",
       "  </tbody>\n",
       "</table>\n",
       "</div>"
      ],
      "text/plain": [
       "               guide id dCas9-KRAB_rho_ave_LG2_LG_MH2_MH  \\\n",
       "0  ARCN1_c_118438373.25                        -0.120761   \n",
       "1  ARCN1_c_118438478.24                         0.012341   \n",
       "2  ARCN1_c_118438478.26                         0.029811   \n",
       "3  ARCN1_c_118438508.26                         0.022175   \n",
       "4  ARCN1_c_118438682.27                        -0.031622   \n",
       "\n",
       "                                               oligo   Gene        Position  \n",
       "0  cccttggagaaCCAcctTGTTGGAAAACCTACCAGAGGTAAACAGT...  ARCN1  c_118438373.25  \n",
       "1  cccttggagaaCCAcctTGTTGGATCTGTTTTGCTCGtaatagGTT...  ARCN1  c_118438478.24  \n",
       "2  cccttggagaaCCAcctTGTTGGTGATCTGTTTTGCTCGtaatagG...  ARCN1  c_118438478.26  \n",
       "3  cccttggagaaCCAcctTGTTGgtaatgtgcagtacttactatgtG...  ARCN1  c_118438508.26  \n",
       "4  cccttggagaaCCAcctTGTTGgcgctgaaaatagcagccaaacac...  ARCN1  c_118438682.27  "
      ]
     },
     "execution_count": 9,
     "metadata": {},
     "output_type": "execute_result"
    }
   ],
   "source": [
    "dcas_krab[['Gene', 'Position']] = dcas_krab['guide id'].str.split('_', 1, expand=True)\n",
    "#dcas_krab.to_csv('/Users/fzheng/Library/CloudStorage/GoogleDrive-fzheng@broadinstitute.org/Shared drives/GPP Cloud /R&D/People/Fengyi/rule_set/crispri/data/2023/k562_tiling/CRISPRi/dcas_krab.csv', index = False)\n",
    "dcas_krab.head()"
   ]
  },
  {
   "cell_type": "code",
   "execution_count": 10,
   "id": "68736529",
   "metadata": {},
   "outputs": [
    {
     "data": {
      "text/plain": [
       "53921"
      ]
     },
     "execution_count": 10,
     "metadata": {},
     "output_type": "execute_result"
    }
   ],
   "source": [
    "len(dcas_krab)"
   ]
  },
  {
   "cell_type": "markdown",
   "id": "28e1322a",
   "metadata": {},
   "source": [
    "- RPS25 and C4orf41 only in CRISPRi\n",
    "- TRAPPC11 only in CRISPRko\n",
    "- 50 genes in CRISPRi instead of 49"
   ]
  },
  {
   "cell_type": "code",
   "execution_count": 11,
   "id": "3b2ea784",
   "metadata": {},
   "outputs": [
    {
     "name": "stdout",
     "output_type": "stream",
     "text": [
      "52926\n"
     ]
    }
   ],
   "source": [
    "# Drop negative controls and mismatches \n",
    "tiling_crispri = dcas_krab[dcas_krab['guide id'].str[:3] != \"neg\"]\n",
    "tiling_crispri = tiling_crispri[tiling_crispri['guide id'].str[:3] != \"mis\"]\n",
    "print(len(tiling_crispri))"
   ]
  },
  {
   "cell_type": "code",
   "execution_count": 12,
   "id": "e04b7b25",
   "metadata": {},
   "outputs": [
    {
     "name": "stdout",
     "output_type": "stream",
     "text": [
      "52926\n"
     ]
    }
   ],
   "source": [
    "# Drop rows where rho values are null\n",
    "tiling_crispri = tiling_crispri[tiling_crispri[\"dCas9-KRAB_rho_ave_LG2_LG_MH2_MH\"].notnull()]\n",
    "print(len(tiling_crispri))"
   ]
  },
  {
   "cell_type": "code",
   "execution_count": 13,
   "id": "a9bd2a1c",
   "metadata": {},
   "outputs": [],
   "source": [
    "tiling_crispri[\"gene symbol\"] = tiling_crispri['guide id'].str.split(\"_\").str[0]\n",
    "tiling_crispri[\"temp\"] = tiling_crispri['guide id'].str.split(\"_\").str[2]\n",
    "tiling_crispri[\"pam coordinate (hg19)\"] = tiling_crispri.temp.str.split(\".\").str[0]\n",
    "tiling_crispri[\"length (including pam)\"] = tiling_crispri.temp.str.split(\".\").str[1]\n",
    "tiling_crispri.drop('temp', axis=1, inplace=True)\n"
   ]
  },
  {
   "cell_type": "code",
   "execution_count": 14,
   "id": "4ada63bd",
   "metadata": {},
   "outputs": [],
   "source": [
    "tiling_crispri.drop('Position', axis=1, inplace=True)\n",
    "tiling_crispri.drop('Gene', axis=1, inplace=True)\n"
   ]
  },
  {
   "cell_type": "code",
   "execution_count": 15,
   "id": "58fdb2ae",
   "metadata": {},
   "outputs": [
    {
     "data": {
      "text/html": [
       "<div>\n",
       "<style scoped>\n",
       "    .dataframe tbody tr th:only-of-type {\n",
       "        vertical-align: middle;\n",
       "    }\n",
       "\n",
       "    .dataframe tbody tr th {\n",
       "        vertical-align: top;\n",
       "    }\n",
       "\n",
       "    .dataframe thead th {\n",
       "        text-align: right;\n",
       "    }\n",
       "</style>\n",
       "<table border=\"1\" class=\"dataframe\">\n",
       "  <thead>\n",
       "    <tr style=\"text-align: right;\">\n",
       "      <th></th>\n",
       "      <th>guide id</th>\n",
       "      <th>dCas9-KRAB_rho_ave_LG2_LG_MH2_MH</th>\n",
       "      <th>oligo</th>\n",
       "      <th>gene symbol</th>\n",
       "      <th>pam coordinate (hg19)</th>\n",
       "      <th>length (including pam)</th>\n",
       "      <th>pam coordinate (hg19) - 1</th>\n",
       "    </tr>\n",
       "  </thead>\n",
       "  <tbody>\n",
       "    <tr>\n",
       "      <th>0</th>\n",
       "      <td>ARCN1_c_118438373.25</td>\n",
       "      <td>-0.120761</td>\n",
       "      <td>cccttggagaaCCAcctTGTTGGAAAACCTACCAGAGGTAAACAGT...</td>\n",
       "      <td>ARCN1</td>\n",
       "      <td>118438373</td>\n",
       "      <td>25</td>\n",
       "      <td>118438372</td>\n",
       "    </tr>\n",
       "    <tr>\n",
       "      <th>1</th>\n",
       "      <td>ARCN1_c_118438478.24</td>\n",
       "      <td>0.012341</td>\n",
       "      <td>cccttggagaaCCAcctTGTTGGATCTGTTTTGCTCGtaatagGTT...</td>\n",
       "      <td>ARCN1</td>\n",
       "      <td>118438478</td>\n",
       "      <td>24</td>\n",
       "      <td>118438477</td>\n",
       "    </tr>\n",
       "    <tr>\n",
       "      <th>2</th>\n",
       "      <td>ARCN1_c_118438478.26</td>\n",
       "      <td>0.029811</td>\n",
       "      <td>cccttggagaaCCAcctTGTTGGTGATCTGTTTTGCTCGtaatagG...</td>\n",
       "      <td>ARCN1</td>\n",
       "      <td>118438478</td>\n",
       "      <td>26</td>\n",
       "      <td>118438477</td>\n",
       "    </tr>\n",
       "    <tr>\n",
       "      <th>3</th>\n",
       "      <td>ARCN1_c_118438508.26</td>\n",
       "      <td>0.022175</td>\n",
       "      <td>cccttggagaaCCAcctTGTTGgtaatgtgcagtacttactatgtG...</td>\n",
       "      <td>ARCN1</td>\n",
       "      <td>118438508</td>\n",
       "      <td>26</td>\n",
       "      <td>118438507</td>\n",
       "    </tr>\n",
       "    <tr>\n",
       "      <th>4</th>\n",
       "      <td>ARCN1_c_118438682.27</td>\n",
       "      <td>-0.031622</td>\n",
       "      <td>cccttggagaaCCAcctTGTTGgcgctgaaaatagcagccaaacac...</td>\n",
       "      <td>ARCN1</td>\n",
       "      <td>118438682</td>\n",
       "      <td>27</td>\n",
       "      <td>118438681</td>\n",
       "    </tr>\n",
       "    <tr>\n",
       "      <th>...</th>\n",
       "      <td>...</td>\n",
       "      <td>...</td>\n",
       "      <td>...</td>\n",
       "      <td>...</td>\n",
       "      <td>...</td>\n",
       "      <td>...</td>\n",
       "      <td>...</td>\n",
       "    </tr>\n",
       "    <tr>\n",
       "      <th>53668</th>\n",
       "      <td>YIPF5_w_143554761.28</td>\n",
       "      <td>-0.001537</td>\n",
       "      <td>cccttggagaaCCAcctTGTTGgggcattacatggcacctacctca...</td>\n",
       "      <td>YIPF5</td>\n",
       "      <td>143554761</td>\n",
       "      <td>28</td>\n",
       "      <td>143554760</td>\n",
       "    </tr>\n",
       "    <tr>\n",
       "      <th>53669</th>\n",
       "      <td>YIPF5_w_143554879.28</td>\n",
       "      <td>0.024536</td>\n",
       "      <td>cccttggagaaCCAcctTGTTGgcctactgctttagcataaggact...</td>\n",
       "      <td>YIPF5</td>\n",
       "      <td>143554879</td>\n",
       "      <td>28</td>\n",
       "      <td>143554878</td>\n",
       "    </tr>\n",
       "    <tr>\n",
       "      <th>53670</th>\n",
       "      <td>YIPF5_w_143554997.27</td>\n",
       "      <td>-0.050816</td>\n",
       "      <td>cccttggagaaCCAcctTGTTGgtctagttgcaattttaatttata...</td>\n",
       "      <td>YIPF5</td>\n",
       "      <td>143554997</td>\n",
       "      <td>27</td>\n",
       "      <td>143554996</td>\n",
       "    </tr>\n",
       "    <tr>\n",
       "      <th>53671</th>\n",
       "      <td>YIPF5_w_143555197.28</td>\n",
       "      <td>-0.062784</td>\n",
       "      <td>cccttggagaaCCAcctTGTTGgtacagaatgtaaatccatgcagt...</td>\n",
       "      <td>YIPF5</td>\n",
       "      <td>143555197</td>\n",
       "      <td>28</td>\n",
       "      <td>143555196</td>\n",
       "    </tr>\n",
       "    <tr>\n",
       "      <th>53672</th>\n",
       "      <td>YIPF5_w_143555235.28</td>\n",
       "      <td>-0.004076</td>\n",
       "      <td>cccttggagaaCCAcctTGTTGgtttaaataaattactgaagctcc...</td>\n",
       "      <td>YIPF5</td>\n",
       "      <td>143555235</td>\n",
       "      <td>28</td>\n",
       "      <td>143555234</td>\n",
       "    </tr>\n",
       "  </tbody>\n",
       "</table>\n",
       "<p>52926 rows × 7 columns</p>\n",
       "</div>"
      ],
      "text/plain": [
       "                   guide id dCas9-KRAB_rho_ave_LG2_LG_MH2_MH  \\\n",
       "0      ARCN1_c_118438373.25                        -0.120761   \n",
       "1      ARCN1_c_118438478.24                         0.012341   \n",
       "2      ARCN1_c_118438478.26                         0.029811   \n",
       "3      ARCN1_c_118438508.26                         0.022175   \n",
       "4      ARCN1_c_118438682.27                        -0.031622   \n",
       "...                     ...                              ...   \n",
       "53668  YIPF5_w_143554761.28                        -0.001537   \n",
       "53669  YIPF5_w_143554879.28                         0.024536   \n",
       "53670  YIPF5_w_143554997.27                        -0.050816   \n",
       "53671  YIPF5_w_143555197.28                        -0.062784   \n",
       "53672  YIPF5_w_143555235.28                        -0.004076   \n",
       "\n",
       "                                                   oligo gene symbol  \\\n",
       "0      cccttggagaaCCAcctTGTTGGAAAACCTACCAGAGGTAAACAGT...       ARCN1   \n",
       "1      cccttggagaaCCAcctTGTTGGATCTGTTTTGCTCGtaatagGTT...       ARCN1   \n",
       "2      cccttggagaaCCAcctTGTTGGTGATCTGTTTTGCTCGtaatagG...       ARCN1   \n",
       "3      cccttggagaaCCAcctTGTTGgtaatgtgcagtacttactatgtG...       ARCN1   \n",
       "4      cccttggagaaCCAcctTGTTGgcgctgaaaatagcagccaaacac...       ARCN1   \n",
       "...                                                  ...         ...   \n",
       "53668  cccttggagaaCCAcctTGTTGgggcattacatggcacctacctca...       YIPF5   \n",
       "53669  cccttggagaaCCAcctTGTTGgcctactgctttagcataaggact...       YIPF5   \n",
       "53670  cccttggagaaCCAcctTGTTGgtctagttgcaattttaatttata...       YIPF5   \n",
       "53671  cccttggagaaCCAcctTGTTGgtacagaatgtaaatccatgcagt...       YIPF5   \n",
       "53672  cccttggagaaCCAcctTGTTGgtttaaataaattactgaagctcc...       YIPF5   \n",
       "\n",
       "       pam coordinate (hg19)  length (including pam)  \\\n",
       "0                  118438373                      25   \n",
       "1                  118438478                      24   \n",
       "2                  118438478                      26   \n",
       "3                  118438508                      26   \n",
       "4                  118438682                      27   \n",
       "...                      ...                     ...   \n",
       "53668              143554761                      28   \n",
       "53669              143554879                      28   \n",
       "53670              143554997                      27   \n",
       "53671              143555197                      28   \n",
       "53672              143555235                      28   \n",
       "\n",
       "       pam coordinate (hg19) - 1  \n",
       "0                      118438372  \n",
       "1                      118438477  \n",
       "2                      118438477  \n",
       "3                      118438507  \n",
       "4                      118438681  \n",
       "...                          ...  \n",
       "53668                  143554760  \n",
       "53669                  143554878  \n",
       "53670                  143554996  \n",
       "53671                  143555196  \n",
       "53672                  143555234  \n",
       "\n",
       "[52926 rows x 7 columns]"
      ]
     },
     "execution_count": 15,
     "metadata": {},
     "output_type": "execute_result"
    }
   ],
   "source": [
    "tiling_crispri[\"pam coordinate (hg19)\"] = tiling_crispri[\"pam coordinate (hg19)\"].astype(np.int64)\n",
    "tiling_crispri[\"length (including pam)\"] = tiling_crispri[\"length (including pam)\"].astype(np.int64)\n",
    "\n",
    "# The PAM site from the KO data seems to be off by 1 from the CRISPRi data\n",
    "tiling_crispri[\"pam coordinate (hg19) - 1\"] = tiling_crispri[\"pam coordinate (hg19)\"] - 1\n",
    "tiling_crispri\n"
   ]
  },
  {
   "cell_type": "code",
   "execution_count": 16,
   "id": "20c6f3c5",
   "metadata": {},
   "outputs": [
    {
     "data": {
      "text/plain": [
       "False"
      ]
     },
     "execution_count": 16,
     "metadata": {},
     "output_type": "execute_result"
    }
   ],
   "source": [
    "# check if theres any duplicates on the columns we are going to merge on \n",
    "tiling_crispri[['gene symbol', 'length (including pam)', 'pam coordinate (hg19) - 1']].duplicated().any()"
   ]
  },
  {
   "cell_type": "code",
   "execution_count": 17,
   "id": "19afa564",
   "metadata": {},
   "outputs": [
    {
     "data": {
      "text/plain": [
       "False"
      ]
     },
     "execution_count": 17,
     "metadata": {},
     "output_type": "execute_result"
    }
   ],
   "source": [
    "new_tiling[['gene symbol', 'sgRNA length (including PAM)','PAM genomic coordinate [hg19]']].duplicated().any()"
   ]
  },
  {
   "cell_type": "code",
   "execution_count": 18,
   "id": "12f6c3b1",
   "metadata": {},
   "outputs": [],
   "source": [
    "merged_tiling = pd.merge(tiling_crispri, new_tiling, \n",
    "         left_on = ['gene symbol', 'length (including pam)', 'pam coordinate (hg19) - 1'],\n",
    "         right_on = ['gene symbol', 'sgRNA length (including PAM)','PAM genomic coordinate [hg19]'])\n"
   ]
  },
  {
   "cell_type": "code",
   "execution_count": 19,
   "id": "258e5e22",
   "metadata": {},
   "outputs": [
    {
     "data": {
      "text/plain": [
       "cccttggagaaCCAcctTGTTGGAAAACCTACCAGAGGTAAACAGTTTAAGAGCTATGCTGGAAACAGCATAGCAAGTTTAAATAAGGCTAGTCCGTTATCAACTTGAAAAAGTGGCACCGAGTCGGTGCTTTTTTTagtcCtcgagcgtcgaggatccattagg    1\n",
       "cccttggagaaCCAcctTGTTGGATATCATATTTTAGGTATTTACTGTTTAAGAGCTATGCTGGAAACAGCATAGCAAGTTTAAATAAGGCTAGTCCGTTATCAACTTGAAAAAGTGGCACCGAGTCGGTGCTTTTTTTagCtcgagcgtcgaggatccattagg    1\n",
       "cccttggagaaCCAcctTGTTGgtggcaTAATGAAATTTTTCATcaGTTTAAGAGCTATGCTGGAAACAGCATAGCAAGTTTAAATAAGGCTAGTCCGTTATCAACTTGAAAAAGTGGCACCGAGTCGGTGCTTTTTTTagCtcgagcgtcgaggatccattagg    1\n",
       "cccttggagaaCCAcctTGTTGggactgttctgtatattgtgtGTTTAAGAGCTATGCTGGAAACAGCATAGCAAGTTTAAATAAGGCTAGTCCGTTATCAACTTGAAAAAGTGGCACCGAGTCGGTGCTTTTTTTagtcaCtcgagcgtcgaggatccattagg    1\n",
       "cccttggagaaCCAcctTGTTGgggactgttctgtatattgtgtGTTTAAGAGCTATGCTGGAAACAGCATAGCAAGTTTAAATAAGGCTAGTCCGTTATCAACTTGAAAAAGTGGCACCGAGTCGGTGCTTTTTTTagtcCtcgagcgtcgaggatccattagg    1\n",
       "                                                                                                                                                                        ..\n",
       "cccttggagaaCCAcctTGTTGGTAAACCCCCATGATTTGACTCCACGTTTAAGAGCTATGCTGGAAACAGCATAGCAAGTTTAAATAAGGCTAGTCCGTTATCAACTTGAAAAAGTGGCACCGAGTCGGTGCTTTTTTTaCtcgagcgtcgaggatccattagg    1\n",
       "cccttggagaaCCAcctTGTTGGCTGCCACTAGGCTGTGCGAGTTTAAGAGCTATGCTGGAAACAGCATAGCAAGTTTAAATAAGGCTAGTCCGTTATCAACTTGAAAAAGTGGCACCGAGTCGGTGCTTTTTTTagtcagCtcgagcgtcgaggatccattagg    1\n",
       "cccttggagaaCCAcctTGTTGGATCCGCTGCCACTAGGCTGTGCGAGTTTAAGAGCTATGCTGGAAACAGCATAGCAAGTTTAAATAAGGCTAGTCCGTTATCAACTTGAAAAAGTGGCACCGAGTCGGTGCTTTTTTTaCtcgagcgtcgaggatccattagg    1\n",
       "cccttggagaaCCAcctTGTTGGCTGTGCGAAGGCATTTACCTCCCGTTTAAGAGCTATGCTGGAAACAGCATAGCAAGTTTAAATAAGGCTAGTCCGTTATCAACTTGAAAAAGTGGCACCGAGTCGGTGCTTTTTTTagCtcgagcgtcgaggatccattagg    1\n",
       "cccttggagaaCCAcctTGTTGgtttaaataaattactgaagctccaGTTTAAGAGCTATGCTGGAAACAGCATAGCAAGTTTAAATAAGGCTAGTCCGTTATCAACTTGAAAAAGTGGCACCGAGTCGGTGCTTTTTTTaCtcgagcgtcgaggatccattagg    1\n",
       "Name: oligo, Length: 51420, dtype: int64"
      ]
     },
     "execution_count": 19,
     "metadata": {},
     "output_type": "execute_result"
    }
   ],
   "source": [
    "# check unique oligo; all oligos are unique\n",
    "merged_tiling['oligo'].value_counts()"
   ]
  },
  {
   "cell_type": "code",
   "execution_count": 20,
   "id": "6efbf92e",
   "metadata": {},
   "outputs": [
    {
     "data": {
      "text/plain": [
       "GAAAACCTACCAGAGGTAAACA       1\n",
       "GATATCATATTTTAGGTATTTACT     1\n",
       "gtggcaTAATGAAATTTTTCATca     1\n",
       "ggactgttctgtatattgtgt        1\n",
       "gggactgttctgtatattgtgt       1\n",
       "                            ..\n",
       "GTAAACCCCCATGATTTGACTCCAC    1\n",
       "GCTGCCACTAGGCTGTGCGA         1\n",
       "GATCCGCTGCCACTAGGCTGTGCGA    1\n",
       "GCTGTGCGAAGGCATTTACCTCCC     1\n",
       "gtttaaataaattactgaagctcca    1\n",
       "Name: sgRNA sequence, Length: 51420, dtype: int64"
      ]
     },
     "execution_count": 20,
     "metadata": {},
     "output_type": "execute_result"
    }
   ],
   "source": [
    "# check unique sgRNA sequence; all sgRNA sequence are unique\n",
    "merged_tiling['sgRNA sequence'].value_counts()"
   ]
  },
  {
   "cell_type": "code",
   "execution_count": 21,
   "id": "2ea709cd",
   "metadata": {},
   "outputs": [
    {
     "data": {
      "text/plain": [
       "51420"
      ]
     },
     "execution_count": 21,
     "metadata": {},
     "output_type": "execute_result"
    }
   ],
   "source": [
    "# number of overlap between merged ko and crispri\n",
    "# looks like all the rows have ko and crispri overlapped yayy!!\n",
    "\n",
    "sum(merged_tiling.apply(lambda row: row['sgRNA sequence'] in row['oligo'],\n",
    "                     axis=1))"
   ]
  },
  {
   "cell_type": "code",
   "execution_count": 22,
   "id": "1ca62765",
   "metadata": {},
   "outputs": [],
   "source": [
    "#import dany's annotation of context seq for CRSIPRko\n",
    "\n",
    "#2023/CRISPRiAnalysis /Dany/Horlbeck KO Ricin Tiling\n",
    "# Horlbeck-KO.ipynb to get the coordinates \n",
    "# RS3 Scores for Horlbeck tiling guides.ipynb use the coordinate file from Horlbeck-KO.ipynb as input to get context seq\n",
    "dany_context_seq = pd.read_csv('/Users/fzheng/Library/CloudStorage/GoogleDrive-fzheng@broadinstitute.org/Shared drives/GPP Cloud /R&D/People/Fengyi/rule_set/crispri/data/2023/cleaned_crispri_datasets/temp_data_clean/Gilbert 2014/Dany-horlbeck-tiling-with-rs3.csv')\n"
   ]
  },
  {
   "cell_type": "code",
   "execution_count": 23,
   "id": "d7ec6744",
   "metadata": {},
   "outputs": [
    {
     "data": {
      "text/html": [
       "<div>\n",
       "<style scoped>\n",
       "    .dataframe tbody tr th:only-of-type {\n",
       "        vertical-align: middle;\n",
       "    }\n",
       "\n",
       "    .dataframe tbody tr th {\n",
       "        vertical-align: top;\n",
       "    }\n",
       "\n",
       "    .dataframe thead th {\n",
       "        text-align: right;\n",
       "    }\n",
       "</style>\n",
       "<table border=\"1\" class=\"dataframe\">\n",
       "  <thead>\n",
       "    <tr style=\"text-align: right;\">\n",
       "      <th></th>\n",
       "      <th>gene symbol</th>\n",
       "      <th>chromosome</th>\n",
       "      <th>strand targeted</th>\n",
       "      <th>hg38_coord</th>\n",
       "      <th>context seq</th>\n",
       "      <th>Position relative to FANTOM5 TSS</th>\n",
       "      <th>absolute z-score</th>\n",
       "      <th>rs3 score</th>\n",
       "    </tr>\n",
       "  </thead>\n",
       "  <tbody>\n",
       "    <tr>\n",
       "      <th>0</th>\n",
       "      <td>ARCN1</td>\n",
       "      <td>chr11</td>\n",
       "      <td>+</td>\n",
       "      <td>118567638.0</td>\n",
       "      <td>GCACTTTCCTTGTTTACCTCTGGTAGGTTT</td>\n",
       "      <td>-4793.0</td>\n",
       "      <td>0.409907</td>\n",
       "      <td>-0.067121</td>\n",
       "    </tr>\n",
       "    <tr>\n",
       "      <th>1</th>\n",
       "      <td>ARCN1</td>\n",
       "      <td>chr11</td>\n",
       "      <td>+</td>\n",
       "      <td>118567850.0</td>\n",
       "      <td>ATTGGCAGTAACATCTATCTCATAAGGTTG</td>\n",
       "      <td>-4581.0</td>\n",
       "      <td>0.694579</td>\n",
       "      <td>-0.554137</td>\n",
       "    </tr>\n",
       "    <tr>\n",
       "      <th>2</th>\n",
       "      <td>ARCN1</td>\n",
       "      <td>chr11</td>\n",
       "      <td>+</td>\n",
       "      <td>118567997.0</td>\n",
       "      <td>TCCCATAGTGGCAGTATCTTATAATGGTTA</td>\n",
       "      <td>-4434.0</td>\n",
       "      <td>0.566546</td>\n",
       "      <td>-0.090399</td>\n",
       "    </tr>\n",
       "    <tr>\n",
       "      <th>3</th>\n",
       "      <td>ARCN1</td>\n",
       "      <td>chr11</td>\n",
       "      <td>+</td>\n",
       "      <td>118568013.0</td>\n",
       "      <td>CATGCTTCTTGAGGAGTCCCATAGTGGCAG</td>\n",
       "      <td>-4418.0</td>\n",
       "      <td>0.997859</td>\n",
       "      <td>0.220064</td>\n",
       "    </tr>\n",
       "    <tr>\n",
       "      <th>4</th>\n",
       "      <td>ARCN1</td>\n",
       "      <td>chr11</td>\n",
       "      <td>+</td>\n",
       "      <td>118568026.0</td>\n",
       "      <td>GCAACCCTGTAAGCATGCTTCTTGAGGAGT</td>\n",
       "      <td>-4405.0</td>\n",
       "      <td>0.386895</td>\n",
       "      <td>-0.563347</td>\n",
       "    </tr>\n",
       "  </tbody>\n",
       "</table>\n",
       "</div>"
      ],
      "text/plain": [
       "  gene symbol chromosome strand targeted   hg38_coord  \\\n",
       "0       ARCN1      chr11               +  118567638.0   \n",
       "1       ARCN1      chr11               +  118567850.0   \n",
       "2       ARCN1      chr11               +  118567997.0   \n",
       "3       ARCN1      chr11               +  118568013.0   \n",
       "4       ARCN1      chr11               +  118568026.0   \n",
       "\n",
       "                      context seq  Position relative to FANTOM5 TSS  \\\n",
       "0  GCACTTTCCTTGTTTACCTCTGGTAGGTTT                           -4793.0   \n",
       "1  ATTGGCAGTAACATCTATCTCATAAGGTTG                           -4581.0   \n",
       "2  TCCCATAGTGGCAGTATCTTATAATGGTTA                           -4434.0   \n",
       "3  CATGCTTCTTGAGGAGTCCCATAGTGGCAG                           -4418.0   \n",
       "4  GCAACCCTGTAAGCATGCTTCTTGAGGAGT                           -4405.0   \n",
       "\n",
       "   absolute z-score  rs3 score  \n",
       "0          0.409907  -0.067121  \n",
       "1          0.694579  -0.554137  \n",
       "2          0.566546  -0.090399  \n",
       "3          0.997859   0.220064  \n",
       "4          0.386895  -0.563347  "
      ]
     },
     "execution_count": 23,
     "metadata": {},
     "output_type": "execute_result"
    }
   ],
   "source": [
    "dany_context_seq.head()"
   ]
  },
  {
   "cell_type": "code",
   "execution_count": 24,
   "id": "a18c1ab4",
   "metadata": {},
   "outputs": [
    {
     "data": {
      "text/plain": [
       "29339"
      ]
     },
     "execution_count": 24,
     "metadata": {},
     "output_type": "execute_result"
    }
   ],
   "source": [
    "len(dany_context_seq)"
   ]
  },
  {
   "cell_type": "code",
   "execution_count": 25,
   "id": "23d7d8ba",
   "metadata": {},
   "outputs": [
    {
     "data": {
      "text/plain": [
       "gene symbol                         48\n",
       "chromosome                          16\n",
       "strand targeted                      2\n",
       "PAM genomic coordinate [hg38]    29376\n",
       "dtype: int64"
      ]
     },
     "execution_count": 25,
     "metadata": {},
     "output_type": "execute_result"
    }
   ],
   "source": [
    "merged_tiling[['gene symbol', 'chromosome', 'strand targeted','PAM genomic coordinate [hg38]']].nunique()"
   ]
  },
  {
   "cell_type": "markdown",
   "id": "f4a46603",
   "metadata": {},
   "source": [
    "in the current cleaned Gilbert Rising datasets there are guides with 25 nts and its not completely in the context sequence because 25+6 = 31 and larger than 30 nts context sequence length. Gilbert length is gene_c/w_coord.(length + 3). So need to remember to reive guide id ends with 28"
   ]
  },
  {
   "cell_type": "code",
   "execution_count": 26,
   "id": "c04ab9dd",
   "metadata": {},
   "outputs": [],
   "source": [
    "merged_tiling['length'] = merged_tiling['guide id'].str[-2:]\n",
    "merged_tiling = merged_tiling[merged_tiling['length'] != '28']"
   ]
  },
  {
   "cell_type": "code",
   "execution_count": 27,
   "id": "a9d4c6f2",
   "metadata": {},
   "outputs": [
    {
     "data": {
      "text/plain": [
       "True"
      ]
     },
     "execution_count": 27,
     "metadata": {},
     "output_type": "execute_result"
    }
   ],
   "source": [
    "# check if the dataframe im merging has duplicates\n",
    "merged_tiling[['gene symbol', 'chromosome', 'strand targeted','PAM genomic coordinate [hg38]']].duplicated().any()"
   ]
  },
  {
   "cell_type": "code",
   "execution_count": 28,
   "id": "59d1b058",
   "metadata": {},
   "outputs": [
    {
     "data": {
      "text/plain": [
       "False"
      ]
     },
     "execution_count": 28,
     "metadata": {},
     "output_type": "execute_result"
    }
   ],
   "source": [
    "# check if the dataframe im merging has duplicates\n",
    "dany_context_seq.rename(columns={'hg38_coord':'PAM genomic coordinate [hg38]'})[['gene symbol', 'chromosome', 'strand targeted','PAM genomic coordinate [hg38]']].duplicated().any()\n"
   ]
  },
  {
   "cell_type": "code",
   "execution_count": 29,
   "id": "162a558c",
   "metadata": {},
   "outputs": [],
   "source": [
    "merged_tiling_w_context = pd.merge(merged_tiling[['guide id', 'dCas9-KRAB_rho_ave_LG2_LG_MH2_MH', 'oligo', 'gene symbol', 'chromosome',\n",
    "       'strand targeted', 'sgRNA sequence','Target site MNase signal',\n",
    "       'Doench et al. Nat. Biotech 2014 sgRNA sequence score',\n",
    "       'is targeting CDS?','PAM genomic coordinate [hg38]']],\n",
    "         dany_context_seq.rename(columns={'hg38_coord':'PAM genomic coordinate [hg38]'}),\n",
    "         on = ['gene symbol', 'chromosome', 'strand targeted','PAM genomic coordinate [hg38]'],\n",
    "                     how = 'inner')"
   ]
  },
  {
   "cell_type": "code",
   "execution_count": 30,
   "id": "9ca3e8f8",
   "metadata": {},
   "outputs": [
    {
     "data": {
      "text/plain": [
       "GAAAACCTACCAGAGGTAAACA      1\n",
       "ggcttttcccagctagaatacaag    1\n",
       "gcagaaggttcactgggagccag     1\n",
       "gcagaaggttcactgggagccagg    1\n",
       "gttcactgggagccagggggatga    1\n",
       "                           ..\n",
       "GCGGAGCTGTCTCGTCGCATTCC     1\n",
       "GGCGGAGCTGTCTCGTCGCATTCC    1\n",
       "GCGGGCTTTCGTCTCGGGAGG       1\n",
       "GGCGGGCTTTCGTCTCGGGAGG      1\n",
       "gtctagttgcaattttaatttata    1\n",
       "Name: sgRNA sequence, Length: 39251, dtype: int64"
      ]
     },
     "execution_count": 30,
     "metadata": {},
     "output_type": "execute_result"
    }
   ],
   "source": [
    "merged_tiling_w_context['sgRNA sequence'].value_counts()"
   ]
  },
  {
   "cell_type": "code",
   "execution_count": 31,
   "id": "88fe5962",
   "metadata": {},
   "outputs": [
    {
     "data": {
      "text/plain": [
       "GGGGAGGGTGGCGCGGGTAGAAACCGGCTT    5\n",
       "GGGTGGTTACGGCGTGTGAGATTGGGGCTG    5\n",
       "GGGAGGTAACGACTGCCAGAACCTGGGTGT    5\n",
       "GGGTGGCGTGCGCATGGTGTCGCGGGGAGG    5\n",
       "GGGGGTGGCGTGCGCATGGTGTCGCGGGGA    5\n",
       "                                 ..\n",
       "AGTCACGTGCAGAGGGGATGCTTTAGGCGT    1\n",
       "GAACATGCTCAGTCACGTGCAGAGGGGATG    1\n",
       "AGAACATGCTCAGTCACGTGCAGAGGGGAT    1\n",
       "CTGAATATTTATTGCAACCTGCGGTGGCTG    1\n",
       "GTCTAGTTGCAATTTTAATTTATATGGATT    1\n",
       "Name: context seq, Length: 24911, dtype: int64"
      ]
     },
     "execution_count": 31,
     "metadata": {},
     "output_type": "execute_result"
    }
   ],
   "source": [
    "merged_tiling_w_context['context seq'].value_counts()"
   ]
  },
  {
   "cell_type": "code",
   "execution_count": 32,
   "id": "18984575",
   "metadata": {},
   "outputs": [],
   "source": [
    "cleaned_df = merged_tiling_w_context[['guide id','gene symbol','chromosome','strand targeted','PAM genomic coordinate [hg38]', 'sgRNA sequence', \n",
    "            'context seq','dCas9-KRAB_rho_ave_LG2_LG_MH2_MH','Position relative to FANTOM5 TSS',\n",
    "            'Target site MNase signal','is targeting CDS?','Doench et al. Nat. Biotech 2014 sgRNA sequence score',\n",
    "        'rs3 score']]"
   ]
  },
  {
   "cell_type": "code",
   "execution_count": 33,
   "id": "a070e80d",
   "metadata": {},
   "outputs": [
    {
     "data": {
      "text/plain": [
       "GGGGAGGGTGGCGCGGGTAGAAACCGGCTT    5\n",
       "GGGTGGTTACGGCGTGTGAGATTGGGGCTG    5\n",
       "GGGAGGTAACGACTGCCAGAACCTGGGTGT    5\n",
       "GGGTGGCGTGCGCATGGTGTCGCGGGGAGG    5\n",
       "GGGGGTGGCGTGCGCATGGTGTCGCGGGGA    5\n",
       "                                 ..\n",
       "AGTCACGTGCAGAGGGGATGCTTTAGGCGT    1\n",
       "GAACATGCTCAGTCACGTGCAGAGGGGATG    1\n",
       "AGAACATGCTCAGTCACGTGCAGAGGGGAT    1\n",
       "CTGAATATTTATTGCAACCTGCGGTGGCTG    1\n",
       "GTCTAGTTGCAATTTTAATTTATATGGATT    1\n",
       "Name: context seq, Length: 24911, dtype: int64"
      ]
     },
     "execution_count": 33,
     "metadata": {},
     "output_type": "execute_result"
    }
   ],
   "source": [
    "cleaned_df['context seq'].value_counts()"
   ]
  },
  {
   "cell_type": "code",
   "execution_count": 34,
   "id": "e8b56845",
   "metadata": {},
   "outputs": [],
   "source": [
    "dupliated_df_same_gene = cleaned_df[cleaned_df[['context seq','gene symbol']].duplicated(keep = False)]"
   ]
  },
  {
   "cell_type": "code",
   "execution_count": 35,
   "id": "9fc0f43a",
   "metadata": {},
   "outputs": [
    {
     "data": {
      "text/html": [
       "<div>\n",
       "<style scoped>\n",
       "    .dataframe tbody tr th:only-of-type {\n",
       "        vertical-align: middle;\n",
       "    }\n",
       "\n",
       "    .dataframe tbody tr th {\n",
       "        vertical-align: top;\n",
       "    }\n",
       "\n",
       "    .dataframe thead th {\n",
       "        text-align: right;\n",
       "    }\n",
       "</style>\n",
       "<table border=\"1\" class=\"dataframe\">\n",
       "  <thead>\n",
       "    <tr style=\"text-align: right;\">\n",
       "      <th></th>\n",
       "      <th>guide id</th>\n",
       "      <th>gene symbol</th>\n",
       "      <th>chromosome</th>\n",
       "      <th>strand targeted</th>\n",
       "      <th>PAM genomic coordinate [hg38]</th>\n",
       "      <th>sgRNA sequence</th>\n",
       "      <th>context seq</th>\n",
       "      <th>dCas9-KRAB_rho_ave_LG2_LG_MH2_MH</th>\n",
       "      <th>Position relative to FANTOM5 TSS</th>\n",
       "      <th>Target site MNase signal</th>\n",
       "      <th>is targeting CDS?</th>\n",
       "      <th>Doench et al. Nat. Biotech 2014 sgRNA sequence score</th>\n",
       "      <th>rs3 score</th>\n",
       "    </tr>\n",
       "  </thead>\n",
       "  <tbody>\n",
       "    <tr>\n",
       "      <th>26297</th>\n",
       "      <td>SEC23B_c_18488597.24</td>\n",
       "      <td>SEC23B</td>\n",
       "      <td>chr20</td>\n",
       "      <td>-</td>\n",
       "      <td>18507952</td>\n",
       "      <td>GAGCCTGCTTGTTGCAGCTGT</td>\n",
       "      <td>CCGGAGCCTGCTTGTTGCAGCTGTGGGTGA</td>\n",
       "      <td>0.806408</td>\n",
       "      <td>3.0</td>\n",
       "      <td>0.0</td>\n",
       "      <td>False</td>\n",
       "      <td>0.069494</td>\n",
       "      <td>-0.283489</td>\n",
       "    </tr>\n",
       "    <tr>\n",
       "      <th>26298</th>\n",
       "      <td>SEC23B_c_18488597.25</td>\n",
       "      <td>SEC23B</td>\n",
       "      <td>chr20</td>\n",
       "      <td>-</td>\n",
       "      <td>18507952</td>\n",
       "      <td>GGAGCCTGCTTGTTGCAGCTGT</td>\n",
       "      <td>CCGGAGCCTGCTTGTTGCAGCTGTGGGTGA</td>\n",
       "      <td>0.817704</td>\n",
       "      <td>3.0</td>\n",
       "      <td>0.0</td>\n",
       "      <td>False</td>\n",
       "      <td>0.069494</td>\n",
       "      <td>-0.283489</td>\n",
       "    </tr>\n",
       "  </tbody>\n",
       "</table>\n",
       "</div>"
      ],
      "text/plain": [
       "                   guide id gene symbol chromosome strand targeted  \\\n",
       "26297  SEC23B_c_18488597.24      SEC23B      chr20               -   \n",
       "26298  SEC23B_c_18488597.25      SEC23B      chr20               -   \n",
       "\n",
       "       PAM genomic coordinate [hg38]          sgRNA sequence  \\\n",
       "26297                       18507952   GAGCCTGCTTGTTGCAGCTGT   \n",
       "26298                       18507952  GGAGCCTGCTTGTTGCAGCTGT   \n",
       "\n",
       "                          context seq dCas9-KRAB_rho_ave_LG2_LG_MH2_MH  \\\n",
       "26297  CCGGAGCCTGCTTGTTGCAGCTGTGGGTGA                         0.806408   \n",
       "26298  CCGGAGCCTGCTTGTTGCAGCTGTGGGTGA                         0.817704   \n",
       "\n",
       "       Position relative to FANTOM5 TSS  Target site MNase signal  \\\n",
       "26297                               3.0                       0.0   \n",
       "26298                               3.0                       0.0   \n",
       "\n",
       "       is targeting CDS?  \\\n",
       "26297              False   \n",
       "26298              False   \n",
       "\n",
       "       Doench et al. Nat. Biotech 2014 sgRNA sequence score  rs3 score  \n",
       "26297                                           0.069494     -0.283489  \n",
       "26298                                           0.069494     -0.283489  "
      ]
     },
     "execution_count": 35,
     "metadata": {},
     "output_type": "execute_result"
    }
   ],
   "source": [
    "dupliated_df_same_gene[dupliated_df_same_gene['context seq'] == 'CCGGAGCCTGCTTGTTGCAGCTGTGGGTGA']"
   ]
  },
  {
   "cell_type": "code",
   "execution_count": 36,
   "id": "3cd95d53",
   "metadata": {},
   "outputs": [
    {
     "data": {
      "text/plain": [
       "True"
      ]
     },
     "execution_count": 36,
     "metadata": {},
     "output_type": "execute_result"
    }
   ],
   "source": [
    "len(cleaned_df[cleaned_df[['context seq']].duplicated(keep = False)]) == len(dupliated_df_same_gene)\n",
    "# all the duplicated seq are within gene"
   ]
  },
  {
   "cell_type": "code",
   "execution_count": 37,
   "id": "5f1b953a",
   "metadata": {},
   "outputs": [],
   "source": [
    "# if the duplicated context seq are within the same gene then i take the average rho\n",
    "for seq in dupliated_df_same_gene['context seq'].unique():\n",
    "    seq_df = cleaned_df[cleaned_df['context seq'] == seq]\n",
    "    if len(set(seq_df['gene symbol'])) == 1:\n",
    "        cleaned_df.loc[seq_df.index,'dCas9-KRAB_rho_ave_LG2_LG_MH2_MH'] = seq_df['dCas9-KRAB_rho_ave_LG2_LG_MH2_MH'].mean()\n",
    "        "
   ]
  },
  {
   "cell_type": "code",
   "execution_count": 38,
   "id": "f8fbc6e7",
   "metadata": {},
   "outputs": [],
   "source": [
    "cleaned_df = cleaned_df.drop_duplicates(['gene symbol','context seq','dCas9-KRAB_rho_ave_LG2_LG_MH2_MH'], keep = 'first').copy()"
   ]
  },
  {
   "cell_type": "code",
   "execution_count": 39,
   "id": "615f0d70",
   "metadata": {},
   "outputs": [
    {
     "data": {
      "text/html": [
       "<div>\n",
       "<style scoped>\n",
       "    .dataframe tbody tr th:only-of-type {\n",
       "        vertical-align: middle;\n",
       "    }\n",
       "\n",
       "    .dataframe tbody tr th {\n",
       "        vertical-align: top;\n",
       "    }\n",
       "\n",
       "    .dataframe thead th {\n",
       "        text-align: right;\n",
       "    }\n",
       "</style>\n",
       "<table border=\"1\" class=\"dataframe\">\n",
       "  <thead>\n",
       "    <tr style=\"text-align: right;\">\n",
       "      <th></th>\n",
       "      <th>guide id</th>\n",
       "      <th>gene symbol</th>\n",
       "      <th>chromosome</th>\n",
       "      <th>strand targeted</th>\n",
       "      <th>PAM genomic coordinate [hg38]</th>\n",
       "      <th>sgRNA sequence</th>\n",
       "      <th>context seq</th>\n",
       "      <th>dCas9-KRAB_rho_ave_LG2_LG_MH2_MH</th>\n",
       "      <th>Position relative to FANTOM5 TSS</th>\n",
       "      <th>Target site MNase signal</th>\n",
       "      <th>is targeting CDS?</th>\n",
       "      <th>Doench et al. Nat. Biotech 2014 sgRNA sequence score</th>\n",
       "      <th>rs3 score</th>\n",
       "    </tr>\n",
       "  </thead>\n",
       "  <tbody>\n",
       "  </tbody>\n",
       "</table>\n",
       "</div>"
      ],
      "text/plain": [
       "Empty DataFrame\n",
       "Columns: [guide id, gene symbol, chromosome, strand targeted, PAM genomic coordinate [hg38], sgRNA sequence, context seq, dCas9-KRAB_rho_ave_LG2_LG_MH2_MH, Position relative to FANTOM5 TSS, Target site MNase signal, is targeting CDS?, Doench et al. Nat. Biotech 2014 sgRNA sequence score, rs3 score]\n",
       "Index: []"
      ]
     },
     "execution_count": 39,
     "metadata": {},
     "output_type": "execute_result"
    }
   ],
   "source": [
    "# no duplicates\n",
    "cleaned_df[cleaned_df.duplicated()]"
   ]
  },
  {
   "cell_type": "code",
   "execution_count": 40,
   "id": "bbe278b1",
   "metadata": {},
   "outputs": [
    {
     "data": {
      "text/plain": [
       "True"
      ]
     },
     "execution_count": 40,
     "metadata": {},
     "output_type": "execute_result"
    }
   ],
   "source": [
    "cleaned_df['context seq'].nunique() == len(cleaned_df)"
   ]
  },
  {
   "cell_type": "code",
   "execution_count": 41,
   "id": "6d2371d5",
   "metadata": {},
   "outputs": [
    {
     "data": {
      "text/plain": [
       "0"
      ]
     },
     "execution_count": 41,
     "metadata": {},
     "output_type": "execute_result"
    }
   ],
   "source": [
    "sum(cleaned_df['context seq'].str[25:27] != 'GG')"
   ]
  },
  {
   "cell_type": "code",
   "execution_count": 42,
   "id": "357d4cc9",
   "metadata": {},
   "outputs": [],
   "source": [
    "cleaned_df['sgRNA sequence in Context'] = cleaned_df.apply(lambda row: row['sgRNA sequence'].upper() in row['context seq'].upper(),\n",
    "                     axis=1)"
   ]
  },
  {
   "cell_type": "code",
   "execution_count": 43,
   "id": "51d85c66",
   "metadata": {},
   "outputs": [],
   "source": [
    "# only kept rows with sgRNA in Context\n",
    "cleaned_df = cleaned_df[cleaned_df['sgRNA sequence in Context'] == True]"
   ]
  },
  {
   "cell_type": "code",
   "execution_count": 44,
   "id": "74748865",
   "metadata": {},
   "outputs": [
    {
     "data": {
      "text/html": [
       "<div>\n",
       "<style scoped>\n",
       "    .dataframe tbody tr th:only-of-type {\n",
       "        vertical-align: middle;\n",
       "    }\n",
       "\n",
       "    .dataframe tbody tr th {\n",
       "        vertical-align: top;\n",
       "    }\n",
       "\n",
       "    .dataframe thead th {\n",
       "        text-align: right;\n",
       "    }\n",
       "</style>\n",
       "<table border=\"1\" class=\"dataframe\">\n",
       "  <thead>\n",
       "    <tr style=\"text-align: right;\">\n",
       "      <th></th>\n",
       "      <th>guide id</th>\n",
       "      <th>gene symbol</th>\n",
       "      <th>chromosome</th>\n",
       "      <th>strand targeted</th>\n",
       "      <th>PAM genomic coordinate [hg38]</th>\n",
       "      <th>sgRNA sequence</th>\n",
       "      <th>context seq</th>\n",
       "      <th>dCas9-KRAB_rho_ave_LG2_LG_MH2_MH</th>\n",
       "      <th>Position relative to FANTOM5 TSS</th>\n",
       "      <th>Target site MNase signal</th>\n",
       "      <th>is targeting CDS?</th>\n",
       "      <th>Doench et al. Nat. Biotech 2014 sgRNA sequence score</th>\n",
       "      <th>rs3 score</th>\n",
       "      <th>sgRNA sequence in Context</th>\n",
       "    </tr>\n",
       "  </thead>\n",
       "  <tbody>\n",
       "    <tr>\n",
       "      <th>26297</th>\n",
       "      <td>SEC23B_c_18488597.24</td>\n",
       "      <td>SEC23B</td>\n",
       "      <td>chr20</td>\n",
       "      <td>-</td>\n",
       "      <td>18507952</td>\n",
       "      <td>GAGCCTGCTTGTTGCAGCTGT</td>\n",
       "      <td>CCGGAGCCTGCTTGTTGCAGCTGTGGGTGA</td>\n",
       "      <td>0.812056</td>\n",
       "      <td>3.0</td>\n",
       "      <td>0.0</td>\n",
       "      <td>False</td>\n",
       "      <td>0.069494</td>\n",
       "      <td>-0.283489</td>\n",
       "      <td>True</td>\n",
       "    </tr>\n",
       "  </tbody>\n",
       "</table>\n",
       "</div>"
      ],
      "text/plain": [
       "                   guide id gene symbol chromosome strand targeted  \\\n",
       "26297  SEC23B_c_18488597.24      SEC23B      chr20               -   \n",
       "\n",
       "       PAM genomic coordinate [hg38]         sgRNA sequence  \\\n",
       "26297                       18507952  GAGCCTGCTTGTTGCAGCTGT   \n",
       "\n",
       "                          context seq dCas9-KRAB_rho_ave_LG2_LG_MH2_MH  \\\n",
       "26297  CCGGAGCCTGCTTGTTGCAGCTGTGGGTGA                         0.812056   \n",
       "\n",
       "       Position relative to FANTOM5 TSS  Target site MNase signal  \\\n",
       "26297                               3.0                       0.0   \n",
       "\n",
       "       is targeting CDS?  \\\n",
       "26297              False   \n",
       "\n",
       "       Doench et al. Nat. Biotech 2014 sgRNA sequence score  rs3 score  \\\n",
       "26297                                           0.069494     -0.283489   \n",
       "\n",
       "       sgRNA sequence in Context  \n",
       "26297                       True  "
      ]
     },
     "execution_count": 44,
     "metadata": {},
     "output_type": "execute_result"
    }
   ],
   "source": [
    "cleaned_df[cleaned_df['context seq'] == 'CCGGAGCCTGCTTGTTGCAGCTGTGGGTGA']"
   ]
  },
  {
   "cell_type": "code",
   "execution_count": 45,
   "id": "1eed99a5",
   "metadata": {},
   "outputs": [],
   "source": [
    "out_path = '/Users/fzheng/Library/CloudStorage/GoogleDrive-fzheng@broadinstitute.org/Shared drives/GPP Cloud /R&D/People/Fengyi/rule_set/crispri/data/2023/cleaned_crispri_datasets/'"
   ]
  },
  {
   "cell_type": "code",
   "execution_count": 46,
   "id": "115cb2e1",
   "metadata": {},
   "outputs": [],
   "source": [
    "cleaned_df.to_csv(out_path + 'gilbert_2014_cleaned_v3.csv', index = False)"
   ]
  },
  {
   "cell_type": "code",
   "execution_count": 48,
   "id": "c97ff7e1",
   "metadata": {},
   "outputs": [
    {
     "data": {
      "text/html": [
       "<div>\n",
       "<style scoped>\n",
       "    .dataframe tbody tr th:only-of-type {\n",
       "        vertical-align: middle;\n",
       "    }\n",
       "\n",
       "    .dataframe tbody tr th {\n",
       "        vertical-align: top;\n",
       "    }\n",
       "\n",
       "    .dataframe thead th {\n",
       "        text-align: right;\n",
       "    }\n",
       "</style>\n",
       "<table border=\"1\" class=\"dataframe\">\n",
       "  <thead>\n",
       "    <tr style=\"text-align: right;\">\n",
       "      <th></th>\n",
       "      <th>guide id</th>\n",
       "      <th>dCas9-KRAB_rho_ave_LG2_LG_MH2_MH</th>\n",
       "      <th>oligo</th>\n",
       "      <th>gene symbol</th>\n",
       "      <th>chromosome</th>\n",
       "      <th>strand targeted</th>\n",
       "      <th>sgRNA sequence</th>\n",
       "      <th>Target site MNase signal</th>\n",
       "      <th>Doench et al. Nat. Biotech 2014 sgRNA sequence score</th>\n",
       "      <th>is targeting CDS?</th>\n",
       "      <th>PAM genomic coordinate [hg38]</th>\n",
       "      <th>context seq</th>\n",
       "      <th>Position relative to FANTOM5 TSS</th>\n",
       "      <th>absolute z-score</th>\n",
       "      <th>rs3 score</th>\n",
       "    </tr>\n",
       "  </thead>\n",
       "  <tbody>\n",
       "    <tr>\n",
       "      <th>17816</th>\n",
       "      <td>QSOX2_c_139139815.23</td>\n",
       "      <td>0.779203</td>\n",
       "      <td>cccttggagaaCCAcctTGTTGGGTGAAACGGAGCCACCCCTGTTT...</td>\n",
       "      <td>QSOX2</td>\n",
       "      <td>chr9</td>\n",
       "      <td>-</td>\n",
       "      <td>GGTGAAACGGAGCCACCCCT</td>\n",
       "      <td>2.482609</td>\n",
       "      <td>0.602588</td>\n",
       "      <td>False</td>\n",
       "      <td>136247968</td>\n",
       "      <td>GCTCGGTGAAACGGAGCCACCCCTGGGACC</td>\n",
       "      <td>-2166.0</td>\n",
       "      <td>0.390384</td>\n",
       "      <td>0.384896</td>\n",
       "    </tr>\n",
       "    <tr>\n",
       "      <th>17817</th>\n",
       "      <td>QSOX2_c_139139815.27</td>\n",
       "      <td>0.01256</td>\n",
       "      <td>cccttggagaaCCAcctTGTTGGCTCGGTGAAACGGAGCCACCCCT...</td>\n",
       "      <td>QSOX2</td>\n",
       "      <td>chr9</td>\n",
       "      <td>-</td>\n",
       "      <td>GCTCGGTGAAACGGAGCCACCCCT</td>\n",
       "      <td>2.500000</td>\n",
       "      <td>0.602588</td>\n",
       "      <td>False</td>\n",
       "      <td>136247968</td>\n",
       "      <td>GCTCGGTGAAACGGAGCCACCCCTGGGACC</td>\n",
       "      <td>-2166.0</td>\n",
       "      <td>0.390384</td>\n",
       "      <td>0.384896</td>\n",
       "    </tr>\n",
       "  </tbody>\n",
       "</table>\n",
       "</div>"
      ],
      "text/plain": [
       "                   guide id dCas9-KRAB_rho_ave_LG2_LG_MH2_MH  \\\n",
       "17816  QSOX2_c_139139815.23                         0.779203   \n",
       "17817  QSOX2_c_139139815.27                          0.01256   \n",
       "\n",
       "                                                   oligo gene symbol  \\\n",
       "17816  cccttggagaaCCAcctTGTTGGGTGAAACGGAGCCACCCCTGTTT...       QSOX2   \n",
       "17817  cccttggagaaCCAcctTGTTGGCTCGGTGAAACGGAGCCACCCCT...       QSOX2   \n",
       "\n",
       "      chromosome strand targeted            sgRNA sequence  \\\n",
       "17816       chr9               -      GGTGAAACGGAGCCACCCCT   \n",
       "17817       chr9               -  GCTCGGTGAAACGGAGCCACCCCT   \n",
       "\n",
       "       Target site MNase signal  \\\n",
       "17816                  2.482609   \n",
       "17817                  2.500000   \n",
       "\n",
       "       Doench et al. Nat. Biotech 2014 sgRNA sequence score  \\\n",
       "17816                                           0.602588      \n",
       "17817                                           0.602588      \n",
       "\n",
       "       is targeting CDS?  PAM genomic coordinate [hg38]  \\\n",
       "17816              False                      136247968   \n",
       "17817              False                      136247968   \n",
       "\n",
       "                          context seq  Position relative to FANTOM5 TSS  \\\n",
       "17816  GCTCGGTGAAACGGAGCCACCCCTGGGACC                           -2166.0   \n",
       "17817  GCTCGGTGAAACGGAGCCACCCCTGGGACC                           -2166.0   \n",
       "\n",
       "       absolute z-score  rs3 score  \n",
       "17816          0.390384   0.384896  \n",
       "17817          0.390384   0.384896  "
      ]
     },
     "execution_count": 48,
     "metadata": {},
     "output_type": "execute_result"
    }
   ],
   "source": [
    "merged_tiling_w_context[merged_tiling_w_context['context seq'] == 'GCTCGGTGAAACGGAGCCACCCCTGGGACC']"
   ]
  },
  {
   "cell_type": "code",
   "execution_count": null,
   "id": "bee5c0cf",
   "metadata": {},
   "outputs": [],
   "source": []
  }
 ],
 "metadata": {
  "kernelspec": {
   "display_name": "Python 3 (ipykernel)",
   "language": "python",
   "name": "python3"
  },
  "language_info": {
   "codemirror_mode": {
    "name": "ipython",
    "version": 3
   },
   "file_extension": ".py",
   "mimetype": "text/x-python",
   "name": "python",
   "nbconvert_exporter": "python",
   "pygments_lexer": "ipython3",
   "version": "3.8.13"
  }
 },
 "nbformat": 4,
 "nbformat_minor": 5
}
