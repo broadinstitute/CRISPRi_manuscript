{
 "cells": [
  {
   "cell_type": "code",
   "execution_count": 1,
   "id": "009a43ae",
   "metadata": {},
   "outputs": [],
   "source": [
    "import pandas as pd\n",
    "import numpy as np\n",
    "import seaborn as sns"
   ]
  },
  {
   "cell_type": "code",
   "execution_count": 2,
   "id": "e97ccb77",
   "metadata": {},
   "outputs": [
    {
     "data": {
      "text/plain": [
       "InHouse    344011\n",
       "Nunez       68575\n",
       "Gilbert     18509\n",
       "Name: DataSet, dtype: int64"
      ]
     },
     "execution_count": 2,
     "metadata": {},
     "output_type": "execute_result"
    }
   ],
   "source": [
    "# new cleaned file\n",
    "inpath = '../../Data/CleanedExternalData/'\n",
    "NewDatasetCombine = pd.read_csv(inpath + 'DatasetCombineCleaned_v3.csv', low_memory=False)\n",
    "NewDatasetCombine['chromosome'] = NewDatasetCombine['chromosome'].replace('chr24','chrY')\n",
    "NewDatasetCombine['chromosome'] = NewDatasetCombine['chromosome'].replace('chr23','chrX')\n",
    "NewDatasetCombine.DataSet.value_counts()"
   ]
  },
  {
   "cell_type": "code",
   "execution_count": 3,
   "id": "35e32f05",
   "metadata": {},
   "outputs": [
    {
     "data": {
      "text/plain": [
       "InHouse    340363\n",
       "Nunez       68575\n",
       "Gilbert     18509\n",
       "Name: DataSet, dtype: int64"
      ]
     },
     "execution_count": 3,
     "metadata": {},
     "output_type": "execute_result"
    }
   ],
   "source": [
    "NewDatasetCombine_noY = NewDatasetCombine[NewDatasetCombine.chromosome != 'chrY'].copy() # some Histone are processed without y\n",
    "\n",
    "NewDatasetCombine_noY.DataSet.value_counts()"
   ]
  },
  {
   "cell_type": "code",
   "execution_count": 4,
   "id": "6bba35d7",
   "metadata": {},
   "outputs": [
    {
     "data": {
      "text/plain": [
       "912.0"
      ]
     },
     "execution_count": 4,
     "metadata": {},
     "output_type": "execute_result"
    }
   ],
   "source": [
    "(344011-340363)/4 # unique context seq"
   ]
  },
  {
   "cell_type": "code",
   "execution_count": 5,
   "id": "9e9524a2",
   "metadata": {},
   "outputs": [],
   "source": [
    "NewDatasetCombine_noY['orginal phenotype'] = NewDatasetCombine_noY['Phenotype scores-ave_Rep1_Rep2'].combine_first(NewDatasetCombine_noY['z_scored_avg_lfc']).combine_first(NewDatasetCombine_noY['rhoSignChangedAndAvged'])\n"
   ]
  },
  {
   "cell_type": "code",
   "execution_count": 6,
   "id": "ceec6874",
   "metadata": {},
   "outputs": [],
   "source": [
    "chip_out = '../../Data/CHiP_Histone/'\n",
    "\n",
    "#H3K4me3\n",
    "\n",
    "H3K4me3_A549 = pd.read_csv(chip_out+'chrtest_H3K4me3_A549.csv')\n",
    "H3K4me3_A549['chipseq'] = 'H3K4me3_A549'\n",
    "H3K4me3_HCT116 = pd.read_csv(chip_out+'chrtest_H3K4me3_HCT116.csv')\n",
    "H3K4me3_HCT116['chipseq'] = 'H3K4me3_HCT116'\n",
    "H3K4me3_K562 = pd.read_csv(chip_out+'chrtest_H3K4me3_K562.csv')\n",
    "H3K4me3_K562['chipseq'] = 'H3K4me3_K562'\n",
    "\n",
    "#H3k27ac\n",
    "\n",
    "H3k27ac_A549 = pd.read_csv(chip_out+'chrtest_H3k27ac_A549.csv')\n",
    "H3k27ac_A549['chipseq'] = 'H3k27ac_A549'\n",
    "\n",
    "H3k27ac_HCT116 = pd.read_csv(chip_out+'chrtest_H3k27ac_HCT116_noY.csv')\n",
    "H3k27ac_HCT116['chipseq'] = 'H3k27ac_HCT116'\n",
    "\n",
    "H3k27ac_K562 = pd.read_csv(chip_out+'chrtest_H3k27ac_K562_noY.csv')\n",
    "H3k27ac_K562['chipseq'] = 'H3k27ac_K562'\n",
    "\n",
    "\n",
    "#H3k27me3\n",
    "\n",
    "#H3k27me3_A549 no file in encode without treatment\n",
    "H3k27me3_HCT116 = pd.read_csv(chip_out+'chrtest_H3k27me3_HCT116_noY.csv')\n",
    "H3k27me3_HCT116['chipseq'] = 'H3k27me3_HCT116'\n",
    "\n",
    "H3k27me3_K562 = pd.read_csv(chip_out+'chrtest_H3k27me3_K562_noY.csv')\n",
    "H3k27me3_K562['chipseq'] = 'H3k27me3_K562'\n",
    "\n"
   ]
  },
  {
   "cell_type": "code",
   "execution_count": 7,
   "id": "c7153603",
   "metadata": {},
   "outputs": [],
   "source": [
    "chrtest = pd.concat([H3k27me3_HCT116,H3k27me3_K562,\n",
    "                     H3k27ac_K562,H3k27ac_HCT116,H3k27ac_A549,\n",
    "                     H3K4me3_A549,H3K4me3_HCT116,H3K4me3_K562])\n",
    "chrtest['DataSet'] = chrtest['DataSet'].str.replace('Nunze', 'Nunez')\n"
   ]
  },
  {
   "cell_type": "code",
   "execution_count": 8,
   "id": "87eb7d13",
   "metadata": {},
   "outputs": [],
   "source": [
    "new_chrtest = pd.merge(NewDatasetCombine_noY[['Target Gene Symbol', 'chromosome',\n",
    "       'sgRNA Context Sequence','condition', 'Domain', 'DataSet','orginal phenotype']], \n",
    "                    chrtest[['Target Gene Symbol','chromosome',\n",
    "       'sgRNA Context Sequence','condition', 'Domain', 'DataSet','overlap with peak','chipseq']],\n",
    "                       on = ['Target Gene Symbol','chromosome','sgRNA Context Sequence','condition', 'Domain', 'DataSet'],\n",
    "                                               how = 'inner')"
   ]
  },
  {
   "cell_type": "code",
   "execution_count": 9,
   "id": "e1ca0aae",
   "metadata": {},
   "outputs": [
    {
     "data": {
      "text/plain": [
       "3419576"
      ]
     },
     "execution_count": 9,
     "metadata": {},
     "output_type": "execute_result"
    }
   ],
   "source": [
    "len(NewDatasetCombine_noY)*8"
   ]
  },
  {
   "cell_type": "code",
   "execution_count": 10,
   "id": "59a38436",
   "metadata": {},
   "outputs": [
    {
     "data": {
      "text/plain": [
       "427447"
      ]
     },
     "execution_count": 10,
     "metadata": {},
     "output_type": "execute_result"
    }
   ],
   "source": [
    "len(NewDatasetCombine_noY)"
   ]
  },
  {
   "cell_type": "code",
   "execution_count": 11,
   "id": "1a27bd26",
   "metadata": {},
   "outputs": [
    {
     "data": {
      "text/plain": [
       "H3k27me3_HCT116    427447\n",
       "H3k27me3_K562      427447\n",
       "H3k27ac_K562       427447\n",
       "H3k27ac_HCT116     427447\n",
       "H3k27ac_A549       427447\n",
       "H3K4me3_A549       427447\n",
       "H3K4me3_HCT116     427447\n",
       "H3K4me3_K562       427447\n",
       "Name: chipseq, dtype: int64"
      ]
     },
     "execution_count": 11,
     "metadata": {},
     "output_type": "execute_result"
    }
   ],
   "source": [
    "new_chrtest['chipseq'].value_counts()"
   ]
  },
  {
   "cell_type": "code",
   "execution_count": 12,
   "id": "da440875",
   "metadata": {},
   "outputs": [
    {
     "data": {
      "text/plain": [
       "3419576"
      ]
     },
     "execution_count": 12,
     "metadata": {},
     "output_type": "execute_result"
    }
   ],
   "source": [
    "len(new_chrtest)"
   ]
  },
  {
   "cell_type": "code",
   "execution_count": 13,
   "id": "7d5d7f0e",
   "metadata": {},
   "outputs": [
    {
     "data": {
      "text/plain": [
       "DataSet  chipseq        \n",
       "InHouse  H3k27ac_HCT116     340363\n",
       "         H3k27me3_K562      340363\n",
       "         H3K4me3_A549       340363\n",
       "         H3K4me3_HCT116     340363\n",
       "         H3K4me3_K562       340363\n",
       "         H3k27ac_A549       340363\n",
       "         H3k27ac_K562       340363\n",
       "         H3k27me3_HCT116    340363\n",
       "Nunez    H3k27me3_HCT116     68575\n",
       "         H3k27ac_K562        68575\n",
       "         H3k27ac_HCT116      68575\n",
       "         H3k27ac_A549        68575\n",
       "         H3K4me3_K562        68575\n",
       "         H3K4me3_HCT116      68575\n",
       "         H3K4me3_A549        68575\n",
       "         H3k27me3_K562       68575\n",
       "Gilbert  H3K4me3_HCT116      18509\n",
       "         H3k27me3_K562       18509\n",
       "         H3k27me3_HCT116     18509\n",
       "         H3k27ac_K562        18509\n",
       "         H3k27ac_HCT116      18509\n",
       "         H3k27ac_A549        18509\n",
       "         H3K4me3_K562        18509\n",
       "         H3K4me3_A549        18509\n",
       "dtype: int64"
      ]
     },
     "execution_count": 13,
     "metadata": {},
     "output_type": "execute_result"
    }
   ],
   "source": [
    "new_chrtest[['DataSet', 'chipseq']].value_counts()"
   ]
  },
  {
   "cell_type": "code",
   "execution_count": 14,
   "id": "e326da5c",
   "metadata": {},
   "outputs": [],
   "source": [
    "out_path = '../../Data/CHiP_Histone/'\n",
    "new_chrtest.to_csv(out_path+'CHIPseqPeakOverlap.csv', index = False)\n"
   ]
  },
  {
   "cell_type": "code",
   "execution_count": 15,
   "id": "ad956549",
   "metadata": {},
   "outputs": [
    {
     "data": {
      "text/plain": [
       "336"
      ]
     },
     "execution_count": 15,
     "metadata": {},
     "output_type": "execute_result"
    }
   ],
   "source": [
    "NewDatasetCombine[NewDatasetCombine.DataSet == 'Nunez']['Target Gene Symbol'].nunique()"
   ]
  },
  {
   "cell_type": "code",
   "execution_count": null,
   "id": "9618097f",
   "metadata": {},
   "outputs": [],
   "source": []
  }
 ],
 "metadata": {
  "kernelspec": {
   "display_name": "Python 3 (ipykernel)",
   "language": "python",
   "name": "python3"
  },
  "language_info": {
   "codemirror_mode": {
    "name": "ipython",
    "version": 3
   },
   "file_extension": ".py",
   "mimetype": "text/x-python",
   "name": "python",
   "nbconvert_exporter": "python",
   "pygments_lexer": "ipython3",
   "version": "3.8.13"
  }
 },
 "nbformat": 4,
 "nbformat_minor": 5
}
