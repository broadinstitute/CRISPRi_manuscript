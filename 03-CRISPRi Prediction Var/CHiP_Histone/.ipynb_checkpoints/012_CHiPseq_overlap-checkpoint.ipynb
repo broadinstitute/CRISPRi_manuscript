{
 "cells": [
  {
   "cell_type": "code",
   "execution_count": 1,
   "id": "29ac8a06",
   "metadata": {},
   "outputs": [],
   "source": [
    "import pandas as pd\n",
    "import pyBigWig\n",
    "import actc_seq\n",
    "import numpy as np\n",
    "from tqdm import tqdm\n",
    "import os\n",
    "\n"
   ]
  },
  {
   "cell_type": "code",
   "execution_count": 2,
   "id": "af24ab14",
   "metadata": {},
   "outputs": [],
   "source": [
    "inpath = '/Users/fzheng/Library/CloudStorage/GoogleDrive-fzheng@broadinstitute.org/Shared drives/GPP Cloud /R&D/People/Fengyi/rule_set/crispri/data/2024/Manuscript/CleanedData/'\n",
    "NewDatasetCombine = pd.read_csv(inpath + 'DatasetCombineCleaned_v3.csv', low_memory=False)\n",
    "NewDatasetCombine['chromosome'] = NewDatasetCombine['chromosome'].replace('chr24','chrY')\n",
    "NewDatasetCombine['chromosome'] = NewDatasetCombine['chromosome'].replace('chr23','chrX')\n"
   ]
  },
  {
   "cell_type": "code",
   "execution_count": 3,
   "id": "632ffff2",
   "metadata": {},
   "outputs": [],
   "source": [
    "\n",
    "def check_chromosome_in_bigbed(bigbed_file):\n",
    "    # Open the BigBed file\n",
    "    #bb = pyBigWig.open(bigbed_file)\n",
    "    sample_chr = ['chr1', 'chr10', 'chr11', 'chr12', 'chr13', \n",
    "                              'chr14', 'chr15', 'chr16', 'chr17', 'chr18', \n",
    "                              'chr19', 'chr2', 'chr20', 'chr21', 'chr22', \n",
    "                              'chr3', 'chr4', 'chr5', 'chr6', 'chr7', \n",
    "                              'chr8', 'chr9', 'chrX', 'chrY']\n",
    "    # Get a list of chromosomes in the BigBed file\n",
    "    chromosomes = list(bigbed_file.chroms().keys())\n",
    "    # Check if the specified chromosome exists in the BigBed file\n",
    "    if set(chromosomes) == set(sample_chr):\n",
    "        print(f\"All Chromosomes exist in the BigBed file.\")\n",
    "    else:\n",
    "        o2 = set(sample_chr) - set(chromosomes)\n",
    "        print(f\"Chromosome {o2} does not exist in the BigBed file.\")\n",
    "       \n"
   ]
  },
  {
   "cell_type": "markdown",
   "id": "f3b89514",
   "metadata": {},
   "source": [
    "# import CHiPseq dataset"
   ]
  },
  {
   "cell_type": "code",
   "execution_count": 4,
   "id": "c0374018",
   "metadata": {},
   "outputs": [],
   "source": [
    "chip_path = '/Users/fzheng/Library/CloudStorage/GoogleDrive-fzheng@broadinstitute.org/Shared drives/GPP Cloud /R&D/Comp Data Sets/Histone Modifier CHIPSeq/'\n",
    "chips = ['H3K4me3', 'H3k27ac', 'H3k27me3']\n",
    "cell_lines = ['A549', 'HCT116', 'K562']\n",
    "\n",
    "def bigbed_name(link):\n",
    "    for f in os.listdir(link):\n",
    "        if f.endswith(\"bigBed\"):\n",
    "            return(f)\n",
    "\n",
    "#H3K4me3\n",
    "H3K4me3_A549_link = chip_path+chips[0]+'/'+cell_lines[0]\n",
    "H3K4me3_HCT116_link = chip_path+chips[0]+'/'+cell_lines[1]\n",
    "H3K4me3_K562_link = chip_path+chips[0]+'/'+cell_lines[2]\n",
    "\n",
    "H3K4me3_A549 = pyBigWig.open(H3K4me3_A549_link+'/'+bigbed_name(H3K4me3_A549_link))\n",
    "H3K4me3_HCT116 = pyBigWig.open(H3K4me3_HCT116_link+'/'+bigbed_name(H3K4me3_HCT116_link))\n",
    "H3K4me3_K562 = pyBigWig.open(H3K4me3_K562_link+'/'+bigbed_name(H3K4me3_K562_link))\n",
    "\n",
    "#H3k27ac\n",
    "H3k27ac_A549_link = chip_path+chips[1]+'/'+cell_lines[0]\n",
    "H3k27ac_HCT116_link = chip_path+chips[1]+'/'+cell_lines[1]\n",
    "H3k27ac_K562_link = chip_path+chips[1]+'/'+cell_lines[2]\n",
    "\n",
    "H3k27ac_A549 = pyBigWig.open(H3k27ac_A549_link+'/'+bigbed_name(H3k27ac_A549_link))\n",
    "H3k27ac_HCT116 = pyBigWig.open(H3k27ac_HCT116_link+'/'+bigbed_name(H3k27ac_HCT116_link))\n",
    "H3k27ac_K562 = pyBigWig.open(H3k27ac_K562_link+'/'+bigbed_name(H3k27ac_K562_link))\n",
    "\n",
    "#H3k27me3\n",
    "H3k27me3_A549_link = chip_path+chips[2]+'/'+cell_lines[0]\n",
    "H3k27me3_HCT116_link = chip_path+chips[2]+'/'+cell_lines[1]\n",
    "H3k27me3_K562_link = chip_path+chips[2]+'/'+cell_lines[2]\n",
    "\n",
    "#H3k27me3_A549 = pyBigWig.open(H3k27me3_A549_link+'/'+bigbed_name(H3k27me3_A549_link)) no file in encode without treatment\n",
    "H3k27me3_HCT116 = pyBigWig.open(H3k27me3_HCT116_link+'/'+bigbed_name(H3k27me3_HCT116_link))\n",
    "H3k27me3_K562 = pyBigWig.open(H3k27me3_K562_link+'/'+bigbed_name(H3k27me3_K562_link))\n"
   ]
  },
  {
   "cell_type": "code",
   "execution_count": 5,
   "id": "4f6d75fd",
   "metadata": {},
   "outputs": [
    {
     "name": "stdout",
     "output_type": "stream",
     "text": [
      "All Chromosomes exist in the BigBed file.\n"
     ]
    }
   ],
   "source": [
    "check_chromosome_in_bigbed(H3K4me3_A549)"
   ]
  },
  {
   "cell_type": "code",
   "execution_count": 6,
   "id": "f125d835",
   "metadata": {},
   "outputs": [
    {
     "name": "stdout",
     "output_type": "stream",
     "text": [
      "All Chromosomes exist in the BigBed file.\n"
     ]
    }
   ],
   "source": [
    "check_chromosome_in_bigbed(H3K4me3_HCT116)"
   ]
  },
  {
   "cell_type": "code",
   "execution_count": 7,
   "id": "d8dd8713",
   "metadata": {},
   "outputs": [
    {
     "name": "stdout",
     "output_type": "stream",
     "text": [
      "All Chromosomes exist in the BigBed file.\n"
     ]
    }
   ],
   "source": [
    "check_chromosome_in_bigbed(H3K4me3_K562)"
   ]
  },
  {
   "cell_type": "code",
   "execution_count": 8,
   "id": "ff7bf1c1",
   "metadata": {},
   "outputs": [
    {
     "name": "stdout",
     "output_type": "stream",
     "text": [
      "All Chromosomes exist in the BigBed file.\n"
     ]
    }
   ],
   "source": [
    "check_chromosome_in_bigbed(H3k27ac_A549)"
   ]
  },
  {
   "cell_type": "code",
   "execution_count": 9,
   "id": "c55d08a6",
   "metadata": {},
   "outputs": [
    {
     "name": "stdout",
     "output_type": "stream",
     "text": [
      "Chromosome {'chrY'} does not exist in the BigBed file.\n"
     ]
    }
   ],
   "source": [
    "check_chromosome_in_bigbed(H3k27ac_HCT116)"
   ]
  },
  {
   "cell_type": "code",
   "execution_count": 10,
   "id": "5ff3b78e",
   "metadata": {},
   "outputs": [
    {
     "name": "stdout",
     "output_type": "stream",
     "text": [
      "Chromosome {'chrY'} does not exist in the BigBed file.\n"
     ]
    }
   ],
   "source": [
    "check_chromosome_in_bigbed(H3k27ac_K562)"
   ]
  },
  {
   "cell_type": "code",
   "execution_count": 11,
   "id": "824395e8",
   "metadata": {},
   "outputs": [
    {
     "name": "stdout",
     "output_type": "stream",
     "text": [
      "Chromosome {'chrY'} does not exist in the BigBed file.\n"
     ]
    }
   ],
   "source": [
    "check_chromosome_in_bigbed(H3k27me3_HCT116)"
   ]
  },
  {
   "cell_type": "code",
   "execution_count": 12,
   "id": "92211173",
   "metadata": {},
   "outputs": [
    {
     "name": "stdout",
     "output_type": "stream",
     "text": [
      "Chromosome {'chrY'} does not exist in the BigBed file.\n"
     ]
    }
   ],
   "source": [
    "check_chromosome_in_bigbed(H3k27me3_K562)"
   ]
  },
  {
   "cell_type": "code",
   "execution_count": 13,
   "id": "b105d9fb",
   "metadata": {},
   "outputs": [],
   "source": [
    "NewDatasetCombine_noY = NewDatasetCombine[NewDatasetCombine.chromosome != 'chrY'].copy()"
   ]
  },
  {
   "cell_type": "code",
   "execution_count": 14,
   "id": "e1625282",
   "metadata": {},
   "outputs": [],
   "source": [
    "ChipPathOut = '/Users/fzheng/Library/CloudStorage/GoogleDrive-fzheng@broadinstitute.org/Shared drives/GPP Cloud /R&D/People/Fengyi/rule_set/crispri/data/2024/Manuscript/CHiP_Histone/'"
   ]
  },
  {
   "cell_type": "markdown",
   "id": "6546070e",
   "metadata": {},
   "source": [
    "# H3K4me3"
   ]
  },
  {
   "cell_type": "code",
   "execution_count": null,
   "id": "7d4c3baf",
   "metadata": {},
   "outputs": [
    {
     "name": "stdout",
     "output_type": "stream",
     "text": [
      "There are total 24  chromosome in the dataset and they are  {'chr21', 'chr8', 'chr17', 'chr19', 'chr20', 'chrX', 'chr16', 'chrY', 'chr22', 'chr15', 'chr11', 'chr5', 'chr14', 'chr4', 'chr2', 'chr9', 'chr12', 'chr1', 'chr7', 'chr13', 'chr18', 'chr10', 'chr3', 'chr6'}\n",
      "chr19\n",
      "chr19\n"
     ]
    },
    {
     "name": "stderr",
     "output_type": "stream",
     "text": [
      "number of unique sgRNA position and gene symbol for chr19: 100%|█| 10337/10337 [\n"
     ]
    },
    {
     "name": "stdout",
     "output_type": "stream",
     "text": [
      "chr20\n",
      "chr20\n"
     ]
    },
    {
     "name": "stderr",
     "output_type": "stream",
     "text": [
      "number of unique sgRNA position and gene symbol for chr20: 100%|█| 6048/6048 [00\n"
     ]
    },
    {
     "name": "stdout",
     "output_type": "stream",
     "text": [
      "chrX\n",
      "chrX\n"
     ]
    },
    {
     "name": "stderr",
     "output_type": "stream",
     "text": [
      "number of unique sgRNA position and gene symbol for chrX: 100%|█| 3185/3185 [00:\n"
     ]
    },
    {
     "name": "stdout",
     "output_type": "stream",
     "text": [
      "chr16\n",
      "chr16\n"
     ]
    },
    {
     "name": "stderr",
     "output_type": "stream",
     "text": [
      "number of unique sgRNA position and gene symbol for chr16: 100%|█| 5202/5202 [00\n"
     ]
    },
    {
     "name": "stdout",
     "output_type": "stream",
     "text": [
      "chrY\n",
      "chrY\n"
     ]
    },
    {
     "name": "stderr",
     "output_type": "stream",
     "text": [
      "number of unique sgRNA position and gene symbol for chrY: 100%|█| 886/886 [00:00\n"
     ]
    },
    {
     "name": "stdout",
     "output_type": "stream",
     "text": [
      "chr22\n",
      "chr22\n"
     ]
    },
    {
     "name": "stderr",
     "output_type": "stream",
     "text": [
      "number of unique sgRNA position and gene symbol for chr22: 100%|█| 2861/2861 [00\n"
     ]
    },
    {
     "name": "stdout",
     "output_type": "stream",
     "text": [
      "chr11\n",
      "chr11\n"
     ]
    },
    {
     "name": "stderr",
     "output_type": "stream",
     "text": [
      "number of unique sgRNA position and gene symbol for chr11: 100%|█| 12062/12062 [\n"
     ]
    },
    {
     "name": "stdout",
     "output_type": "stream",
     "text": [
      "chr5\n",
      "chr5\n"
     ]
    },
    {
     "name": "stderr",
     "output_type": "stream",
     "text": [
      "number of unique sgRNA position and gene symbol for chr5: 100%|█| 5911/5911 [00:\n"
     ]
    },
    {
     "name": "stdout",
     "output_type": "stream",
     "text": [
      "chr14\n",
      "chr14\n"
     ]
    },
    {
     "name": "stderr",
     "output_type": "stream",
     "text": [
      "number of unique sgRNA position and gene symbol for chr14: 100%|█| 5890/5890 [00\n"
     ]
    },
    {
     "name": "stdout",
     "output_type": "stream",
     "text": [
      "chr2\n",
      "chr2\n"
     ]
    },
    {
     "name": "stderr",
     "output_type": "stream",
     "text": [
      "number of unique sgRNA position and gene symbol for chr2: 100%|█| 10668/10668 [0\n"
     ]
    },
    {
     "name": "stdout",
     "output_type": "stream",
     "text": [
      "chr9\n",
      "chr9\n"
     ]
    },
    {
     "name": "stderr",
     "output_type": "stream",
     "text": [
      "number of unique sgRNA position and gene symbol for chr9:  22%|▏| 2103/9630 [00:"
     ]
    }
   ],
   "source": [
    "chrtest_H3K4me3_A549 = actc_seq.ATACseq_run(actual_tiling= NewDatasetCombine, bigbed_df = H3K4me3_A549, \n",
    "                               sgrna_location_col = 'sgRNA \\'Cut\\' Position', chromosome_col = 'chromosome', gene_col = 'Target Gene Symbol' )\n",
    "\n",
    "chrtest_H3K4me3_A549.to_csv(ChipPathOut + 'chrtest_H3K4me3_A549.csv')\n",
    "\n",
    "chrtest_H3K4me3_A549 = pd.read_csv(ChipPathOut + 'chrtest_H3K4me3_A549.csv')"
   ]
  },
  {
   "cell_type": "code",
   "execution_count": null,
   "id": "a626f0ea",
   "metadata": {},
   "outputs": [],
   "source": [
    "chrtest_H3K4me3_HCT116 = actc_seq.ATACseq_run(actual_tiling= NewDatasetCombine, bigbed_df = H3K4me3_HCT116, \n",
    "                               sgrna_location_col = 'sgRNA \\'Cut\\' Position', chromosome_col = 'chromosome', gene_col = 'Target Gene Symbol' )\n",
    "chrtest_H3K4me3_HCT116.to_csv(ChipPathOut + 'chrtest_H3K4me3_HCT116.csv')\n",
    "\n",
    "chrtest_H3K4me3_HCT116 = pd.read_csv(ChipPathOut + 'chrtest_H3K4me3_HCT116.csv')\n"
   ]
  },
  {
   "cell_type": "code",
   "execution_count": null,
   "id": "73b2c800",
   "metadata": {},
   "outputs": [],
   "source": [
    "chrtest_H3K4me3_K562 = actc_seq.ATACseq_run(actual_tiling= NewDatasetCombine, bigbed_df = H3K4me3_K562, \n",
    "                               sgrna_location_col = 'sgRNA \\'Cut\\' Position', chromosome_col = 'chromosome', gene_col = 'Target Gene Symbol' )\n",
    "chrtest_H3K4me3_K562.to_csv(ChipPathOut + 'chrtest_H3K4me3_K562.csv')\n",
    "\n",
    "chrtest_H3K4me3_K562 = pd.read_csv(ChipPathOut + 'chrtest_H3K4me3_K562.csv')\n"
   ]
  },
  {
   "cell_type": "markdown",
   "id": "27df419c",
   "metadata": {},
   "source": [
    "# H3k27ac\n"
   ]
  },
  {
   "cell_type": "code",
   "execution_count": null,
   "id": "a8a72299",
   "metadata": {},
   "outputs": [],
   "source": [
    "chrtest_H3k27ac_A549 = actc_seq.ATACseq_run(actual_tiling= NewDatasetCombine, bigbed_df = H3k27ac_A549, \n",
    "                               sgrna_location_col = 'sgRNA \\'Cut\\' Position', chromosome_col = 'chromosome', gene_col = 'Target Gene Symbol' )\n",
    "chrtest_H3k27ac_A549.to_csv(ChipPathOut + 'chrtest_H3k27ac_A549.csv')\n",
    "\n",
    "chrtest_H3k27ac_A549 = pd.read_csv(ChipPathOut + 'chrtest_H3k27ac_A549.csv')\n"
   ]
  },
  {
   "cell_type": "code",
   "execution_count": null,
   "id": "80bfa105",
   "metadata": {},
   "outputs": [],
   "source": [
    "chrtest_H3k27ac_HCT116 = actc_seq.ATACseq_run(actual_tiling= NewDatasetCombine_noY, \n",
    "                                              bigbed_df = H3k27ac_HCT116, \n",
    "                               sgrna_location_col = 'sgRNA \\'Cut\\' Position', chromosome_col = 'chromosome', gene_col = 'Target Gene Symbol' )\n",
    "chrtest_H3k27ac_HCT116.to_csv(ChipPathOut + 'chrtest_H3k27ac_HCT116_noY.csv')\n",
    "\n"
   ]
  },
  {
   "cell_type": "code",
   "execution_count": null,
   "id": "d34eb1fb",
   "metadata": {},
   "outputs": [],
   "source": [
    "chrtest_H3k27ac_K562 = actc_seq.ATACseq_run(actual_tiling= NewDatasetCombine_noY, \n",
    "                                            bigbed_df = H3k27ac_K562, \n",
    "                               sgrna_location_col = 'sgRNA \\'Cut\\' Position', chromosome_col = 'chromosome', gene_col = 'Target Gene Symbol' )\n",
    "chrtest_H3k27ac_K562.to_csv(ChipPathOut + 'chrtest_H3k27ac_K562_noY.csv')\n",
    "\n"
   ]
  },
  {
   "cell_type": "markdown",
   "id": "da2b2174",
   "metadata": {},
   "source": [
    "# H3k27me3"
   ]
  },
  {
   "cell_type": "code",
   "execution_count": null,
   "id": "a3ae6276",
   "metadata": {},
   "outputs": [],
   "source": [
    "chrtest_H3k27me3_HCT116 = actc_seq.ATACseq_run(actual_tiling= NewDatasetCombine_noY, bigbed_df = H3k27me3_HCT116, \n",
    "                               sgrna_location_col = 'sgRNA \\'Cut\\' Position', chromosome_col = 'chromosome', gene_col = 'Target Gene Symbol' )\n",
    "chrtest_H3k27me3_HCT116.to_csv(ChipPathOut + 'chrtest_H3k27me3_HCT116.csv')\n",
    "\n"
   ]
  },
  {
   "cell_type": "code",
   "execution_count": null,
   "id": "7cc89e49",
   "metadata": {},
   "outputs": [],
   "source": [
    "chrtest_H3k27me3_K562 = actc_seq.ATACseq_run(actual_tiling= NewDatasetCombine_noY, bigbed_df = H3k27me3_K562, \n",
    "                               sgrna_location_col = 'sgRNA \\'Cut\\' Position', chromosome_col = 'chromosome', gene_col = 'Target Gene Symbol' )\n",
    "chrtest_H3k27me3_K562.to_csv(ChipPathOut + 'chrtest_H3k27me3_K562.csv')\n"
   ]
  },
  {
   "cell_type": "code",
   "execution_count": null,
   "id": "35de96c8",
   "metadata": {},
   "outputs": [],
   "source": []
  }
 ],
 "metadata": {
  "kernelspec": {
   "display_name": "Python 3 (ipykernel)",
   "language": "python",
   "name": "python3"
  },
  "language_info": {
   "codemirror_mode": {
    "name": "ipython",
    "version": 3
   },
   "file_extension": ".py",
   "mimetype": "text/x-python",
   "name": "python",
   "nbconvert_exporter": "python",
   "pygments_lexer": "ipython3",
   "version": "3.8.13"
  }
 },
 "nbformat": 4,
 "nbformat_minor": 5
}
