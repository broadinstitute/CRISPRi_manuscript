{
 "cells": [
  {
   "cell_type": "code",
   "execution_count": 1,
   "id": "0b2b6d5a",
   "metadata": {},
   "outputs": [],
   "source": [
    "import pandas as pd\n",
    "import numpy as np\n",
    "import seaborn as sns\n",
    "import matplotlib.pyplot as plt\n",
    "from poola import core as pool\n",
    "import gpplot"
   ]
  },
  {
   "cell_type": "code",
   "execution_count": 2,
   "id": "f52cef42",
   "metadata": {
    "scrolled": true
   },
   "outputs": [
    {
     "name": "stderr",
     "output_type": "stream",
     "text": [
      "/Users/fzheng/opt/anaconda3/lib/python3.8/site-packages/openpyxl/worksheet/_read_only.py:85: UserWarning: Unknown extension is not supported and will be removed\n",
      "  for idx, row in parser.parse():\n"
     ]
    },
    {
     "data": {
      "text/html": [
       "<div>\n",
       "<style scoped>\n",
       "    .dataframe tbody tr th:only-of-type {\n",
       "        vertical-align: middle;\n",
       "    }\n",
       "\n",
       "    .dataframe tbody tr th {\n",
       "        vertical-align: top;\n",
       "    }\n",
       "\n",
       "    .dataframe thead th {\n",
       "        text-align: right;\n",
       "    }\n",
       "</style>\n",
       "<table border=\"1\" class=\"dataframe\">\n",
       "  <thead>\n",
       "    <tr style=\"text-align: right;\">\n",
       "      <th></th>\n",
       "      <th>0</th>\n",
       "      <th>dCas9-KRAB ricin LG</th>\n",
       "      <th>dCas9-KRAB ricin MH</th>\n",
       "      <th>dCas9-KRAB untreated MH</th>\n",
       "      <th>dCas9-KRAB untreated LG</th>\n",
       "    </tr>\n",
       "  </thead>\n",
       "  <tbody>\n",
       "    <tr>\n",
       "      <th>0</th>\n",
       "      <td>ARCN1_c_118438373.25</td>\n",
       "      <td>30.0</td>\n",
       "      <td>24.0</td>\n",
       "      <td>50.0</td>\n",
       "      <td>90.0</td>\n",
       "    </tr>\n",
       "    <tr>\n",
       "      <th>1</th>\n",
       "      <td>ARCN1_c_118438478.24</td>\n",
       "      <td>951.0</td>\n",
       "      <td>805.0</td>\n",
       "      <td>650.0</td>\n",
       "      <td>955.0</td>\n",
       "    </tr>\n",
       "    <tr>\n",
       "      <th>2</th>\n",
       "      <td>ARCN1_c_118438478.26</td>\n",
       "      <td>796.0</td>\n",
       "      <td>486.0</td>\n",
       "      <td>399.0</td>\n",
       "      <td>430.0</td>\n",
       "    </tr>\n",
       "    <tr>\n",
       "      <th>3</th>\n",
       "      <td>ARCN1_c_118438508.26</td>\n",
       "      <td>1021.0</td>\n",
       "      <td>527.0</td>\n",
       "      <td>555.0</td>\n",
       "      <td>825.0</td>\n",
       "    </tr>\n",
       "    <tr>\n",
       "      <th>4</th>\n",
       "      <td>ARCN1_c_118438682.27</td>\n",
       "      <td>642.0</td>\n",
       "      <td>865.0</td>\n",
       "      <td>656.0</td>\n",
       "      <td>835.0</td>\n",
       "    </tr>\n",
       "    <tr>\n",
       "      <th>...</th>\n",
       "      <td>...</td>\n",
       "      <td>...</td>\n",
       "      <td>...</td>\n",
       "      <td>...</td>\n",
       "      <td>...</td>\n",
       "    </tr>\n",
       "    <tr>\n",
       "      <th>55495</th>\n",
       "      <td>negYIPF5_c_143553099.25</td>\n",
       "      <td>397.0</td>\n",
       "      <td>152.0</td>\n",
       "      <td>192.0</td>\n",
       "      <td>272.0</td>\n",
       "    </tr>\n",
       "    <tr>\n",
       "      <th>55496</th>\n",
       "      <td>negYIPF5_c_143553316.27</td>\n",
       "      <td>366.0</td>\n",
       "      <td>133.0</td>\n",
       "      <td>404.0</td>\n",
       "      <td>544.0</td>\n",
       "    </tr>\n",
       "    <tr>\n",
       "      <th>55497</th>\n",
       "      <td>negYIPF5_w_143550317.26</td>\n",
       "      <td>771.0</td>\n",
       "      <td>539.0</td>\n",
       "      <td>449.0</td>\n",
       "      <td>603.0</td>\n",
       "    </tr>\n",
       "    <tr>\n",
       "      <th>55498</th>\n",
       "      <td>negYIPF5_w_143553763.25</td>\n",
       "      <td>1022.0</td>\n",
       "      <td>1441.0</td>\n",
       "      <td>853.0</td>\n",
       "      <td>1058.0</td>\n",
       "    </tr>\n",
       "    <tr>\n",
       "      <th>55499</th>\n",
       "      <td>negYIPF5_w_143555197.25</td>\n",
       "      <td>1482.0</td>\n",
       "      <td>1322.0</td>\n",
       "      <td>795.0</td>\n",
       "      <td>1094.0</td>\n",
       "    </tr>\n",
       "  </tbody>\n",
       "</table>\n",
       "<p>55500 rows × 5 columns</p>\n",
       "</div>"
      ],
      "text/plain": [
       "                             0  dCas9-KRAB ricin LG  dCas9-KRAB ricin MH  \\\n",
       "0         ARCN1_c_118438373.25                 30.0                 24.0   \n",
       "1         ARCN1_c_118438478.24                951.0                805.0   \n",
       "2         ARCN1_c_118438478.26                796.0                486.0   \n",
       "3         ARCN1_c_118438508.26               1021.0                527.0   \n",
       "4         ARCN1_c_118438682.27                642.0                865.0   \n",
       "...                        ...                  ...                  ...   \n",
       "55495  negYIPF5_c_143553099.25                397.0                152.0   \n",
       "55496  negYIPF5_c_143553316.27                366.0                133.0   \n",
       "55497  negYIPF5_w_143550317.26                771.0                539.0   \n",
       "55498  negYIPF5_w_143553763.25               1022.0               1441.0   \n",
       "55499  negYIPF5_w_143555197.25               1482.0               1322.0   \n",
       "\n",
       "       dCas9-KRAB untreated MH  dCas9-KRAB untreated LG  \n",
       "0                         50.0                     90.0  \n",
       "1                        650.0                    955.0  \n",
       "2                        399.0                    430.0  \n",
       "3                        555.0                    825.0  \n",
       "4                        656.0                    835.0  \n",
       "...                        ...                      ...  \n",
       "55495                    192.0                    272.0  \n",
       "55496                    404.0                    544.0  \n",
       "55497                    449.0                    603.0  \n",
       "55498                    853.0                   1058.0  \n",
       "55499                    795.0                   1094.0  \n",
       "\n",
       "[55500 rows x 5 columns]"
      ]
     },
     "execution_count": 2,
     "metadata": {},
     "output_type": "execute_result"
    }
   ],
   "source": [
    "path = '../Data/ExternalData/Gilbert 2014/'\n",
    "seq_detail = pd.read_table(path+\"CRISPRicin library 20130912_final_draft_CRISPRicin.txt\", header = None)\n",
    "seq_count = pd.read_table(path + '20230811_counts_files_combined.txt')\n",
    "seq_count = seq_count[['0', 'dCas9-KRAB ricin LG',  \n",
    "       'dCas9-KRAB ricin MH', 'dCas9-KRAB untreated MH',\n",
    "       'dCas9-KRAB untreated LG']]\n",
    "seq_phenotpye = pd.read_excel(path + 'CRISPRricin compiled all sgRNA data.xlsx', header = None)\n",
    "new_col_seq_phenotpye = ['guide id'] + seq_phenotpye[[1,  2,  3,  4,  5,  6,  7,  8,  9, 10, 11, 12, 13, 14, 15, 16,17, 18, 19, 20, 21, 22, 23, 24]][0:3].apply('_'.join,  axis=0).tolist()\n",
    "seq_phenotpye = seq_phenotpye.drop([0, 1,2,3], axis=0)\n",
    "seq_phenotpye.columns = new_col_seq_phenotpye\n",
    "seq_phenotpye\n",
    "seq_count"
   ]
  },
  {
   "cell_type": "code",
   "execution_count": 3,
   "id": "19701f61",
   "metadata": {},
   "outputs": [
    {
     "name": "stdout",
     "output_type": "stream",
     "text": [
      "Filtered 1092 rows due to low pDNA abundance\n"
     ]
    }
   ],
   "source": [
    "# use count to calcuate LFC: remove T0 with z-score less than -3\n",
    "lognorms_tiling = pool.lognorm_columns(reads_df=seq_count, columns=['dCas9-KRAB ricin LG', 'dCas9-KRAB ricin MH', \n",
    "                                                                          'dCas9-KRAB untreated MH','dCas9-KRAB untreated LG'])\n",
    "filtered_lognorms_tiling = pool.filter_pdna(lognorm_df=lognorms_tiling, \n",
    "                                                  pdna_cols=['dCas9-KRAB untreated MH','dCas9-KRAB untreated LG'], z_low=-3)\n",
    "print('Filtered ' + str(lognorms_tiling.shape[0] - filtered_lognorms_tiling.shape[0]) + ' rows due to low pDNA abundance')\n"
   ]
  },
  {
   "cell_type": "code",
   "execution_count": 4,
   "id": "556d73b5",
   "metadata": {},
   "outputs": [
    {
     "data": {
      "image/png": "[encoded data removed]",
      "text/plain": [
       "<Figure size 288x288 with 1 Axes>"
      ]
     },
     "metadata": {
      "needs_background": "light"
     },
     "output_type": "display_data"
    }
   ],
   "source": [
    "# use count to calcuate LFC: check lognorms of T0 repeats correlation \n",
    "plt.subplots(figsize=(4,4))\n",
    "gpplot.point_densityplot(data=filtered_lognorms_tiling, x='dCas9-KRAB untreated MH', y='dCas9-KRAB untreated LG')\n",
    "gpplot.add_correlation(data=filtered_lognorms_tiling, x='dCas9-KRAB untreated MH', y='dCas9-KRAB untreated LG')\n",
    "sns.despine()"
   ]
  },
  {
   "cell_type": "code",
   "execution_count": 5,
   "id": "d5921abf",
   "metadata": {},
   "outputs": [],
   "source": [
    "# use count to calcuate LFC: find average lognorms of T0 because they corrlate well\n",
    "filtered_lognorms_tiling['avgCountsUntreated'] = filtered_lognorms_tiling[['dCas9-KRAB untreated MH', 'dCas9-KRAB untreated LG']].mean(axis=1)\n",
    "\n"
   ]
  },
  {
   "cell_type": "code",
   "execution_count": 6,
   "id": "f3059f32",
   "metadata": {},
   "outputs": [
    {
     "data": {
      "text/html": [
       "<div>\n",
       "<style scoped>\n",
       "    .dataframe tbody tr th:only-of-type {\n",
       "        vertical-align: middle;\n",
       "    }\n",
       "\n",
       "    .dataframe tbody tr th {\n",
       "        vertical-align: top;\n",
       "    }\n",
       "\n",
       "    .dataframe thead th {\n",
       "        text-align: right;\n",
       "    }\n",
       "</style>\n",
       "<table border=\"1\" class=\"dataframe\">\n",
       "  <thead>\n",
       "    <tr style=\"text-align: right;\">\n",
       "      <th></th>\n",
       "      <th>0</th>\n",
       "      <th>dCas9-KRAB ricin LG</th>\n",
       "      <th>dCas9-KRAB ricin MH</th>\n",
       "    </tr>\n",
       "  </thead>\n",
       "  <tbody>\n",
       "    <tr>\n",
       "      <th>0</th>\n",
       "      <td>ARCN1_c_118438373.25</td>\n",
       "      <td>-0.914327</td>\n",
       "      <td>-0.945535</td>\n",
       "    </tr>\n",
       "    <tr>\n",
       "      <th>1</th>\n",
       "      <td>ARCN1_c_118438478.24</td>\n",
       "      <td>-0.200292</td>\n",
       "      <td>-0.195294</td>\n",
       "    </tr>\n",
       "    <tr>\n",
       "      <th>2</th>\n",
       "      <td>ARCN1_c_118438478.26</td>\n",
       "      <td>0.434630</td>\n",
       "      <td>-0.004084</td>\n",
       "    </tr>\n",
       "    <tr>\n",
       "      <th>3</th>\n",
       "      <td>ARCN1_c_118438508.26</td>\n",
       "      <td>0.108739</td>\n",
       "      <td>-0.563859</td>\n",
       "    </tr>\n",
       "    <tr>\n",
       "      <th>4</th>\n",
       "      <td>ARCN1_c_118438682.27</td>\n",
       "      <td>-0.651167</td>\n",
       "      <td>-0.009016</td>\n",
       "    </tr>\n",
       "  </tbody>\n",
       "</table>\n",
       "</div>"
      ],
      "text/plain": [
       "                      0  dCas9-KRAB ricin LG  dCas9-KRAB ricin MH\n",
       "0  ARCN1_c_118438373.25            -0.914327            -0.945535\n",
       "1  ARCN1_c_118438478.24            -0.200292            -0.195294\n",
       "2  ARCN1_c_118438478.26             0.434630            -0.004084\n",
       "3  ARCN1_c_118438508.26             0.108739            -0.563859\n",
       "4  ARCN1_c_118438682.27            -0.651167            -0.009016"
      ]
     },
     "execution_count": 6,
     "metadata": {},
     "output_type": "execute_result"
    }
   ],
   "source": [
    "# use count to calcuate LFC: calcuate LFC relative to the averaged T0 lognmorm \n",
    "lfc_tiling = pool.calculate_lfcs(lognorm_df=filtered_lognorms_tiling, \n",
    "                                         ref_col='avgCountsUntreated', \n",
    "                                       target_cols=['dCas9-KRAB ricin LG', 'dCas9-KRAB ricin MH'])\n",
    "lfc_tiling = lfc_tiling[['0', 'dCas9-KRAB ricin LG', 'dCas9-KRAB ricin MH']]\n",
    "lfc_tiling.head()\n"
   ]
  },
  {
   "cell_type": "code",
   "execution_count": 7,
   "id": "5410f173",
   "metadata": {},
   "outputs": [
    {
     "data": {
      "image/png": "[encoded data removed]",
      "text/plain": [
       "<Figure size 288x288 with 1 Axes>"
      ]
     },
     "metadata": {
      "needs_background": "light"
     },
     "output_type": "display_data"
    }
   ],
   "source": [
    "#remove nas\n",
    "lfc_tiling = lfc_tiling.dropna()\n",
    "#  check LFC of Tfinal repeats correlation \n",
    "plt.subplots(figsize=(4,4))\n",
    "gpplot.point_densityplot(data=lfc_tiling, x='dCas9-KRAB ricin LG', y='dCas9-KRAB ricin MH')\n",
    "gpplot.add_correlation(data=lfc_tiling, x='dCas9-KRAB ricin LG', y='dCas9-KRAB ricin MH')\n",
    "sns.despine()"
   ]
  },
  {
   "cell_type": "code",
   "execution_count": 8,
   "id": "e6ff6212",
   "metadata": {},
   "outputs": [],
   "source": [
    "# find average LFC of Tfinal because they corrlate moderately\n",
    "lfc_tiling['Avg_LFC'] = lfc_tiling[['dCas9-KRAB ricin LG', 'dCas9-KRAB ricin MH']].mean(axis=1)\n"
   ]
  },
  {
   "cell_type": "code",
   "execution_count": 9,
   "id": "e6fe132d",
   "metadata": {},
   "outputs": [
    {
     "data": {
      "text/plain": [
       "54403"
      ]
     },
     "execution_count": 9,
     "metadata": {},
     "output_type": "execute_result"
    }
   ],
   "source": [
    "# add orginal phenotyp (activity score was called rho by gilbert et al)\n",
    "lfc_tiling = pd.merge(seq_phenotpye[['guide id','dCas9-KRAB_rho_ave_LG2_LG_MH2_MH']],\n",
    "         lfc_tiling.rename(columns = {'0': 'guide id'}))\n",
    "lfc_tiling[\"dCas9-KRAB_rho_ave_LG2_LG_MH2_MH\"] = lfc_tiling[\"dCas9-KRAB_rho_ave_LG2_LG_MH2_MH\"].astype(float)\n",
    "len(lfc_tiling)"
   ]
  },
  {
   "cell_type": "code",
   "execution_count": 10,
   "id": "695bca9b",
   "metadata": {},
   "outputs": [
    {
     "data": {
      "image/png": "[encoded data removed]",
      "text/plain": [
       "<Figure size 288x288 with 1 Axes>"
      ]
     },
     "metadata": {
      "needs_background": "light"
     },
     "output_type": "display_data"
    }
   ],
   "source": [
    "#  check LFC vs rho  correlation \n",
    "plt.subplots(figsize=(4,4))\n",
    "gpplot.point_densityplot(data=lfc_tiling, x='Avg_LFC', y='dCas9-KRAB_rho_ave_LG2_LG_MH2_MH')\n",
    "gpplot.add_correlation(data=lfc_tiling, x='Avg_LFC', y='dCas9-KRAB_rho_ave_LG2_LG_MH2_MH' )\n",
    "sns.despine()"
   ]
  },
  {
   "cell_type": "code",
   "execution_count": 11,
   "id": "0ecce3fd",
   "metadata": {},
   "outputs": [
    {
     "data": {
      "image/png": "[encoded data removed]",
      "text/plain": [
       "<Figure size 288x288 with 1 Axes>"
      ]
     },
     "metadata": {
      "needs_background": "light"
     },
     "output_type": "display_data"
    }
   ],
   "source": [
    "# calcuate z-score relative to neg control\n",
    "nc_mean = lfc_tiling[lfc_tiling['guide id'].str[:3] == \"neg\"]['Avg_LFC'].mean()\n",
    "nc_mean_std = lfc_tiling[lfc_tiling['guide id'].str[:3] == \"neg\"]['Avg_LFC'].std()\n",
    "lfc_tiling['zscoreRelativeNC'] = (lfc_tiling['Avg_LFC'] - nc_mean)/nc_mean_std\n",
    "\n",
    "#  check orginal phenotype vs zscore for all 54403 guide\n",
    "plt.subplots(figsize=(4,4))\n",
    "gpplot.point_densityplot(data=lfc_tiling, x='zscoreRelativeNC', y='dCas9-KRAB_rho_ave_LG2_LG_MH2_MH')\n",
    "gpplot.add_correlation(data=lfc_tiling, x='zscoreRelativeNC', y='dCas9-KRAB_rho_ave_LG2_LG_MH2_MH' )\n",
    "sns.despine()"
   ]
  },
  {
   "cell_type": "code",
   "execution_count": 12,
   "id": "e5d64883",
   "metadata": {},
   "outputs": [],
   "source": [
    "dcas_krab = pd.merge(lfc_tiling,seq_detail.rename(columns = {0: 'guide id', 1: 'oligo'}), \n",
    "                     on = 'guide id' ).dropna()"
   ]
  },
  {
   "cell_type": "code",
   "execution_count": 13,
   "id": "19ce1661",
   "metadata": {},
   "outputs": [
    {
     "data": {
      "text/html": [
       "<div>\n",
       "<style scoped>\n",
       "    .dataframe tbody tr th:only-of-type {\n",
       "        vertical-align: middle;\n",
       "    }\n",
       "\n",
       "    .dataframe tbody tr th {\n",
       "        vertical-align: top;\n",
       "    }\n",
       "\n",
       "    .dataframe thead th {\n",
       "        text-align: right;\n",
       "    }\n",
       "</style>\n",
       "<table border=\"1\" class=\"dataframe\">\n",
       "  <thead>\n",
       "    <tr style=\"text-align: right;\">\n",
       "      <th></th>\n",
       "      <th>guide id</th>\n",
       "      <th>dCas9-KRAB_rho_ave_LG2_LG_MH2_MH</th>\n",
       "      <th>dCas9-KRAB ricin LG</th>\n",
       "      <th>dCas9-KRAB ricin MH</th>\n",
       "      <th>Avg_LFC</th>\n",
       "      <th>zscoreRelativeNC</th>\n",
       "      <th>oligo</th>\n",
       "      <th>Gene</th>\n",
       "      <th>Position</th>\n",
       "    </tr>\n",
       "  </thead>\n",
       "  <tbody>\n",
       "    <tr>\n",
       "      <th>0</th>\n",
       "      <td>ARCN1_c_118438373.25</td>\n",
       "      <td>-0.120761</td>\n",
       "      <td>-0.914327</td>\n",
       "      <td>-0.945535</td>\n",
       "      <td>-0.929931</td>\n",
       "      <td>-2.063088</td>\n",
       "      <td>cccttggagaaCCAcctTGTTGGAAAACCTACCAGAGGTAAACAGT...</td>\n",
       "      <td>ARCN1</td>\n",
       "      <td>c_118438373.25</td>\n",
       "    </tr>\n",
       "    <tr>\n",
       "      <th>1</th>\n",
       "      <td>ARCN1_c_118438478.24</td>\n",
       "      <td>0.012341</td>\n",
       "      <td>-0.200292</td>\n",
       "      <td>-0.195294</td>\n",
       "      <td>-0.197793</td>\n",
       "      <td>0.067421</td>\n",
       "      <td>cccttggagaaCCAcctTGTTGGATCTGTTTTGCTCGtaatagGTT...</td>\n",
       "      <td>ARCN1</td>\n",
       "      <td>c_118438478.24</td>\n",
       "    </tr>\n",
       "    <tr>\n",
       "      <th>2</th>\n",
       "      <td>ARCN1_c_118438478.26</td>\n",
       "      <td>0.029811</td>\n",
       "      <td>0.434630</td>\n",
       "      <td>-0.004084</td>\n",
       "      <td>0.215273</td>\n",
       "      <td>1.269436</td>\n",
       "      <td>cccttggagaaCCAcctTGTTGGTGATCTGTTTTGCTCGtaatagG...</td>\n",
       "      <td>ARCN1</td>\n",
       "      <td>c_118438478.26</td>\n",
       "    </tr>\n",
       "    <tr>\n",
       "      <th>3</th>\n",
       "      <td>ARCN1_c_118438508.26</td>\n",
       "      <td>0.022175</td>\n",
       "      <td>0.108739</td>\n",
       "      <td>-0.563859</td>\n",
       "      <td>-0.227560</td>\n",
       "      <td>-0.019199</td>\n",
       "      <td>cccttggagaaCCAcctTGTTGgtaatgtgcagtacttactatgtG...</td>\n",
       "      <td>ARCN1</td>\n",
       "      <td>c_118438508.26</td>\n",
       "    </tr>\n",
       "    <tr>\n",
       "      <th>4</th>\n",
       "      <td>ARCN1_c_118438682.27</td>\n",
       "      <td>-0.031622</td>\n",
       "      <td>-0.651167</td>\n",
       "      <td>-0.009016</td>\n",
       "      <td>-0.330092</td>\n",
       "      <td>-0.317565</td>\n",
       "      <td>cccttggagaaCCAcctTGTTGgcgctgaaaatagcagccaaacac...</td>\n",
       "      <td>ARCN1</td>\n",
       "      <td>c_118438682.27</td>\n",
       "    </tr>\n",
       "  </tbody>\n",
       "</table>\n",
       "</div>"
      ],
      "text/plain": [
       "               guide id  dCas9-KRAB_rho_ave_LG2_LG_MH2_MH  \\\n",
       "0  ARCN1_c_118438373.25                         -0.120761   \n",
       "1  ARCN1_c_118438478.24                          0.012341   \n",
       "2  ARCN1_c_118438478.26                          0.029811   \n",
       "3  ARCN1_c_118438508.26                          0.022175   \n",
       "4  ARCN1_c_118438682.27                         -0.031622   \n",
       "\n",
       "   dCas9-KRAB ricin LG  dCas9-KRAB ricin MH   Avg_LFC  zscoreRelativeNC  \\\n",
       "0            -0.914327            -0.945535 -0.929931         -2.063088   \n",
       "1            -0.200292            -0.195294 -0.197793          0.067421   \n",
       "2             0.434630            -0.004084  0.215273          1.269436   \n",
       "3             0.108739            -0.563859 -0.227560         -0.019199   \n",
       "4            -0.651167            -0.009016 -0.330092         -0.317565   \n",
       "\n",
       "                                               oligo   Gene        Position  \n",
       "0  cccttggagaaCCAcctTGTTGGAAAACCTACCAGAGGTAAACAGT...  ARCN1  c_118438373.25  \n",
       "1  cccttggagaaCCAcctTGTTGGATCTGTTTTGCTCGtaatagGTT...  ARCN1  c_118438478.24  \n",
       "2  cccttggagaaCCAcctTGTTGGTGATCTGTTTTGCTCGtaatagG...  ARCN1  c_118438478.26  \n",
       "3  cccttggagaaCCAcctTGTTGgtaatgtgcagtacttactatgtG...  ARCN1  c_118438508.26  \n",
       "4  cccttggagaaCCAcctTGTTGgcgctgaaaatagcagccaaacac...  ARCN1  c_118438682.27  "
      ]
     },
     "execution_count": 13,
     "metadata": {},
     "output_type": "execute_result"
    }
   ],
   "source": [
    "dcas_krab[['Gene', 'Position']] = dcas_krab['guide id'].str.split(pat = '_', n = 1, expand=True)\n",
    "#dcas_krab.to_csv('/Users/fzheng/Library/CloudStorage/GoogleDrive-fzheng@broadinstitute.org/Shared drives/GPP Cloud /R&D/People/Fengyi/rule_set/crispri/data/2023/k562_tiling/CRISPRi/dcas_krab.csv', index = False)\n",
    "dcas_krab.head()"
   ]
  },
  {
   "cell_type": "markdown",
   "id": "d5f0c698",
   "metadata": {},
   "source": [
    "- RPS25 and C4orf41 only in CRISPRi\n",
    "- TRAPPC11 only in CRISPRko\n",
    "- 50 genes in CRISPRi instead of 49"
   ]
  },
  {
   "cell_type": "code",
   "execution_count": 14,
   "id": "c2c9c8fe",
   "metadata": {},
   "outputs": [
    {
     "name": "stdout",
     "output_type": "stream",
     "text": [
      "52541\n"
     ]
    }
   ],
   "source": [
    "# Drop negative controls and mismatches \n",
    "tiling_crispri = dcas_krab[dcas_krab['guide id'].str[:3] != \"neg\"]\n",
    "tiling_crispri = tiling_crispri[tiling_crispri['guide id'].str[:3] != \"mis\"]\n",
    "print(len(tiling_crispri))"
   ]
  },
  {
   "cell_type": "code",
   "execution_count": 15,
   "id": "45b5760b",
   "metadata": {},
   "outputs": [],
   "source": [
    "tiling_crispri[\"gene symbol\"] = tiling_crispri['guide id'].str.split(\"_\").str[0]\n",
    "tiling_crispri[\"temp\"] = tiling_crispri['guide id'].str.split(\"_\").str[2]\n",
    "tiling_crispri[\"pam coordinate (hg19)\"] = tiling_crispri.temp.str.split(\".\").str[0]\n",
    "tiling_crispri[\"length (including pam)\"] = tiling_crispri.temp.str.split(\".\").str[1]\n",
    "tiling_crispri.drop('temp', axis=1, inplace=True)\n"
   ]
  },
  {
   "cell_type": "code",
   "execution_count": 16,
   "id": "b119f0a4",
   "metadata": {},
   "outputs": [],
   "source": [
    "tiling_crispri.drop('Position', axis=1, inplace=True)\n",
    "tiling_crispri.drop('Gene', axis=1, inplace=True)"
   ]
  },
  {
   "cell_type": "code",
   "execution_count": 17,
   "id": "80a31379",
   "metadata": {},
   "outputs": [
    {
     "data": {
      "text/html": [
       "<div>\n",
       "<style scoped>\n",
       "    .dataframe tbody tr th:only-of-type {\n",
       "        vertical-align: middle;\n",
       "    }\n",
       "\n",
       "    .dataframe tbody tr th {\n",
       "        vertical-align: top;\n",
       "    }\n",
       "\n",
       "    .dataframe thead th {\n",
       "        text-align: right;\n",
       "    }\n",
       "</style>\n",
       "<table border=\"1\" class=\"dataframe\">\n",
       "  <thead>\n",
       "    <tr style=\"text-align: right;\">\n",
       "      <th></th>\n",
       "      <th>guide id</th>\n",
       "      <th>dCas9-KRAB_rho_ave_LG2_LG_MH2_MH</th>\n",
       "      <th>dCas9-KRAB ricin LG</th>\n",
       "      <th>dCas9-KRAB ricin MH</th>\n",
       "      <th>Avg_LFC</th>\n",
       "      <th>zscoreRelativeNC</th>\n",
       "      <th>oligo</th>\n",
       "      <th>gene symbol</th>\n",
       "      <th>pam coordinate (hg19)</th>\n",
       "      <th>length (including pam)</th>\n",
       "      <th>pam coordinate (hg19) - 1</th>\n",
       "    </tr>\n",
       "  </thead>\n",
       "  <tbody>\n",
       "    <tr>\n",
       "      <th>0</th>\n",
       "      <td>ARCN1_c_118438373.25</td>\n",
       "      <td>-0.120761</td>\n",
       "      <td>-0.914327</td>\n",
       "      <td>-0.945535</td>\n",
       "      <td>-0.929931</td>\n",
       "      <td>-2.063088</td>\n",
       "      <td>cccttggagaaCCAcctTGTTGGAAAACCTACCAGAGGTAAACAGT...</td>\n",
       "      <td>ARCN1</td>\n",
       "      <td>118438373</td>\n",
       "      <td>25</td>\n",
       "      <td>118438372</td>\n",
       "    </tr>\n",
       "    <tr>\n",
       "      <th>1</th>\n",
       "      <td>ARCN1_c_118438478.24</td>\n",
       "      <td>0.012341</td>\n",
       "      <td>-0.200292</td>\n",
       "      <td>-0.195294</td>\n",
       "      <td>-0.197793</td>\n",
       "      <td>0.067421</td>\n",
       "      <td>cccttggagaaCCAcctTGTTGGATCTGTTTTGCTCGtaatagGTT...</td>\n",
       "      <td>ARCN1</td>\n",
       "      <td>118438478</td>\n",
       "      <td>24</td>\n",
       "      <td>118438477</td>\n",
       "    </tr>\n",
       "    <tr>\n",
       "      <th>2</th>\n",
       "      <td>ARCN1_c_118438478.26</td>\n",
       "      <td>0.029811</td>\n",
       "      <td>0.434630</td>\n",
       "      <td>-0.004084</td>\n",
       "      <td>0.215273</td>\n",
       "      <td>1.269436</td>\n",
       "      <td>cccttggagaaCCAcctTGTTGGTGATCTGTTTTGCTCGtaatagG...</td>\n",
       "      <td>ARCN1</td>\n",
       "      <td>118438478</td>\n",
       "      <td>26</td>\n",
       "      <td>118438477</td>\n",
       "    </tr>\n",
       "    <tr>\n",
       "      <th>3</th>\n",
       "      <td>ARCN1_c_118438508.26</td>\n",
       "      <td>0.022175</td>\n",
       "      <td>0.108739</td>\n",
       "      <td>-0.563859</td>\n",
       "      <td>-0.227560</td>\n",
       "      <td>-0.019199</td>\n",
       "      <td>cccttggagaaCCAcctTGTTGgtaatgtgcagtacttactatgtG...</td>\n",
       "      <td>ARCN1</td>\n",
       "      <td>118438508</td>\n",
       "      <td>26</td>\n",
       "      <td>118438507</td>\n",
       "    </tr>\n",
       "    <tr>\n",
       "      <th>4</th>\n",
       "      <td>ARCN1_c_118438682.27</td>\n",
       "      <td>-0.031622</td>\n",
       "      <td>-0.651167</td>\n",
       "      <td>-0.009016</td>\n",
       "      <td>-0.330092</td>\n",
       "      <td>-0.317565</td>\n",
       "      <td>cccttggagaaCCAcctTGTTGgcgctgaaaatagcagccaaacac...</td>\n",
       "      <td>ARCN1</td>\n",
       "      <td>118438682</td>\n",
       "      <td>27</td>\n",
       "      <td>118438681</td>\n",
       "    </tr>\n",
       "    <tr>\n",
       "      <th>...</th>\n",
       "      <td>...</td>\n",
       "      <td>...</td>\n",
       "      <td>...</td>\n",
       "      <td>...</td>\n",
       "      <td>...</td>\n",
       "      <td>...</td>\n",
       "      <td>...</td>\n",
       "      <td>...</td>\n",
       "      <td>...</td>\n",
       "      <td>...</td>\n",
       "      <td>...</td>\n",
       "    </tr>\n",
       "    <tr>\n",
       "      <th>52536</th>\n",
       "      <td>YIPF5_w_143554761.28</td>\n",
       "      <td>-0.001537</td>\n",
       "      <td>-0.815790</td>\n",
       "      <td>0.322879</td>\n",
       "      <td>-0.246456</td>\n",
       "      <td>-0.074186</td>\n",
       "      <td>cccttggagaaCCAcctTGTTGgggcattacatggcacctacctca...</td>\n",
       "      <td>YIPF5</td>\n",
       "      <td>143554761</td>\n",
       "      <td>28</td>\n",
       "      <td>143554760</td>\n",
       "    </tr>\n",
       "    <tr>\n",
       "      <th>52537</th>\n",
       "      <td>YIPF5_w_143554879.28</td>\n",
       "      <td>0.024536</td>\n",
       "      <td>0.387752</td>\n",
       "      <td>0.217012</td>\n",
       "      <td>0.302382</td>\n",
       "      <td>1.522921</td>\n",
       "      <td>cccttggagaaCCAcctTGTTGgcctactgctttagcataaggact...</td>\n",
       "      <td>YIPF5</td>\n",
       "      <td>143554879</td>\n",
       "      <td>28</td>\n",
       "      <td>143554878</td>\n",
       "    </tr>\n",
       "    <tr>\n",
       "      <th>52538</th>\n",
       "      <td>YIPF5_w_143554997.27</td>\n",
       "      <td>-0.050816</td>\n",
       "      <td>-0.726116</td>\n",
       "      <td>-1.365320</td>\n",
       "      <td>-1.045718</td>\n",
       "      <td>-2.400026</td>\n",
       "      <td>cccttggagaaCCAcctTGTTGgtctagttgcaattttaatttata...</td>\n",
       "      <td>YIPF5</td>\n",
       "      <td>143554997</td>\n",
       "      <td>27</td>\n",
       "      <td>143554996</td>\n",
       "    </tr>\n",
       "    <tr>\n",
       "      <th>52539</th>\n",
       "      <td>YIPF5_w_143555197.28</td>\n",
       "      <td>-0.062784</td>\n",
       "      <td>-0.942657</td>\n",
       "      <td>-0.485616</td>\n",
       "      <td>-0.714136</td>\n",
       "      <td>-1.435129</td>\n",
       "      <td>cccttggagaaCCAcctTGTTGgtacagaatgtaaatccatgcagt...</td>\n",
       "      <td>YIPF5</td>\n",
       "      <td>143555197</td>\n",
       "      <td>28</td>\n",
       "      <td>143555196</td>\n",
       "    </tr>\n",
       "    <tr>\n",
       "      <th>52540</th>\n",
       "      <td>YIPF5_w_143555235.28</td>\n",
       "      <td>-0.004076</td>\n",
       "      <td>-0.751719</td>\n",
       "      <td>-0.102578</td>\n",
       "      <td>-0.427149</td>\n",
       "      <td>-0.600000</td>\n",
       "      <td>cccttggagaaCCAcctTGTTGgtttaaataaattactgaagctcc...</td>\n",
       "      <td>YIPF5</td>\n",
       "      <td>143555235</td>\n",
       "      <td>28</td>\n",
       "      <td>143555234</td>\n",
       "    </tr>\n",
       "  </tbody>\n",
       "</table>\n",
       "<p>52541 rows × 11 columns</p>\n",
       "</div>"
      ],
      "text/plain": [
       "                   guide id  dCas9-KRAB_rho_ave_LG2_LG_MH2_MH  \\\n",
       "0      ARCN1_c_118438373.25                         -0.120761   \n",
       "1      ARCN1_c_118438478.24                          0.012341   \n",
       "2      ARCN1_c_118438478.26                          0.029811   \n",
       "3      ARCN1_c_118438508.26                          0.022175   \n",
       "4      ARCN1_c_118438682.27                         -0.031622   \n",
       "...                     ...                               ...   \n",
       "52536  YIPF5_w_143554761.28                         -0.001537   \n",
       "52537  YIPF5_w_143554879.28                          0.024536   \n",
       "52538  YIPF5_w_143554997.27                         -0.050816   \n",
       "52539  YIPF5_w_143555197.28                         -0.062784   \n",
       "52540  YIPF5_w_143555235.28                         -0.004076   \n",
       "\n",
       "       dCas9-KRAB ricin LG  dCas9-KRAB ricin MH   Avg_LFC  zscoreRelativeNC  \\\n",
       "0                -0.914327            -0.945535 -0.929931         -2.063088   \n",
       "1                -0.200292            -0.195294 -0.197793          0.067421   \n",
       "2                 0.434630            -0.004084  0.215273          1.269436   \n",
       "3                 0.108739            -0.563859 -0.227560         -0.019199   \n",
       "4                -0.651167            -0.009016 -0.330092         -0.317565   \n",
       "...                    ...                  ...       ...               ...   \n",
       "52536            -0.815790             0.322879 -0.246456         -0.074186   \n",
       "52537             0.387752             0.217012  0.302382          1.522921   \n",
       "52538            -0.726116            -1.365320 -1.045718         -2.400026   \n",
       "52539            -0.942657            -0.485616 -0.714136         -1.435129   \n",
       "52540            -0.751719            -0.102578 -0.427149         -0.600000   \n",
       "\n",
       "                                                   oligo gene symbol  \\\n",
       "0      cccttggagaaCCAcctTGTTGGAAAACCTACCAGAGGTAAACAGT...       ARCN1   \n",
       "1      cccttggagaaCCAcctTGTTGGATCTGTTTTGCTCGtaatagGTT...       ARCN1   \n",
       "2      cccttggagaaCCAcctTGTTGGTGATCTGTTTTGCTCGtaatagG...       ARCN1   \n",
       "3      cccttggagaaCCAcctTGTTGgtaatgtgcagtacttactatgtG...       ARCN1   \n",
       "4      cccttggagaaCCAcctTGTTGgcgctgaaaatagcagccaaacac...       ARCN1   \n",
       "...                                                  ...         ...   \n",
       "52536  cccttggagaaCCAcctTGTTGgggcattacatggcacctacctca...       YIPF5   \n",
       "52537  cccttggagaaCCAcctTGTTGgcctactgctttagcataaggact...       YIPF5   \n",
       "52538  cccttggagaaCCAcctTGTTGgtctagttgcaattttaatttata...       YIPF5   \n",
       "52539  cccttggagaaCCAcctTGTTGgtacagaatgtaaatccatgcagt...       YIPF5   \n",
       "52540  cccttggagaaCCAcctTGTTGgtttaaataaattactgaagctcc...       YIPF5   \n",
       "\n",
       "       pam coordinate (hg19)  length (including pam)  \\\n",
       "0                  118438373                      25   \n",
       "1                  118438478                      24   \n",
       "2                  118438478                      26   \n",
       "3                  118438508                      26   \n",
       "4                  118438682                      27   \n",
       "...                      ...                     ...   \n",
       "52536              143554761                      28   \n",
       "52537              143554879                      28   \n",
       "52538              143554997                      27   \n",
       "52539              143555197                      28   \n",
       "52540              143555235                      28   \n",
       "\n",
       "       pam coordinate (hg19) - 1  \n",
       "0                      118438372  \n",
       "1                      118438477  \n",
       "2                      118438477  \n",
       "3                      118438507  \n",
       "4                      118438681  \n",
       "...                          ...  \n",
       "52536                  143554760  \n",
       "52537                  143554878  \n",
       "52538                  143554996  \n",
       "52539                  143555196  \n",
       "52540                  143555234  \n",
       "\n",
       "[52541 rows x 11 columns]"
      ]
     },
     "execution_count": 17,
     "metadata": {},
     "output_type": "execute_result"
    }
   ],
   "source": [
    "tiling_crispri[\"pam coordinate (hg19)\"] = tiling_crispri[\"pam coordinate (hg19)\"].astype(np.int64)\n",
    "tiling_crispri[\"length (including pam)\"] = tiling_crispri[\"length (including pam)\"].astype(np.int64)\n",
    "\n",
    "# The PAM site from the KO data seems to be off by 1 from the CRISPRi data (described in details in the basecamp post)\n",
    "tiling_crispri[\"pam coordinate (hg19) - 1\"] = tiling_crispri[\"pam coordinate (hg19)\"] - 1\n",
    "tiling_crispri\n"
   ]
  },
  {
   "cell_type": "code",
   "execution_count": 18,
   "id": "0c95253d",
   "metadata": {},
   "outputs": [
    {
     "data": {
      "text/plain": [
       "False"
      ]
     },
     "execution_count": 18,
     "metadata": {},
     "output_type": "execute_result"
    }
   ],
   "source": [
    "# check if theres any duplicates on the columns we are going to merge on \n",
    "tiling_crispri[['gene symbol', 'length (including pam)', 'pam coordinate (hg19) - 1']].duplicated().any()"
   ]
  },
  {
   "cell_type": "code",
   "execution_count": 19,
   "id": "f6f7004b",
   "metadata": {},
   "outputs": [
    {
     "data": {
      "text/plain": [
       "False"
      ]
     },
     "execution_count": 19,
     "metadata": {},
     "output_type": "execute_result"
    }
   ],
   "source": [
    "path = '../Data/ExternalData/CRISPRko Horlbeck/'\n",
    "new_tiling = pd.read_csv(path+'cleaned_horlbeck_tiling.csv') # cleaned ko\n",
    "\n",
    "new_tiling[['gene symbol', 'sgRNA length (including PAM)','PAM genomic coordinate [hg19]']].duplicated().any()"
   ]
  },
  {
   "cell_type": "code",
   "execution_count": 20,
   "id": "c09d8e6b",
   "metadata": {},
   "outputs": [],
   "source": [
    "merged_tiling = pd.merge(tiling_crispri, new_tiling, \n",
    "         left_on = ['gene symbol', 'length (including pam)', 'pam coordinate (hg19) - 1'],\n",
    "         right_on = ['gene symbol', 'sgRNA length (including PAM)','PAM genomic coordinate [hg19]'])"
   ]
  },
  {
   "cell_type": "code",
   "execution_count": 21,
   "id": "6fd8e1e9",
   "metadata": {},
   "outputs": [
    {
     "data": {
      "text/plain": [
       "cccttggagaaCCAcctTGTTGGAAAACCTACCAGAGGTAAACAGTTTAAGAGCTATGCTGGAAACAGCATAGCAAGTTTAAATAAGGCTAGTCCGTTATCAACTTGAAAAAGTGGCACCGAGTCGGTGCTTTTTTTagtcCtcgagcgtcgaggatccattagg    1\n",
       "cccttggagaaCCAcctTGTTGgtggcaTAATGAAATTTTTCATcaGTTTAAGAGCTATGCTGGAAACAGCATAGCAAGTTTAAATAAGGCTAGTCCGTTATCAACTTGAAAAAGTGGCACCGAGTCGGTGCTTTTTTTagCtcgagcgtcgaggatccattagg    1\n",
       "cccttggagaaCCAcctTGTTGgggactgttctgtatattgtgtGTTTAAGAGCTATGCTGGAAACAGCATAGCAAGTTTAAATAAGGCTAGTCCGTTATCAACTTGAAAAAGTGGCACCGAGTCGGTGCTTTTTTTagtcCtcgagcgtcgaggatccattagg    1\n",
       "cccttggagaaCCAcctTGTTGggggactgttctgtatattgtgtGTTTAAGAGCTATGCTGGAAACAGCATAGCAAGTTTAAATAAGGCTAGTCCGTTATCAACTTGAAAAAGTGGCACCGAGTCGGTGCTTTTTTTagtCtcgagcgtcgaggatccattagg    1\n",
       "cccttggagaaCCAcctTGTTGgactgttctgtatattgtgtaggGTTTAAGAGCTATGCTGGAAACAGCATAGCAAGTTTAAATAAGGCTAGTCCGTTATCAACTTGAAAAAGTGGCACCGAGTCGGTGCTTTTTTTagtCtcgagcgtcgaggatccattagg    1\n",
       "                                                                                                                                                                        ..\n",
       "cccttggagaaCCAcctTGTTGGCCCAGCCCGCCGAGAGGCTCGTTTAAGAGCTATGCTGGAAACAGCATAGCAAGTTTAAATAAGGCTAGTCCGTTATCAACTTGAAAAAGTGGCACCGAGTCGGTGCTTTTTTTagtcaCtcgagcgtcgaggatccattagg    1\n",
       "cccttggagaaCCAcctTGTTGGCGCCCAGCCCGCCGAGAGGCTCGTTTAAGAGCTATGCTGGAAACAGCATAGCAAGTTTAAATAAGGCTAGTCCGTTATCAACTTGAAAAAGTGGCACCGAGTCGGTGCTTTTTTTagtCtcgagcgtcgaggatccattagg    1\n",
       "cccttggagaaCCAcctTGTTGGCCCGCCGAGAGGCTCAGGCCCCGTTTAAGAGCTATGCTGGAAACAGCATAGCAAGTTTAAATAAGGCTAGTCCGTTATCAACTTGAAAAAGTGGCACCGAGTCGGTGCTTTTTTTagtCtcgagcgtcgaggatccattagg    1\n",
       "cccttggagaaCCAcctTGTTGGCCGAGAGGCTCAGGCCCCGGGGTTTAAGAGCTATGCTGGAAACAGCATAGCAAGTTTAAATAAGGCTAGTCCGTTATCAACTTGAAAAAGTGGCACCGAGTCGGTGCTTTTTTTagtcCtcgagcgtcgaggatccattagg    1\n",
       "cccttggagaaCCAcctTGTTGgtttaaataaattactgaagctccaGTTTAAGAGCTATGCTGGAAACAGCATAGCAAGTTTAAATAAGGCTAGTCCGTTATCAACTTGAAAAAGTGGCACCGAGTCGGTGCTTTTTTTaCtcgagcgtcgaggatccattagg    1\n",
       "Name: oligo, Length: 51101, dtype: int64"
      ]
     },
     "execution_count": 21,
     "metadata": {},
     "output_type": "execute_result"
    }
   ],
   "source": [
    "# check unique oligo; all oligos are unique\n",
    "merged_tiling['oligo'].value_counts()"
   ]
  },
  {
   "cell_type": "code",
   "execution_count": 22,
   "id": "a17afad6",
   "metadata": {},
   "outputs": [
    {
     "data": {
      "text/plain": [
       "GAAAACCTACCAGAGGTAAACA       1\n",
       "gtggcaTAATGAAATTTTTCATca     1\n",
       "gggactgttctgtatattgtgt       1\n",
       "ggggactgttctgtatattgtgt      1\n",
       "gactgttctgtatattgtgtagg      1\n",
       "                            ..\n",
       "GCCCAGCCCGCCGAGAGGCTC        1\n",
       "GCGCCCAGCCCGCCGAGAGGCTC      1\n",
       "GCCCGCCGAGAGGCTCAGGCCCC      1\n",
       "GCCGAGAGGCTCAGGCCCCGGG       1\n",
       "gtttaaataaattactgaagctcca    1\n",
       "Name: sgRNA sequence, Length: 51101, dtype: int64"
      ]
     },
     "execution_count": 22,
     "metadata": {},
     "output_type": "execute_result"
    }
   ],
   "source": [
    "# check unique sgRNA sequence; all sgRNA sequence are unique\n",
    "merged_tiling['sgRNA sequence'].value_counts()"
   ]
  },
  {
   "cell_type": "code",
   "execution_count": 23,
   "id": "c27ebf06",
   "metadata": {},
   "outputs": [
    {
     "data": {
      "text/plain": [
       "51101"
      ]
     },
     "execution_count": 23,
     "metadata": {},
     "output_type": "execute_result"
    }
   ],
   "source": [
    "# number of overlap between merged ko and crispri\n",
    "# looks like all the rows have ko and crispri overlapped yayy!!\n",
    "\n",
    "sum(merged_tiling.apply(lambda row: row['sgRNA sequence'] in row['oligo'],\n",
    "                     axis=1))"
   ]
  },
  {
   "cell_type": "code",
   "execution_count": 24,
   "id": "3edff031",
   "metadata": {},
   "outputs": [
    {
     "data": {
      "text/plain": [
       "gene symbol                         48\n",
       "chromosome                          16\n",
       "strand targeted                      2\n",
       "PAM genomic coordinate [hg38]    29243\n",
       "dtype: int64"
      ]
     },
     "execution_count": 24,
     "metadata": {},
     "output_type": "execute_result"
    }
   ],
   "source": [
    "merged_tiling[['gene symbol', 'chromosome', 'strand targeted','PAM genomic coordinate [hg38]']].nunique()"
   ]
  },
  {
   "cell_type": "code",
   "execution_count": 25,
   "id": "3f02ffc8",
   "metadata": {},
   "outputs": [
    {
     "data": {
      "text/html": [
       "<div>\n",
       "<style scoped>\n",
       "    .dataframe tbody tr th:only-of-type {\n",
       "        vertical-align: middle;\n",
       "    }\n",
       "\n",
       "    .dataframe tbody tr th {\n",
       "        vertical-align: top;\n",
       "    }\n",
       "\n",
       "    .dataframe thead th {\n",
       "        text-align: right;\n",
       "    }\n",
       "</style>\n",
       "<table border=\"1\" class=\"dataframe\">\n",
       "  <thead>\n",
       "    <tr style=\"text-align: right;\">\n",
       "      <th></th>\n",
       "      <th>gene symbol</th>\n",
       "      <th>chromosome</th>\n",
       "      <th>strand targeted</th>\n",
       "      <th>hg38_coord</th>\n",
       "      <th>context seq</th>\n",
       "      <th>Position relative to FANTOM5 TSS</th>\n",
       "      <th>absolute z-score</th>\n",
       "      <th>rs3 score</th>\n",
       "    </tr>\n",
       "  </thead>\n",
       "  <tbody>\n",
       "    <tr>\n",
       "      <th>0</th>\n",
       "      <td>ARCN1</td>\n",
       "      <td>chr11</td>\n",
       "      <td>+</td>\n",
       "      <td>118567638.0</td>\n",
       "      <td>GCACTTTCCTTGTTTACCTCTGGTAGGTTT</td>\n",
       "      <td>-4793.0</td>\n",
       "      <td>0.409907</td>\n",
       "      <td>-0.067121</td>\n",
       "    </tr>\n",
       "    <tr>\n",
       "      <th>1</th>\n",
       "      <td>ARCN1</td>\n",
       "      <td>chr11</td>\n",
       "      <td>+</td>\n",
       "      <td>118567850.0</td>\n",
       "      <td>ATTGGCAGTAACATCTATCTCATAAGGTTG</td>\n",
       "      <td>-4581.0</td>\n",
       "      <td>0.694579</td>\n",
       "      <td>-0.554137</td>\n",
       "    </tr>\n",
       "    <tr>\n",
       "      <th>2</th>\n",
       "      <td>ARCN1</td>\n",
       "      <td>chr11</td>\n",
       "      <td>+</td>\n",
       "      <td>118567997.0</td>\n",
       "      <td>TCCCATAGTGGCAGTATCTTATAATGGTTA</td>\n",
       "      <td>-4434.0</td>\n",
       "      <td>0.566546</td>\n",
       "      <td>-0.090399</td>\n",
       "    </tr>\n",
       "    <tr>\n",
       "      <th>3</th>\n",
       "      <td>ARCN1</td>\n",
       "      <td>chr11</td>\n",
       "      <td>+</td>\n",
       "      <td>118568013.0</td>\n",
       "      <td>CATGCTTCTTGAGGAGTCCCATAGTGGCAG</td>\n",
       "      <td>-4418.0</td>\n",
       "      <td>0.997859</td>\n",
       "      <td>0.220064</td>\n",
       "    </tr>\n",
       "    <tr>\n",
       "      <th>4</th>\n",
       "      <td>ARCN1</td>\n",
       "      <td>chr11</td>\n",
       "      <td>+</td>\n",
       "      <td>118568026.0</td>\n",
       "      <td>GCAACCCTGTAAGCATGCTTCTTGAGGAGT</td>\n",
       "      <td>-4405.0</td>\n",
       "      <td>0.386895</td>\n",
       "      <td>-0.563347</td>\n",
       "    </tr>\n",
       "  </tbody>\n",
       "</table>\n",
       "</div>"
      ],
      "text/plain": [
       "  gene symbol chromosome strand targeted   hg38_coord  \\\n",
       "0       ARCN1      chr11               +  118567638.0   \n",
       "1       ARCN1      chr11               +  118567850.0   \n",
       "2       ARCN1      chr11               +  118567997.0   \n",
       "3       ARCN1      chr11               +  118568013.0   \n",
       "4       ARCN1      chr11               +  118568026.0   \n",
       "\n",
       "                      context seq  Position relative to FANTOM5 TSS  \\\n",
       "0  GCACTTTCCTTGTTTACCTCTGGTAGGTTT                           -4793.0   \n",
       "1  ATTGGCAGTAACATCTATCTCATAAGGTTG                           -4581.0   \n",
       "2  TCCCATAGTGGCAGTATCTTATAATGGTTA                           -4434.0   \n",
       "3  CATGCTTCTTGAGGAGTCCCATAGTGGCAG                           -4418.0   \n",
       "4  GCAACCCTGTAAGCATGCTTCTTGAGGAGT                           -4405.0   \n",
       "\n",
       "   absolute z-score  rs3 score  \n",
       "0          0.409907  -0.067121  \n",
       "1          0.694579  -0.554137  \n",
       "2          0.566546  -0.090399  \n",
       "3          0.997859   0.220064  \n",
       "4          0.386895  -0.563347  "
      ]
     },
     "execution_count": 25,
     "metadata": {},
     "output_type": "execute_result"
    }
   ],
   "source": [
    "#import dany's annotation of context seq for CRSIPRko\n",
    "#2023/CRISPRiAnalysis /Dany/Horlbeck KO Ricin Tiling\n",
    "# Horlbeck-KO.ipynb to get the coordinates \n",
    "# RS3 Scores for Horlbeck tiling guides.ipynb use the coordinate file from Horlbeck-KO.ipynb as input to get context seq\n",
    "dany_context_seq = pd.read_csv('../Data/ExternalData/CRISPRko Horlbeck/Dany-horlbeck-tiling-with-rs3.csv')\n",
    "dany_context_seq.head()"
   ]
  },
  {
   "cell_type": "markdown",
   "id": "2cb086e1",
   "metadata": {},
   "source": [
    "in the current cleaned Gilbert Rising datasets there are guides with 25 nts and its not completely in the context sequence because 25+6 = 31 and larger than 30 nts context sequence length. Gilbert length is gene_c/w_coord.(length + 3). So need to remember to reive guide id ends with 28"
   ]
  },
  {
   "cell_type": "code",
   "execution_count": 26,
   "id": "f4b3f779",
   "metadata": {},
   "outputs": [],
   "source": [
    "merged_tiling['length'] = merged_tiling['guide id'].str[-2:]\n",
    "merged_tiling = merged_tiling[merged_tiling['length'] != '28']"
   ]
  },
  {
   "cell_type": "code",
   "execution_count": 27,
   "id": "a3df1ca2",
   "metadata": {},
   "outputs": [
    {
     "data": {
      "text/plain": [
       "True"
      ]
     },
     "execution_count": 27,
     "metadata": {},
     "output_type": "execute_result"
    }
   ],
   "source": [
    "# check if the dataframe im merging has duplicates\n",
    "merged_tiling[['gene symbol', 'chromosome', 'strand targeted','PAM genomic coordinate [hg38]']].duplicated().any()"
   ]
  },
  {
   "cell_type": "code",
   "execution_count": 28,
   "id": "a93a38a1",
   "metadata": {},
   "outputs": [
    {
     "data": {
      "text/plain": [
       "False"
      ]
     },
     "execution_count": 28,
     "metadata": {},
     "output_type": "execute_result"
    }
   ],
   "source": [
    "# check if the dataframe im merging has duplicates\n",
    "dany_context_seq.rename(columns={'hg38_coord':'PAM genomic coordinate [hg38]'})[['gene symbol', 'chromosome', 'strand targeted','PAM genomic coordinate [hg38]']].duplicated().any()\n"
   ]
  },
  {
   "cell_type": "code",
   "execution_count": 29,
   "id": "b7e9bff7",
   "metadata": {},
   "outputs": [],
   "source": [
    "merged_tiling_w_context = pd.merge(\n",
    "         dany_context_seq[['gene symbol', 'chromosome', 'strand targeted', 'hg38_coord',\n",
    "       'context seq']].rename(columns={'hg38_coord':'PAM genomic coordinate [hg38]'}),\n",
    "    merged_tiling[['guide id', 'oligo', 'gene symbol', 'chromosome',\n",
    "       'strand targeted', 'sgRNA sequence','PAM genomic coordinate [hg38]',\n",
    "        'dCas9-KRAB_rho_ave_LG2_LG_MH2_MH', 'zscoreRelativeNC','Avg_LFC']],\n",
    "         on = ['gene symbol', 'chromosome', 'strand targeted','PAM genomic coordinate [hg38]'],\n",
    "                     how = 'inner')"
   ]
  },
  {
   "cell_type": "code",
   "execution_count": 30,
   "id": "92d2ff25",
   "metadata": {},
   "outputs": [
    {
     "data": {
      "text/plain": [
       "GCACTTTCCTTGTTTACCTCTGGT    1\n",
       "gagttgtaaaatagcatactcaa     1\n",
       "GATTCAAATATTCAGCAACCTGCT    1\n",
       "GATTCAAATATTCAGCAACCTGC     1\n",
       "gctcagccTAAATTCTGTATTTCT    1\n",
       "                           ..\n",
       "GCCCCTCAGCCCGCCGGACTC       1\n",
       "GAGCTTCGCCTCTGTAGCTC        1\n",
       "GTCTGAGCTTCGCCTCTGTAGCTC    1\n",
       "GCCTCTGTAGCTCCGGTTTAG       1\n",
       "gagtccttatgctaaagcagt       1\n",
       "Name: sgRNA sequence, Length: 39009, dtype: int64"
      ]
     },
     "execution_count": 30,
     "metadata": {},
     "output_type": "execute_result"
    }
   ],
   "source": [
    "merged_tiling_w_context['sgRNA sequence'].value_counts()"
   ]
  },
  {
   "cell_type": "code",
   "execution_count": 31,
   "id": "1af2d3da",
   "metadata": {},
   "outputs": [
    {
     "data": {
      "text/plain": [
       "GGGGTGTGCCTGCAAATGTCCGCGTGGTTC    5\n",
       "GGGGAGGGTGGCGCGGGTAGAAACCGGCTT    5\n",
       "GGGGCGGAACAGAACTGGGCGCGCGGGGGC    5\n",
       "GAGGGGTGACCTTTAACCTTTGGAAGGGCA    5\n",
       "GGGGGCGATGGAATCCGGGAGCGGTGGAAC    5\n",
       "                                 ..\n",
       "GAACCTCTATACATGCAACGACTTGGGGAG    1\n",
       "ACAGACAACTCATCTCTTACCCACAGGTAA    1\n",
       "TAAGAAACTGAGTATCATCTCCTTTGGCCC    1\n",
       "AGTATCATCTCCTTTGGCCCGGTGTGGTGG    1\n",
       "CCTGAGTCCTTATGCTAAAGCAGTAGGCTG    1\n",
       "Name: context seq, Length: 24797, dtype: int64"
      ]
     },
     "execution_count": 31,
     "metadata": {},
     "output_type": "execute_result"
    }
   ],
   "source": [
    "merged_tiling_w_context['context seq'].value_counts()"
   ]
  },
  {
   "cell_type": "code",
   "execution_count": 32,
   "id": "3fbcbb9e",
   "metadata": {},
   "outputs": [
    {
     "data": {
      "text/html": [
       "<div>\n",
       "<style scoped>\n",
       "    .dataframe tbody tr th:only-of-type {\n",
       "        vertical-align: middle;\n",
       "    }\n",
       "\n",
       "    .dataframe tbody tr th {\n",
       "        vertical-align: top;\n",
       "    }\n",
       "\n",
       "    .dataframe thead th {\n",
       "        text-align: right;\n",
       "    }\n",
       "</style>\n",
       "<table border=\"1\" class=\"dataframe\">\n",
       "  <thead>\n",
       "    <tr style=\"text-align: right;\">\n",
       "      <th></th>\n",
       "      <th>gene symbol</th>\n",
       "      <th>chromosome</th>\n",
       "      <th>strand targeted</th>\n",
       "      <th>PAM genomic coordinate [hg38]</th>\n",
       "      <th>context seq</th>\n",
       "      <th>guide id</th>\n",
       "      <th>oligo</th>\n",
       "      <th>sgRNA sequence</th>\n",
       "      <th>dCas9-KRAB_rho_ave_LG2_LG_MH2_MH</th>\n",
       "      <th>zscoreRelativeNC</th>\n",
       "      <th>Avg_LFC</th>\n",
       "    </tr>\n",
       "  </thead>\n",
       "  <tbody>\n",
       "    <tr>\n",
       "      <th>26401</th>\n",
       "      <td>SEC23B</td>\n",
       "      <td>chr20</td>\n",
       "      <td>-</td>\n",
       "      <td>18507952.0</td>\n",
       "      <td>CCGGAGCCTGCTTGTTGCAGCTGTGGGTGA</td>\n",
       "      <td>SEC23B_c_18488597.24</td>\n",
       "      <td>cccttggagaaCCAcctTGTTGGAGCCTGCTTGTTGCAGCTGTGTT...</td>\n",
       "      <td>GAGCCTGCTTGTTGCAGCTGT</td>\n",
       "      <td>0.806408</td>\n",
       "      <td>16.880138</td>\n",
       "      <td>5.579808</td>\n",
       "    </tr>\n",
       "    <tr>\n",
       "      <th>26402</th>\n",
       "      <td>SEC23B</td>\n",
       "      <td>chr20</td>\n",
       "      <td>-</td>\n",
       "      <td>18507952.0</td>\n",
       "      <td>CCGGAGCCTGCTTGTTGCAGCTGTGGGTGA</td>\n",
       "      <td>SEC23B_c_18488597.25</td>\n",
       "      <td>cccttggagaaCCAcctTGTTGGGAGCCTGCTTGTTGCAGCTGTGT...</td>\n",
       "      <td>GGAGCCTGCTTGTTGCAGCTGT</td>\n",
       "      <td>0.817704</td>\n",
       "      <td>16.855899</td>\n",
       "      <td>5.571478</td>\n",
       "    </tr>\n",
       "  </tbody>\n",
       "</table>\n",
       "</div>"
      ],
      "text/plain": [
       "      gene symbol chromosome strand targeted  PAM genomic coordinate [hg38]  \\\n",
       "26401      SEC23B      chr20               -                     18507952.0   \n",
       "26402      SEC23B      chr20               -                     18507952.0   \n",
       "\n",
       "                          context seq              guide id  \\\n",
       "26401  CCGGAGCCTGCTTGTTGCAGCTGTGGGTGA  SEC23B_c_18488597.24   \n",
       "26402  CCGGAGCCTGCTTGTTGCAGCTGTGGGTGA  SEC23B_c_18488597.25   \n",
       "\n",
       "                                                   oligo  \\\n",
       "26401  cccttggagaaCCAcctTGTTGGAGCCTGCTTGTTGCAGCTGTGTT...   \n",
       "26402  cccttggagaaCCAcctTGTTGGGAGCCTGCTTGTTGCAGCTGTGT...   \n",
       "\n",
       "               sgRNA sequence  dCas9-KRAB_rho_ave_LG2_LG_MH2_MH  \\\n",
       "26401   GAGCCTGCTTGTTGCAGCTGT                          0.806408   \n",
       "26402  GGAGCCTGCTTGTTGCAGCTGT                          0.817704   \n",
       "\n",
       "       zscoreRelativeNC   Avg_LFC  \n",
       "26401         16.880138  5.579808  \n",
       "26402         16.855899  5.571478  "
      ]
     },
     "execution_count": 32,
     "metadata": {},
     "output_type": "execute_result"
    }
   ],
   "source": [
    "# check out duplicated context seq\n",
    "dupliated_df_same_gene = merged_tiling_w_context[merged_tiling_w_context[['context seq','gene symbol']].duplicated(keep = False)]\n",
    "dupliated_df_same_gene[dupliated_df_same_gene['context seq'] == 'CCGGAGCCTGCTTGTTGCAGCTGTGGGTGA']"
   ]
  },
  {
   "cell_type": "code",
   "execution_count": 33,
   "id": "df4d30c8",
   "metadata": {},
   "outputs": [
    {
     "data": {
      "text/plain": [
       "True"
      ]
     },
     "execution_count": 33,
     "metadata": {},
     "output_type": "execute_result"
    }
   ],
   "source": [
    "len(merged_tiling_w_context[merged_tiling_w_context[['context seq']].duplicated(keep = False)]) == len(dupliated_df_same_gene)\n",
    "# all the duplicated seq are within gene"
   ]
  },
  {
   "cell_type": "code",
   "execution_count": 34,
   "id": "3a786cdc",
   "metadata": {},
   "outputs": [],
   "source": [
    "# if the duplicated context seq are within the same gene then i take the average rho\n",
    "for seq in dupliated_df_same_gene['context seq'].unique():\n",
    "    seq_df = merged_tiling_w_context[merged_tiling_w_context['context seq'] == seq]\n",
    "    if len(set(seq_df['gene symbol'])) == 1:\n",
    "        merged_tiling_w_context.loc[seq_df.index,'dCas9-KRAB_rho_ave_LG2_LG_MH2_MH'] = seq_df['dCas9-KRAB_rho_ave_LG2_LG_MH2_MH'].mean()\n",
    "        merged_tiling_w_context.loc[seq_df.index,'zscoreRelativeNC'] = seq_df['zscoreRelativeNC'].mean()\n",
    "        merged_tiling_w_context.loc[seq_df.index,'Avg_LFC'] = seq_df['Avg_LFC'].mean()\n",
    "\n"
   ]
  },
  {
   "cell_type": "code",
   "execution_count": 35,
   "id": "d625e419",
   "metadata": {},
   "outputs": [],
   "source": [
    "cleaned_df = merged_tiling_w_context.drop_duplicates(['gene symbol','context seq','dCas9-KRAB_rho_ave_LG2_LG_MH2_MH'], keep = 'first').copy()"
   ]
  },
  {
   "cell_type": "code",
   "execution_count": 36,
   "id": "dc6a925e",
   "metadata": {},
   "outputs": [
    {
     "data": {
      "text/html": [
       "<div>\n",
       "<style scoped>\n",
       "    .dataframe tbody tr th:only-of-type {\n",
       "        vertical-align: middle;\n",
       "    }\n",
       "\n",
       "    .dataframe tbody tr th {\n",
       "        vertical-align: top;\n",
       "    }\n",
       "\n",
       "    .dataframe thead th {\n",
       "        text-align: right;\n",
       "    }\n",
       "</style>\n",
       "<table border=\"1\" class=\"dataframe\">\n",
       "  <thead>\n",
       "    <tr style=\"text-align: right;\">\n",
       "      <th></th>\n",
       "      <th>gene symbol</th>\n",
       "      <th>chromosome</th>\n",
       "      <th>strand targeted</th>\n",
       "      <th>PAM genomic coordinate [hg38]</th>\n",
       "      <th>context seq</th>\n",
       "      <th>guide id</th>\n",
       "      <th>oligo</th>\n",
       "      <th>sgRNA sequence</th>\n",
       "      <th>dCas9-KRAB_rho_ave_LG2_LG_MH2_MH</th>\n",
       "      <th>zscoreRelativeNC</th>\n",
       "      <th>Avg_LFC</th>\n",
       "    </tr>\n",
       "  </thead>\n",
       "  <tbody>\n",
       "  </tbody>\n",
       "</table>\n",
       "</div>"
      ],
      "text/plain": [
       "Empty DataFrame\n",
       "Columns: [gene symbol, chromosome, strand targeted, PAM genomic coordinate [hg38], context seq, guide id, oligo, sgRNA sequence, dCas9-KRAB_rho_ave_LG2_LG_MH2_MH, zscoreRelativeNC, Avg_LFC]\n",
       "Index: []"
      ]
     },
     "execution_count": 36,
     "metadata": {},
     "output_type": "execute_result"
    }
   ],
   "source": [
    "# no duplicates\n",
    "cleaned_df[cleaned_df.duplicated()]"
   ]
  },
  {
   "cell_type": "code",
   "execution_count": 37,
   "id": "af1bcd95",
   "metadata": {},
   "outputs": [
    {
     "data": {
      "text/plain": [
       "True"
      ]
     },
     "execution_count": 37,
     "metadata": {},
     "output_type": "execute_result"
    }
   ],
   "source": [
    "cleaned_df['context seq'].nunique() == len(cleaned_df)"
   ]
  },
  {
   "cell_type": "code",
   "execution_count": 38,
   "id": "d767d504",
   "metadata": {},
   "outputs": [
    {
     "data": {
      "text/plain": [
       "0"
      ]
     },
     "execution_count": 38,
     "metadata": {},
     "output_type": "execute_result"
    }
   ],
   "source": [
    "sum(cleaned_df['context seq'].str[25:27] != 'GG')"
   ]
  },
  {
   "cell_type": "code",
   "execution_count": 39,
   "id": "9b5a0dd2",
   "metadata": {},
   "outputs": [],
   "source": [
    "cleaned_df['sgRNA sequence in Context'] = cleaned_df.apply(lambda row: row['sgRNA sequence'].upper() in row['context seq'].upper(),\n",
    "                     axis=1)\n",
    "# only kept rows with sgRNA in Context\n",
    "cleaned_df = cleaned_df[cleaned_df['sgRNA sequence in Context'] == True]"
   ]
  },
  {
   "cell_type": "code",
   "execution_count": 40,
   "id": "1ba0087b",
   "metadata": {},
   "outputs": [
    {
     "data": {
      "text/html": [
       "<div>\n",
       "<style scoped>\n",
       "    .dataframe tbody tr th:only-of-type {\n",
       "        vertical-align: middle;\n",
       "    }\n",
       "\n",
       "    .dataframe tbody tr th {\n",
       "        vertical-align: top;\n",
       "    }\n",
       "\n",
       "    .dataframe thead th {\n",
       "        text-align: right;\n",
       "    }\n",
       "</style>\n",
       "<table border=\"1\" class=\"dataframe\">\n",
       "  <thead>\n",
       "    <tr style=\"text-align: right;\">\n",
       "      <th></th>\n",
       "      <th>gene symbol</th>\n",
       "      <th>chromosome</th>\n",
       "      <th>strand targeted</th>\n",
       "      <th>PAM genomic coordinate [hg38]</th>\n",
       "      <th>context seq</th>\n",
       "      <th>guide id</th>\n",
       "      <th>oligo</th>\n",
       "      <th>sgRNA sequence</th>\n",
       "      <th>dCas9-KRAB_rho_ave_LG2_LG_MH2_MH</th>\n",
       "      <th>zscoreRelativeNC</th>\n",
       "      <th>Avg_LFC</th>\n",
       "      <th>sgRNA sequence in Context</th>\n",
       "    </tr>\n",
       "  </thead>\n",
       "  <tbody>\n",
       "    <tr>\n",
       "      <th>26401</th>\n",
       "      <td>SEC23B</td>\n",
       "      <td>chr20</td>\n",
       "      <td>-</td>\n",
       "      <td>18507952.0</td>\n",
       "      <td>CCGGAGCCTGCTTGTTGCAGCTGTGGGTGA</td>\n",
       "      <td>SEC23B_c_18488597.24</td>\n",
       "      <td>cccttggagaaCCAcctTGTTGGAGCCTGCTTGTTGCAGCTGTGTT...</td>\n",
       "      <td>GAGCCTGCTTGTTGCAGCTGT</td>\n",
       "      <td>0.812056</td>\n",
       "      <td>16.868019</td>\n",
       "      <td>5.575643</td>\n",
       "      <td>True</td>\n",
       "    </tr>\n",
       "  </tbody>\n",
       "</table>\n",
       "</div>"
      ],
      "text/plain": [
       "      gene symbol chromosome strand targeted  PAM genomic coordinate [hg38]  \\\n",
       "26401      SEC23B      chr20               -                     18507952.0   \n",
       "\n",
       "                          context seq              guide id  \\\n",
       "26401  CCGGAGCCTGCTTGTTGCAGCTGTGGGTGA  SEC23B_c_18488597.24   \n",
       "\n",
       "                                                   oligo  \\\n",
       "26401  cccttggagaaCCAcctTGTTGGAGCCTGCTTGTTGCAGCTGTGTT...   \n",
       "\n",
       "              sgRNA sequence  dCas9-KRAB_rho_ave_LG2_LG_MH2_MH  \\\n",
       "26401  GAGCCTGCTTGTTGCAGCTGT                          0.812056   \n",
       "\n",
       "       zscoreRelativeNC   Avg_LFC  sgRNA sequence in Context  \n",
       "26401         16.868019  5.575643                       True  "
      ]
     },
     "execution_count": 40,
     "metadata": {},
     "output_type": "execute_result"
    }
   ],
   "source": [
    "cleaned_df[cleaned_df['context seq'] == 'CCGGAGCCTGCTTGTTGCAGCTGTGGGTGA']"
   ]
  },
  {
   "cell_type": "code",
   "execution_count": 41,
   "id": "95acc6b8",
   "metadata": {},
   "outputs": [
    {
     "data": {
      "text/plain": [
       "24791"
      ]
     },
     "execution_count": 41,
     "metadata": {},
     "output_type": "execute_result"
    }
   ],
   "source": [
    "len(cleaned_df)"
   ]
  },
  {
   "cell_type": "markdown",
   "id": "402c1671",
   "metadata": {},
   "source": [
    "To figure out which guides are expected to offer resistance vs susceptibility to ricin, I am looking to the referenced Bassik et al. 2013 publication that identifies these ricin-associated genes. The column \"(P)rotective or (S)ensitizing\" assigns a P to all genes whose knockdown has a protective effect against ricin. Thus, the gene itself is understood to increase susceptibility to ricin. Genes with an \"S\" have a sensitizing effect against ricin when they are knocked down, so these genes generally offer resistance to ricin."
   ]
  },
  {
   "cell_type": "code",
   "execution_count": 42,
   "id": "59bfdf76",
   "metadata": {},
   "outputs": [
    {
     "data": {
      "text/html": [
       "<div>\n",
       "<style scoped>\n",
       "    .dataframe tbody tr th:only-of-type {\n",
       "        vertical-align: middle;\n",
       "    }\n",
       "\n",
       "    .dataframe tbody tr th {\n",
       "        vertical-align: top;\n",
       "    }\n",
       "\n",
       "    .dataframe thead th {\n",
       "        text-align: right;\n",
       "    }\n",
       "</style>\n",
       "<table border=\"1\" class=\"dataframe\">\n",
       "  <thead>\n",
       "    <tr style=\"text-align: right;\">\n",
       "      <th></th>\n",
       "      <th>gene symbol</th>\n",
       "      <th>dCas9-KRAB_rho_ave_LG2_LG_MH2_MH</th>\n",
       "      <th>gene</th>\n",
       "      <th>Target Gene Function</th>\n",
       "    </tr>\n",
       "  </thead>\n",
       "  <tbody>\n",
       "    <tr>\n",
       "      <th>0</th>\n",
       "      <td>ARCN1</td>\n",
       "      <td>-0.031522</td>\n",
       "      <td>ARCN1</td>\n",
       "      <td>Resistance</td>\n",
       "    </tr>\n",
       "    <tr>\n",
       "      <th>1</th>\n",
       "      <td>ARF1</td>\n",
       "      <td>0.008126</td>\n",
       "      <td>ARF1</td>\n",
       "      <td>Susceptibility</td>\n",
       "    </tr>\n",
       "    <tr>\n",
       "      <th>2</th>\n",
       "      <td>ARL1</td>\n",
       "      <td>-0.054248</td>\n",
       "      <td>ARL1</td>\n",
       "      <td>Resistance</td>\n",
       "    </tr>\n",
       "    <tr>\n",
       "      <th>3</th>\n",
       "      <td>C17orf75</td>\n",
       "      <td>-0.028955</td>\n",
       "      <td>C17orf75</td>\n",
       "      <td>Resistance</td>\n",
       "    </tr>\n",
       "    <tr>\n",
       "      <th>4</th>\n",
       "      <td>CARM1</td>\n",
       "      <td>0.008909</td>\n",
       "      <td>CARM1</td>\n",
       "      <td>Susceptibility</td>\n",
       "    </tr>\n",
       "    <tr>\n",
       "      <th>5</th>\n",
       "      <td>CCT7</td>\n",
       "      <td>-0.002544</td>\n",
       "      <td>CCT7</td>\n",
       "      <td>Resistance</td>\n",
       "    </tr>\n",
       "    <tr>\n",
       "      <th>6</th>\n",
       "      <td>COG1</td>\n",
       "      <td>-0.007322</td>\n",
       "      <td>COG1</td>\n",
       "      <td>Resistance</td>\n",
       "    </tr>\n",
       "    <tr>\n",
       "      <th>7</th>\n",
       "      <td>COG3</td>\n",
       "      <td>-0.053185</td>\n",
       "      <td>COG3</td>\n",
       "      <td>Resistance</td>\n",
       "    </tr>\n",
       "    <tr>\n",
       "      <th>8</th>\n",
       "      <td>COPA</td>\n",
       "      <td>-0.012444</td>\n",
       "      <td>COPA</td>\n",
       "      <td>Resistance</td>\n",
       "    </tr>\n",
       "    <tr>\n",
       "      <th>9</th>\n",
       "      <td>COPB1</td>\n",
       "      <td>-0.027911</td>\n",
       "      <td>COPB1</td>\n",
       "      <td>Resistance</td>\n",
       "    </tr>\n",
       "    <tr>\n",
       "      <th>10</th>\n",
       "      <td>COPZ1</td>\n",
       "      <td>-0.010586</td>\n",
       "      <td>COPZ1</td>\n",
       "      <td>Resistance</td>\n",
       "    </tr>\n",
       "    <tr>\n",
       "      <th>11</th>\n",
       "      <td>CREBBP</td>\n",
       "      <td>-0.009693</td>\n",
       "      <td>CREBBP</td>\n",
       "      <td>Resistance</td>\n",
       "    </tr>\n",
       "    <tr>\n",
       "      <th>12</th>\n",
       "      <td>EIF6</td>\n",
       "      <td>-0.025880</td>\n",
       "      <td>EIF6</td>\n",
       "      <td>Resistance</td>\n",
       "    </tr>\n",
       "    <tr>\n",
       "      <th>13</th>\n",
       "      <td>GBF1</td>\n",
       "      <td>0.018312</td>\n",
       "      <td>GBF1</td>\n",
       "      <td>Susceptibility</td>\n",
       "    </tr>\n",
       "    <tr>\n",
       "      <th>14</th>\n",
       "      <td>GOLGA1</td>\n",
       "      <td>0.041490</td>\n",
       "      <td>GOLGA1</td>\n",
       "      <td>Susceptibility</td>\n",
       "    </tr>\n",
       "    <tr>\n",
       "      <th>15</th>\n",
       "      <td>HEATR1</td>\n",
       "      <td>-0.021454</td>\n",
       "      <td>HEATR1</td>\n",
       "      <td>Resistance</td>\n",
       "    </tr>\n",
       "    <tr>\n",
       "      <th>16</th>\n",
       "      <td>IGF2R</td>\n",
       "      <td>0.047051</td>\n",
       "      <td>IGF2R</td>\n",
       "      <td>Susceptibility</td>\n",
       "    </tr>\n",
       "    <tr>\n",
       "      <th>17</th>\n",
       "      <td>ILF2</td>\n",
       "      <td>0.017646</td>\n",
       "      <td>ILF2</td>\n",
       "      <td>Susceptibility</td>\n",
       "    </tr>\n",
       "    <tr>\n",
       "      <th>18</th>\n",
       "      <td>ILF3</td>\n",
       "      <td>0.006236</td>\n",
       "      <td>ILF3</td>\n",
       "      <td>Susceptibility</td>\n",
       "    </tr>\n",
       "    <tr>\n",
       "      <th>19</th>\n",
       "      <td>MCL1</td>\n",
       "      <td>-0.017909</td>\n",
       "      <td>MCL1</td>\n",
       "      <td>Resistance</td>\n",
       "    </tr>\n",
       "    <tr>\n",
       "      <th>20</th>\n",
       "      <td>PRKDC</td>\n",
       "      <td>-0.003842</td>\n",
       "      <td>PRKDC</td>\n",
       "      <td>Resistance</td>\n",
       "    </tr>\n",
       "    <tr>\n",
       "      <th>21</th>\n",
       "      <td>PSMC6</td>\n",
       "      <td>-0.017346</td>\n",
       "      <td>PSMC6</td>\n",
       "      <td>Resistance</td>\n",
       "    </tr>\n",
       "    <tr>\n",
       "      <th>22</th>\n",
       "      <td>QSOX2</td>\n",
       "      <td>0.018752</td>\n",
       "      <td>QSOX2</td>\n",
       "      <td>Susceptibility</td>\n",
       "    </tr>\n",
       "    <tr>\n",
       "      <th>23</th>\n",
       "      <td>RAB1A</td>\n",
       "      <td>0.027880</td>\n",
       "      <td>RAB1A</td>\n",
       "      <td>Susceptibility</td>\n",
       "    </tr>\n",
       "    <tr>\n",
       "      <th>24</th>\n",
       "      <td>RAB1B</td>\n",
       "      <td>0.012260</td>\n",
       "      <td>RAB1B</td>\n",
       "      <td>Susceptibility</td>\n",
       "    </tr>\n",
       "    <tr>\n",
       "      <th>25</th>\n",
       "      <td>RAB2A</td>\n",
       "      <td>0.018177</td>\n",
       "      <td>RAB2A</td>\n",
       "      <td>Susceptibility</td>\n",
       "    </tr>\n",
       "    <tr>\n",
       "      <th>26</th>\n",
       "      <td>RAB5C</td>\n",
       "      <td>0.013835</td>\n",
       "      <td>RAB5C</td>\n",
       "      <td>Susceptibility</td>\n",
       "    </tr>\n",
       "    <tr>\n",
       "      <th>27</th>\n",
       "      <td>RAD21</td>\n",
       "      <td>-0.044942</td>\n",
       "      <td>RAD21</td>\n",
       "      <td>Resistance</td>\n",
       "    </tr>\n",
       "    <tr>\n",
       "      <th>28</th>\n",
       "      <td>SAR1A</td>\n",
       "      <td>0.022082</td>\n",
       "      <td>SAR1A</td>\n",
       "      <td>Susceptibility</td>\n",
       "    </tr>\n",
       "    <tr>\n",
       "      <th>29</th>\n",
       "      <td>SCFD1</td>\n",
       "      <td>0.024590</td>\n",
       "      <td>SCFD1</td>\n",
       "      <td>Susceptibility</td>\n",
       "    </tr>\n",
       "    <tr>\n",
       "      <th>30</th>\n",
       "      <td>SEC16A</td>\n",
       "      <td>0.003232</td>\n",
       "      <td>SEC16A</td>\n",
       "      <td>Susceptibility</td>\n",
       "    </tr>\n",
       "    <tr>\n",
       "      <th>31</th>\n",
       "      <td>SEC23B</td>\n",
       "      <td>0.098512</td>\n",
       "      <td>SEC23B</td>\n",
       "      <td>Susceptibility</td>\n",
       "    </tr>\n",
       "    <tr>\n",
       "      <th>32</th>\n",
       "      <td>SEC23IP</td>\n",
       "      <td>0.049258</td>\n",
       "      <td>SEC23IP</td>\n",
       "      <td>Susceptibility</td>\n",
       "    </tr>\n",
       "    <tr>\n",
       "      <th>33</th>\n",
       "      <td>SEC24A</td>\n",
       "      <td>0.042923</td>\n",
       "      <td>SEC24A</td>\n",
       "      <td>Susceptibility</td>\n",
       "    </tr>\n",
       "    <tr>\n",
       "      <th>34</th>\n",
       "      <td>SEC24C</td>\n",
       "      <td>0.044385</td>\n",
       "      <td>SEC24C</td>\n",
       "      <td>Susceptibility</td>\n",
       "    </tr>\n",
       "    <tr>\n",
       "      <th>35</th>\n",
       "      <td>SMC3</td>\n",
       "      <td>-0.028691</td>\n",
       "      <td>SMC3</td>\n",
       "      <td>Resistance</td>\n",
       "    </tr>\n",
       "    <tr>\n",
       "      <th>36</th>\n",
       "      <td>ST3GAL4</td>\n",
       "      <td>-0.011040</td>\n",
       "      <td>ST3GAL4</td>\n",
       "      <td>Resistance</td>\n",
       "    </tr>\n",
       "    <tr>\n",
       "      <th>37</th>\n",
       "      <td>SURF4</td>\n",
       "      <td>0.015388</td>\n",
       "      <td>SURF4</td>\n",
       "      <td>Susceptibility</td>\n",
       "    </tr>\n",
       "    <tr>\n",
       "      <th>38</th>\n",
       "      <td>SYNCRIP</td>\n",
       "      <td>-0.004099</td>\n",
       "      <td>SYNCRIP</td>\n",
       "      <td>Resistance</td>\n",
       "    </tr>\n",
       "    <tr>\n",
       "      <th>39</th>\n",
       "      <td>TM9SF2</td>\n",
       "      <td>0.034158</td>\n",
       "      <td>TM9SF2</td>\n",
       "      <td>Susceptibility</td>\n",
       "    </tr>\n",
       "    <tr>\n",
       "      <th>40</th>\n",
       "      <td>TRAPPC8</td>\n",
       "      <td>0.052424</td>\n",
       "      <td>TRAPPC8</td>\n",
       "      <td>Susceptibility</td>\n",
       "    </tr>\n",
       "    <tr>\n",
       "      <th>41</th>\n",
       "      <td>TUBA1B</td>\n",
       "      <td>-0.008286</td>\n",
       "      <td>TUBA1B</td>\n",
       "      <td>Resistance</td>\n",
       "    </tr>\n",
       "    <tr>\n",
       "      <th>42</th>\n",
       "      <td>UGP2</td>\n",
       "      <td>0.028503</td>\n",
       "      <td>UGP2</td>\n",
       "      <td>Susceptibility</td>\n",
       "    </tr>\n",
       "    <tr>\n",
       "      <th>43</th>\n",
       "      <td>VPS53</td>\n",
       "      <td>0.039701</td>\n",
       "      <td>VPS53</td>\n",
       "      <td>Susceptibility</td>\n",
       "    </tr>\n",
       "    <tr>\n",
       "      <th>44</th>\n",
       "      <td>VPS54</td>\n",
       "      <td>0.144579</td>\n",
       "      <td>VPS54</td>\n",
       "      <td>Susceptibility</td>\n",
       "    </tr>\n",
       "    <tr>\n",
       "      <th>45</th>\n",
       "      <td>WDR11</td>\n",
       "      <td>-0.072206</td>\n",
       "      <td>WDR11</td>\n",
       "      <td>Resistance</td>\n",
       "    </tr>\n",
       "    <tr>\n",
       "      <th>46</th>\n",
       "      <td>YIPF5</td>\n",
       "      <td>-0.060863</td>\n",
       "      <td>YIPF5</td>\n",
       "      <td>Resistance</td>\n",
       "    </tr>\n",
       "  </tbody>\n",
       "</table>\n",
       "</div>"
      ],
      "text/plain": [
       "   gene symbol  dCas9-KRAB_rho_ave_LG2_LG_MH2_MH      gene  \\\n",
       "0        ARCN1                         -0.031522     ARCN1   \n",
       "1         ARF1                          0.008126      ARF1   \n",
       "2         ARL1                         -0.054248      ARL1   \n",
       "3     C17orf75                         -0.028955  C17orf75   \n",
       "4        CARM1                          0.008909     CARM1   \n",
       "5         CCT7                         -0.002544      CCT7   \n",
       "6         COG1                         -0.007322      COG1   \n",
       "7         COG3                         -0.053185      COG3   \n",
       "8         COPA                         -0.012444      COPA   \n",
       "9        COPB1                         -0.027911     COPB1   \n",
       "10       COPZ1                         -0.010586     COPZ1   \n",
       "11      CREBBP                         -0.009693    CREBBP   \n",
       "12        EIF6                         -0.025880      EIF6   \n",
       "13        GBF1                          0.018312      GBF1   \n",
       "14      GOLGA1                          0.041490    GOLGA1   \n",
       "15      HEATR1                         -0.021454    HEATR1   \n",
       "16       IGF2R                          0.047051     IGF2R   \n",
       "17        ILF2                          0.017646      ILF2   \n",
       "18        ILF3                          0.006236      ILF3   \n",
       "19        MCL1                         -0.017909      MCL1   \n",
       "20       PRKDC                         -0.003842     PRKDC   \n",
       "21       PSMC6                         -0.017346     PSMC6   \n",
       "22       QSOX2                          0.018752     QSOX2   \n",
       "23       RAB1A                          0.027880     RAB1A   \n",
       "24       RAB1B                          0.012260     RAB1B   \n",
       "25       RAB2A                          0.018177     RAB2A   \n",
       "26       RAB5C                          0.013835     RAB5C   \n",
       "27       RAD21                         -0.044942     RAD21   \n",
       "28       SAR1A                          0.022082     SAR1A   \n",
       "29       SCFD1                          0.024590     SCFD1   \n",
       "30      SEC16A                          0.003232    SEC16A   \n",
       "31      SEC23B                          0.098512    SEC23B   \n",
       "32     SEC23IP                          0.049258   SEC23IP   \n",
       "33      SEC24A                          0.042923    SEC24A   \n",
       "34      SEC24C                          0.044385    SEC24C   \n",
       "35        SMC3                         -0.028691      SMC3   \n",
       "36     ST3GAL4                         -0.011040   ST3GAL4   \n",
       "37       SURF4                          0.015388     SURF4   \n",
       "38     SYNCRIP                         -0.004099   SYNCRIP   \n",
       "39      TM9SF2                          0.034158    TM9SF2   \n",
       "40     TRAPPC8                          0.052424   TRAPPC8   \n",
       "41      TUBA1B                         -0.008286    TUBA1B   \n",
       "42        UGP2                          0.028503      UGP2   \n",
       "43       VPS53                          0.039701     VPS53   \n",
       "44       VPS54                          0.144579     VPS54   \n",
       "45       WDR11                         -0.072206     WDR11   \n",
       "46       YIPF5                         -0.060863     YIPF5   \n",
       "\n",
       "   Target Gene Function  \n",
       "0            Resistance  \n",
       "1        Susceptibility  \n",
       "2            Resistance  \n",
       "3            Resistance  \n",
       "4        Susceptibility  \n",
       "5            Resistance  \n",
       "6            Resistance  \n",
       "7            Resistance  \n",
       "8            Resistance  \n",
       "9            Resistance  \n",
       "10           Resistance  \n",
       "11           Resistance  \n",
       "12           Resistance  \n",
       "13       Susceptibility  \n",
       "14       Susceptibility  \n",
       "15           Resistance  \n",
       "16       Susceptibility  \n",
       "17       Susceptibility  \n",
       "18       Susceptibility  \n",
       "19           Resistance  \n",
       "20           Resistance  \n",
       "21           Resistance  \n",
       "22       Susceptibility  \n",
       "23       Susceptibility  \n",
       "24       Susceptibility  \n",
       "25       Susceptibility  \n",
       "26       Susceptibility  \n",
       "27           Resistance  \n",
       "28       Susceptibility  \n",
       "29       Susceptibility  \n",
       "30       Susceptibility  \n",
       "31       Susceptibility  \n",
       "32       Susceptibility  \n",
       "33       Susceptibility  \n",
       "34       Susceptibility  \n",
       "35           Resistance  \n",
       "36           Resistance  \n",
       "37       Susceptibility  \n",
       "38           Resistance  \n",
       "39       Susceptibility  \n",
       "40       Susceptibility  \n",
       "41           Resistance  \n",
       "42       Susceptibility  \n",
       "43       Susceptibility  \n",
       "44       Susceptibility  \n",
       "45           Resistance  \n",
       "46           Resistance  "
      ]
     },
     "execution_count": 42,
     "metadata": {},
     "output_type": "execute_result"
    }
   ],
   "source": [
    "# understand Resistance and Susceptibility gene behavior\n",
    "resin_gene = pd.read_csv('../Data/ExternalData/Gilbert 2014/CRISPRricin compiled all sgRNA data with phenotype-signed z scores.csv') \n",
    "resin_gene = resin_gene[['gene','Target Gene Function']].drop_duplicates()\n",
    "gilbertResinGeneBehaviorAvg = pd.DataFrame(cleaned_df.groupby('gene symbol')['dCas9-KRAB_rho_ave_LG2_LG_MH2_MH'].mean()).reset_index()\n",
    "summaryGilbertResinBehavior = pd.merge(gilbertResinGeneBehaviorAvg, resin_gene, right_on = 'gene', left_on = 'gene symbol')\n",
    "summaryGilbertResinBehavior"
   ]
  },
  {
   "cell_type": "code",
   "execution_count": 43,
   "id": "8abbd7c6",
   "metadata": {},
   "outputs": [
    {
     "data": {
      "text/plain": [
       "24791"
      ]
     },
     "execution_count": 43,
     "metadata": {},
     "output_type": "execute_result"
    }
   ],
   "source": [
    "GilbertRicinCleanData = pd.merge(cleaned_df.rename(columns={'gene symbol':'Target Gene Symbol'}), \n",
    "                                 resin_gene.rename(columns={'gene':'Target Gene Symbol'}),\n",
    "                                 on = 'Target Gene Symbol')\n",
    "\n",
    "GilbertRicinCleanData.loc[:,\"rhoSignChangedAndAvged\"]=GilbertRicinCleanData.apply(\n",
    "    lambda r:(r.loc[\"dCas9-KRAB_rho_ave_LG2_LG_MH2_MH\"]*(-1)) if r.loc[\"Target Gene Function\"]==\"Resistance\" \\\n",
    "              else (r.loc[\"dCas9-KRAB_rho_ave_LG2_LG_MH2_MH\"]), axis=1)\n",
    "GilbertRicinCleanData.loc[:,\"zscoreRelativeNC_signed\"]=GilbertRicinCleanData.apply(\n",
    "    lambda r:(r.loc[\"zscoreRelativeNC\"]*(-1)) if r.loc[\"Target Gene Function\"]==\"Resistance\" \\\n",
    "              else (r.loc[\"zscoreRelativeNC\"]), axis=1)\n",
    "GilbertRicinCleanData.loc[:,\"Avg_LFC_signed\"]=GilbertRicinCleanData.apply(\n",
    "    lambda r:(r.loc[\"Avg_LFC\"]*(-1)) if r.loc[\"Target Gene Function\"]==\"Resistance\" \\\n",
    "              else (r.loc[\"Avg_LFC\"]), axis=1)\n",
    "len(GilbertRicinCleanData)"
   ]
  },
  {
   "cell_type": "code",
   "execution_count": 44,
   "id": "e394ae11",
   "metadata": {},
   "outputs": [
    {
     "data": {
      "image/png": "[encoded data removed]",
      "text/plain": [
       "<Figure size 288x288 with 1 Axes>"
      ]
     },
     "metadata": {
      "needs_background": "light"
     },
     "output_type": "display_data"
    }
   ],
   "source": [
    "plt.subplots(figsize=(4,4))\n",
    "gpplot.point_densityplot(data=GilbertRicinCleanData, x='rhoSignChangedAndAvged', y='zscoreRelativeNC')\n",
    "gpplot.add_correlation(data=GilbertRicinCleanData, x='rhoSignChangedAndAvged', y='zscoreRelativeNC')\n",
    "sns.despine()"
   ]
  },
  {
   "cell_type": "code",
   "execution_count": 45,
   "id": "001a1c5f",
   "metadata": {},
   "outputs": [
    {
     "data": {
      "image/png": "[encoded data removed]",
      "text/plain": [
       "<Figure size 288x288 with 1 Axes>"
      ]
     },
     "metadata": {
      "needs_background": "light"
     },
     "output_type": "display_data"
    }
   ],
   "source": [
    "plt.subplots(figsize=(4,4))\n",
    "gpplot.point_densityplot(data=GilbertRicinCleanData, x='rhoSignChangedAndAvged', y='zscoreRelativeNC_signed')\n",
    "gpplot.add_correlation(data=GilbertRicinCleanData, x='rhoSignChangedAndAvged', y='zscoreRelativeNC_signed')\n",
    "sns.despine()\n",
    "# for only the cleaned guide\n",
    "# they are not corr of 1 because the same context seqs are aveeraged in respective phenotype"
   ]
  },
  {
   "cell_type": "code",
   "execution_count": 46,
   "id": "f0f36318",
   "metadata": {},
   "outputs": [],
   "source": [
    "GilbertRicinCleanData.to_csv('../Data/CleanedExternalData/Gilbert2014Cleaned2024_v1.csv',\n",
    "                    index = False)"
   ]
  },
  {
   "cell_type": "code",
   "execution_count": null,
   "id": "54ee19cf",
   "metadata": {},
   "outputs": [],
   "source": []
  }
 ],
 "metadata": {
  "kernelspec": {
   "display_name": "Python 3 (ipykernel)",
   "language": "python",
   "name": "python3"
  },
  "language_info": {
   "codemirror_mode": {
    "name": "ipython",
    "version": 3
   },
   "file_extension": ".py",
   "mimetype": "text/x-python",
   "name": "python",
   "nbconvert_exporter": "python",
   "pygments_lexer": "ipython3",
   "version": "3.8.13"
  }
 },
 "nbformat": 4,
 "nbformat_minor": 5
}
