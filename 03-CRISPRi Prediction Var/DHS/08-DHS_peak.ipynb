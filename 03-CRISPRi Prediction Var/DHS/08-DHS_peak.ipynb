{
 "cells": [
  {
   "cell_type": "code",
   "execution_count": 1,
   "id": "549fa958",
   "metadata": {},
   "outputs": [],
   "source": [
    "import pandas as pd\n",
    "import csv\n",
    "import numpy as np\n",
    "import seaborn as sns\n",
    "from tqdm import tqdm\n",
    "import math\n",
    "from scipy.stats import mannwhitneyu\n",
    "import time\n",
    "import os"
   ]
  },
  {
   "cell_type": "code",
   "execution_count": 2,
   "id": "a761dd89",
   "metadata": {},
   "outputs": [],
   "source": [
    "######## DHS----------------\n",
    "def isInRange(n, tbl):\n",
    "    #https://stackoverflow.com/questions/9019581/what-does-numpy-apply-along-axis-perform-exactly\n",
    "    #https://stackoverflow.com/questions/71377816/check-if-value-is-between-two-values-in-numpy-array\n",
    "    # n: is sgRNA location in the tiling/phenotypic dataset\n",
    "    # tbl: numpy file of dataframe of bigbed with chro, start, and end of peak filtered_peak_file.to_numpy()\n",
    "    #apply_along_axis applies the supplied function along 1D slices of the input array, \n",
    "    #with the slices taken along the axis you specify. \n",
    "    return sum(np.apply_along_axis(lambda row: row[0] <= n <= row[1], 1, tbl)\\\n",
    "        .tolist())\n",
    "\n",
    "def dhs_peak_overlap(actual_tiling_gene , dhs_chromo_txt, sgrna_location_col):\n",
    "    # This function find whether guide overlaps with a peak in one chromosome \n",
    "    \n",
    "    # actual_tiling: CRISPRi data (or any CRISPR data) with at least three columns \n",
    "    #                       [a location to indicate sgRNA, Gene name, Chromosome]\n",
    "    #                       Note this DOES NOT require unique sgRNA location \n",
    "    # dhs_chromo_txt: ATAC seq from ENCODE in bigBed format and read through pyBigWig\n",
    "    # chrom: string of chromosome such as 'chr1'\n",
    "    # sgrna_location_col: string of column for sgRNA location\n",
    "    \n",
    "    # returns a dataframe, same as the actual_tilling but with an additional column overlap with peak to indicate \n",
    "    # whether theres an overlap between start and end of a peak and sgRNA location for one chromosome\n",
    "    \n",
    "    #----------------------------------------------------------------------------------------------------\n",
    "        \n",
    "    # select unique pam coord and chr and gene - remove duplicate \n",
    "    # tiling_lib: CRISPRi data (or any CRISPR data) with at least three columns \n",
    "    #                       [a location to indicate sgRNA, Gene name, Chromosome]\n",
    "    #                       Note this should has unique sgRNA location \n",
    "    tiling_lib = actual_tiling_gene.copy()\n",
    "    \n",
    "    # change from string to int\n",
    "    tiling_lib[sgrna_location_col] = list(map(int,tiling_lib[sgrna_location_col]))\n",
    "    \n",
    "    #obtain the smallest pam coord in a specific chromosome\n",
    "    smallest_pam_coord = tiling_lib[sgrna_location_col].min()\n",
    "    #obtain the largest pam coord in a specific chromosome\n",
    "    largestest_pam_coord = tiling_lib[sgrna_location_col].max()\n",
    "    \n",
    "    #subset chrom number and having the end coord to be larger than the smallest pam coord\n",
    "    \n",
    "    # Retrieving bigBed entries in https://github.com/deeptools/pyBigWig explains\n",
    "    # filtered_peak_file returns a list of tuple of (Start position in chromosome, End position in chromosome)\n",
    "    # filtered_peak_file = dhs_chromo_txt.entries(chrom, smallest_pam_coord, largestest_pam_coord, withString=False) \n",
    "    filtered_peak_file = dhs_chromo_txt[(dhs_chromo_txt[\"start\"] >= int(smallest_pam_coord)) & (dhs_chromo_txt[\"end\"] <= int(largestest_pam_coord))].copy()\n",
    "    \n",
    "    # only kept unique peaks and make it into dataframe because of https://www.biostars.org/p/464618/\n",
    "    # filtered_peak_file = pd.DataFrame(set(filtered_peak_file))\n",
    "    filtered_peak_file = filtered_peak_file.drop_duplicates(subset = [\"start\", \"end\"])\n",
    "    \n",
    "    if len(filtered_peak_file) == 0:\n",
    "        print('This gene does not has any peaks in DHS')\n",
    "        tiling_lib.loc[:, 'overlap with peak'] = 0\n",
    "    else:\n",
    "    # iterating over every single sgRNA location in the tiling library/a dataset with phenotypic data\n",
    "        peak_list = [isInRange(x, filtered_peak_file.to_numpy()) \n",
    "                     for x in np.nditer(tiling_lib[sgrna_location_col].to_numpy())]  \n",
    "\n",
    "        #https://stackoverflow.com/questions/32573452/settingwithcopywarning-even-when-using-locrow-indexer-col-indexer-value\n",
    "        tiling_lib.loc[:, 'overlap with peak'] = peak_list\n",
    "\n",
    "    return tiling_lib\n",
    "def get_gene_chr_combo(library_path):\n",
    "    dir_list = os.listdir(library_path)\n",
    "    file_split_remove_csv = [file.split('.')[0] for file in dir_list if file.endswith('.csv')]# remove files that doesnt end with csv\n",
    "    files_combo = [file.split('_') for file in file_split_remove_csv]\n",
    "    return(files_combo)\n",
    "\n",
    "def dhs_all_genes(file_combo,library_gene_path, dhs_chrom_path, sgrna_location_col = 'sgRNA \\'Cut\\' Position'):\n",
    "    library_dhs = pd.DataFrame()\n",
    "    for comb in tqdm(file_combo ,desc='number of gene symbol'):\n",
    "        print(comb)\n",
    "        chrom_num = comb[0]\n",
    "        gene = comb[1]\n",
    "        chr_gene_library = pd.read_csv(f'{library_gene_path}{chrom_num}_{gene}.csv')\n",
    "        chr_gene_library['chromosome'] = chrom_num\n",
    "        chr_gene_library['Target Gene Symbol'] = gene\n",
    "        chr_dhs = pd.read_csv(f'{dhs_chrom_path}{chrom_num}.csv')\n",
    "        chr_dhs['chromosome'] = chrom_num\n",
    "        gene_check = dhs_peak_overlap(chr_gene_library , chr_dhs, sgrna_location_col = sgrna_location_col)\n",
    "        library_dhs = pd.concat([library_dhs,gene_check])\n",
    "    return library_dhs\n",
    "\n",
    "def standardize_chromosome(chromosome):\n",
    "    chromosome = str(chromosome).replace('.0', '')\n",
    "    if not chromosome.startswith('chr'):\n",
    "        chromosome = 'chr' + chromosome\n",
    "    return chromosome\n"
   ]
  },
  {
   "cell_type": "code",
   "execution_count": 3,
   "id": "7b01f0c5",
   "metadata": {},
   "outputs": [],
   "source": [
    "inpath = '../../Data/CleanedExternalData/'\n",
    "NewDatasetCombine = pd.read_csv(inpath + 'DatasetCombineCleaned_v3.csv', low_memory=False)\n",
    "NewDatasetCombine['chromosome'] = NewDatasetCombine['chromosome'].apply(standardize_chromosome)\n",
    "\n",
    "NewDatasetCombine['chromosome'] = NewDatasetCombine['chromosome'].replace('chr24','chrY')\n",
    "NewDatasetCombine['chromosome'] = NewDatasetCombine['chromosome'].replace('chr23','chrX')\n",
    "\n",
    "NewDatasetCombine['orginal phenotype'] = NewDatasetCombine['Phenotype scores-ave_Rep1_Rep2'].combine_first(NewDatasetCombine['z_scored_avg_lfc']).combine_first(NewDatasetCombine['rhoSignChangedAndAvged'])\n",
    "NewDatasetCombine = NewDatasetCombine[['Target Gene Symbol', 'chromosome', 'sgRNA Context Sequence','sgRNA \\'Cut\\' Position',\n",
    "       'condition', 'Domain', 'DataSet','orginal phenotype']]"
   ]
  },
  {
   "cell_type": "code",
   "execution_count": 4,
   "id": "a8377f7d",
   "metadata": {},
   "outputs": [
    {
     "data": {
      "text/plain": [
       "658"
      ]
     },
     "execution_count": 4,
     "metadata": {},
     "output_type": "execute_result"
    }
   ],
   "source": [
    "processedCRISPRiOutpath = '../../Data/DHS/SectionedCRISPRi/'\n",
    "\n",
    "CRISPRi_fileCombo = get_gene_chr_combo(processedCRISPRiOutpath)\n",
    "len(CRISPRi_fileCombo)\n"
   ]
  },
  {
   "cell_type": "code",
   "execution_count": 5,
   "id": "5907be7a",
   "metadata": {},
   "outputs": [],
   "source": [
    "dhs_out = '../../Data/DHS/SectionedCRISPRi/'\n",
    "peakOverlapOut = '../../Data/DHS/PeakOverlap/'"
   ]
  },
  {
   "cell_type": "code",
   "execution_count": 6,
   "id": "8d967a3f",
   "metadata": {
    "scrolled": true
   },
   "outputs": [
    {
     "name": "stderr",
     "output_type": "stream",
     "text": [
      "number of gene symbol:   1%|▏                   | 6/658 [00:00<00:11, 56.16it/s]"
     ]
    },
    {
     "name": "stdout",
     "output_type": "stream",
     "text": [
      "['chr14', 'HAUS4']\n",
      "['chr19', 'OR10H3']\n",
      "This gene does not has any peaks in DHS\n",
      "['chr11', 'SF3B2']\n",
      "['chr17', 'OR4D1']\n",
      "This gene does not has any peaks in DHS\n",
      "['chr7', 'MRPS24']\n",
      "['chr20', 'DDX27']\n",
      "['chr9', 'DCTN3']\n",
      "['chr12', 'POP5']\n",
      "['chr8', 'POLR2K']\n",
      "['chrX', 'SAGE1']\n",
      "This gene does not has any peaks in DHS\n",
      "['chr19', 'MRPL34']\n"
     ]
    },
    {
     "name": "stderr",
     "output_type": "stream",
     "text": [
      "number of gene symbol:   3%|▌                  | 18/658 [00:00<00:13, 48.85it/s]"
     ]
    },
    {
     "name": "stdout",
     "output_type": "stream",
     "text": [
      "['chr11', 'RAD9A']\n",
      "['chr2', 'MRPL19']\n",
      "['chr1', 'FDPS']\n",
      "['chr1', 'HEATR1']\n",
      "['chr17', 'COX10']\n",
      "['chr7', 'TRRAP']\n",
      "['chr19', 'CYP2A13']\n",
      "This gene does not has any peaks in DHS\n",
      "['chr13', 'ARGLU1']\n",
      "['chr13', 'TM9SF2']\n"
     ]
    },
    {
     "name": "stderr",
     "output_type": "stream",
     "text": [
      "number of gene symbol:   5%|▊                  | 30/658 [00:00<00:12, 51.74it/s]"
     ]
    },
    {
     "name": "stdout",
     "output_type": "stream",
     "text": [
      "['chr17', 'C17orf49']\n",
      "['chr15', 'MFAP1']\n",
      "['chrX', 'TEX13A']\n",
      "This gene does not has any peaks in DHS\n",
      "['chr16', 'RSL1D1']\n",
      "['chr12', 'APOBEC1']\n",
      "This gene does not has any peaks in DHS\n",
      "['chr6', 'RPL7L1']\n",
      "['chr4', 'DSPP']\n",
      "This gene does not has any peaks in DHS\n",
      "['chr6', 'DHX16']\n",
      "['chr4', 'SDAD1']\n",
      "['chr2', 'CHMP3']\n",
      "['chr19', 'ZNF574']\n",
      "['chr1', 'MTOR']\n"
     ]
    },
    {
     "name": "stderr",
     "output_type": "stream",
     "text": [
      "\r",
      "number of gene symbol:   5%|█                  | 36/658 [00:00<00:12, 51.78it/s]"
     ]
    },
    {
     "name": "stdout",
     "output_type": "stream",
     "text": [
      "['chr2', 'DYNC1I2']\n",
      "['chr5', 'RPS14']\n",
      "['chr10', 'EIF3A']\n",
      "['chr21', 'KRTAP13-3']\n",
      "This gene does not has any peaks in DHS\n",
      "['chr14', 'YY1']\n",
      "['chr7', 'MRPS33']\n",
      "['chr11', 'TAF10']\n",
      "['chr20', 'CSE1L']\n",
      "['chr1', 'SF3B4']\n",
      "['chr1', 'CCT3']\n"
     ]
    },
    {
     "name": "stderr",
     "output_type": "stream",
     "text": [
      "number of gene symbol:   7%|█▎                 | 47/658 [00:00<00:13, 46.45it/s]"
     ]
    },
    {
     "name": "stdout",
     "output_type": "stream",
     "text": [
      "['chr5', 'ZMAT2']\n",
      "['chr8', 'ATP6V1H']\n",
      "['chr19', 'ILF3']\n",
      "['chr7', 'GET4']\n",
      "['chr12', 'FGF6']\n",
      "This gene does not has any peaks in DHS\n",
      "['chr15', 'KNL1']\n",
      "['chr12', 'GCN1']\n",
      "['chr2', 'NCAPH']\n",
      "['chr6', 'RPP40']\n"
     ]
    },
    {
     "name": "stderr",
     "output_type": "stream",
     "text": [
      "number of gene symbol:   9%|█▋                 | 57/658 [00:01<00:12, 46.56it/s]"
     ]
    },
    {
     "name": "stdout",
     "output_type": "stream",
     "text": [
      "['chr1', 'VPS72']\n",
      "['chr11', 'OR51D1']\n",
      "['chr11', 'OR8G5']\n",
      "This gene does not has any peaks in DHS\n",
      "['chr17', 'CDK12']\n",
      "['chr1', 'PMVK']\n",
      "['chr6', 'POLR1H']\n",
      "['chr12', 'TAS2R50']\n",
      "This gene does not has any peaks in DHS\n",
      "['chr17', 'PIGS']\n",
      "['chr17', 'KRT28']\n",
      "This gene does not has any peaks in DHS\n",
      "['chr9', 'SPATA31D1']\n",
      "This gene does not has any peaks in DHS\n",
      "['chr7', 'SSBP1']\n",
      "['chr2', 'MRPL33']\n"
     ]
    },
    {
     "name": "stderr",
     "output_type": "stream",
     "text": [
      "number of gene symbol:  11%|██                 | 71/658 [00:01<00:10, 56.52it/s]"
     ]
    },
    {
     "name": "stdout",
     "output_type": "stream",
     "text": [
      "['chr11', 'RRM1']\n",
      "['chr11', 'OR2D2']\n",
      "This gene does not has any peaks in DHS\n",
      "['chr3', 'RPL14']\n",
      "['chr8', 'CYP11B2']\n",
      "This gene does not has any peaks in DHS\n",
      "['chr1', 'CLSPN']\n",
      "['chrX', 'BEND2']\n",
      "This gene does not has any peaks in DHS\n",
      "['chr4', 'COPS4']\n",
      "['chr1', 'MCL1']\n",
      "['chr17', 'CDC27']\n",
      "['chr19', 'ERCC2']\n",
      "['chr7', 'TAS2R40']\n",
      "This gene does not has any peaks in DHS\n",
      "['chr20', 'PRPF6']\n",
      "['chr21', 'U2AF1']\n",
      "This gene does not has any peaks in DHS\n",
      "['chr14', 'C14orf178']\n"
     ]
    },
    {
     "name": "stderr",
     "output_type": "stream",
     "text": [
      "number of gene symbol:  13%|██▍                | 84/658 [00:01<00:10, 54.07it/s]"
     ]
    },
    {
     "name": "stdout",
     "output_type": "stream",
     "text": [
      "['chr19', 'CACTIN']\n",
      "['chr1', 'TBCE']\n",
      "['chr17', 'INTS2']\n",
      "['chr18', 'TRAPPC8']\n",
      "['chr4', 'NDST4']\n",
      "This gene does not has any peaks in DHS\n",
      "['chr17', 'LUC7L3']\n",
      "['chr2', 'IMMT']\n",
      "['chr13', 'TUBGCP3']\n",
      "['chr11', 'OR52B6']\n",
      "This gene does not has any peaks in DHS\n",
      "['chr2', 'SPC25']\n",
      "['chr19', 'SPC24']\n"
     ]
    },
    {
     "name": "stderr",
     "output_type": "stream",
     "text": [
      "number of gene symbol:  15%|██▊                | 96/658 [00:01<00:11, 50.71it/s]"
     ]
    },
    {
     "name": "stdout",
     "output_type": "stream",
     "text": [
      "['chr2', 'XRCC5']\n",
      "['chr20', 'DHX35']\n",
      "['chr10', 'TLX1']\n",
      "This gene does not has any peaks in DHS\n",
      "['chr17', 'SIRT7']\n",
      "['chr20', 'EIF6']\n",
      "['chr2', 'WDR33']\n",
      "['chr10', 'SMNDC1']\n",
      "['chr6', 'RPF2']\n",
      "['chr10', 'SEC24C']\n"
     ]
    },
    {
     "name": "stderr",
     "output_type": "stream",
     "text": [
      "\r",
      "number of gene symbol:  16%|██▊               | 102/658 [00:02<00:11, 48.81it/s]"
     ]
    },
    {
     "name": "stdout",
     "output_type": "stream",
     "text": [
      "['chr16', 'COG8']\n",
      "['chr3', 'SEC13']\n",
      "['chr3', 'EIF4G1']\n",
      "['chr14', 'RNASE8']\n",
      "This gene does not has any peaks in DHS\n",
      "['chr1', 'MRPS15']\n",
      "['chr2', 'ERCC3']\n",
      "['chr17', 'KRTAP4-7']\n",
      "['chr1', 'MRPS14']\n",
      "['chr1', 'RPA2']\n",
      "['chr2', 'PSMD1']\n"
     ]
    },
    {
     "name": "stderr",
     "output_type": "stream",
     "text": [
      "number of gene symbol:  17%|███               | 113/658 [00:02<00:11, 49.07it/s]"
     ]
    },
    {
     "name": "stdout",
     "output_type": "stream",
     "text": [
      "['chr11', 'INTS4']\n",
      "['chr21', 'CCT8']\n",
      "['chr1', 'CDC20']\n",
      "['chr20', 'MYBL2']\n",
      "['chr5', 'HMGCS1']\n",
      "['chr1', 'RPL5']\n",
      "['chr13', 'COG3']\n",
      "['chr1', 'CDCP2']\n",
      "This gene does not has any peaks in DHS\n",
      "['chr17', 'POLG2']\n",
      "['chr10', 'RPS24']\n",
      "['chr16', 'CACNG3']\n",
      "This gene does not has any peaks in DHS\n",
      "['chr7', 'RFC2']\n"
     ]
    },
    {
     "name": "stderr",
     "output_type": "stream",
     "text": [
      "number of gene symbol:  19%|███▍              | 125/658 [00:02<00:10, 50.75it/s]"
     ]
    },
    {
     "name": "stdout",
     "output_type": "stream",
     "text": [
      "['chr1', 'C8B']\n",
      "This gene does not has any peaks in DHS\n",
      "['chr5', 'BNIP1']\n",
      "['chr20', 'RPN2']\n",
      "['chr18', 'SKA1']\n",
      "['chr2', 'CWC22']\n",
      "['chr9', 'GNE']\n",
      "['chr10', 'BMS1']\n",
      "['chr10', 'POLR3A']\n",
      "['chr3', 'TSEN2']\n",
      "['chr11', 'OR5W2']\n",
      "This gene does not has any peaks in DHS\n",
      "['chr7', 'DLD']\n"
     ]
    },
    {
     "name": "stderr",
     "output_type": "stream",
     "text": [
      "number of gene symbol:  21%|███▋              | 137/658 [00:02<00:10, 50.08it/s]"
     ]
    },
    {
     "name": "stdout",
     "output_type": "stream",
     "text": [
      "['chr9', 'DNLZ']\n",
      "['chr17', 'MED9']\n",
      "['chr14', 'EIF2B2']\n",
      "['chr17', 'UTP6']\n",
      "['chr9', 'IFNA16']\n",
      "This gene does not has any peaks in DHS\n",
      "['chr1', 'INTS3']\n",
      "['chr2', 'UGP2']\n",
      "['chr1', 'PPP1R8']\n",
      "['chr1', 'BCAS2']\n",
      "['chr16', 'SRCAP']\n"
     ]
    },
    {
     "name": "stderr",
     "output_type": "stream",
     "text": [
      "\r",
      "number of gene symbol:  22%|███▉              | 143/658 [00:02<00:12, 42.08it/s]"
     ]
    },
    {
     "name": "stdout",
     "output_type": "stream",
     "text": [
      "['chr2', 'VPS54']\n",
      "['chr17', 'BIRC5']\n",
      "['chr11', 'ST3GAL4']\n",
      "['chr14', 'PRMT5']\n",
      "['chr14', 'TEDC1']\n",
      "['chr11', 'MRGPRD']\n",
      "This gene does not has any peaks in DHS\n",
      "['chr17', 'NMT1']\n"
     ]
    },
    {
     "name": "stderr",
     "output_type": "stream",
     "text": [
      "number of gene symbol:  24%|████▏             | 155/658 [00:03<00:10, 46.97it/s]"
     ]
    },
    {
     "name": "stdout",
     "output_type": "stream",
     "text": [
      "['chr12', 'TIMELESS']\n",
      "['chr1', 'LIN28A']\n",
      "This gene does not has any peaks in DHS\n",
      "['chr20', 'SEC23B']\n",
      "['chr5', 'WDR55']\n",
      "['chr9', 'IFNA17']\n",
      "This gene does not has any peaks in DHS\n",
      "['chr2', 'MRPL35']\n",
      "['chr14', 'CEBPE']\n",
      "This gene does not has any peaks in DHS\n",
      "['chr12', 'TUBA1B']\n",
      "['chr8', 'PUF60']\n",
      "['chr20', 'DEFB126']\n",
      "This gene does not has any peaks in DHS\n",
      "['chr6', 'TAAR6']\n",
      "This gene does not has any peaks in DHS\n",
      "['chr2', 'NCL']\n"
     ]
    },
    {
     "name": "stderr",
     "output_type": "stream",
     "text": [
      "number of gene symbol:  25%|████▌             | 165/658 [00:03<00:10, 47.64it/s]"
     ]
    },
    {
     "name": "stdout",
     "output_type": "stream",
     "text": [
      "['chr1', 'SNIP1']\n",
      "['chr2', 'NRBP1']\n",
      "['chr3', 'PSMD6']\n",
      "['chr20', 'WFDC9']\n",
      "This gene does not has any peaks in DHS\n",
      "['chr2', 'DDX18']\n",
      "['chr5', 'MED7']\n",
      "['chr5', 'TTC1']\n",
      "['chr11', 'SART1']\n",
      "['chr22', 'EIF3D']\n",
      "['chr11', 'BUD13']\n",
      "['chr6', 'LSM2']\n"
     ]
    },
    {
     "name": "stderr",
     "output_type": "stream",
     "text": [
      "number of gene symbol:  27%|████▊             | 176/658 [00:03<00:10, 47.44it/s]"
     ]
    },
    {
     "name": "stdout",
     "output_type": "stream",
     "text": [
      "['chr10', 'SUPV3L1']\n",
      "['chr3', 'SRPRB']\n",
      "['chr5', 'MRPS30']\n",
      "['chr2', 'MRPS5']\n",
      "['chr6', 'RPP21']\n",
      "['chr5', 'DDX41']\n",
      "['chr1', 'NUF2']\n",
      "['chr10', 'GDF2']\n",
      "This gene does not has any peaks in DHS\n",
      "['chr12', 'IAPP']\n",
      "This gene does not has any peaks in DHS\n",
      "['chr20', 'DSN1']\n",
      "['chr19', 'MBD3L2']\n",
      "This gene does not has any peaks in DHS\n",
      "['chr7', 'ORC5']\n"
     ]
    },
    {
     "name": "stderr",
     "output_type": "stream",
     "text": [
      "number of gene symbol:  29%|█████▏            | 189/658 [00:03<00:08, 52.44it/s]"
     ]
    },
    {
     "name": "stdout",
     "output_type": "stream",
     "text": [
      "['chr1', 'RPS27']\n",
      "['chr17', 'PRPF8']\n",
      "['chr6', 'TTK']\n",
      "['chr7', 'EXOC4']\n",
      "['chr14', 'MIS18BP1']\n",
      "['chr9', 'NUP214']\n",
      "['chr10', 'WDR11']\n",
      "['chrX', 'CXorf66']\n",
      "This gene does not has any peaks in DHS\n",
      "['chr9', 'IARS1']\n",
      "['chrX', 'RHOXF2']\n",
      "This gene does not has any peaks in DHS\n",
      "['chr1', 'DAP3']\n",
      "['chr8', 'DEFB106A']\n",
      "This gene does not has any peaks in DHS\n"
     ]
    },
    {
     "name": "stderr",
     "output_type": "stream",
     "text": [
      "\r",
      "number of gene symbol:  30%|█████▎            | 196/658 [00:03<00:08, 56.43it/s]"
     ]
    },
    {
     "name": "stdout",
     "output_type": "stream",
     "text": [
      "['chr8', 'CYP7A1']\n",
      "This gene does not has any peaks in DHS\n",
      "['chr5', 'MRPL22']\n",
      "['chr10', 'TUBGCP2']\n",
      "['chr6', 'GJA10']\n",
      "This gene does not has any peaks in DHS\n",
      "['chr10', 'SAR1A']\n",
      "['chr17', 'RPL23']\n",
      "['chr19', 'CARM1']\n",
      "['chr7', 'POLR1F']\n"
     ]
    },
    {
     "name": "stderr",
     "output_type": "stream",
     "text": [
      "number of gene symbol:  32%|█████▋            | 209/658 [00:04<00:08, 52.42it/s]"
     ]
    },
    {
     "name": "stdout",
     "output_type": "stream",
     "text": [
      "['chr2', 'SRBD1']\n",
      "['chr2', 'RAB1A']\n",
      "['chr22', 'POTEH']\n",
      "This gene does not has any peaks in DHS\n",
      "['chr4', 'CCKAR']\n",
      "This gene does not has any peaks in DHS\n",
      "['chrX', 'LUZP4']\n",
      "This gene does not has any peaks in DHS\n",
      "['chr20', 'CST4']\n",
      "This gene does not has any peaks in DHS\n",
      "['chr1', 'RPF1']\n",
      "['chr5', 'IL13']\n",
      "This gene does not has any peaks in DHS\n",
      "['chr12', 'ARL1']\n",
      "['chr12', 'DDX23']\n",
      "['chr1', 'GPN2']\n",
      "['chr5', 'MRPS27']\n",
      "['chr2', 'POLR1B']\n"
     ]
    },
    {
     "name": "stderr",
     "output_type": "stream",
     "text": [
      "number of gene symbol:  34%|██████            | 221/658 [00:04<00:08, 48.97it/s]"
     ]
    },
    {
     "name": "stdout",
     "output_type": "stream",
     "text": [
      "['chr8', 'INTS8']\n",
      "['chr2', 'STPG4']\n",
      "This gene does not has any peaks in DHS\n",
      "['chr5', 'PHAX']\n",
      "['chr2', 'ITGAV']\n",
      "['chr14', 'DYNC1H1']\n",
      "['chr1', 'RABGGTB']\n",
      "['chr6', 'MCM3']\n",
      "['chr9', 'MRPS2']\n"
     ]
    },
    {
     "name": "stderr",
     "output_type": "stream",
     "text": [
      "number of gene symbol:  35%|██████▎           | 233/658 [00:04<00:08, 47.44it/s]"
     ]
    },
    {
     "name": "stdout",
     "output_type": "stream",
     "text": [
      "['chr1', 'SNRPE']\n",
      "['chr14', 'PSMC1']\n",
      "['chr1', 'PARS2']\n",
      "['chr14', 'PSMB5']\n",
      "['chr3', 'TRMT10C']\n",
      "['chr6', 'TFAP2D']\n",
      "This gene does not has any peaks in DHS\n",
      "['chr3', 'MRPL3']\n",
      "['chr1', 'PIGV']\n",
      "['chr10', 'RPP30']\n",
      "['chr17', 'NOL11']\n",
      "['chr17', 'AATF']\n"
     ]
    },
    {
     "name": "stderr",
     "output_type": "stream",
     "text": [
      "\r",
      "number of gene symbol:  36%|██████▌           | 239/658 [00:04<00:08, 47.09it/s]"
     ]
    },
    {
     "name": "stdout",
     "output_type": "stream",
     "text": [
      "['chr11', 'UBQLN3']\n",
      "This gene does not has any peaks in DHS\n",
      "['chr14', 'MED6']\n",
      "['chr15', 'SNUPN']\n",
      "['chr9', 'PSMB7']\n",
      "['chr18', 'SEH1L']\n",
      "['chr5', 'GABRA6']\n",
      "This gene does not has any peaks in DHS\n",
      "['chr17', 'MYBBP1A']\n",
      "['chr5', 'SLCO6A1']\n",
      "This gene does not has any peaks in DHS\n",
      "['chr1', 'NVL']\n",
      "['chr17', 'CCL1']\n",
      "This gene does not has any peaks in DHS\n",
      "['chr12', 'GARIN6']\n",
      "This gene does not has any peaks in DHS\n",
      "['chr17', 'TBCD']\n"
     ]
    },
    {
     "name": "stderr",
     "output_type": "stream",
     "text": [
      "number of gene symbol:  38%|██████▉           | 252/658 [00:05<00:08, 48.40it/s]"
     ]
    },
    {
     "name": "stdout",
     "output_type": "stream",
     "text": [
      "['chr6', 'RPL10A']\n",
      "['chr6', 'SYNCRIP']\n",
      "['chr1', 'RPE65']\n",
      "This gene does not has any peaks in DHS\n",
      "['chr13', 'GSX1']\n",
      "This gene does not has any peaks in DHS\n",
      "['chr20', 'WFDC11']\n",
      "This gene does not has any peaks in DHS\n",
      "['chr1', 'FH']\n",
      "['chr8', 'CHRNB3']\n",
      "This gene does not has any peaks in DHS\n",
      "['chr11', 'DDB1']\n",
      "['chr11', 'COPB1']\n",
      "['chr12', 'CMAS']\n"
     ]
    },
    {
     "name": "stderr",
     "output_type": "stream",
     "text": [
      "number of gene symbol:  40%|███████▏          | 264/658 [00:05<00:07, 53.01it/s]"
     ]
    },
    {
     "name": "stdout",
     "output_type": "stream",
     "text": [
      "['chr12', 'POLR3B']\n",
      "['chr6', 'MRPS10']\n",
      "['chr6', 'GSTA5']\n",
      "This gene does not has any peaks in DHS\n",
      "['chr2', 'NBAS']\n",
      "['chr10', 'NPFFR1']\n",
      "This gene does not has any peaks in DHS\n",
      "['chr17', 'RPL27']\n",
      "['chr2', 'IL1F10']\n",
      "This gene does not has any peaks in DHS\n",
      "['chr6', 'GPR31']\n",
      "This gene does not has any peaks in DHS\n",
      "['chr14', 'KCNK10']\n",
      "This gene does not has any peaks in DHS\n",
      "['chr5', 'ZCCHC9']\n",
      "['chr16', 'PRSS33']\n",
      "This gene does not has any peaks in DHS\n",
      "['chr17', 'SPEM1']\n",
      "This gene does not has any peaks in DHS\n",
      "['chr8', 'RPL8']\n"
     ]
    },
    {
     "name": "stderr",
     "output_type": "stream",
     "text": [
      "number of gene symbol:  42%|███████▌          | 278/658 [00:05<00:06, 57.51it/s]"
     ]
    },
    {
     "name": "stdout",
     "output_type": "stream",
     "text": [
      "['chrY', 'HSFY1']\n",
      "This gene does not has any peaks in DHS\n",
      "['chr14', 'PSMC6']\n",
      "['chr19', 'RDH8']\n",
      "This gene does not has any peaks in DHS\n",
      "['chr15', 'RPAP1']\n",
      "['chr17', 'RPL19']\n",
      "['chr1', 'MED18']\n",
      "['chr19', 'OR7G2']\n",
      "This gene does not has any peaks in DHS\n",
      "['chr7', 'RINT1']\n",
      "['chr12', 'KRR1']\n",
      "['chr16', 'PLK1']\n",
      "['chr6', 'GTF2H4']\n",
      "['chr4', 'NUP54']\n"
     ]
    },
    {
     "name": "stderr",
     "output_type": "stream",
     "text": [
      "number of gene symbol:  44%|███████▉          | 290/658 [00:05<00:06, 55.07it/s]"
     ]
    },
    {
     "name": "stdout",
     "output_type": "stream",
     "text": [
      "['chr12', 'CIT']\n",
      "['chr18', 'CEP192']\n",
      "['chr6', 'SLC35A1']\n",
      "['chr3', 'DBR1']\n",
      "['chr1', 'INSRR']\n",
      "This gene does not has any peaks in DHS\n",
      "['chr12', 'NOP2']\n",
      "['chr3', 'PSMD2']\n",
      "['chr9', 'IFNW1']\n",
      "This gene does not has any peaks in DHS\n",
      "['chr12', 'EP400']\n",
      "['chr3', 'UROC1']\n",
      "This gene does not has any peaks in DHS\n",
      "['chr10', 'GBF1']\n"
     ]
    },
    {
     "name": "stderr",
     "output_type": "stream",
     "text": [
      "\r",
      "number of gene symbol:  45%|████████          | 296/658 [00:05<00:07, 49.60it/s]"
     ]
    },
    {
     "name": "stdout",
     "output_type": "stream",
     "text": [
      "['chr3', 'GMPPB']\n",
      "['chr17', 'TOP2A']\n",
      "['chr11', 'SLC22A6']\n",
      "This gene does not has any peaks in DHS\n",
      "['chr14', 'FSCB']\n",
      "This gene does not has any peaks in DHS\n",
      "['chr15', 'CEP152']\n",
      "['chr12', 'ACTR6']\n",
      "['chr19', 'PSMC4']\n",
      "['chr15', 'KIF23']\n",
      "['chr10', 'SMC3']\n"
     ]
    },
    {
     "name": "stderr",
     "output_type": "stream",
     "text": [
      "number of gene symbol:  47%|████████▍         | 307/658 [00:06<00:08, 41.39it/s]"
     ]
    },
    {
     "name": "stdout",
     "output_type": "stream",
     "text": [
      "['chr6', 'OPN5']\n",
      "This gene does not has any peaks in DHS\n",
      "['chr4', 'ANAPC4']\n",
      "['chr11', 'CKAP5']\n",
      "['chr17', 'AURKB']\n",
      "['chr11', 'EIF4G2']\n",
      "['chr1', 'MRPL55']\n",
      "['chr4', 'TMPRSS11F']\n",
      "['chr19', 'RPL36']\n"
     ]
    },
    {
     "name": "stderr",
     "output_type": "stream",
     "text": [
      "\r",
      "number of gene symbol:  47%|████████▌         | 312/658 [00:06<00:09, 37.01it/s]"
     ]
    },
    {
     "name": "stdout",
     "output_type": "stream",
     "text": [
      "['chr1', 'ARF1']\n",
      "['chr17', 'SRSF2']\n",
      "['chr19', 'EIF3G']\n",
      "['chr1', 'ALX3']\n",
      "This gene does not has any peaks in DHS\n",
      "['chr11', 'C11orf40']\n",
      "This gene does not has any peaks in DHS\n",
      "['chr19', 'IFNL3']\n",
      "This gene does not has any peaks in DHS\n",
      "['chr9', 'LHX3']\n",
      "This gene does not has any peaks in DHS\n",
      "['chr9', 'FOXB2']\n",
      "This gene does not has any peaks in DHS\n",
      "['chr6', 'MUCL3']\n",
      "This gene does not has any peaks in DHS\n",
      "['chr17', 'PSMB6']\n",
      "['chr11', 'ACCSL']\n",
      "This gene does not has any peaks in DHS\n"
     ]
    },
    {
     "name": "stderr",
     "output_type": "stream",
     "text": [
      "number of gene symbol:  50%|████████▉         | 328/658 [00:06<00:06, 51.67it/s]"
     ]
    },
    {
     "name": "stdout",
     "output_type": "stream",
     "text": [
      "['chr1', 'ATP6V1G3']\n",
      "This gene does not has any peaks in DHS\n",
      "['chr17', 'NSRP1']\n",
      "['chr20', 'DYNLRB1']\n",
      "['chr7', 'NUP205']\n",
      "['chr7', 'NPSR1']\n",
      "This gene does not has any peaks in DHS\n",
      "['chr12', 'CCT2']\n",
      "['chr14', 'GEMIN2']\n",
      "['chr10', 'C10orf53']\n",
      "This gene does not has any peaks in DHS\n",
      "['chr2', 'RPL37A']\n",
      "['chrX', 'IGBP1']\n",
      "['chr15', 'TICRR']\n",
      "['chr11', 'MMP27']\n"
     ]
    },
    {
     "name": "stderr",
     "output_type": "stream",
     "text": [
      "number of gene symbol:  52%|█████████▎        | 340/658 [00:06<00:06, 49.03it/s]"
     ]
    },
    {
     "name": "stdout",
     "output_type": "stream",
     "text": [
      "This gene does not has any peaks in DHS\n",
      "['chr11', 'NUP160']\n",
      "['chr2', 'POLR2D']\n",
      "['chr11', 'SSRP1']\n",
      "['chr20', 'TPX2']\n",
      "['chr11', 'POLR2G']\n",
      "['chr6', 'PRIM2']\n",
      "['chr1', 'PRPF3']\n",
      "['chr16', 'RBBP6']\n",
      "['chr18', 'SERPINB12']\n",
      "This gene does not has any peaks in DHS\n",
      "['chr17', 'STAT5B']\n",
      "This gene does not has any peaks in DHS\n",
      "['chr19', 'LSM4']\n"
     ]
    },
    {
     "name": "stderr",
     "output_type": "stream",
     "text": [
      "number of gene symbol:  53%|█████████▌        | 351/658 [00:07<00:06, 48.44it/s]"
     ]
    },
    {
     "name": "stdout",
     "output_type": "stream",
     "text": [
      "['chr14', 'SCFD1']\n",
      "['chr19', 'EEF2']\n",
      "['chr14', 'METTL17']\n",
      "['chr19', 'IFNL2']\n",
      "This gene does not has any peaks in DHS\n",
      "['chr16', 'NSMCE1']\n",
      "['chrY', 'DAZ1']\n",
      "This gene does not has any peaks in DHS\n",
      "['chr14', 'PSMA3']\n",
      "['chr8', 'RPL7']\n",
      "['chr15', 'RAD51']\n"
     ]
    },
    {
     "name": "stderr",
     "output_type": "stream",
     "text": [
      "\r",
      "number of gene symbol:  54%|█████████▋        | 356/658 [00:07<00:07, 42.57it/s]"
     ]
    },
    {
     "name": "stdout",
     "output_type": "stream",
     "text": [
      "['chr9', 'QSOX2']\n",
      "['chr1', 'ZNHIT6']\n",
      "['chr4', 'COQ2']\n",
      "['chr7', 'SEPTIN7P2']\n",
      "['chr12', 'MARS1']\n",
      "['chr19', 'COX6B1']\n",
      "['chr1', 'ILF2']\n"
     ]
    },
    {
     "name": "stderr",
     "output_type": "stream",
     "text": [
      "\r",
      "number of gene symbol:  55%|█████████▉        | 361/658 [00:07<00:07, 42.22it/s]"
     ]
    },
    {
     "name": "stdout",
     "output_type": "stream",
     "text": [
      "['chr11', 'FGF3']\n",
      "This gene does not has any peaks in DHS\n",
      "['chr3', 'TAMM41']\n",
      "['chr1', 'DDOST']\n",
      "['chr2', 'RRM2']\n",
      "['chr1', 'TARS2']\n",
      "['chr19', 'RPS19']\n",
      "['chr6', 'PNISR']\n"
     ]
    },
    {
     "name": "stderr",
     "output_type": "stream",
     "text": [
      "number of gene symbol:  56%|██████████        | 370/658 [00:07<00:08, 34.20it/s]"
     ]
    },
    {
     "name": "stdout",
     "output_type": "stream",
     "text": [
      "['chr4', 'DHX15']\n",
      "['chr22', 'PNPLA5']\n",
      "['chr16', 'PSMD7']\n",
      "['chr16', 'CREBBP']\n",
      "['chr17', 'MRPL45']\n",
      "['chr2', 'NOP58']\n",
      "['chr2', 'WDR75']\n"
     ]
    },
    {
     "name": "stderr",
     "output_type": "stream",
     "text": [
      "number of gene symbol:  58%|██████████▍       | 382/658 [00:07<00:06, 43.72it/s]"
     ]
    },
    {
     "name": "stdout",
     "output_type": "stream",
     "text": [
      "['chr5', 'CDC23']\n",
      "['chr11', 'WEE1']\n",
      "['chr8', 'ATP6V1B2']\n",
      "['chr9', 'SPATA31A7']\n",
      "This gene does not has any peaks in DHS\n",
      "['chr10', 'CHAT']\n",
      "This gene does not has any peaks in DHS\n",
      "['chr14', 'FNTB']\n",
      "['chr8', 'REXO1L1P']\n",
      "This gene does not has any peaks in DHS\n",
      "['chr17', 'OR1G1']\n",
      "This gene does not has any peaks in DHS\n",
      "['chr12', 'LHX5']\n",
      "This gene does not has any peaks in DHS\n",
      "['chr4', 'UTP3']\n",
      "['chr12', 'KRT71']\n",
      "This gene does not has any peaks in DHS\n",
      "['chrX', 'MAGEC3']\n"
     ]
    },
    {
     "name": "stderr",
     "output_type": "stream",
     "text": [
      "number of gene symbol:  60%|██████████▊       | 393/658 [00:08<00:05, 44.97it/s]"
     ]
    },
    {
     "name": "stdout",
     "output_type": "stream",
     "text": [
      "This gene does not has any peaks in DHS\n",
      "['chr18', 'NAPG']\n",
      "['chr11', 'OR9Q2']\n",
      "This gene does not has any peaks in DHS\n",
      "['chr3', 'EIF2B5']\n",
      "['chr6', 'VARS2']\n",
      "['chr1', 'CELA2A']\n",
      "This gene does not has any peaks in DHS\n",
      "['chr1', 'DNTTIP2']\n",
      "['chr1', 'ATP1A1']\n",
      "['chr15', 'RSL24D1']\n",
      "['chr3', 'MRPS25']\n"
     ]
    },
    {
     "name": "stderr",
     "output_type": "stream",
     "text": [
      "number of gene symbol:  61%|███████████       | 404/658 [00:08<00:05, 47.98it/s]"
     ]
    },
    {
     "name": "stdout",
     "output_type": "stream",
     "text": [
      "['chr3', 'GFM1']\n",
      "['chr20', 'HM13']\n",
      "['chr1', 'OR2T4']\n",
      "This gene does not has any peaks in DHS\n",
      "['chr21', 'MRPL39']\n",
      "['chr2', 'LRPPRC']\n",
      "['chr5', 'SPDL1']\n",
      "['chr11', 'OR52E8']\n",
      "This gene does not has any peaks in DHS\n",
      "['chrX', 'CT45A3']\n",
      "This gene does not has any peaks in DHS\n",
      "['chr1', 'RPL11']\n",
      "['chr11', 'EIF3M']\n",
      "['chr9', 'GOLGA1']\n"
     ]
    },
    {
     "name": "stderr",
     "output_type": "stream",
     "text": [
      "number of gene symbol:  63%|███████████▍      | 416/658 [00:08<00:04, 51.08it/s]"
     ]
    },
    {
     "name": "stdout",
     "output_type": "stream",
     "text": [
      "['chr19', 'OR7D4']\n",
      "This gene does not has any peaks in DHS\n",
      "['chr17', 'NUP85']\n",
      "['chrX', 'OGT']\n",
      "['chr22', 'PIWIL3']\n",
      "This gene does not has any peaks in DHS\n",
      "['chr10', 'NOC3L']\n",
      "['chr15', 'LEO1']\n",
      "['chr22', 'RTCB']\n",
      "['chr5', 'BDP1']\n",
      "['chr19', 'PGLYRP2']\n",
      "This gene does not has any peaks in DHS\n",
      "['chrX', 'CT45A2']\n",
      "This gene does not has any peaks in DHS\n",
      "['chr12', 'RACGAP1']\n",
      "['chr19', 'SNRNP70']\n"
     ]
    },
    {
     "name": "stderr",
     "output_type": "stream",
     "text": [
      "\r",
      "number of gene symbol:  64%|███████████▌      | 422/658 [00:08<00:04, 48.59it/s]"
     ]
    },
    {
     "name": "stdout",
     "output_type": "stream",
     "text": [
      "['chr10', 'UPF2']\n",
      "['chr11', 'TAF6L']\n",
      "['chr10', 'DRGX']\n",
      "This gene does not has any peaks in DHS\n",
      "['chr4', 'TMPRSS11A']\n",
      "This gene does not has any peaks in DHS\n",
      "['chr11', 'RPS13']\n",
      "['chr10', 'PNLIPRP1']\n",
      "This gene does not has any peaks in DHS\n",
      "['chr18', 'MEP1B']\n",
      "This gene does not has any peaks in DHS\n",
      "['chr9', 'IFNA4']\n",
      "This gene does not has any peaks in DHS\n",
      "['chr7', 'PSMC2']\n",
      "['chr1', 'CELA3B']\n",
      "This gene does not has any peaks in DHS\n",
      "['chr6', 'ADGRF2']\n",
      "['chr2', 'ZSWIM2']\n"
     ]
    },
    {
     "name": "stderr",
     "output_type": "stream",
     "text": [
      "number of gene symbol:  66%|███████████▉      | 435/658 [00:08<00:04, 50.95it/s]"
     ]
    },
    {
     "name": "stdout",
     "output_type": "stream",
     "text": [
      "This gene does not has any peaks in DHS\n",
      "['chr17', 'KRTAP9-3']\n",
      "This gene does not has any peaks in DHS\n",
      "['chr17', 'RPL38']\n",
      "['chr13', 'RNF17']\n",
      "This gene does not has any peaks in DHS\n",
      "['chr12', 'SNRPF']\n",
      "['chr9', 'EXOSC2']\n",
      "['chr11', 'HINFP']\n",
      "['chr9', 'FOXD4L4']\n",
      "This gene does not has any peaks in DHS\n",
      "['chr11', 'CWF19L2']\n",
      "['chr12', 'KRT76']\n",
      "This gene does not has any peaks in DHS\n",
      "['chr8', 'ATP6V1C1']\n",
      "['chr1', 'OR2T12']\n"
     ]
    },
    {
     "name": "stderr",
     "output_type": "stream",
     "text": [
      "number of gene symbol:  68%|████████████▏     | 447/658 [00:09<00:03, 53.90it/s]"
     ]
    },
    {
     "name": "stdout",
     "output_type": "stream",
     "text": [
      "This gene does not has any peaks in DHS\n",
      "['chr20', 'SYS1']\n",
      "['chr20', 'CRNKL1']\n",
      "['chr12', 'ESPL1']\n",
      "['chr8', 'UQCRB']\n",
      "['chr1', 'IARS2']\n",
      "['chr22', 'RFPL3']\n",
      "This gene does not has any peaks in DHS\n",
      "['chr9', 'CDKN2A-DT']\n",
      "This gene does not has any peaks in DHS\n",
      "['chr14', 'DICER1']\n",
      "['chr13', 'SLITRK1']\n",
      "This gene does not has any peaks in DHS\n",
      "['chr3', 'AP2M1']\n"
     ]
    },
    {
     "name": "stderr",
     "output_type": "stream",
     "text": [
      "\r",
      "number of gene symbol:  69%|████████████▍     | 453/658 [00:09<00:04, 50.47it/s]"
     ]
    },
    {
     "name": "stdout",
     "output_type": "stream",
     "text": [
      "['chr5', 'SRFBP1']\n",
      "['chr14', 'MNAT1']\n",
      "['chr3', 'ATR']\n",
      "['chr12', 'RPLP0']\n",
      "['chr11', 'CABP2']\n",
      "This gene does not has any peaks in DHS\n",
      "['chr2', 'MRPS9']\n",
      "['chr9', 'POLR1E']\n",
      "['chr12', 'MED21']\n",
      "['chr7', 'TNPO3']\n"
     ]
    },
    {
     "name": "stderr",
     "output_type": "stream",
     "text": [
      "number of gene symbol:  71%|████████████▋     | 464/658 [00:09<00:04, 42.34it/s]"
     ]
    },
    {
     "name": "stdout",
     "output_type": "stream",
     "text": [
      "['chr11', 'RAB1B']\n",
      "['chr16', 'CTRB1']\n",
      "This gene does not has any peaks in DHS\n",
      "['chr4', 'RPL34']\n",
      "['chr20', 'PDYN']\n",
      "This gene does not has any peaks in DHS\n",
      "['chr9', 'EXOSC3']\n",
      "['chr12', 'LRRC10']\n",
      "This gene does not has any peaks in DHS\n",
      "['chr11', 'OOSP2']\n",
      "This gene does not has any peaks in DHS\n",
      "['chr19', 'KASH5']\n",
      "This gene does not has any peaks in DHS\n",
      "['chr19', 'NAPA']\n"
     ]
    },
    {
     "name": "stderr",
     "output_type": "stream",
     "text": [
      "number of gene symbol:  72%|█████████████     | 476/658 [00:09<00:03, 46.06it/s]"
     ]
    },
    {
     "name": "stdout",
     "output_type": "stream",
     "text": [
      "['chr12', 'RPS26']\n",
      "['chr16', 'AQP8']\n",
      "This gene does not has any peaks in DHS\n",
      "['chr16', 'NIP7']\n",
      "This gene does not has any peaks in DHS\n",
      "['chr2', 'MCM6']\n",
      "['chr12', 'ATP5F1B']\n",
      "['chr9', 'IFNA5']\n",
      "This gene does not has any peaks in DHS\n",
      "['chr10', 'NOLC1']\n",
      "['chr16', 'E4F1']\n",
      "['chr7', 'SRRT']\n",
      "['chr17', 'FTSJ3']\n"
     ]
    },
    {
     "name": "stderr",
     "output_type": "stream",
     "text": [
      "number of gene symbol:  74%|█████████████▎    | 486/658 [00:10<00:03, 44.39it/s]"
     ]
    },
    {
     "name": "stdout",
     "output_type": "stream",
     "text": [
      "['chr11', 'OR5T2']\n",
      "This gene does not has any peaks in DHS\n",
      "['chr15', 'TBC1D21']\n",
      "['chr6', 'PGK2']\n",
      "['chr3', 'COPB2']\n",
      "['chr6', 'HBS1L']\n",
      "['chr6', 'MDN1']\n",
      "['chr5', 'BRIX1']\n",
      "['chr12', 'NEDD1']\n",
      "['chr3', 'UBA3']\n",
      "['chr15', 'CDAN1']\n"
     ]
    },
    {
     "name": "stderr",
     "output_type": "stream",
     "text": [
      "\r",
      "number of gene symbol:  75%|█████████████▍    | 491/658 [00:10<00:04, 38.24it/s]"
     ]
    },
    {
     "name": "stdout",
     "output_type": "stream",
     "text": [
      "['chr4', 'SPCS3']\n",
      "['chr9', 'SEC16A']\n",
      "['chrX', 'ERCC6L']\n",
      "['chr3', 'LARS2']\n",
      "['chr9', 'SURF6']\n",
      "['chr9', 'NOL6']\n",
      "['chr2', 'ATIC']\n"
     ]
    },
    {
     "name": "stderr",
     "output_type": "stream",
     "text": [
      "number of gene symbol:  76%|█████████████▋    | 502/658 [00:10<00:03, 44.07it/s]"
     ]
    },
    {
     "name": "stdout",
     "output_type": "stream",
     "text": [
      "['chrY', 'RBMY1E']\n",
      "This gene does not has any peaks in DHS\n",
      "['chr16', 'POLR2C']\n",
      "['chr22', 'CENPM']\n",
      "['chr6', 'MMS22L']\n",
      "['chr20', 'NKX2-2']\n",
      "This gene does not has any peaks in DHS\n",
      "['chr3', 'RNF168']\n",
      "['chr16', 'MT1B']\n",
      "This gene does not has any peaks in DHS\n",
      "['chr4', 'RBM46']\n",
      "This gene does not has any peaks in DHS\n",
      "['chr8', 'EFR3A']\n",
      "['chr2', 'RPS7']\n",
      "['chr14', 'SNW1']\n",
      "['chr10', 'SLC25A28']\n"
     ]
    },
    {
     "name": "stderr",
     "output_type": "stream",
     "text": [
      "number of gene symbol:  78%|██████████████    | 513/658 [00:10<00:03, 47.71it/s]"
     ]
    },
    {
     "name": "stdout",
     "output_type": "stream",
     "text": [
      "['chr17', 'KRT36']\n",
      "This gene does not has any peaks in DHS\n",
      "['chr1', 'OR6K6']\n",
      "This gene does not has any peaks in DHS\n",
      "['chr15', 'POLR2M']\n",
      "['chr9', 'PUM3']\n",
      "['chr9', 'CYLC2']\n",
      "This gene does not has any peaks in DHS\n",
      "['chr19', 'ZIM3']\n",
      "This gene does not has any peaks in DHS\n",
      "['chr8', 'MROH6']\n",
      "['chr2', 'IL36A']\n",
      "This gene does not has any peaks in DHS\n",
      "['chr17', 'TBC1D29P']\n",
      "This gene does not has any peaks in DHS\n",
      "['chr7', 'COPS6']\n",
      "['chr10', 'DDX21']\n"
     ]
    },
    {
     "name": "stderr",
     "output_type": "stream",
     "text": [
      "number of gene symbol:  79%|██████████████▎   | 523/658 [00:10<00:03, 44.72it/s]"
     ]
    },
    {
     "name": "stdout",
     "output_type": "stream",
     "text": [
      "['chr17', 'COPS3']\n",
      "['chr17', 'CLTC']\n",
      "['chr11', 'OR5T3']\n",
      "This gene does not has any peaks in DHS\n",
      "['chr17', 'VPS53']\n",
      "['chrX', 'GPR101']\n",
      "This gene does not has any peaks in DHS\n",
      "['chr1', 'MRPL37']\n",
      "['chr2', 'HJURP']\n",
      "['chr5', 'RPS23']\n",
      "['chr17', 'MRPS23']\n"
     ]
    },
    {
     "name": "stderr",
     "output_type": "stream",
     "text": [
      "number of gene symbol:  81%|██████████████▌   | 534/658 [00:11<00:02, 46.54it/s]"
     ]
    },
    {
     "name": "stdout",
     "output_type": "stream",
     "text": [
      "['chr8', 'RPS20']\n",
      "['chr3', 'SLC2A2']\n",
      "This gene does not has any peaks in DHS\n",
      "['chr1', 'TCHHL1']\n",
      "This gene does not has any peaks in DHS\n",
      "['chr7', 'SLC13A1']\n",
      "This gene does not has any peaks in DHS\n",
      "['chr16', 'DHODH']\n",
      "['chr9', 'RPS6']\n",
      "['chr7', 'DDX56']\n",
      "['chr1', 'ALG14']\n",
      "['chr4', 'CENPC']\n",
      "['chr6', 'IGF2R']\n"
     ]
    },
    {
     "name": "stderr",
     "output_type": "stream",
     "text": [
      "number of gene symbol:  83%|██████████████▉   | 544/658 [00:11<00:02, 44.38it/s]"
     ]
    },
    {
     "name": "stdout",
     "output_type": "stream",
     "text": [
      "['chr19', 'VN1R2']\n",
      "This gene does not has any peaks in DHS\n",
      "['chr8', 'VPS28']\n",
      "['chr19', 'GPR32']\n",
      "This gene does not has any peaks in DHS\n",
      "['chr1', 'PSMD4']\n",
      "['chr13', 'NUP58']\n",
      "['chr5', 'HSPA9']\n",
      "['chr10', 'CYP2C19']\n",
      "This gene does not has any peaks in DHS\n",
      "['chr1', 'GTF2B']\n",
      "['chr8', 'RPL30']\n",
      "['chr5', 'ZNF131']\n"
     ]
    },
    {
     "name": "stderr",
     "output_type": "stream",
     "text": [
      "number of gene symbol:  84%|███████████████▏  | 554/658 [00:11<00:02, 43.04it/s]"
     ]
    },
    {
     "name": "stdout",
     "output_type": "stream",
     "text": [
      "['chr12', 'SNRNP35']\n",
      "['chr5', 'GARIN3']\n",
      "This gene does not has any peaks in DHS\n",
      "['chr9', 'OR5C1']\n",
      "This gene does not has any peaks in DHS\n",
      "['chr9', 'TEX10']\n",
      "['chr3', 'H1-8']\n",
      "This gene does not has any peaks in DHS\n",
      "['chr13', 'RFC3']\n",
      "['chr9', 'VCP']\n",
      "['chr1', 'PRAMEF1']\n",
      "This gene does not has any peaks in DHS\n",
      "['chr8', 'RAB2A']\n"
     ]
    },
    {
     "name": "stderr",
     "output_type": "stream",
     "text": [
      "number of gene symbol:  86%|███████████████▍  | 564/658 [00:11<00:02, 42.70it/s]"
     ]
    },
    {
     "name": "stdout",
     "output_type": "stream",
     "text": [
      "['chr7', 'YAE1']\n",
      "['chr1', 'F13B']\n",
      "['chr9', 'PPP3R2']\n",
      "This gene does not has any peaks in DHS\n",
      "['chr17', 'DHX8']\n",
      "['chr8', 'RAD21']\n",
      "['chr15', 'RPL4']\n",
      "['chr16', 'C16orf78']\n",
      "This gene does not has any peaks in DHS\n",
      "['chr1', 'RRP15']\n",
      "['chr19', 'CNOT3']\n"
     ]
    },
    {
     "name": "stderr",
     "output_type": "stream",
     "text": [
      "\r",
      "number of gene symbol:  86%|███████████████▌  | 569/658 [00:12<00:02, 42.59it/s]"
     ]
    },
    {
     "name": "stdout",
     "output_type": "stream",
     "text": [
      "['chr21', 'SOD1']\n",
      "['chr17', 'DDX52']\n",
      "['chr19', 'CHMP2A']\n",
      "['chr4', 'TRIML1']\n",
      "This gene does not has any peaks in DHS\n",
      "['chr3', 'RFC4']\n",
      "['chr3', 'ELP6']\n",
      "['chr17', 'KRT33A']\n",
      "This gene does not has any peaks in DHS\n",
      "['chr8', 'DEFB103B']\n",
      "This gene does not has any peaks in DHS\n",
      "['chr8', 'RRS1']\n"
     ]
    },
    {
     "name": "stderr",
     "output_type": "stream",
     "text": [
      "number of gene symbol:  88%|███████████████▊  | 579/658 [00:12<00:01, 42.02it/s]"
     ]
    },
    {
     "name": "stdout",
     "output_type": "stream",
     "text": [
      "['chr2', 'FARSB']\n",
      "['chr22', 'SAMM50']\n",
      "['chr19', 'FFAR1']\n",
      "This gene does not has any peaks in DHS\n",
      "['chr12', 'YEATS4']\n",
      "['chr3', 'IMPDH2']\n",
      "['chr13', 'CDX2']\n",
      "['chr19', 'DNM2']\n",
      "['chr15', 'PSMA4']\n"
     ]
    },
    {
     "name": "stderr",
     "output_type": "stream",
     "text": [
      "\r",
      "number of gene symbol:  89%|███████████████▉  | 584/658 [00:12<00:02, 36.43it/s]"
     ]
    },
    {
     "name": "stdout",
     "output_type": "stream",
     "text": [
      "['chr17', 'COG1']\n",
      "['chr16', 'RPL13']\n",
      "['chr8', 'C8orf17']\n",
      "This gene does not has any peaks in DHS\n",
      "['chr21', 'PAXBP1']\n",
      "['chr5', 'NEUROG1']\n",
      "This gene does not has any peaks in DHS\n",
      "['chr4', 'HMX1']\n",
      "This gene does not has any peaks in DHS\n",
      "['chr6', 'GPX5']\n",
      "This gene does not has any peaks in DHS\n",
      "['chr1', 'MRPS21']\n",
      "['chr7', 'POLD2']\n"
     ]
    },
    {
     "name": "stderr",
     "output_type": "stream",
     "text": [
      "number of gene symbol:  91%|████████████████▎ | 596/658 [00:12<00:01, 41.77it/s]"
     ]
    },
    {
     "name": "stdout",
     "output_type": "stream",
     "text": [
      "['chr10', 'PRPF18']\n",
      "['chr22', 'VPREB1']\n",
      "This gene does not has any peaks in DHS\n",
      "['chr18', 'KDSR']\n",
      "['chr20', 'SNRPB']\n",
      "['chr1', 'PRAMEF4']\n",
      "This gene does not has any peaks in DHS\n",
      "['chr2', 'SNRNP200']\n",
      "['chr2', 'EIF5B']\n",
      "['chr19', 'RPS5']\n"
     ]
    },
    {
     "name": "stderr",
     "output_type": "stream",
     "text": [
      "number of gene symbol:  92%|████████████████▌ | 607/658 [00:12<00:01, 42.33it/s]"
     ]
    },
    {
     "name": "stdout",
     "output_type": "stream",
     "text": [
      "['chr12', 'CLEC6A']\n",
      "This gene does not has any peaks in DHS\n",
      "['chr17', 'CHMP6']\n",
      "['chr1', 'SPRR4']\n",
      "This gene does not has any peaks in DHS\n",
      "['chr1', 'CATSPER4']\n",
      "['chr2', 'GKN2']\n",
      "This gene does not has any peaks in DHS\n",
      "['chr22', 'ATXN10']\n",
      "['chrY', 'BPY2']\n",
      "This gene does not has any peaks in DHS\n",
      "['chr12', 'IL22']\n",
      "This gene does not has any peaks in DHS\n",
      "['chr3', 'RPL35A']\n",
      "['chr3', 'RPL24']\n"
     ]
    },
    {
     "name": "stderr",
     "output_type": "stream",
     "text": [
      "\r",
      "number of gene symbol:  93%|████████████████▊ | 613/658 [00:13<00:01, 44.47it/s]"
     ]
    },
    {
     "name": "stdout",
     "output_type": "stream",
     "text": [
      "['chr2', 'GTF3C2']\n",
      "['chrX', 'FAM47A']\n",
      "This gene does not has any peaks in DHS\n",
      "['chr4', 'TRIM60']\n",
      "This gene does not has any peaks in DHS\n",
      "['chr13', 'RPL21']\n",
      "['chr1', 'ATP6V0B']\n",
      "['chr3', 'UMPS']\n",
      "['chr3', 'ANAPC13']\n",
      "['chr4', 'YTHDC1']\n",
      "['chr8', 'CPSF1']\n"
     ]
    },
    {
     "name": "stderr",
     "output_type": "stream",
     "text": [
      "number of gene symbol:  95%|█████████████████ | 623/658 [00:13<00:00, 41.27it/s]"
     ]
    },
    {
     "name": "stdout",
     "output_type": "stream",
     "text": [
      "['chr11', 'MRPL16']\n",
      "['chr5', 'GEMIN5']\n",
      "['chr8', 'MAK16']\n",
      "['chr4', 'CENPE']\n",
      "['chrX', 'F9']\n",
      "This gene does not has any peaks in DHS\n",
      "['chr19', 'VN1R4']\n",
      "This gene does not has any peaks in DHS\n",
      "['chr5', 'RIOK2']\n",
      "['chr6', 'LTV1']\n",
      "['chr10', 'MTPAP']\n"
     ]
    },
    {
     "name": "stderr",
     "output_type": "stream",
     "text": [
      "number of gene symbol:  96%|█████████████████▎| 633/658 [00:13<00:00, 43.06it/s]"
     ]
    },
    {
     "name": "stdout",
     "output_type": "stream",
     "text": [
      "['chr15', 'FOXB1']\n",
      "This gene does not has any peaks in DHS\n",
      "['chr5', 'TCERG1']\n",
      "['chr10', 'BUB3']\n",
      "['chr20', 'C20orf173']\n",
      "This gene does not has any peaks in DHS\n",
      "['chr1', 'EIF2B3']\n",
      "['chr6', 'GRM4']\n",
      "This gene does not has any peaks in DHS\n",
      "['chr19', 'NANOS2']\n",
      "['chr11', 'CCDC86']\n",
      "['chr3', 'ECT2']\n"
     ]
    },
    {
     "name": "stderr",
     "output_type": "stream",
     "text": [
      "number of gene symbol:  98%|█████████████████▌| 643/658 [00:13<00:00, 42.47it/s]"
     ]
    },
    {
     "name": "stdout",
     "output_type": "stream",
     "text": [
      "['chr16', 'RPS15A']\n",
      "['chr5', 'THG1L']\n",
      "['chr6', 'CDC5L']\n",
      "['chr1', 'GNL2']\n",
      "['chr6', 'SNRNP48']\n",
      "['chr19', 'UQCRFS1']\n",
      "['chr12', 'MRPS35']\n",
      "['chr19', 'FBL']\n",
      "['chr18', 'AFG3L2']\n"
     ]
    },
    {
     "name": "stderr",
     "output_type": "stream",
     "text": [
      "number of gene symbol:  99%|█████████████████▉| 654/658 [00:14<00:00, 43.32it/s]"
     ]
    },
    {
     "name": "stdout",
     "output_type": "stream",
     "text": [
      "['chr11', 'CHEK1']\n",
      "['chr5', 'LARS1']\n",
      "['chr11', 'OR52A1']\n",
      "This gene does not has any peaks in DHS\n",
      "['chr17', 'MED1']\n",
      "['chr7', 'NEUROD6']\n",
      "This gene does not has any peaks in DHS\n",
      "['chr13', 'RNF113B']\n",
      "This gene does not has any peaks in DHS\n",
      "['chr2', 'CARF']\n",
      "['chr9', 'SMC2']\n",
      "['chr11', 'MRPL17']\n",
      "['chr17', 'ZNF830']\n"
     ]
    },
    {
     "name": "stderr",
     "output_type": "stream",
     "text": [
      "\r",
      "number of gene symbol: 100%|██████████████████| 658/658 [00:14<00:00, 46.44it/s]"
     ]
    },
    {
     "name": "stdout",
     "output_type": "stream",
     "text": [
      "['chr22', 'BCR']\n",
      "['chr17', 'NLE1']\n",
      "['chr11', 'OR4C11']\n",
      "This gene does not has any peaks in DHS\n"
     ]
    },
    {
     "name": "stderr",
     "output_type": "stream",
     "text": [
      "\n"
     ]
    }
   ],
   "source": [
    "CRISPRiFiles_DHS_HCT116 = dhs_all_genes(CRISPRi_fileCombo,processedCRISPRiOutpath, dhs_out+'HCT116/')"
   ]
  },
  {
   "cell_type": "code",
   "execution_count": 7,
   "id": "c26730ec",
   "metadata": {},
   "outputs": [
    {
     "data": {
      "text/plain": [
       "overlap with peak\n",
       "0    140846\n",
       "1     25778\n",
       "Name: count, dtype: int64"
      ]
     },
     "execution_count": 7,
     "metadata": {},
     "output_type": "execute_result"
    }
   ],
   "source": [
    "CRISPRiFiles_DHS_HCT116['overlap with peak'].value_counts()"
   ]
  },
  {
   "cell_type": "code",
   "execution_count": 8,
   "id": "4f574175",
   "metadata": {},
   "outputs": [],
   "source": [
    "CRISPRiFiles_DHS_HCT116.to_csv(f'{peakOverlapOut}HCT116.csv')"
   ]
  },
  {
   "cell_type": "code",
   "execution_count": 9,
   "id": "85ac27bd",
   "metadata": {},
   "outputs": [
    {
     "name": "stderr",
     "output_type": "stream",
     "text": [
      "number of gene symbol:   1%|▏                   | 6/658 [00:00<00:13, 46.67it/s]"
     ]
    },
    {
     "name": "stdout",
     "output_type": "stream",
     "text": [
      "['chr14', 'HAUS4']\n",
      "['chr19', 'OR10H3']\n",
      "This gene does not has any peaks in DHS\n",
      "['chr11', 'SF3B2']\n",
      "['chr17', 'OR4D1']\n",
      "This gene does not has any peaks in DHS\n",
      "['chr7', 'MRPS24']\n",
      "['chr20', 'DDX27']\n",
      "['chr9', 'DCTN3']\n",
      "['chr12', 'POP5']\n",
      "['chr8', 'POLR2K']\n"
     ]
    },
    {
     "name": "stderr",
     "output_type": "stream",
     "text": [
      "\r",
      "number of gene symbol:   2%|▎                  | 11/658 [00:00<00:17, 36.98it/s]"
     ]
    },
    {
     "name": "stdout",
     "output_type": "stream",
     "text": [
      "['chrX', 'SAGE1']\n",
      "['chr19', 'MRPL34']\n",
      "['chr11', 'RAD9A']\n",
      "['chr2', 'MRPL19']\n",
      "['chr1', 'FDPS']\n",
      "['chr1', 'HEATR1']\n"
     ]
    },
    {
     "name": "stderr",
     "output_type": "stream",
     "text": [
      "number of gene symbol:   3%|▌                  | 19/658 [00:00<00:17, 35.62it/s]"
     ]
    },
    {
     "name": "stdout",
     "output_type": "stream",
     "text": [
      "['chr17', 'COX10']\n",
      "['chr7', 'TRRAP']\n",
      "['chr19', 'CYP2A13']\n",
      "This gene does not has any peaks in DHS\n",
      "['chr13', 'ARGLU1']\n",
      "['chr13', 'TM9SF2']\n",
      "['chr17', 'C17orf49']\n",
      "['chr15', 'MFAP1']\n"
     ]
    },
    {
     "name": "stderr",
     "output_type": "stream",
     "text": [
      "number of gene symbol:   4%|▊                  | 28/658 [00:00<00:17, 36.53it/s]"
     ]
    },
    {
     "name": "stdout",
     "output_type": "stream",
     "text": [
      "['chrX', 'TEX13A']\n",
      "This gene does not has any peaks in DHS\n",
      "['chr16', 'RSL1D1']\n",
      "['chr12', 'APOBEC1']\n",
      "['chr6', 'RPL7L1']\n",
      "['chr4', 'DSPP']\n",
      "This gene does not has any peaks in DHS\n",
      "['chr6', 'DHX16']\n",
      "['chr4', 'SDAD1']\n",
      "['chr2', 'CHMP3']\n",
      "['chr19', 'ZNF574']\n"
     ]
    },
    {
     "name": "stderr",
     "output_type": "stream",
     "text": [
      "number of gene symbol:   6%|█                  | 37/658 [00:01<00:16, 36.79it/s]"
     ]
    },
    {
     "name": "stdout",
     "output_type": "stream",
     "text": [
      "['chr1', 'MTOR']\n",
      "['chr2', 'DYNC1I2']\n",
      "['chr5', 'RPS14']\n",
      "['chr10', 'EIF3A']\n",
      "['chr21', 'KRTAP13-3']\n",
      "This gene does not has any peaks in DHS\n",
      "['chr14', 'YY1']\n",
      "['chr7', 'MRPS33']\n",
      "['chr11', 'TAF10']\n"
     ]
    },
    {
     "name": "stderr",
     "output_type": "stream",
     "text": [
      "\r",
      "number of gene symbol:   6%|█▏                 | 41/658 [00:01<00:17, 35.66it/s]"
     ]
    },
    {
     "name": "stdout",
     "output_type": "stream",
     "text": [
      "['chr20', 'CSE1L']\n",
      "['chr1', 'SF3B4']\n",
      "['chr1', 'CCT3']\n",
      "['chr5', 'ZMAT2']\n",
      "['chr8', 'ATP6V1H']\n",
      "['chr19', 'ILF3']\n"
     ]
    },
    {
     "name": "stderr",
     "output_type": "stream",
     "text": [
      "number of gene symbol:   7%|█▍                 | 49/658 [00:01<00:20, 29.73it/s]"
     ]
    },
    {
     "name": "stdout",
     "output_type": "stream",
     "text": [
      "['chr7', 'GET4']\n",
      "['chr12', 'FGF6']\n",
      "This gene does not has any peaks in DHS\n",
      "['chr15', 'KNL1']\n",
      "['chr12', 'GCN1']\n",
      "['chr2', 'NCAPH']\n",
      "['chr6', 'RPP40']\n",
      "['chr1', 'VPS72']\n"
     ]
    },
    {
     "name": "stderr",
     "output_type": "stream",
     "text": [
      "number of gene symbol:   9%|█▋                 | 57/658 [00:01<00:18, 33.35it/s]"
     ]
    },
    {
     "name": "stdout",
     "output_type": "stream",
     "text": [
      "['chr11', 'OR51D1']\n",
      "['chr11', 'OR8G5']\n",
      "This gene does not has any peaks in DHS\n",
      "['chr17', 'CDK12']\n",
      "['chr1', 'PMVK']\n",
      "['chr6', 'POLR1H']\n",
      "['chr12', 'TAS2R50']\n",
      "This gene does not has any peaks in DHS\n",
      "['chr17', 'PIGS']\n",
      "['chr17', 'KRT28']\n",
      "This gene does not has any peaks in DHS\n",
      "['chr9', 'SPATA31D1']\n",
      "This gene does not has any peaks in DHS\n",
      "['chr7', 'SSBP1']\n"
     ]
    },
    {
     "name": "stderr",
     "output_type": "stream",
     "text": [
      "number of gene symbol:  10%|█▉                 | 68/658 [00:01<00:15, 38.95it/s]"
     ]
    },
    {
     "name": "stdout",
     "output_type": "stream",
     "text": [
      "['chr2', 'MRPL33']\n",
      "['chr11', 'RRM1']\n",
      "['chr11', 'OR2D2']\n",
      "This gene does not has any peaks in DHS\n",
      "['chr3', 'RPL14']\n",
      "['chr8', 'CYP11B2']\n",
      "This gene does not has any peaks in DHS\n",
      "['chr1', 'CLSPN']\n",
      "['chrX', 'BEND2']\n",
      "This gene does not has any peaks in DHS\n",
      "['chr4', 'COPS4']\n",
      "['chr1', 'MCL1']\n"
     ]
    },
    {
     "name": "stderr",
     "output_type": "stream",
     "text": [
      "number of gene symbol:  12%|██▏                | 77/658 [00:02<00:14, 39.99it/s]"
     ]
    },
    {
     "name": "stdout",
     "output_type": "stream",
     "text": [
      "['chr17', 'CDC27']\n",
      "['chr19', 'ERCC2']\n",
      "['chr7', 'TAS2R40']\n",
      "This gene does not has any peaks in DHS\n",
      "['chr20', 'PRPF6']\n",
      "['chr21', 'U2AF1']\n",
      "This gene does not has any peaks in DHS\n",
      "['chr14', 'C14orf178']\n",
      "['chr19', 'CACTIN']\n",
      "['chr1', 'TBCE']\n"
     ]
    },
    {
     "name": "stderr",
     "output_type": "stream",
     "text": [
      "\r",
      "number of gene symbol:  12%|██▎                | 82/658 [00:02<00:14, 38.46it/s]"
     ]
    },
    {
     "name": "stdout",
     "output_type": "stream",
     "text": [
      "['chr17', 'INTS2']\n",
      "['chr18', 'TRAPPC8']\n",
      "['chr4', 'NDST4']\n",
      "['chr17', 'LUC7L3']\n",
      "['chr2', 'IMMT']\n",
      "['chr13', 'TUBGCP3']\n",
      "['chr11', 'OR52B6']\n",
      "This gene does not has any peaks in DHS\n",
      "['chr2', 'SPC25']\n"
     ]
    },
    {
     "name": "stderr",
     "output_type": "stream",
     "text": [
      "number of gene symbol:  14%|██▋                | 93/658 [00:02<00:15, 37.46it/s]"
     ]
    },
    {
     "name": "stdout",
     "output_type": "stream",
     "text": [
      "['chr19', 'SPC24']\n",
      "['chr2', 'XRCC5']\n",
      "['chr20', 'DHX35']\n",
      "['chr10', 'TLX1']\n",
      "This gene does not has any peaks in DHS\n",
      "['chr17', 'SIRT7']\n",
      "['chr20', 'EIF6']\n",
      "['chr2', 'WDR33']\n",
      "['chr10', 'SMNDC1']\n"
     ]
    },
    {
     "name": "stderr",
     "output_type": "stream",
     "text": [
      "number of gene symbol:  15%|██▊               | 101/658 [00:02<00:15, 36.45it/s]"
     ]
    },
    {
     "name": "stdout",
     "output_type": "stream",
     "text": [
      "['chr6', 'RPF2']\n",
      "['chr10', 'SEC24C']\n",
      "['chr16', 'COG8']\n",
      "['chr3', 'SEC13']\n",
      "['chr3', 'EIF4G1']\n",
      "['chr14', 'RNASE8']\n",
      "This gene does not has any peaks in DHS\n",
      "['chr1', 'MRPS15']\n"
     ]
    },
    {
     "name": "stderr",
     "output_type": "stream",
     "text": [
      "\r",
      "number of gene symbol:  16%|██▉               | 106/658 [00:02<00:14, 37.52it/s]"
     ]
    },
    {
     "name": "stdout",
     "output_type": "stream",
     "text": [
      "['chr2', 'ERCC3']\n",
      "['chr17', 'KRTAP4-7']\n",
      "This gene does not has any peaks in DHS\n",
      "['chr1', 'MRPS14']\n",
      "['chr1', 'RPA2']\n",
      "['chr2', 'PSMD1']\n",
      "['chr11', 'INTS4']\n",
      "['chr21', 'CCT8']\n",
      "['chr1', 'CDC20']\n"
     ]
    },
    {
     "name": "stderr",
     "output_type": "stream",
     "text": [
      "number of gene symbol:  17%|███               | 114/658 [00:03<00:15, 35.28it/s]"
     ]
    },
    {
     "name": "stdout",
     "output_type": "stream",
     "text": [
      "['chr20', 'MYBL2']\n",
      "['chr5', 'HMGCS1']\n",
      "['chr1', 'RPL5']\n",
      "['chr13', 'COG3']\n",
      "['chr1', 'CDCP2']\n",
      "This gene does not has any peaks in DHS\n",
      "['chr17', 'POLG2']\n",
      "['chr10', 'RPS24']\n",
      "['chr16', 'CACNG3']\n"
     ]
    },
    {
     "name": "stderr",
     "output_type": "stream",
     "text": [
      "number of gene symbol:  19%|███▎              | 123/658 [00:03<00:13, 38.28it/s]"
     ]
    },
    {
     "name": "stdout",
     "output_type": "stream",
     "text": [
      "['chr7', 'RFC2']\n",
      "['chr1', 'C8B']\n",
      "This gene does not has any peaks in DHS\n",
      "['chr5', 'BNIP1']\n",
      "['chr20', 'RPN2']\n",
      "['chr18', 'SKA1']\n",
      "['chr2', 'CWC22']\n",
      "['chr9', 'GNE']\n",
      "['chr10', 'BMS1']\n"
     ]
    },
    {
     "name": "stderr",
     "output_type": "stream",
     "text": [
      "number of gene symbol:  20%|███▌              | 131/658 [00:03<00:14, 36.61it/s]"
     ]
    },
    {
     "name": "stdout",
     "output_type": "stream",
     "text": [
      "['chr10', 'POLR3A']\n",
      "['chr3', 'TSEN2']\n",
      "['chr11', 'OR5W2']\n",
      "This gene does not has any peaks in DHS\n",
      "['chr7', 'DLD']\n",
      "['chr9', 'DNLZ']\n",
      "['chr17', 'MED9']\n",
      "['chr14', 'EIF2B2']\n",
      "['chr17', 'UTP6']\n"
     ]
    },
    {
     "name": "stderr",
     "output_type": "stream",
     "text": [
      "number of gene symbol:  21%|███▊              | 140/658 [00:03<00:14, 35.11it/s]"
     ]
    },
    {
     "name": "stdout",
     "output_type": "stream",
     "text": [
      "['chr9', 'IFNA16']\n",
      "This gene does not has any peaks in DHS\n",
      "['chr1', 'INTS3']\n",
      "['chr2', 'UGP2']\n",
      "['chr1', 'PPP1R8']\n",
      "['chr1', 'BCAS2']\n",
      "['chr16', 'SRCAP']\n",
      "['chr2', 'VPS54']\n"
     ]
    },
    {
     "name": "stderr",
     "output_type": "stream",
     "text": [
      "\r",
      "number of gene symbol:  22%|███▉              | 144/658 [00:04<00:17, 29.29it/s]"
     ]
    },
    {
     "name": "stdout",
     "output_type": "stream",
     "text": [
      "['chr17', 'BIRC5']\n",
      "['chr11', 'ST3GAL4']\n",
      "['chr14', 'PRMT5']\n",
      "['chr14', 'TEDC1']\n",
      "['chr11', 'MRGPRD']\n",
      "This gene does not has any peaks in DHS\n",
      "['chr17', 'NMT1']\n"
     ]
    },
    {
     "name": "stderr",
     "output_type": "stream",
     "text": [
      "number of gene symbol:  23%|████▏             | 153/658 [00:04<00:14, 35.32it/s]"
     ]
    },
    {
     "name": "stdout",
     "output_type": "stream",
     "text": [
      "['chr12', 'TIMELESS']\n",
      "['chr1', 'LIN28A']\n",
      "This gene does not has any peaks in DHS\n",
      "['chr20', 'SEC23B']\n",
      "['chr5', 'WDR55']\n",
      "['chr9', 'IFNA17']\n",
      "This gene does not has any peaks in DHS\n",
      "['chr2', 'MRPL35']\n",
      "['chr14', 'CEBPE']\n",
      "This gene does not has any peaks in DHS\n",
      "['chr12', 'TUBA1B']\n",
      "['chr8', 'PUF60']\n"
     ]
    },
    {
     "name": "stderr",
     "output_type": "stream",
     "text": [
      "number of gene symbol:  24%|████▍             | 161/658 [00:04<00:14, 34.24it/s]"
     ]
    },
    {
     "name": "stdout",
     "output_type": "stream",
     "text": [
      "['chr20', 'DEFB126']\n",
      "['chr6', 'TAAR6']\n",
      "This gene does not has any peaks in DHS\n",
      "['chr2', 'NCL']\n",
      "['chr1', 'SNIP1']\n",
      "['chr2', 'NRBP1']\n",
      "['chr3', 'PSMD6']\n",
      "['chr20', 'WFDC9']\n",
      "This gene does not has any peaks in DHS\n",
      "['chr2', 'DDX18']\n",
      "['chr5', 'MED7']\n"
     ]
    },
    {
     "name": "stderr",
     "output_type": "stream",
     "text": [
      "number of gene symbol:  26%|████▋             | 170/658 [00:04<00:13, 37.36it/s]"
     ]
    },
    {
     "name": "stdout",
     "output_type": "stream",
     "text": [
      "['chr5', 'TTC1']\n",
      "['chr11', 'SART1']\n",
      "['chr22', 'EIF3D']\n",
      "['chr11', 'BUD13']\n",
      "['chr6', 'LSM2']\n",
      "['chr10', 'SUPV3L1']\n",
      "['chr3', 'SRPRB']\n",
      "['chr5', 'MRPS30']\n"
     ]
    },
    {
     "name": "stderr",
     "output_type": "stream",
     "text": [
      "number of gene symbol:  27%|████▉             | 180/658 [00:04<00:12, 39.54it/s]"
     ]
    },
    {
     "name": "stdout",
     "output_type": "stream",
     "text": [
      "['chr2', 'MRPS5']\n",
      "['chr6', 'RPP21']\n",
      "['chr5', 'DDX41']\n",
      "['chr1', 'NUF2']\n",
      "['chr10', 'GDF2']\n",
      "This gene does not has any peaks in DHS\n",
      "['chr12', 'IAPP']\n",
      "This gene does not has any peaks in DHS\n",
      "['chr20', 'DSN1']\n",
      "['chr19', 'MBD3L2']\n",
      "This gene does not has any peaks in DHS\n",
      "['chr7', 'ORC5']\n",
      "['chr1', 'RPS27']\n"
     ]
    },
    {
     "name": "stderr",
     "output_type": "stream",
     "text": [
      "number of gene symbol:  29%|█████▏            | 190/658 [00:05<00:10, 43.20it/s]"
     ]
    },
    {
     "name": "stdout",
     "output_type": "stream",
     "text": [
      "['chr17', 'PRPF8']\n",
      "['chr6', 'TTK']\n",
      "['chr7', 'EXOC4']\n",
      "['chr14', 'MIS18BP1']\n",
      "['chr9', 'NUP214']\n",
      "['chr10', 'WDR11']\n",
      "['chrX', 'CXorf66']\n",
      "This gene does not has any peaks in DHS\n",
      "['chr9', 'IARS1']\n",
      "['chrX', 'RHOXF2']\n",
      "This gene does not has any peaks in DHS\n",
      "['chr1', 'DAP3']\n"
     ]
    },
    {
     "name": "stderr",
     "output_type": "stream",
     "text": [
      "\r",
      "number of gene symbol:  30%|█████▎            | 196/658 [00:05<00:10, 44.86it/s]"
     ]
    },
    {
     "name": "stdout",
     "output_type": "stream",
     "text": [
      "['chr8', 'DEFB106A']\n",
      "This gene does not has any peaks in DHS\n",
      "['chr8', 'CYP7A1']\n",
      "This gene does not has any peaks in DHS\n",
      "['chr5', 'MRPL22']\n",
      "['chr10', 'TUBGCP2']\n",
      "['chr6', 'GJA10']\n",
      "This gene does not has any peaks in DHS\n",
      "['chr10', 'SAR1A']\n",
      "['chr17', 'RPL23']\n",
      "['chr19', 'CARM1']\n"
     ]
    },
    {
     "name": "stderr",
     "output_type": "stream",
     "text": [
      "number of gene symbol:  31%|█████▌            | 205/658 [00:05<00:12, 36.34it/s]"
     ]
    },
    {
     "name": "stdout",
     "output_type": "stream",
     "text": [
      "['chr7', 'POLR1F']\n",
      "['chr2', 'SRBD1']\n",
      "['chr2', 'RAB1A']\n",
      "['chr22', 'POTEH']\n",
      "This gene does not has any peaks in DHS\n",
      "['chr4', 'CCKAR']\n",
      "This gene does not has any peaks in DHS\n",
      "['chrX', 'LUZP4']\n",
      "This gene does not has any peaks in DHS\n",
      "['chr20', 'CST4']\n",
      "This gene does not has any peaks in DHS\n",
      "['chr1', 'RPF1']\n",
      "['chr5', 'IL13']\n",
      "This gene does not has any peaks in DHS\n",
      "['chr12', 'ARL1']\n"
     ]
    },
    {
     "name": "stderr",
     "output_type": "stream",
     "text": [
      "number of gene symbol:  33%|█████▉            | 216/658 [00:05<00:10, 40.80it/s]"
     ]
    },
    {
     "name": "stdout",
     "output_type": "stream",
     "text": [
      "['chr12', 'DDX23']\n",
      "['chr1', 'GPN2']\n",
      "['chr5', 'MRPS27']\n",
      "['chr2', 'POLR1B']\n",
      "['chr8', 'INTS8']\n",
      "['chr2', 'STPG4']\n",
      "This gene does not has any peaks in DHS\n",
      "['chr5', 'PHAX']\n",
      "['chr2', 'ITGAV']\n"
     ]
    },
    {
     "name": "stderr",
     "output_type": "stream",
     "text": [
      "\r",
      "number of gene symbol:  34%|██████            | 221/658 [00:06<00:11, 39.12it/s]"
     ]
    },
    {
     "name": "stdout",
     "output_type": "stream",
     "text": [
      "['chr14', 'DYNC1H1']\n",
      "['chr1', 'RABGGTB']\n",
      "['chr6', 'MCM3']\n",
      "['chr9', 'MRPS2']\n",
      "['chr1', 'SNRPE']\n",
      "['chr14', 'PSMC1']\n",
      "['chr1', 'PARS2']\n"
     ]
    },
    {
     "name": "stderr",
     "output_type": "stream",
     "text": [
      "number of gene symbol:  35%|██████▎           | 231/658 [00:06<00:10, 40.10it/s]"
     ]
    },
    {
     "name": "stdout",
     "output_type": "stream",
     "text": [
      "['chr14', 'PSMB5']\n",
      "['chr3', 'TRMT10C']\n",
      "['chr6', 'TFAP2D']\n",
      "This gene does not has any peaks in DHS\n",
      "['chr3', 'MRPL3']\n",
      "['chr1', 'PIGV']\n",
      "['chr10', 'RPP30']\n",
      "['chr17', 'NOL11']\n",
      "['chr17', 'AATF']\n",
      "['chr11', 'UBQLN3']\n",
      "This gene does not has any peaks in DHS\n",
      "['chr14', 'MED6']\n",
      "['chr15', 'SNUPN']\n"
     ]
    },
    {
     "name": "stderr",
     "output_type": "stream",
     "text": [
      "number of gene symbol:  37%|██████▌           | 242/658 [00:06<00:09, 42.58it/s]"
     ]
    },
    {
     "name": "stdout",
     "output_type": "stream",
     "text": [
      "['chr9', 'PSMB7']\n",
      "['chr18', 'SEH1L']\n",
      "['chr5', 'GABRA6']\n",
      "This gene does not has any peaks in DHS\n",
      "['chr17', 'MYBBP1A']\n",
      "['chr5', 'SLCO6A1']\n",
      "This gene does not has any peaks in DHS\n",
      "['chr1', 'NVL']\n",
      "['chr17', 'CCL1']\n",
      "This gene does not has any peaks in DHS\n",
      "['chr12', 'GARIN6']\n",
      "This gene does not has any peaks in DHS\n",
      "['chr17', 'TBCD']\n"
     ]
    },
    {
     "name": "stderr",
     "output_type": "stream",
     "text": [
      "number of gene symbol:  38%|██████▉           | 252/658 [00:06<00:10, 37.47it/s]"
     ]
    },
    {
     "name": "stdout",
     "output_type": "stream",
     "text": [
      "['chr6', 'RPL10A']\n",
      "['chr6', 'SYNCRIP']\n",
      "['chr1', 'RPE65']\n",
      "This gene does not has any peaks in DHS\n",
      "['chr13', 'GSX1']\n",
      "['chr20', 'WFDC11']\n",
      "This gene does not has any peaks in DHS\n",
      "['chr1', 'FH']\n",
      "['chr8', 'CHRNB3']\n"
     ]
    },
    {
     "name": "stderr",
     "output_type": "stream",
     "text": [
      "\r",
      "number of gene symbol:  39%|███████           | 256/658 [00:06<00:10, 36.79it/s]"
     ]
    },
    {
     "name": "stdout",
     "output_type": "stream",
     "text": [
      "This gene does not has any peaks in DHS\n",
      "['chr11', 'DDB1']\n",
      "['chr11', 'COPB1']\n",
      "['chr12', 'CMAS']\n",
      "['chr12', 'POLR3B']\n",
      "['chr6', 'MRPS10']\n",
      "['chr6', 'GSTA5']\n",
      "This gene does not has any peaks in DHS\n",
      "['chr2', 'NBAS']\n"
     ]
    },
    {
     "name": "stderr",
     "output_type": "stream",
     "text": [
      "number of gene symbol:  40%|███████▎          | 266/658 [00:07<00:09, 42.14it/s]"
     ]
    },
    {
     "name": "stdout",
     "output_type": "stream",
     "text": [
      "['chr10', 'NPFFR1']\n",
      "This gene does not has any peaks in DHS\n",
      "['chr17', 'RPL27']\n",
      "['chr2', 'IL1F10']\n",
      "This gene does not has any peaks in DHS\n",
      "['chr6', 'GPR31']\n",
      "This gene does not has any peaks in DHS\n",
      "['chr14', 'KCNK10']\n",
      "This gene does not has any peaks in DHS\n",
      "['chr5', 'ZCCHC9']\n",
      "['chr16', 'PRSS33']\n",
      "This gene does not has any peaks in DHS\n",
      "['chr17', 'SPEM1']\n",
      "This gene does not has any peaks in DHS\n",
      "['chr8', 'RPL8']\n",
      "['chrY', 'HSFY1']\n",
      "This gene does not has any peaks in DHS\n",
      "['chr14', 'PSMC6']\n"
     ]
    },
    {
     "name": "stderr",
     "output_type": "stream",
     "text": [
      "number of gene symbol:  42%|███████▌          | 277/658 [00:07<00:08, 44.66it/s]"
     ]
    },
    {
     "name": "stdout",
     "output_type": "stream",
     "text": [
      "['chr19', 'RDH8']\n",
      "This gene does not has any peaks in DHS\n",
      "['chr15', 'RPAP1']\n",
      "['chr17', 'RPL19']\n",
      "['chr1', 'MED18']\n",
      "['chr19', 'OR7G2']\n",
      "This gene does not has any peaks in DHS\n",
      "['chr7', 'RINT1']\n",
      "['chr12', 'KRR1']\n",
      "['chr16', 'PLK1']\n",
      "['chr6', 'GTF2H4']\n",
      "['chr4', 'NUP54']\n"
     ]
    },
    {
     "name": "stderr",
     "output_type": "stream",
     "text": [
      "number of gene symbol:  44%|███████▊          | 287/658 [00:07<00:09, 40.16it/s]"
     ]
    },
    {
     "name": "stdout",
     "output_type": "stream",
     "text": [
      "['chr12', 'CIT']\n",
      "['chr18', 'CEP192']\n",
      "['chr6', 'SLC35A1']\n",
      "['chr3', 'DBR1']\n",
      "['chr1', 'INSRR']\n",
      "['chr12', 'NOP2']\n",
      "['chr3', 'PSMD2']\n",
      "['chr9', 'IFNW1']\n"
     ]
    },
    {
     "name": "stderr",
     "output_type": "stream",
     "text": [
      "\r",
      "number of gene symbol:  44%|███████▉          | 292/658 [00:07<00:10, 36.10it/s]"
     ]
    },
    {
     "name": "stdout",
     "output_type": "stream",
     "text": [
      "['chr12', 'EP400']\n",
      "['chr3', 'UROC1']\n",
      "This gene does not has any peaks in DHS\n",
      "['chr10', 'GBF1']\n",
      "['chr3', 'GMPPB']\n",
      "['chr17', 'TOP2A']\n"
     ]
    },
    {
     "name": "stderr",
     "output_type": "stream",
     "text": [
      "number of gene symbol:  46%|████████▏         | 300/658 [00:08<00:11, 32.03it/s]"
     ]
    },
    {
     "name": "stdout",
     "output_type": "stream",
     "text": [
      "['chr11', 'SLC22A6']\n",
      "This gene does not has any peaks in DHS\n",
      "['chr14', 'FSCB']\n",
      "This gene does not has any peaks in DHS\n",
      "['chr15', 'CEP152']\n",
      "['chr12', 'ACTR6']\n",
      "['chr19', 'PSMC4']\n",
      "['chr15', 'KIF23']\n",
      "['chr10', 'SMC3']\n"
     ]
    },
    {
     "name": "stderr",
     "output_type": "stream",
     "text": [
      "\r",
      "number of gene symbol:  46%|████████▎         | 304/658 [00:08<00:11, 29.69it/s]"
     ]
    },
    {
     "name": "stdout",
     "output_type": "stream",
     "text": [
      "['chr6', 'OPN5']\n",
      "This gene does not has any peaks in DHS\n",
      "['chr4', 'ANAPC4']\n",
      "['chr11', 'CKAP5']\n",
      "['chr17', 'AURKB']\n",
      "['chr11', 'EIF4G2']\n",
      "['chr1', 'MRPL55']\n"
     ]
    },
    {
     "name": "stderr",
     "output_type": "stream",
     "text": [
      "\r",
      "number of gene symbol:  47%|████████▍         | 308/658 [00:08<00:11, 29.27it/s]"
     ]
    },
    {
     "name": "stdout",
     "output_type": "stream",
     "text": [
      "['chr4', 'TMPRSS11F']\n",
      "This gene does not has any peaks in DHS\n",
      "['chr19', 'RPL36']\n",
      "['chr1', 'ARF1']\n",
      "['chr17', 'SRSF2']\n"
     ]
    },
    {
     "name": "stderr",
     "output_type": "stream",
     "text": [
      "number of gene symbol:  48%|████████▋         | 316/658 [00:08<00:12, 27.12it/s]"
     ]
    },
    {
     "name": "stdout",
     "output_type": "stream",
     "text": [
      "['chr19', 'EIF3G']\n",
      "['chr1', 'ALX3']\n",
      "This gene does not has any peaks in DHS\n",
      "['chr11', 'C11orf40']\n",
      "This gene does not has any peaks in DHS\n",
      "['chr19', 'IFNL3']\n",
      "This gene does not has any peaks in DHS\n",
      "['chr9', 'LHX3']\n",
      "['chr9', 'FOXB2']\n",
      "['chr6', 'MUCL3']\n"
     ]
    },
    {
     "name": "stderr",
     "output_type": "stream",
     "text": [
      "number of gene symbol:  49%|████████▊         | 323/658 [00:08<00:11, 29.92it/s]"
     ]
    },
    {
     "name": "stdout",
     "output_type": "stream",
     "text": [
      "This gene does not has any peaks in DHS\n",
      "['chr17', 'PSMB6']\n",
      "['chr11', 'ACCSL']\n",
      "This gene does not has any peaks in DHS\n",
      "['chr1', 'ATP6V1G3']\n",
      "This gene does not has any peaks in DHS\n",
      "['chr17', 'NSRP1']\n",
      "['chr20', 'DYNLRB1']\n",
      "['chr7', 'NUP205']\n",
      "['chr7', 'NPSR1']\n",
      "This gene does not has any peaks in DHS\n",
      "['chr12', 'CCT2']\n"
     ]
    },
    {
     "name": "stderr",
     "output_type": "stream",
     "text": [
      "number of gene symbol:  50%|█████████         | 331/658 [00:09<00:09, 32.90it/s]"
     ]
    },
    {
     "name": "stdout",
     "output_type": "stream",
     "text": [
      "['chr14', 'GEMIN2']\n",
      "['chr10', 'C10orf53']\n",
      "This gene does not has any peaks in DHS\n",
      "['chr2', 'RPL37A']\n",
      "['chrX', 'IGBP1']\n",
      "['chr15', 'TICRR']\n",
      "['chr11', 'MMP27']\n",
      "This gene does not has any peaks in DHS\n",
      "['chr11', 'NUP160']\n",
      "['chr2', 'POLR2D']\n"
     ]
    },
    {
     "name": "stderr",
     "output_type": "stream",
     "text": [
      "number of gene symbol:  52%|█████████▎        | 340/658 [00:09<00:09, 34.96it/s]"
     ]
    },
    {
     "name": "stdout",
     "output_type": "stream",
     "text": [
      "['chr11', 'SSRP1']\n",
      "['chr20', 'TPX2']\n",
      "['chr11', 'POLR2G']\n",
      "['chr6', 'PRIM2']\n",
      "['chr1', 'PRPF3']\n",
      "['chr16', 'RBBP6']\n",
      "['chr18', 'SERPINB12']\n",
      "This gene does not has any peaks in DHS\n",
      "['chr17', 'STAT5B']\n"
     ]
    },
    {
     "name": "stderr",
     "output_type": "stream",
     "text": [
      "number of gene symbol:  53%|█████████▌        | 348/658 [00:09<00:08, 35.62it/s]"
     ]
    },
    {
     "name": "stdout",
     "output_type": "stream",
     "text": [
      "['chr19', 'LSM4']\n",
      "['chr14', 'SCFD1']\n",
      "['chr19', 'EEF2']\n",
      "['chr14', 'METTL17']\n",
      "['chr19', 'IFNL2']\n",
      "This gene does not has any peaks in DHS\n",
      "['chr16', 'NSMCE1']\n",
      "['chrY', 'DAZ1']\n",
      "This gene does not has any peaks in DHS\n",
      "['chr14', 'PSMA3']\n"
     ]
    },
    {
     "name": "stderr",
     "output_type": "stream",
     "text": [
      "\r",
      "number of gene symbol:  53%|█████████▋        | 352/658 [00:09<00:09, 33.61it/s]"
     ]
    },
    {
     "name": "stdout",
     "output_type": "stream",
     "text": [
      "['chr8', 'RPL7']\n",
      "['chr15', 'RAD51']\n",
      "['chr9', 'QSOX2']\n",
      "['chr1', 'ZNHIT6']\n"
     ]
    },
    {
     "name": "stderr",
     "output_type": "stream",
     "text": [
      "\r",
      "number of gene symbol:  54%|█████████▋        | 356/658 [00:09<00:10, 29.41it/s]"
     ]
    },
    {
     "name": "stdout",
     "output_type": "stream",
     "text": [
      "['chr4', 'COQ2']\n",
      "['chr7', 'SEPTIN7P2']\n",
      "['chr12', 'MARS1']\n",
      "['chr19', 'COX6B1']\n",
      "['chr1', 'ILF2']\n",
      "['chr11', 'FGF3']\n"
     ]
    },
    {
     "name": "stderr",
     "output_type": "stream",
     "text": [
      "number of gene symbol:  55%|█████████▉        | 364/658 [00:10<00:10, 27.93it/s]"
     ]
    },
    {
     "name": "stdout",
     "output_type": "stream",
     "text": [
      "['chr3', 'TAMM41']\n",
      "['chr1', 'DDOST']\n",
      "['chr2', 'RRM2']\n",
      "['chr1', 'TARS2']\n",
      "['chr19', 'RPS19']\n",
      "['chr6', 'PNISR']\n"
     ]
    },
    {
     "name": "stderr",
     "output_type": "stream",
     "text": [
      "number of gene symbol:  57%|██████████▏       | 372/658 [00:10<00:09, 30.06it/s]"
     ]
    },
    {
     "name": "stdout",
     "output_type": "stream",
     "text": [
      "['chr4', 'DHX15']\n",
      "['chr22', 'PNPLA5']\n",
      "This gene does not has any peaks in DHS\n",
      "['chr16', 'PSMD7']\n",
      "['chr16', 'CREBBP']\n",
      "['chr17', 'MRPL45']\n",
      "['chr2', 'NOP58']\n",
      "['chr2', 'WDR75']\n"
     ]
    },
    {
     "name": "stderr",
     "output_type": "stream",
     "text": [
      "\r",
      "number of gene symbol:  57%|██████████▎       | 376/658 [00:10<00:09, 29.46it/s]"
     ]
    },
    {
     "name": "stdout",
     "output_type": "stream",
     "text": [
      "['chr5', 'CDC23']\n",
      "['chr11', 'WEE1']\n",
      "['chr8', 'ATP6V1B2']\n",
      "['chr9', 'SPATA31A7']\n",
      "This gene does not has any peaks in DHS\n",
      "['chr10', 'CHAT']\n",
      "This gene does not has any peaks in DHS\n",
      "['chr14', 'FNTB']\n",
      "['chr8', 'REXO1L1P']\n",
      "This gene does not has any peaks in DHS\n",
      "['chr17', 'OR1G1']\n",
      "This gene does not has any peaks in DHS\n",
      "['chr12', 'LHX5']\n"
     ]
    },
    {
     "name": "stderr",
     "output_type": "stream",
     "text": [
      "number of gene symbol:  59%|██████████▌       | 388/658 [00:10<00:06, 39.01it/s]"
     ]
    },
    {
     "name": "stdout",
     "output_type": "stream",
     "text": [
      "['chr4', 'UTP3']\n",
      "['chr12', 'KRT71']\n",
      "This gene does not has any peaks in DHS\n",
      "['chrX', 'MAGEC3']\n",
      "This gene does not has any peaks in DHS\n",
      "['chr18', 'NAPG']\n",
      "['chr11', 'OR9Q2']\n",
      "This gene does not has any peaks in DHS\n",
      "['chr3', 'EIF2B5']\n",
      "['chr6', 'VARS2']\n",
      "['chr1', 'CELA2A']\n",
      "This gene does not has any peaks in DHS\n",
      "['chr1', 'DNTTIP2']\n",
      "['chr1', 'ATP1A1']\n"
     ]
    },
    {
     "name": "stderr",
     "output_type": "stream",
     "text": [
      "number of gene symbol:  60%|██████████▊       | 396/658 [00:11<00:07, 37.30it/s]"
     ]
    },
    {
     "name": "stdout",
     "output_type": "stream",
     "text": [
      "['chr15', 'RSL24D1']\n",
      "['chr3', 'MRPS25']\n",
      "['chr3', 'GFM1']\n",
      "['chr20', 'HM13']\n",
      "['chr1', 'OR2T4']\n",
      "This gene does not has any peaks in DHS\n",
      "['chr21', 'MRPL39']\n",
      "['chr2', 'LRPPRC']\n",
      "['chr5', 'SPDL1']\n"
     ]
    },
    {
     "name": "stderr",
     "output_type": "stream",
     "text": [
      "number of gene symbol:  62%|███████████       | 406/658 [00:11<00:06, 41.08it/s]"
     ]
    },
    {
     "name": "stdout",
     "output_type": "stream",
     "text": [
      "['chr11', 'OR52E8']\n",
      "This gene does not has any peaks in DHS\n",
      "['chrX', 'CT45A3']\n",
      "This gene does not has any peaks in DHS\n",
      "['chr1', 'RPL11']\n",
      "['chr11', 'EIF3M']\n",
      "['chr9', 'GOLGA1']\n",
      "['chr19', 'OR7D4']\n",
      "This gene does not has any peaks in DHS\n",
      "['chr17', 'NUP85']\n",
      "['chrX', 'OGT']\n",
      "['chr22', 'PIWIL3']\n",
      "This gene does not has any peaks in DHS\n",
      "['chr10', 'NOC3L']\n"
     ]
    },
    {
     "name": "stderr",
     "output_type": "stream",
     "text": [
      "number of gene symbol:  63%|███████████▍      | 416/658 [00:11<00:05, 42.49it/s]"
     ]
    },
    {
     "name": "stdout",
     "output_type": "stream",
     "text": [
      "['chr15', 'LEO1']\n",
      "['chr22', 'RTCB']\n",
      "['chr5', 'BDP1']\n",
      "['chr19', 'PGLYRP2']\n",
      "['chrX', 'CT45A2']\n",
      "This gene does not has any peaks in DHS\n",
      "['chr12', 'RACGAP1']\n",
      "['chr19', 'SNRNP70']\n",
      "['chr10', 'UPF2']\n"
     ]
    },
    {
     "name": "stderr",
     "output_type": "stream",
     "text": [
      "number of gene symbol:  65%|███████████▋      | 428/658 [00:11<00:04, 46.79it/s]"
     ]
    },
    {
     "name": "stdout",
     "output_type": "stream",
     "text": [
      "['chr11', 'TAF6L']\n",
      "['chr10', 'DRGX']\n",
      "This gene does not has any peaks in DHS\n",
      "['chr4', 'TMPRSS11A']\n",
      "This gene does not has any peaks in DHS\n",
      "['chr11', 'RPS13']\n",
      "['chr10', 'PNLIPRP1']\n",
      "This gene does not has any peaks in DHS\n",
      "['chr18', 'MEP1B']\n",
      "This gene does not has any peaks in DHS\n",
      "['chr9', 'IFNA4']\n",
      "This gene does not has any peaks in DHS\n",
      "['chr7', 'PSMC2']\n",
      "['chr1', 'CELA3B']\n",
      "This gene does not has any peaks in DHS\n",
      "['chr6', 'ADGRF2']\n",
      "['chr2', 'ZSWIM2']\n",
      "['chr17', 'KRTAP9-3']\n"
     ]
    },
    {
     "name": "stderr",
     "output_type": "stream",
     "text": [
      "number of gene symbol:  67%|███████████▉      | 438/658 [00:12<00:04, 46.36it/s]"
     ]
    },
    {
     "name": "stdout",
     "output_type": "stream",
     "text": [
      "This gene does not has any peaks in DHS\n",
      "['chr17', 'RPL38']\n",
      "['chr13', 'RNF17']\n",
      "This gene does not has any peaks in DHS\n",
      "['chr12', 'SNRPF']\n",
      "['chr9', 'EXOSC2']\n",
      "['chr11', 'HINFP']\n",
      "['chr9', 'FOXD4L4']\n",
      "This gene does not has any peaks in DHS\n",
      "['chr11', 'CWF19L2']\n",
      "['chr12', 'KRT76']\n",
      "This gene does not has any peaks in DHS\n",
      "['chr8', 'ATP6V1C1']\n"
     ]
    },
    {
     "name": "stderr",
     "output_type": "stream",
     "text": [
      "\r",
      "number of gene symbol:  67%|████████████      | 443/658 [00:12<00:04, 45.49it/s]"
     ]
    },
    {
     "name": "stdout",
     "output_type": "stream",
     "text": [
      "['chr1', 'OR2T12']\n",
      "This gene does not has any peaks in DHS\n",
      "['chr20', 'SYS1']\n",
      "['chr20', 'CRNKL1']\n",
      "['chr12', 'ESPL1']\n",
      "['chr8', 'UQCRB']\n",
      "['chr1', 'IARS2']\n",
      "['chr22', 'RFPL3']\n",
      "This gene does not has any peaks in DHS\n",
      "['chr9', 'CDKN2A-DT']\n",
      "This gene does not has any peaks in DHS\n",
      "['chr14', 'DICER1']\n"
     ]
    },
    {
     "name": "stderr",
     "output_type": "stream",
     "text": [
      "number of gene symbol:  69%|████████████▍     | 453/658 [00:12<00:04, 43.12it/s]"
     ]
    },
    {
     "name": "stdout",
     "output_type": "stream",
     "text": [
      "['chr13', 'SLITRK1']\n",
      "['chr3', 'AP2M1']\n",
      "['chr5', 'SRFBP1']\n",
      "['chr14', 'MNAT1']\n",
      "['chr3', 'ATR']\n",
      "['chr12', 'RPLP0']\n",
      "['chr11', 'CABP2']\n",
      "This gene does not has any peaks in DHS\n",
      "['chr2', 'MRPS9']\n",
      "['chr9', 'POLR1E']\n"
     ]
    },
    {
     "name": "stderr",
     "output_type": "stream",
     "text": [
      "number of gene symbol:  70%|████████████▋     | 463/658 [00:12<00:05, 37.71it/s]"
     ]
    },
    {
     "name": "stdout",
     "output_type": "stream",
     "text": [
      "['chr12', 'MED21']\n",
      "['chr7', 'TNPO3']\n",
      "['chr11', 'RAB1B']\n",
      "['chr16', 'CTRB1']\n",
      "This gene does not has any peaks in DHS\n",
      "['chr4', 'RPL34']\n",
      "['chr20', 'PDYN']\n",
      "This gene does not has any peaks in DHS\n",
      "['chr9', 'EXOSC3']\n"
     ]
    },
    {
     "name": "stderr",
     "output_type": "stream",
     "text": [
      "number of gene symbol:  72%|████████████▉     | 473/658 [00:12<00:04, 40.94it/s]"
     ]
    },
    {
     "name": "stdout",
     "output_type": "stream",
     "text": [
      "['chr12', 'LRRC10']\n",
      "This gene does not has any peaks in DHS\n",
      "['chr11', 'OOSP2']\n",
      "This gene does not has any peaks in DHS\n",
      "['chr19', 'KASH5']\n",
      "['chr19', 'NAPA']\n",
      "['chr12', 'RPS26']\n",
      "['chr16', 'AQP8']\n",
      "This gene does not has any peaks in DHS\n",
      "['chr16', 'NIP7']\n",
      "This gene does not has any peaks in DHS\n",
      "['chr2', 'MCM6']\n",
      "['chr12', 'ATP5F1B']\n",
      "['chr9', 'IFNA5']\n",
      "This gene does not has any peaks in DHS\n",
      "['chr10', 'NOLC1']\n"
     ]
    },
    {
     "name": "stderr",
     "output_type": "stream",
     "text": [
      "\r",
      "number of gene symbol:  73%|█████████████     | 478/658 [00:13<00:04, 39.92it/s]"
     ]
    },
    {
     "name": "stdout",
     "output_type": "stream",
     "text": [
      "['chr16', 'E4F1']\n",
      "['chr7', 'SRRT']\n",
      "['chr17', 'FTSJ3']\n",
      "['chr11', 'OR5T2']\n",
      "This gene does not has any peaks in DHS\n",
      "['chr15', 'TBC1D21']\n",
      "['chr6', 'PGK2']\n",
      "['chr3', 'COPB2']\n",
      "['chr6', 'HBS1L']\n"
     ]
    },
    {
     "name": "stderr",
     "output_type": "stream",
     "text": [
      "number of gene symbol:  74%|█████████████▎    | 488/658 [00:13<00:04, 38.04it/s]"
     ]
    },
    {
     "name": "stdout",
     "output_type": "stream",
     "text": [
      "['chr6', 'MDN1']\n",
      "['chr5', 'BRIX1']\n",
      "['chr12', 'NEDD1']\n",
      "['chr3', 'UBA3']\n",
      "['chr15', 'CDAN1']\n",
      "['chr4', 'SPCS3']\n",
      "['chr9', 'SEC16A']\n"
     ]
    },
    {
     "name": "stderr",
     "output_type": "stream",
     "text": [
      "number of gene symbol:  76%|█████████████▌    | 497/658 [00:13<00:04, 36.81it/s]"
     ]
    },
    {
     "name": "stdout",
     "output_type": "stream",
     "text": [
      "['chrX', 'ERCC6L']\n",
      "['chr3', 'LARS2']\n",
      "['chr9', 'SURF6']\n",
      "['chr9', 'NOL6']\n",
      "['chr2', 'ATIC']\n",
      "['chrY', 'RBMY1E']\n",
      "This gene does not has any peaks in DHS\n",
      "['chr16', 'POLR2C']\n",
      "['chr22', 'CENPM']\n",
      "['chr6', 'MMS22L']\n"
     ]
    },
    {
     "name": "stderr",
     "output_type": "stream",
     "text": [
      "\r",
      "number of gene symbol:  76%|█████████████▋    | 501/658 [00:13<00:04, 35.89it/s]"
     ]
    },
    {
     "name": "stdout",
     "output_type": "stream",
     "text": [
      "['chr20', 'NKX2-2']\n",
      "['chr3', 'RNF168']\n",
      "['chr16', 'MT1B']\n",
      "This gene does not has any peaks in DHS\n",
      "['chr4', 'RBM46']\n",
      "This gene does not has any peaks in DHS\n",
      "['chr8', 'EFR3A']\n",
      "['chr2', 'RPS7']\n",
      "['chr14', 'SNW1']\n",
      "['chr10', 'SLC25A28']\n"
     ]
    },
    {
     "name": "stderr",
     "output_type": "stream",
     "text": [
      "number of gene symbol:  78%|██████████████    | 514/658 [00:13<00:03, 42.25it/s]"
     ]
    },
    {
     "name": "stdout",
     "output_type": "stream",
     "text": [
      "['chr17', 'KRT36']\n",
      "This gene does not has any peaks in DHS\n",
      "['chr1', 'OR6K6']\n",
      "This gene does not has any peaks in DHS\n",
      "['chr15', 'POLR2M']\n",
      "['chr9', 'PUM3']\n",
      "['chr9', 'CYLC2']\n",
      "This gene does not has any peaks in DHS\n",
      "['chr19', 'ZIM3']\n",
      "This gene does not has any peaks in DHS\n",
      "['chr8', 'MROH6']\n",
      "['chr2', 'IL36A']\n",
      "This gene does not has any peaks in DHS\n",
      "['chr17', 'TBC1D29P']\n",
      "This gene does not has any peaks in DHS\n",
      "['chr7', 'COPS6']\n",
      "['chr10', 'DDX21']\n"
     ]
    },
    {
     "name": "stderr",
     "output_type": "stream",
     "text": [
      "number of gene symbol:  80%|██████████████▎   | 524/658 [00:14<00:03, 42.17it/s]"
     ]
    },
    {
     "name": "stdout",
     "output_type": "stream",
     "text": [
      "['chr17', 'COPS3']\n",
      "['chr17', 'CLTC']\n",
      "['chr11', 'OR5T3']\n",
      "This gene does not has any peaks in DHS\n",
      "['chr17', 'VPS53']\n",
      "['chrX', 'GPR101']\n",
      "['chr1', 'MRPL37']\n",
      "['chr2', 'HJURP']\n",
      "['chr5', 'RPS23']\n"
     ]
    },
    {
     "name": "stderr",
     "output_type": "stream",
     "text": [
      "number of gene symbol:  81%|██████████████▌   | 534/658 [00:14<00:02, 43.04it/s]"
     ]
    },
    {
     "name": "stdout",
     "output_type": "stream",
     "text": [
      "['chr17', 'MRPS23']\n",
      "['chr8', 'RPS20']\n",
      "['chr3', 'SLC2A2']\n",
      "This gene does not has any peaks in DHS\n",
      "['chr1', 'TCHHL1']\n",
      "This gene does not has any peaks in DHS\n",
      "['chr7', 'SLC13A1']\n",
      "This gene does not has any peaks in DHS\n",
      "['chr16', 'DHODH']\n",
      "['chr9', 'RPS6']\n",
      "['chr7', 'DDX56']\n",
      "['chr1', 'ALG14']\n"
     ]
    },
    {
     "name": "stderr",
     "output_type": "stream",
     "text": [
      "\r",
      "number of gene symbol:  82%|██████████████▋   | 539/658 [00:14<00:03, 38.64it/s]"
     ]
    },
    {
     "name": "stdout",
     "output_type": "stream",
     "text": [
      "['chr4', 'CENPC']\n",
      "['chr6', 'IGF2R']\n",
      "['chr19', 'VN1R2']\n",
      "['chr8', 'VPS28']\n",
      "['chr19', 'GPR32']\n",
      "This gene does not has any peaks in DHS\n",
      "['chr1', 'PSMD4']\n",
      "['chr13', 'NUP58']\n"
     ]
    },
    {
     "name": "stderr",
     "output_type": "stream",
     "text": [
      "number of gene symbol:  83%|██████████████▉   | 548/658 [00:14<00:02, 39.85it/s]"
     ]
    },
    {
     "name": "stdout",
     "output_type": "stream",
     "text": [
      "['chr5', 'HSPA9']\n",
      "['chr10', 'CYP2C19']\n",
      "This gene does not has any peaks in DHS\n",
      "['chr1', 'GTF2B']\n",
      "['chr8', 'RPL30']\n",
      "['chr5', 'ZNF131']\n",
      "['chr12', 'SNRNP35']\n",
      "['chr5', 'GARIN3']\n",
      "This gene does not has any peaks in DHS\n",
      "['chr9', 'OR5C1']\n",
      "This gene does not has any peaks in DHS\n",
      "['chr9', 'TEX10']\n",
      "['chr3', 'H1-8']\n"
     ]
    },
    {
     "name": "stderr",
     "output_type": "stream",
     "text": [
      "number of gene symbol:  85%|███████████████▎  | 558/658 [00:15<00:02, 38.79it/s]"
     ]
    },
    {
     "name": "stdout",
     "output_type": "stream",
     "text": [
      "This gene does not has any peaks in DHS\n",
      "['chr13', 'RFC3']\n",
      "['chr9', 'VCP']\n",
      "['chr1', 'PRAMEF1']\n",
      "This gene does not has any peaks in DHS\n",
      "['chr8', 'RAB2A']\n",
      "['chr7', 'YAE1']\n",
      "['chr1', 'F13B']\n",
      "['chr9', 'PPP3R2']\n"
     ]
    },
    {
     "name": "stderr",
     "output_type": "stream",
     "text": [
      "number of gene symbol:  86%|███████████████▍  | 566/658 [00:15<00:02, 38.65it/s]"
     ]
    },
    {
     "name": "stdout",
     "output_type": "stream",
     "text": [
      "['chr17', 'DHX8']\n",
      "['chr8', 'RAD21']\n",
      "['chr15', 'RPL4']\n",
      "['chr16', 'C16orf78']\n",
      "This gene does not has any peaks in DHS\n",
      "['chr1', 'RRP15']\n",
      "['chr19', 'CNOT3']\n",
      "['chr21', 'SOD1']\n",
      "['chr17', 'DDX52']\n",
      "['chr19', 'CHMP2A']\n"
     ]
    },
    {
     "name": "stderr",
     "output_type": "stream",
     "text": [
      "number of gene symbol:  88%|███████████████▊  | 576/658 [00:15<00:01, 41.24it/s]"
     ]
    },
    {
     "name": "stdout",
     "output_type": "stream",
     "text": [
      "['chr4', 'TRIML1']\n",
      "This gene does not has any peaks in DHS\n",
      "['chr3', 'RFC4']\n",
      "['chr3', 'ELP6']\n",
      "['chr17', 'KRT33A']\n",
      "This gene does not has any peaks in DHS\n",
      "['chr8', 'DEFB103B']\n",
      "This gene does not has any peaks in DHS\n",
      "['chr8', 'RRS1']\n",
      "['chr2', 'FARSB']\n",
      "['chr22', 'SAMM50']\n",
      "['chr19', 'FFAR1']\n",
      "This gene does not has any peaks in DHS\n",
      "['chr12', 'YEATS4']\n"
     ]
    },
    {
     "name": "stderr",
     "output_type": "stream",
     "text": [
      "\r",
      "number of gene symbol:  88%|███████████████▉  | 581/658 [00:15<00:02, 38.27it/s]"
     ]
    },
    {
     "name": "stdout",
     "output_type": "stream",
     "text": [
      "['chr3', 'IMPDH2']\n",
      "['chr13', 'CDX2']\n",
      "['chr19', 'DNM2']\n",
      "['chr15', 'PSMA4']\n",
      "['chr17', 'COG1']\n",
      "['chr16', 'RPL13']\n"
     ]
    },
    {
     "name": "stderr",
     "output_type": "stream",
     "text": [
      "number of gene symbol:  90%|████████████████  | 589/658 [00:15<00:01, 34.97it/s]"
     ]
    },
    {
     "name": "stdout",
     "output_type": "stream",
     "text": [
      "['chr8', 'C8orf17']\n",
      "This gene does not has any peaks in DHS\n",
      "['chr21', 'PAXBP1']\n",
      "['chr5', 'NEUROG1']\n",
      "['chr4', 'HMX1']\n",
      "['chr6', 'GPX5']\n",
      "This gene does not has any peaks in DHS\n",
      "['chr1', 'MRPS21']\n",
      "['chr7', 'POLD2']\n",
      "['chr10', 'PRPF18']\n"
     ]
    },
    {
     "name": "stderr",
     "output_type": "stream",
     "text": [
      "number of gene symbol:  91%|████████████████▎ | 598/658 [00:16<00:01, 34.99it/s]"
     ]
    },
    {
     "name": "stdout",
     "output_type": "stream",
     "text": [
      "['chr22', 'VPREB1']\n",
      "This gene does not has any peaks in DHS\n",
      "['chr18', 'KDSR']\n",
      "['chr20', 'SNRPB']\n",
      "['chr1', 'PRAMEF4']\n",
      "This gene does not has any peaks in DHS\n",
      "['chr2', 'SNRNP200']\n",
      "['chr2', 'EIF5B']\n",
      "['chr19', 'RPS5']\n"
     ]
    },
    {
     "name": "stderr",
     "output_type": "stream",
     "text": [
      "number of gene symbol:  92%|████████████████▌ | 607/658 [00:16<00:01, 37.67it/s]"
     ]
    },
    {
     "name": "stdout",
     "output_type": "stream",
     "text": [
      "['chr12', 'CLEC6A']\n",
      "This gene does not has any peaks in DHS\n",
      "['chr17', 'CHMP6']\n",
      "['chr1', 'SPRR4']\n",
      "This gene does not has any peaks in DHS\n",
      "['chr1', 'CATSPER4']\n",
      "['chr2', 'GKN2']\n",
      "This gene does not has any peaks in DHS\n",
      "['chr22', 'ATXN10']\n",
      "['chrY', 'BPY2']\n",
      "This gene does not has any peaks in DHS\n",
      "['chr12', 'IL22']\n",
      "This gene does not has any peaks in DHS\n",
      "['chr3', 'RPL35A']\n"
     ]
    },
    {
     "name": "stderr",
     "output_type": "stream",
     "text": [
      "\r",
      "number of gene symbol:  93%|████████████████▋ | 612/658 [00:16<00:01, 40.44it/s]"
     ]
    },
    {
     "name": "stdout",
     "output_type": "stream",
     "text": [
      "['chr3', 'RPL24']\n",
      "['chr2', 'GTF3C2']\n",
      "['chrX', 'FAM47A']\n",
      "This gene does not has any peaks in DHS\n",
      "['chr4', 'TRIM60']\n",
      "This gene does not has any peaks in DHS\n",
      "['chr13', 'RPL21']\n",
      "['chr1', 'ATP6V0B']\n",
      "['chr3', 'UMPS']\n",
      "['chr3', 'ANAPC13']\n"
     ]
    },
    {
     "name": "stderr",
     "output_type": "stream",
     "text": [
      "number of gene symbol:  94%|████████████████▉ | 621/658 [00:16<00:00, 37.60it/s]"
     ]
    },
    {
     "name": "stdout",
     "output_type": "stream",
     "text": [
      "['chr4', 'YTHDC1']\n",
      "['chr8', 'CPSF1']\n",
      "['chr11', 'MRPL16']\n",
      "['chr5', 'GEMIN5']\n",
      "['chr8', 'MAK16']\n",
      "['chr4', 'CENPE']\n",
      "['chrX', 'F9']\n",
      "This gene does not has any peaks in DHS\n",
      "['chr19', 'VN1R4']\n",
      "This gene does not has any peaks in DHS\n",
      "['chr5', 'RIOK2']\n"
     ]
    },
    {
     "name": "stderr",
     "output_type": "stream",
     "text": [
      "number of gene symbol:  96%|█████████████████▎| 631/658 [00:16<00:00, 39.36it/s]"
     ]
    },
    {
     "name": "stdout",
     "output_type": "stream",
     "text": [
      "['chr6', 'LTV1']\n",
      "['chr10', 'MTPAP']\n",
      "['chr15', 'FOXB1']\n",
      "['chr5', 'TCERG1']\n",
      "['chr10', 'BUB3']\n",
      "['chr20', 'C20orf173']\n",
      "This gene does not has any peaks in DHS\n",
      "['chr1', 'EIF2B3']\n",
      "['chr6', 'GRM4']\n"
     ]
    },
    {
     "name": "stderr",
     "output_type": "stream",
     "text": [
      "number of gene symbol:  97%|█████████████████▍| 639/658 [00:17<00:00, 37.60it/s]"
     ]
    },
    {
     "name": "stdout",
     "output_type": "stream",
     "text": [
      "['chr19', 'NANOS2']\n",
      "['chr11', 'CCDC86']\n",
      "['chr3', 'ECT2']\n",
      "['chr16', 'RPS15A']\n",
      "['chr5', 'THG1L']\n",
      "['chr6', 'CDC5L']\n",
      "['chr1', 'GNL2']\n",
      "['chr6', 'SNRNP48']\n"
     ]
    },
    {
     "name": "stderr",
     "output_type": "stream",
     "text": [
      "number of gene symbol:  99%|█████████████████▊| 649/658 [00:17<00:00, 39.44it/s]"
     ]
    },
    {
     "name": "stdout",
     "output_type": "stream",
     "text": [
      "['chr19', 'UQCRFS1']\n",
      "['chr12', 'MRPS35']\n",
      "['chr19', 'FBL']\n",
      "['chr18', 'AFG3L2']\n",
      "['chr11', 'CHEK1']\n",
      "['chr5', 'LARS1']\n",
      "['chr11', 'OR52A1']\n",
      "This gene does not has any peaks in DHS\n",
      "['chr17', 'MED1']\n",
      "['chr7', 'NEUROD6']\n"
     ]
    },
    {
     "name": "stderr",
     "output_type": "stream",
     "text": [
      "\r",
      "number of gene symbol:  99%|█████████████████▉| 654/658 [00:17<00:00, 39.67it/s]"
     ]
    },
    {
     "name": "stdout",
     "output_type": "stream",
     "text": [
      "This gene does not has any peaks in DHS\n",
      "['chr13', 'RNF113B']\n",
      "This gene does not has any peaks in DHS\n",
      "['chr2', 'CARF']\n",
      "['chr9', 'SMC2']\n",
      "['chr11', 'MRPL17']\n",
      "['chr17', 'ZNF830']\n",
      "['chr22', 'BCR']\n"
     ]
    },
    {
     "name": "stderr",
     "output_type": "stream",
     "text": [
      "number of gene symbol: 100%|██████████████████| 658/658 [00:17<00:00, 37.07it/s]"
     ]
    },
    {
     "name": "stdout",
     "output_type": "stream",
     "text": [
      "['chr17', 'NLE1']\n",
      "['chr11', 'OR4C11']\n",
      "This gene does not has any peaks in DHS\n"
     ]
    },
    {
     "name": "stderr",
     "output_type": "stream",
     "text": [
      "\n"
     ]
    }
   ],
   "source": [
    "CRISPRiFiles_DHS_A549 = dhs_all_genes(CRISPRi_fileCombo,processedCRISPRiOutpath, dhs_out+'A549/')"
   ]
  },
  {
   "cell_type": "code",
   "execution_count": 10,
   "id": "23fec7c3",
   "metadata": {},
   "outputs": [
    {
     "data": {
      "text/plain": [
       "overlap with peak\n",
       "0    133532\n",
       "1     33092\n",
       "Name: count, dtype: int64"
      ]
     },
     "execution_count": 10,
     "metadata": {},
     "output_type": "execute_result"
    }
   ],
   "source": [
    "CRISPRiFiles_DHS_A549['overlap with peak'].value_counts()"
   ]
  },
  {
   "cell_type": "code",
   "execution_count": 11,
   "id": "38bb707a",
   "metadata": {},
   "outputs": [],
   "source": [
    "CRISPRiFiles_DHS_A549.to_csv(f'{peakOverlapOut}A549.csv')"
   ]
  },
  {
   "cell_type": "code",
   "execution_count": 12,
   "id": "108ac190",
   "metadata": {},
   "outputs": [
    {
     "name": "stderr",
     "output_type": "stream",
     "text": [
      "number of gene symbol:   1%|▏                   | 5/658 [00:00<00:13, 49.40it/s]"
     ]
    },
    {
     "name": "stdout",
     "output_type": "stream",
     "text": [
      "['chr14', 'HAUS4']\n",
      "['chr19', 'OR10H3']\n",
      "This gene does not has any peaks in DHS\n",
      "['chr11', 'SF3B2']\n",
      "['chr17', 'OR4D1']\n",
      "This gene does not has any peaks in DHS\n",
      "['chr7', 'MRPS24']\n",
      "['chr20', 'DDX27']\n",
      "['chr9', 'DCTN3']\n",
      "['chr12', 'POP5']\n",
      "['chr8', 'POLR2K']\n",
      "['chrX', 'SAGE1']\n"
     ]
    },
    {
     "name": "stderr",
     "output_type": "stream",
     "text": [
      "number of gene symbol:   2%|▍                  | 15/658 [00:00<00:18, 34.78it/s]"
     ]
    },
    {
     "name": "stdout",
     "output_type": "stream",
     "text": [
      "['chr19', 'MRPL34']\n",
      "['chr11', 'RAD9A']\n",
      "['chr2', 'MRPL19']\n",
      "['chr1', 'FDPS']\n",
      "['chr1', 'HEATR1']\n",
      "['chr17', 'COX10']\n",
      "['chr7', 'TRRAP']\n"
     ]
    },
    {
     "name": "stderr",
     "output_type": "stream",
     "text": [
      "number of gene symbol:   3%|▋                  | 23/658 [00:00<00:19, 32.32it/s]"
     ]
    },
    {
     "name": "stdout",
     "output_type": "stream",
     "text": [
      "['chr19', 'CYP2A13']\n",
      "This gene does not has any peaks in DHS\n",
      "['chr13', 'ARGLU1']\n",
      "['chr13', 'TM9SF2']\n",
      "['chr17', 'C17orf49']\n",
      "['chr15', 'MFAP1']\n",
      "['chrX', 'TEX13A']\n",
      "['chr16', 'RSL1D1']\n"
     ]
    },
    {
     "name": "stderr",
     "output_type": "stream",
     "text": [
      "number of gene symbol:   5%|▉                  | 33/658 [00:00<00:16, 37.70it/s]"
     ]
    },
    {
     "name": "stdout",
     "output_type": "stream",
     "text": [
      "['chr12', 'APOBEC1']\n",
      "This gene does not has any peaks in DHS\n",
      "['chr6', 'RPL7L1']\n",
      "['chr4', 'DSPP']\n",
      "This gene does not has any peaks in DHS\n",
      "['chr6', 'DHX16']\n",
      "['chr4', 'SDAD1']\n",
      "['chr2', 'CHMP3']\n",
      "['chr19', 'ZNF574']\n",
      "['chr1', 'MTOR']\n",
      "['chr2', 'DYNC1I2']\n",
      "['chr5', 'RPS14']\n"
     ]
    },
    {
     "name": "stderr",
     "output_type": "stream",
     "text": [
      "number of gene symbol:   6%|█▏                 | 41/658 [00:01<00:16, 37.12it/s]"
     ]
    },
    {
     "name": "stdout",
     "output_type": "stream",
     "text": [
      "['chr10', 'EIF3A']\n",
      "['chr21', 'KRTAP13-3']\n",
      "This gene does not has any peaks in DHS\n",
      "['chr14', 'YY1']\n",
      "['chr7', 'MRPS33']\n",
      "['chr11', 'TAF10']\n",
      "['chr20', 'CSE1L']\n",
      "['chr1', 'SF3B4']\n",
      "['chr1', 'CCT3']\n"
     ]
    },
    {
     "name": "stderr",
     "output_type": "stream",
     "text": [
      "\r",
      "number of gene symbol:   7%|█▎                 | 45/658 [00:01<00:18, 33.96it/s]"
     ]
    },
    {
     "name": "stdout",
     "output_type": "stream",
     "text": [
      "['chr5', 'ZMAT2']\n",
      "['chr8', 'ATP6V1H']\n",
      "['chr19', 'ILF3']\n",
      "['chr7', 'GET4']\n",
      "['chr12', 'FGF6']\n",
      "This gene does not has any peaks in DHS\n",
      "['chr15', 'KNL1']\n"
     ]
    },
    {
     "name": "stderr",
     "output_type": "stream",
     "text": [
      "number of gene symbol:   8%|█▌                 | 53/658 [00:01<00:17, 34.00it/s]"
     ]
    },
    {
     "name": "stdout",
     "output_type": "stream",
     "text": [
      "['chr12', 'GCN1']\n",
      "['chr2', 'NCAPH']\n",
      "['chr6', 'RPP40']\n",
      "['chr1', 'VPS72']\n",
      "['chr11', 'OR51D1']\n",
      "['chr11', 'OR8G5']\n",
      "This gene does not has any peaks in DHS\n",
      "['chr17', 'CDK12']\n",
      "['chr1', 'PMVK']\n"
     ]
    },
    {
     "name": "stderr",
     "output_type": "stream",
     "text": [
      "number of gene symbol:  10%|█▊                 | 63/658 [00:01<00:14, 40.15it/s]"
     ]
    },
    {
     "name": "stdout",
     "output_type": "stream",
     "text": [
      "['chr6', 'POLR1H']\n",
      "['chr12', 'TAS2R50']\n",
      "This gene does not has any peaks in DHS\n",
      "['chr17', 'PIGS']\n",
      "['chr17', 'KRT28']\n",
      "This gene does not has any peaks in DHS\n",
      "['chr9', 'SPATA31D1']\n",
      "This gene does not has any peaks in DHS\n",
      "['chr7', 'SSBP1']\n",
      "['chr2', 'MRPL33']\n",
      "['chr11', 'RRM1']\n",
      "['chr11', 'OR2D2']\n",
      "This gene does not has any peaks in DHS\n",
      "['chr3', 'RPL14']\n"
     ]
    },
    {
     "name": "stderr",
     "output_type": "stream",
     "text": [
      "number of gene symbol:  11%|██                 | 73/658 [00:01<00:13, 42.36it/s]"
     ]
    },
    {
     "name": "stdout",
     "output_type": "stream",
     "text": [
      "['chr8', 'CYP11B2']\n",
      "This gene does not has any peaks in DHS\n",
      "['chr1', 'CLSPN']\n",
      "['chrX', 'BEND2']\n",
      "This gene does not has any peaks in DHS\n",
      "['chr4', 'COPS4']\n",
      "['chr1', 'MCL1']\n",
      "['chr17', 'CDC27']\n",
      "['chr19', 'ERCC2']\n",
      "['chr7', 'TAS2R40']\n",
      "This gene does not has any peaks in DHS\n",
      "['chr20', 'PRPF6']\n",
      "['chr21', 'U2AF1']\n"
     ]
    },
    {
     "name": "stderr",
     "output_type": "stream",
     "text": [
      "number of gene symbol:  13%|██▍                | 83/658 [00:02<00:13, 41.81it/s]"
     ]
    },
    {
     "name": "stdout",
     "output_type": "stream",
     "text": [
      "['chr14', 'C14orf178']\n",
      "['chr19', 'CACTIN']\n",
      "['chr1', 'TBCE']\n",
      "['chr17', 'INTS2']\n",
      "['chr18', 'TRAPPC8']\n",
      "['chr4', 'NDST4']\n",
      "This gene does not has any peaks in DHS\n",
      "['chr17', 'LUC7L3']\n",
      "['chr2', 'IMMT']\n",
      "['chr13', 'TUBGCP3']\n"
     ]
    },
    {
     "name": "stderr",
     "output_type": "stream",
     "text": [
      "\r",
      "number of gene symbol:  13%|██▌                | 88/658 [00:02<00:14, 40.52it/s]"
     ]
    },
    {
     "name": "stdout",
     "output_type": "stream",
     "text": [
      "['chr11', 'OR52B6']\n",
      "['chr2', 'SPC25']\n",
      "['chr19', 'SPC24']\n",
      "['chr2', 'XRCC5']\n",
      "['chr20', 'DHX35']\n",
      "['chr10', 'TLX1']\n",
      "['chr17', 'SIRT7']\n",
      "['chr20', 'EIF6']\n"
     ]
    },
    {
     "name": "stderr",
     "output_type": "stream",
     "text": [
      "number of gene symbol:  15%|██▊                | 97/658 [00:02<00:15, 36.53it/s]"
     ]
    },
    {
     "name": "stdout",
     "output_type": "stream",
     "text": [
      "['chr2', 'WDR33']\n",
      "['chr10', 'SMNDC1']\n",
      "['chr6', 'RPF2']\n",
      "['chr10', 'SEC24C']\n",
      "['chr16', 'COG8']\n",
      "['chr3', 'SEC13']\n",
      "['chr3', 'EIF4G1']\n"
     ]
    },
    {
     "name": "stderr",
     "output_type": "stream",
     "text": [
      "number of gene symbol:  16%|██▉               | 106/658 [00:02<00:14, 38.37it/s]"
     ]
    },
    {
     "name": "stdout",
     "output_type": "stream",
     "text": [
      "['chr14', 'RNASE8']\n",
      "This gene does not has any peaks in DHS\n",
      "['chr1', 'MRPS15']\n",
      "['chr2', 'ERCC3']\n",
      "['chr17', 'KRTAP4-7']\n",
      "This gene does not has any peaks in DHS\n",
      "['chr1', 'MRPS14']\n",
      "['chr1', 'RPA2']\n",
      "['chr2', 'PSMD1']\n",
      "['chr11', 'INTS4']\n",
      "['chr21', 'CCT8']\n",
      "['chr1', 'CDC20']\n"
     ]
    },
    {
     "name": "stderr",
     "output_type": "stream",
     "text": [
      "number of gene symbol:  17%|███▏              | 115/658 [00:03<00:14, 38.05it/s]"
     ]
    },
    {
     "name": "stdout",
     "output_type": "stream",
     "text": [
      "['chr20', 'MYBL2']\n",
      "['chr5', 'HMGCS1']\n",
      "['chr1', 'RPL5']\n",
      "['chr13', 'COG3']\n",
      "['chr1', 'CDCP2']\n",
      "This gene does not has any peaks in DHS\n",
      "['chr17', 'POLG2']\n",
      "['chr10', 'RPS24']\n",
      "['chr16', 'CACNG3']\n"
     ]
    },
    {
     "name": "stderr",
     "output_type": "stream",
     "text": [
      "number of gene symbol:  19%|███▍              | 125/658 [00:03<00:12, 41.87it/s]"
     ]
    },
    {
     "name": "stdout",
     "output_type": "stream",
     "text": [
      "['chr7', 'RFC2']\n",
      "['chr1', 'C8B']\n",
      "This gene does not has any peaks in DHS\n",
      "['chr5', 'BNIP1']\n",
      "['chr20', 'RPN2']\n",
      "['chr18', 'SKA1']\n",
      "['chr2', 'CWC22']\n",
      "['chr9', 'GNE']\n",
      "['chr10', 'BMS1']\n",
      "['chr10', 'POLR3A']\n",
      "['chr3', 'TSEN2']\n"
     ]
    },
    {
     "name": "stderr",
     "output_type": "stream",
     "text": [
      "number of gene symbol:  21%|███▋              | 135/658 [00:03<00:11, 44.48it/s]"
     ]
    },
    {
     "name": "stdout",
     "output_type": "stream",
     "text": [
      "['chr11', 'OR5W2']\n",
      "This gene does not has any peaks in DHS\n",
      "['chr7', 'DLD']\n",
      "['chr9', 'DNLZ']\n",
      "['chr17', 'MED9']\n",
      "['chr14', 'EIF2B2']\n",
      "['chr17', 'UTP6']\n",
      "['chr9', 'IFNA16']\n",
      "This gene does not has any peaks in DHS\n",
      "['chr1', 'INTS3']\n",
      "['chr2', 'UGP2']\n"
     ]
    },
    {
     "name": "stderr",
     "output_type": "stream",
     "text": [
      "\r",
      "number of gene symbol:  21%|███▊              | 140/658 [00:03<00:13, 39.20it/s]"
     ]
    },
    {
     "name": "stdout",
     "output_type": "stream",
     "text": [
      "['chr1', 'PPP1R8']\n",
      "['chr1', 'BCAS2']\n",
      "['chr16', 'SRCAP']\n",
      "['chr2', 'VPS54']\n",
      "['chr17', 'BIRC5']\n",
      "['chr11', 'ST3GAL4']\n"
     ]
    },
    {
     "name": "stderr",
     "output_type": "stream",
     "text": [
      "number of gene symbol:  23%|████              | 150/658 [00:03<00:15, 33.83it/s]"
     ]
    },
    {
     "name": "stdout",
     "output_type": "stream",
     "text": [
      "['chr14', 'PRMT5']\n",
      "['chr14', 'TEDC1']\n",
      "['chr11', 'MRGPRD']\n",
      "This gene does not has any peaks in DHS\n",
      "['chr17', 'NMT1']\n",
      "['chr12', 'TIMELESS']\n",
      "['chr1', 'LIN28A']\n",
      "['chr20', 'SEC23B']\n",
      "['chr5', 'WDR55']\n"
     ]
    },
    {
     "name": "stderr",
     "output_type": "stream",
     "text": [
      "number of gene symbol:  24%|████▎             | 159/658 [00:04<00:13, 37.37it/s]"
     ]
    },
    {
     "name": "stdout",
     "output_type": "stream",
     "text": [
      "['chr9', 'IFNA17']\n",
      "This gene does not has any peaks in DHS\n",
      "['chr2', 'MRPL35']\n",
      "['chr14', 'CEBPE']\n",
      "This gene does not has any peaks in DHS\n",
      "['chr12', 'TUBA1B']\n",
      "['chr8', 'PUF60']\n",
      "['chr20', 'DEFB126']\n",
      "This gene does not has any peaks in DHS\n",
      "['chr6', 'TAAR6']\n",
      "This gene does not has any peaks in DHS\n",
      "['chr2', 'NCL']\n",
      "['chr1', 'SNIP1']\n"
     ]
    },
    {
     "name": "stderr",
     "output_type": "stream",
     "text": [
      "number of gene symbol:  26%|████▌             | 169/658 [00:04<00:11, 41.04it/s]"
     ]
    },
    {
     "name": "stdout",
     "output_type": "stream",
     "text": [
      "['chr2', 'NRBP1']\n",
      "['chr3', 'PSMD6']\n",
      "['chr20', 'WFDC9']\n",
      "This gene does not has any peaks in DHS\n",
      "['chr2', 'DDX18']\n",
      "['chr5', 'MED7']\n",
      "['chr5', 'TTC1']\n",
      "['chr11', 'SART1']\n",
      "['chr22', 'EIF3D']\n",
      "['chr11', 'BUD13']\n",
      "['chr6', 'LSM2']\n"
     ]
    },
    {
     "name": "stderr",
     "output_type": "stream",
     "text": [
      "\r",
      "number of gene symbol:  26%|████▊             | 174/658 [00:04<00:11, 42.22it/s]"
     ]
    },
    {
     "name": "stdout",
     "output_type": "stream",
     "text": [
      "['chr10', 'SUPV3L1']\n",
      "['chr3', 'SRPRB']\n",
      "['chr5', 'MRPS30']\n",
      "['chr2', 'MRPS5']\n",
      "['chr6', 'RPP21']\n",
      "['chr5', 'DDX41']\n",
      "['chr1', 'NUF2']\n",
      "['chr10', 'GDF2']\n"
     ]
    },
    {
     "name": "stderr",
     "output_type": "stream",
     "text": [
      "number of gene symbol:  28%|█████             | 185/658 [00:04<00:10, 43.47it/s]"
     ]
    },
    {
     "name": "stdout",
     "output_type": "stream",
     "text": [
      "['chr12', 'IAPP']\n",
      "This gene does not has any peaks in DHS\n",
      "['chr20', 'DSN1']\n",
      "['chr19', 'MBD3L2']\n",
      "This gene does not has any peaks in DHS\n",
      "['chr7', 'ORC5']\n",
      "['chr1', 'RPS27']\n",
      "['chr17', 'PRPF8']\n",
      "['chr6', 'TTK']\n",
      "['chr7', 'EXOC4']\n",
      "['chr14', 'MIS18BP1']\n",
      "['chr9', 'NUP214']\n",
      "['chr10', 'WDR11']\n"
     ]
    },
    {
     "name": "stderr",
     "output_type": "stream",
     "text": [
      "number of gene symbol:  30%|█████▍            | 197/658 [00:05<00:09, 46.61it/s]"
     ]
    },
    {
     "name": "stdout",
     "output_type": "stream",
     "text": [
      "['chrX', 'CXorf66']\n",
      "['chr9', 'IARS1']\n",
      "['chrX', 'RHOXF2']\n",
      "This gene does not has any peaks in DHS\n",
      "['chr1', 'DAP3']\n",
      "['chr8', 'DEFB106A']\n",
      "This gene does not has any peaks in DHS\n",
      "['chr8', 'CYP7A1']\n",
      "This gene does not has any peaks in DHS\n",
      "['chr5', 'MRPL22']\n",
      "['chr10', 'TUBGCP2']\n",
      "['chr6', 'GJA10']\n",
      "This gene does not has any peaks in DHS\n",
      "['chr10', 'SAR1A']\n"
     ]
    },
    {
     "name": "stderr",
     "output_type": "stream",
     "text": [
      "\r",
      "number of gene symbol:  31%|█████▌            | 202/658 [00:05<00:11, 41.15it/s]"
     ]
    },
    {
     "name": "stdout",
     "output_type": "stream",
     "text": [
      "['chr17', 'RPL23']\n",
      "['chr19', 'CARM1']\n",
      "['chr7', 'POLR1F']\n",
      "['chr2', 'SRBD1']\n",
      "['chr2', 'RAB1A']\n",
      "['chr22', 'POTEH']\n",
      "This gene does not has any peaks in DHS\n",
      "['chr4', 'CCKAR']\n",
      "This gene does not has any peaks in DHS\n",
      "['chrX', 'LUZP4']\n"
     ]
    },
    {
     "name": "stderr",
     "output_type": "stream",
     "text": [
      "number of gene symbol:  32%|█████▊            | 213/658 [00:05<00:09, 45.23it/s]"
     ]
    },
    {
     "name": "stdout",
     "output_type": "stream",
     "text": [
      "['chr20', 'CST4']\n",
      "This gene does not has any peaks in DHS\n",
      "['chr1', 'RPF1']\n",
      "['chr5', 'IL13']\n",
      "This gene does not has any peaks in DHS\n",
      "['chr12', 'ARL1']\n",
      "['chr12', 'DDX23']\n",
      "['chr1', 'GPN2']\n",
      "['chr5', 'MRPS27']\n",
      "['chr2', 'POLR1B']\n",
      "['chr8', 'INTS8']\n",
      "['chr2', 'STPG4']\n",
      "This gene does not has any peaks in DHS\n",
      "['chr5', 'PHAX']\n"
     ]
    },
    {
     "name": "stderr",
     "output_type": "stream",
     "text": [
      "number of gene symbol:  34%|██████            | 223/658 [00:05<00:11, 37.74it/s]"
     ]
    },
    {
     "name": "stdout",
     "output_type": "stream",
     "text": [
      "['chr2', 'ITGAV']\n",
      "['chr14', 'DYNC1H1']\n",
      "['chr1', 'RABGGTB']\n",
      "['chr6', 'MCM3']\n",
      "['chr9', 'MRPS2']\n",
      "['chr1', 'SNRPE']\n"
     ]
    },
    {
     "name": "stderr",
     "output_type": "stream",
     "text": [
      "number of gene symbol:  35%|██████▎           | 233/658 [00:05<00:10, 41.44it/s]"
     ]
    },
    {
     "name": "stdout",
     "output_type": "stream",
     "text": [
      "['chr14', 'PSMC1']\n",
      "['chr1', 'PARS2']\n",
      "['chr14', 'PSMB5']\n",
      "['chr3', 'TRMT10C']\n",
      "['chr6', 'TFAP2D']\n",
      "This gene does not has any peaks in DHS\n",
      "['chr3', 'MRPL3']\n",
      "['chr1', 'PIGV']\n",
      "['chr10', 'RPP30']\n",
      "['chr17', 'NOL11']\n",
      "['chr17', 'AATF']\n"
     ]
    },
    {
     "name": "stderr",
     "output_type": "stream",
     "text": [
      "\r",
      "number of gene symbol:  36%|██████▌           | 238/658 [00:06<00:10, 41.34it/s]"
     ]
    },
    {
     "name": "stdout",
     "output_type": "stream",
     "text": [
      "['chr11', 'UBQLN3']\n",
      "This gene does not has any peaks in DHS\n",
      "['chr14', 'MED6']\n",
      "['chr15', 'SNUPN']\n",
      "['chr9', 'PSMB7']\n",
      "['chr18', 'SEH1L']\n",
      "['chr5', 'GABRA6']\n",
      "This gene does not has any peaks in DHS\n",
      "['chr17', 'MYBBP1A']\n",
      "['chr5', 'SLCO6A1']\n"
     ]
    },
    {
     "name": "stderr",
     "output_type": "stream",
     "text": [
      "number of gene symbol:  38%|██████▊           | 247/658 [00:06<00:11, 36.89it/s]"
     ]
    },
    {
     "name": "stdout",
     "output_type": "stream",
     "text": [
      "['chr1', 'NVL']\n",
      "['chr17', 'CCL1']\n",
      "This gene does not has any peaks in DHS\n",
      "['chr12', 'GARIN6']\n",
      "This gene does not has any peaks in DHS\n",
      "['chr17', 'TBCD']\n",
      "['chr6', 'RPL10A']\n",
      "['chr6', 'SYNCRIP']\n"
     ]
    },
    {
     "name": "stderr",
     "output_type": "stream",
     "text": [
      "\r",
      "number of gene symbol:  38%|██████▊           | 251/658 [00:06<00:11, 35.80it/s]"
     ]
    },
    {
     "name": "stdout",
     "output_type": "stream",
     "text": [
      "['chr1', 'RPE65']\n",
      "This gene does not has any peaks in DHS\n",
      "['chr13', 'GSX1']\n",
      "['chr20', 'WFDC11']\n",
      "This gene does not has any peaks in DHS\n",
      "['chr1', 'FH']\n",
      "['chr8', 'CHRNB3']\n",
      "This gene does not has any peaks in DHS\n",
      "['chr11', 'DDB1']\n"
     ]
    },
    {
     "name": "stderr",
     "output_type": "stream",
     "text": [
      "\r",
      "number of gene symbol:  39%|██████▉           | 255/658 [00:06<00:15, 26.24it/s]"
     ]
    },
    {
     "name": "stdout",
     "output_type": "stream",
     "text": [
      "['chr11', 'COPB1']\n",
      "['chr12', 'CMAS']\n",
      "['chr12', 'POLR3B']\n",
      "['chr6', 'MRPS10']\n"
     ]
    },
    {
     "name": "stderr",
     "output_type": "stream",
     "text": [
      "number of gene symbol:  40%|███████▏          | 264/658 [00:06<00:12, 30.95it/s]"
     ]
    },
    {
     "name": "stdout",
     "output_type": "stream",
     "text": [
      "['chr6', 'GSTA5']\n",
      "['chr2', 'NBAS']\n",
      "['chr10', 'NPFFR1']\n",
      "This gene does not has any peaks in DHS\n",
      "['chr17', 'RPL27']\n",
      "['chr2', 'IL1F10']\n",
      "This gene does not has any peaks in DHS\n",
      "['chr6', 'GPR31']\n",
      "This gene does not has any peaks in DHS\n",
      "['chr14', 'KCNK10']\n",
      "This gene does not has any peaks in DHS\n",
      "['chr5', 'ZCCHC9']\n",
      "['chr16', 'PRSS33']\n",
      "This gene does not has any peaks in DHS\n",
      "['chr17', 'SPEM1']\n",
      "This gene does not has any peaks in DHS\n",
      "['chr8', 'RPL8']\n"
     ]
    },
    {
     "name": "stderr",
     "output_type": "stream",
     "text": [
      "number of gene symbol:  42%|███████▍          | 274/658 [00:07<00:10, 35.02it/s]"
     ]
    },
    {
     "name": "stdout",
     "output_type": "stream",
     "text": [
      "['chrY', 'HSFY1']\n",
      "This gene does not has any peaks in DHS\n",
      "['chr14', 'PSMC6']\n",
      "['chr19', 'RDH8']\n",
      "This gene does not has any peaks in DHS\n",
      "['chr15', 'RPAP1']\n",
      "['chr17', 'RPL19']\n",
      "['chr1', 'MED18']\n",
      "['chr19', 'OR7G2']\n",
      "This gene does not has any peaks in DHS\n",
      "['chr7', 'RINT1']\n",
      "['chr12', 'KRR1']\n"
     ]
    },
    {
     "name": "stderr",
     "output_type": "stream",
     "text": [
      "number of gene symbol:  43%|███████▋          | 283/658 [00:07<00:09, 37.52it/s]"
     ]
    },
    {
     "name": "stdout",
     "output_type": "stream",
     "text": [
      "['chr16', 'PLK1']\n",
      "['chr6', 'GTF2H4']\n",
      "['chr4', 'NUP54']\n",
      "['chr12', 'CIT']\n",
      "['chr18', 'CEP192']\n",
      "['chr6', 'SLC35A1']\n",
      "['chr3', 'DBR1']\n",
      "['chr1', 'INSRR']\n"
     ]
    },
    {
     "name": "stderr",
     "output_type": "stream",
     "text": [
      "number of gene symbol:  44%|███████▉          | 292/658 [00:07<00:10, 36.01it/s]"
     ]
    },
    {
     "name": "stdout",
     "output_type": "stream",
     "text": [
      "['chr12', 'NOP2']\n",
      "['chr3', 'PSMD2']\n",
      "['chr9', 'IFNW1']\n",
      "This gene does not has any peaks in DHS\n",
      "['chr12', 'EP400']\n",
      "['chr3', 'UROC1']\n",
      "This gene does not has any peaks in DHS\n",
      "['chr10', 'GBF1']\n",
      "['chr3', 'GMPPB']\n"
     ]
    },
    {
     "name": "stderr",
     "output_type": "stream",
     "text": [
      "\r",
      "number of gene symbol:  45%|████████          | 297/658 [00:07<00:09, 37.34it/s]"
     ]
    },
    {
     "name": "stdout",
     "output_type": "stream",
     "text": [
      "['chr17', 'TOP2A']\n",
      "['chr11', 'SLC22A6']\n",
      "This gene does not has any peaks in DHS\n",
      "['chr14', 'FSCB']\n",
      "This gene does not has any peaks in DHS\n",
      "['chr15', 'CEP152']\n",
      "['chr12', 'ACTR6']\n",
      "['chr19', 'PSMC4']\n",
      "['chr15', 'KIF23']\n",
      "['chr10', 'SMC3']\n"
     ]
    },
    {
     "name": "stderr",
     "output_type": "stream",
     "text": [
      "number of gene symbol:  46%|████████▎         | 305/658 [00:08<00:10, 34.46it/s]"
     ]
    },
    {
     "name": "stdout",
     "output_type": "stream",
     "text": [
      "['chr6', 'OPN5']\n",
      "This gene does not has any peaks in DHS\n",
      "['chr4', 'ANAPC4']\n",
      "['chr11', 'CKAP5']\n",
      "['chr17', 'AURKB']\n",
      "['chr11', 'EIF4G2']\n",
      "['chr1', 'MRPL55']\n",
      "['chr4', 'TMPRSS11F']\n"
     ]
    },
    {
     "name": "stderr",
     "output_type": "stream",
     "text": [
      "\r",
      "number of gene symbol:  47%|████████▍         | 309/658 [00:08<00:10, 32.41it/s]"
     ]
    },
    {
     "name": "stdout",
     "output_type": "stream",
     "text": [
      "['chr19', 'RPL36']\n",
      "['chr1', 'ARF1']\n",
      "['chr17', 'SRSF2']\n",
      "['chr19', 'EIF3G']\n",
      "['chr1', 'ALX3']\n"
     ]
    },
    {
     "name": "stderr",
     "output_type": "stream",
     "text": [
      "number of gene symbol:  48%|████████▋         | 319/658 [00:08<00:09, 36.05it/s]"
     ]
    },
    {
     "name": "stdout",
     "output_type": "stream",
     "text": [
      "This gene does not has any peaks in DHS\n",
      "['chr11', 'C11orf40']\n",
      "['chr19', 'IFNL3']\n",
      "This gene does not has any peaks in DHS\n",
      "['chr9', 'LHX3']\n",
      "This gene does not has any peaks in DHS\n",
      "['chr9', 'FOXB2']\n",
      "This gene does not has any peaks in DHS\n",
      "['chr6', 'MUCL3']\n",
      "['chr17', 'PSMB6']\n",
      "['chr11', 'ACCSL']\n",
      "['chr1', 'ATP6V1G3']\n",
      "This gene does not has any peaks in DHS\n",
      "['chr17', 'NSRP1']\n",
      "['chr20', 'DYNLRB1']\n",
      "['chr7', 'NUP205']\n"
     ]
    },
    {
     "name": "stderr",
     "output_type": "stream",
     "text": [
      "number of gene symbol:  50%|█████████         | 329/658 [00:08<00:07, 41.23it/s]"
     ]
    },
    {
     "name": "stdout",
     "output_type": "stream",
     "text": [
      "['chr7', 'NPSR1']\n",
      "This gene does not has any peaks in DHS\n",
      "['chr12', 'CCT2']\n",
      "['chr14', 'GEMIN2']\n",
      "['chr10', 'C10orf53']\n",
      "['chr2', 'RPL37A']\n",
      "['chrX', 'IGBP1']\n",
      "['chr15', 'TICRR']\n",
      "['chr11', 'MMP27']\n",
      "This gene does not has any peaks in DHS\n",
      "['chr11', 'NUP160']\n",
      "['chr2', 'POLR2D']\n"
     ]
    },
    {
     "name": "stderr",
     "output_type": "stream",
     "text": [
      "number of gene symbol:  52%|█████████▎        | 339/658 [00:08<00:07, 41.69it/s]"
     ]
    },
    {
     "name": "stdout",
     "output_type": "stream",
     "text": [
      "['chr11', 'SSRP1']\n",
      "['chr20', 'TPX2']\n",
      "['chr11', 'POLR2G']\n",
      "['chr6', 'PRIM2']\n",
      "['chr1', 'PRPF3']\n",
      "['chr16', 'RBBP6']\n",
      "['chr18', 'SERPINB12']\n",
      "This gene does not has any peaks in DHS\n",
      "['chr17', 'STAT5B']\n"
     ]
    },
    {
     "name": "stderr",
     "output_type": "stream",
     "text": [
      "number of gene symbol:  53%|█████████▌        | 349/658 [00:09<00:07, 40.41it/s]"
     ]
    },
    {
     "name": "stdout",
     "output_type": "stream",
     "text": [
      "['chr19', 'LSM4']\n",
      "['chr14', 'SCFD1']\n",
      "['chr19', 'EEF2']\n",
      "['chr14', 'METTL17']\n",
      "['chr19', 'IFNL2']\n",
      "This gene does not has any peaks in DHS\n",
      "['chr16', 'NSMCE1']\n",
      "['chrY', 'DAZ1']\n",
      "This gene does not has any peaks in DHS\n",
      "['chr14', 'PSMA3']\n",
      "['chr8', 'RPL7']\n"
     ]
    },
    {
     "name": "stderr",
     "output_type": "stream",
     "text": [
      "\r",
      "number of gene symbol:  54%|█████████▋        | 354/658 [00:09<00:09, 33.02it/s]"
     ]
    },
    {
     "name": "stdout",
     "output_type": "stream",
     "text": [
      "['chr15', 'RAD51']\n",
      "['chr9', 'QSOX2']\n",
      "['chr1', 'ZNHIT6']\n",
      "['chr4', 'COQ2']\n",
      "['chr7', 'SEPTIN7P2']\n"
     ]
    },
    {
     "name": "stderr",
     "output_type": "stream",
     "text": [
      "number of gene symbol:  55%|█████████▉        | 362/658 [00:09<00:09, 32.15it/s]"
     ]
    },
    {
     "name": "stdout",
     "output_type": "stream",
     "text": [
      "['chr12', 'MARS1']\n",
      "['chr19', 'COX6B1']\n",
      "['chr1', 'ILF2']\n",
      "['chr11', 'FGF3']\n",
      "This gene does not has any peaks in DHS\n",
      "['chr3', 'TAMM41']\n",
      "['chr1', 'DDOST']\n",
      "['chr2', 'RRM2']\n"
     ]
    },
    {
     "name": "stderr",
     "output_type": "stream",
     "text": [
      "\r",
      "number of gene symbol:  56%|██████████        | 366/658 [00:09<00:09, 29.61it/s]"
     ]
    },
    {
     "name": "stdout",
     "output_type": "stream",
     "text": [
      "['chr1', 'TARS2']\n",
      "['chr19', 'RPS19']\n",
      "['chr6', 'PNISR']\n",
      "['chr4', 'DHX15']\n",
      "['chr22', 'PNPLA5']\n",
      "['chr16', 'PSMD7']\n",
      "['chr16', 'CREBBP']\n"
     ]
    },
    {
     "name": "stderr",
     "output_type": "stream",
     "text": [
      "number of gene symbol:  57%|██████████▎       | 375/658 [00:10<00:09, 29.55it/s]"
     ]
    },
    {
     "name": "stdout",
     "output_type": "stream",
     "text": [
      "['chr17', 'MRPL45']\n",
      "['chr2', 'NOP58']\n",
      "['chr2', 'WDR75']\n",
      "['chr5', 'CDC23']\n",
      "['chr11', 'WEE1']\n",
      "['chr8', 'ATP6V1B2']\n",
      "['chr9', 'SPATA31A7']\n",
      "This gene does not has any peaks in DHS\n",
      "['chr10', 'CHAT']\n",
      "This gene does not has any peaks in DHS\n"
     ]
    },
    {
     "name": "stderr",
     "output_type": "stream",
     "text": [
      "number of gene symbol:  59%|██████████▌       | 386/658 [00:10<00:07, 37.52it/s]"
     ]
    },
    {
     "name": "stdout",
     "output_type": "stream",
     "text": [
      "['chr14', 'FNTB']\n",
      "['chr8', 'REXO1L1P']\n",
      "This gene does not has any peaks in DHS\n",
      "['chr17', 'OR1G1']\n",
      "This gene does not has any peaks in DHS\n",
      "['chr12', 'LHX5']\n",
      "This gene does not has any peaks in DHS\n",
      "['chr4', 'UTP3']\n",
      "['chr12', 'KRT71']\n",
      "This gene does not has any peaks in DHS\n",
      "['chrX', 'MAGEC3']\n",
      "This gene does not has any peaks in DHS\n",
      "['chr18', 'NAPG']\n",
      "['chr11', 'OR9Q2']\n",
      "This gene does not has any peaks in DHS\n",
      "['chr3', 'EIF2B5']\n"
     ]
    },
    {
     "name": "stderr",
     "output_type": "stream",
     "text": [
      "\r",
      "number of gene symbol:  59%|██████████▋       | 390/658 [00:10<00:07, 37.47it/s]"
     ]
    },
    {
     "name": "stdout",
     "output_type": "stream",
     "text": [
      "['chr6', 'VARS2']\n",
      "['chr1', 'CELA2A']\n",
      "['chr1', 'DNTTIP2']\n",
      "['chr1', 'ATP1A1']\n",
      "['chr15', 'RSL24D1']\n",
      "['chr3', 'MRPS25']\n"
     ]
    },
    {
     "name": "stderr",
     "output_type": "stream",
     "text": [
      "number of gene symbol:  61%|██████████▉       | 399/658 [00:10<00:07, 35.84it/s]"
     ]
    },
    {
     "name": "stdout",
     "output_type": "stream",
     "text": [
      "['chr3', 'GFM1']\n",
      "['chr20', 'HM13']\n",
      "['chr1', 'OR2T4']\n",
      "This gene does not has any peaks in DHS\n",
      "['chr21', 'MRPL39']\n",
      "['chr2', 'LRPPRC']\n",
      "['chr5', 'SPDL1']\n",
      "['chr11', 'OR52E8']\n",
      "This gene does not has any peaks in DHS\n",
      "['chrX', 'CT45A3']\n",
      "This gene does not has any peaks in DHS\n",
      "['chr1', 'RPL11']\n"
     ]
    },
    {
     "name": "stderr",
     "output_type": "stream",
     "text": [
      "number of gene symbol:  62%|███████████▏      | 408/658 [00:10<00:06, 37.73it/s]"
     ]
    },
    {
     "name": "stdout",
     "output_type": "stream",
     "text": [
      "['chr11', 'EIF3M']\n",
      "['chr9', 'GOLGA1']\n",
      "['chr19', 'OR7D4']\n",
      "This gene does not has any peaks in DHS\n",
      "['chr17', 'NUP85']\n",
      "['chrX', 'OGT']\n",
      "['chr22', 'PIWIL3']\n",
      "This gene does not has any peaks in DHS\n",
      "['chr10', 'NOC3L']\n",
      "['chr15', 'LEO1']\n",
      "['chr22', 'RTCB']\n"
     ]
    },
    {
     "name": "stderr",
     "output_type": "stream",
     "text": [
      "number of gene symbol:  64%|███████████▍      | 418/658 [00:11<00:06, 36.97it/s]"
     ]
    },
    {
     "name": "stdout",
     "output_type": "stream",
     "text": [
      "['chr5', 'BDP1']\n",
      "['chr19', 'PGLYRP2']\n",
      "['chrX', 'CT45A2']\n",
      "This gene does not has any peaks in DHS\n",
      "['chr12', 'RACGAP1']\n",
      "['chr19', 'SNRNP70']\n",
      "['chr10', 'UPF2']\n",
      "['chr11', 'TAF6L']\n"
     ]
    },
    {
     "name": "stderr",
     "output_type": "stream",
     "text": [
      "number of gene symbol:  65%|███████████▋      | 429/658 [00:11<00:05, 43.35it/s]"
     ]
    },
    {
     "name": "stdout",
     "output_type": "stream",
     "text": [
      "['chr10', 'DRGX']\n",
      "This gene does not has any peaks in DHS\n",
      "['chr4', 'TMPRSS11A']\n",
      "This gene does not has any peaks in DHS\n",
      "['chr11', 'RPS13']\n",
      "['chr10', 'PNLIPRP1']\n",
      "This gene does not has any peaks in DHS\n",
      "['chr18', 'MEP1B']\n",
      "This gene does not has any peaks in DHS\n",
      "['chr9', 'IFNA4']\n",
      "This gene does not has any peaks in DHS\n",
      "['chr7', 'PSMC2']\n",
      "['chr1', 'CELA3B']\n",
      "This gene does not has any peaks in DHS\n",
      "['chr6', 'ADGRF2']\n",
      "['chr2', 'ZSWIM2']\n",
      "['chr17', 'KRTAP9-3']\n",
      "This gene does not has any peaks in DHS\n",
      "['chr17', 'RPL38']\n"
     ]
    },
    {
     "name": "stderr",
     "output_type": "stream",
     "text": [
      "\r",
      "number of gene symbol:  66%|███████████▊      | 434/658 [00:11<00:05, 38.93it/s]"
     ]
    },
    {
     "name": "stdout",
     "output_type": "stream",
     "text": [
      "['chr13', 'RNF17']\n",
      "['chr12', 'SNRPF']\n",
      "['chr9', 'EXOSC2']\n",
      "['chr11', 'HINFP']\n",
      "['chr9', 'FOXD4L4']\n",
      "This gene does not has any peaks in DHS\n",
      "['chr11', 'CWF19L2']\n",
      "['chr12', 'KRT76']\n",
      "This gene does not has any peaks in DHS\n",
      "['chr8', 'ATP6V1C1']\n"
     ]
    },
    {
     "name": "stderr",
     "output_type": "stream",
     "text": [
      "number of gene symbol:  67%|████████████▏     | 444/658 [00:11<00:05, 36.51it/s]"
     ]
    },
    {
     "name": "stdout",
     "output_type": "stream",
     "text": [
      "['chr1', 'OR2T12']\n",
      "This gene does not has any peaks in DHS\n",
      "['chr20', 'SYS1']\n",
      "['chr20', 'CRNKL1']\n",
      "['chr12', 'ESPL1']\n",
      "['chr8', 'UQCRB']\n",
      "['chr1', 'IARS2']\n",
      "['chr22', 'RFPL3']\n"
     ]
    },
    {
     "name": "stderr",
     "output_type": "stream",
     "text": [
      "number of gene symbol:  69%|████████████▎     | 452/658 [00:12<00:05, 35.91it/s]"
     ]
    },
    {
     "name": "stdout",
     "output_type": "stream",
     "text": [
      "This gene does not has any peaks in DHS\n",
      "['chr9', 'CDKN2A-DT']\n",
      "This gene does not has any peaks in DHS\n",
      "['chr14', 'DICER1']\n",
      "['chr13', 'SLITRK1']\n",
      "['chr3', 'AP2M1']\n",
      "['chr5', 'SRFBP1']\n",
      "['chr14', 'MNAT1']\n",
      "['chr3', 'ATR']\n"
     ]
    },
    {
     "name": "stderr",
     "output_type": "stream",
     "text": [
      "\r",
      "number of gene symbol:  69%|████████████▍     | 456/658 [00:12<00:05, 36.21it/s]"
     ]
    },
    {
     "name": "stdout",
     "output_type": "stream",
     "text": [
      "['chr12', 'RPLP0']\n",
      "['chr11', 'CABP2']\n",
      "This gene does not has any peaks in DHS\n",
      "['chr2', 'MRPS9']\n",
      "['chr9', 'POLR1E']\n",
      "['chr12', 'MED21']\n",
      "['chr7', 'TNPO3']\n"
     ]
    },
    {
     "name": "stderr",
     "output_type": "stream",
     "text": [
      "\r",
      "number of gene symbol:  70%|████████████▌     | 460/658 [00:12<00:07, 27.45it/s]"
     ]
    },
    {
     "name": "stdout",
     "output_type": "stream",
     "text": [
      "['chr11', 'RAB1B']\n",
      "['chr16', 'CTRB1']\n",
      "This gene does not has any peaks in DHS\n",
      "['chr4', 'RPL34']\n",
      "['chr20', 'PDYN']\n",
      "This gene does not has any peaks in DHS\n",
      "['chr9', 'EXOSC3']\n",
      "['chr12', 'LRRC10']\n"
     ]
    },
    {
     "name": "stderr",
     "output_type": "stream",
     "text": [
      "number of gene symbol:  71%|████████████▊     | 469/658 [00:12<00:05, 31.76it/s]"
     ]
    },
    {
     "name": "stdout",
     "output_type": "stream",
     "text": [
      "['chr11', 'OOSP2']\n",
      "This gene does not has any peaks in DHS\n",
      "['chr19', 'KASH5']\n",
      "['chr19', 'NAPA']\n",
      "['chr12', 'RPS26']\n",
      "['chr16', 'AQP8']\n",
      "['chr16', 'NIP7']\n",
      "This gene does not has any peaks in DHS\n",
      "['chr2', 'MCM6']\n",
      "['chr12', 'ATP5F1B']\n"
     ]
    },
    {
     "name": "stderr",
     "output_type": "stream",
     "text": [
      "number of gene symbol:  72%|█████████████     | 477/658 [00:12<00:05, 32.74it/s]"
     ]
    },
    {
     "name": "stdout",
     "output_type": "stream",
     "text": [
      "['chr9', 'IFNA5']\n",
      "This gene does not has any peaks in DHS\n",
      "['chr10', 'NOLC1']\n",
      "['chr16', 'E4F1']\n",
      "['chr7', 'SRRT']\n",
      "['chr17', 'FTSJ3']\n",
      "['chr11', 'OR5T2']\n",
      "This gene does not has any peaks in DHS\n",
      "['chr15', 'TBC1D21']\n",
      "['chr6', 'PGK2']\n"
     ]
    },
    {
     "name": "stderr",
     "output_type": "stream",
     "text": [
      "number of gene symbol:  74%|█████████████▎    | 485/658 [00:13<00:05, 34.28it/s]"
     ]
    },
    {
     "name": "stdout",
     "output_type": "stream",
     "text": [
      "['chr3', 'COPB2']\n",
      "['chr6', 'HBS1L']\n",
      "['chr6', 'MDN1']\n",
      "['chr5', 'BRIX1']\n",
      "['chr12', 'NEDD1']\n",
      "['chr3', 'UBA3']\n",
      "['chr15', 'CDAN1']\n"
     ]
    },
    {
     "name": "stderr",
     "output_type": "stream",
     "text": [
      "number of gene symbol:  75%|█████████████▍    | 493/658 [00:13<00:05, 29.47it/s]"
     ]
    },
    {
     "name": "stdout",
     "output_type": "stream",
     "text": [
      "['chr4', 'SPCS3']\n",
      "['chr9', 'SEC16A']\n",
      "['chrX', 'ERCC6L']\n",
      "['chr3', 'LARS2']\n",
      "['chr9', 'SURF6']\n",
      "['chr9', 'NOL6']\n"
     ]
    },
    {
     "name": "stderr",
     "output_type": "stream",
     "text": [
      "\r",
      "number of gene symbol:  76%|█████████████▌    | 498/658 [00:13<00:04, 32.32it/s]"
     ]
    },
    {
     "name": "stdout",
     "output_type": "stream",
     "text": [
      "['chr2', 'ATIC']\n",
      "['chrY', 'RBMY1E']\n",
      "This gene does not has any peaks in DHS\n",
      "['chr16', 'POLR2C']\n",
      "['chr22', 'CENPM']\n",
      "['chr6', 'MMS22L']\n",
      "['chr20', 'NKX2-2']\n",
      "This gene does not has any peaks in DHS\n",
      "['chr3', 'RNF168']\n",
      "['chr16', 'MT1B']\n",
      "This gene does not has any peaks in DHS\n",
      "['chr4', 'RBM46']\n"
     ]
    },
    {
     "name": "stderr",
     "output_type": "stream",
     "text": [
      "number of gene symbol:  77%|█████████████▊    | 507/658 [00:13<00:04, 32.80it/s]"
     ]
    },
    {
     "name": "stdout",
     "output_type": "stream",
     "text": [
      "['chr8', 'EFR3A']\n",
      "['chr2', 'RPS7']\n",
      "['chr14', 'SNW1']\n",
      "['chr10', 'SLC25A28']\n",
      "['chr17', 'KRT36']\n",
      "This gene does not has any peaks in DHS\n",
      "['chr1', 'OR6K6']\n",
      "This gene does not has any peaks in DHS\n",
      "['chr15', 'POLR2M']\n",
      "['chr9', 'PUM3']\n"
     ]
    },
    {
     "name": "stderr",
     "output_type": "stream",
     "text": [
      "number of gene symbol:  79%|██████████████▏   | 517/658 [00:14<00:03, 38.16it/s]"
     ]
    },
    {
     "name": "stdout",
     "output_type": "stream",
     "text": [
      "['chr9', 'CYLC2']\n",
      "This gene does not has any peaks in DHS\n",
      "['chr19', 'ZIM3']\n",
      "This gene does not has any peaks in DHS\n",
      "['chr8', 'MROH6']\n",
      "['chr2', 'IL36A']\n",
      "This gene does not has any peaks in DHS\n",
      "['chr17', 'TBC1D29P']\n",
      "This gene does not has any peaks in DHS\n",
      "['chr7', 'COPS6']\n",
      "['chr10', 'DDX21']\n",
      "['chr17', 'COPS3']\n",
      "['chr17', 'CLTC']\n"
     ]
    },
    {
     "name": "stderr",
     "output_type": "stream",
     "text": [
      "\r",
      "number of gene symbol:  79%|██████████████▎   | 521/658 [00:14<00:03, 37.26it/s]"
     ]
    },
    {
     "name": "stdout",
     "output_type": "stream",
     "text": [
      "['chr11', 'OR5T3']\n",
      "This gene does not has any peaks in DHS\n",
      "['chr17', 'VPS53']\n",
      "['chrX', 'GPR101']\n",
      "This gene does not has any peaks in DHS\n",
      "['chr1', 'MRPL37']\n",
      "['chr2', 'HJURP']\n"
     ]
    },
    {
     "name": "stderr",
     "output_type": "stream",
     "text": [
      "number of gene symbol:  80%|██████████████▍   | 529/658 [00:14<00:04, 30.76it/s]"
     ]
    },
    {
     "name": "stdout",
     "output_type": "stream",
     "text": [
      "['chr5', 'RPS23']\n",
      "['chr17', 'MRPS23']\n",
      "['chr8', 'RPS20']\n",
      "['chr3', 'SLC2A2']\n",
      "This gene does not has any peaks in DHS\n",
      "['chr1', 'TCHHL1']\n",
      "This gene does not has any peaks in DHS\n",
      "['chr7', 'SLC13A1']\n",
      "This gene does not has any peaks in DHS\n",
      "['chr16', 'DHODH']\n",
      "['chr9', 'RPS6']\n"
     ]
    },
    {
     "name": "stderr",
     "output_type": "stream",
     "text": [
      "number of gene symbol:  82%|██████████████▋   | 538/658 [00:14<00:03, 31.54it/s]"
     ]
    },
    {
     "name": "stdout",
     "output_type": "stream",
     "text": [
      "['chr7', 'DDX56']\n",
      "['chr1', 'ALG14']\n",
      "['chr4', 'CENPC']\n",
      "['chr6', 'IGF2R']\n",
      "['chr19', 'VN1R2']\n",
      "['chr8', 'VPS28']\n"
     ]
    },
    {
     "name": "stderr",
     "output_type": "stream",
     "text": [
      "number of gene symbol:  83%|██████████████▉   | 546/658 [00:15<00:03, 33.53it/s]"
     ]
    },
    {
     "name": "stdout",
     "output_type": "stream",
     "text": [
      "['chr19', 'GPR32']\n",
      "This gene does not has any peaks in DHS\n",
      "['chr1', 'PSMD4']\n",
      "['chr13', 'NUP58']\n",
      "['chr5', 'HSPA9']\n",
      "['chr10', 'CYP2C19']\n",
      "This gene does not has any peaks in DHS\n",
      "['chr1', 'GTF2B']\n",
      "['chr8', 'RPL30']\n",
      "['chr5', 'ZNF131']\n"
     ]
    },
    {
     "name": "stderr",
     "output_type": "stream",
     "text": [
      "number of gene symbol:  84%|███████████████▏  | 555/658 [00:15<00:02, 35.21it/s]"
     ]
    },
    {
     "name": "stdout",
     "output_type": "stream",
     "text": [
      "['chr12', 'SNRNP35']\n",
      "['chr5', 'GARIN3']\n",
      "This gene does not has any peaks in DHS\n",
      "['chr9', 'OR5C1']\n",
      "This gene does not has any peaks in DHS\n",
      "['chr9', 'TEX10']\n",
      "['chr3', 'H1-8']\n",
      "This gene does not has any peaks in DHS\n",
      "['chr13', 'RFC3']\n",
      "['chr9', 'VCP']\n",
      "['chr1', 'PRAMEF1']\n",
      "This gene does not has any peaks in DHS\n",
      "['chr8', 'RAB2A']\n"
     ]
    },
    {
     "name": "stderr",
     "output_type": "stream",
     "text": [
      "number of gene symbol:  86%|███████████████▍  | 563/658 [00:15<00:02, 35.98it/s]"
     ]
    },
    {
     "name": "stdout",
     "output_type": "stream",
     "text": [
      "['chr7', 'YAE1']\n",
      "['chr1', 'F13B']\n",
      "This gene does not has any peaks in DHS\n",
      "['chr9', 'PPP3R2']\n",
      "This gene does not has any peaks in DHS\n",
      "['chr17', 'DHX8']\n",
      "['chr8', 'RAD21']\n",
      "['chr15', 'RPL4']\n",
      "['chr16', 'C16orf78']\n",
      "This gene does not has any peaks in DHS\n",
      "['chr1', 'RRP15']\n",
      "['chr19', 'CNOT3']\n"
     ]
    },
    {
     "name": "stderr",
     "output_type": "stream",
     "text": [
      "number of gene symbol:  87%|███████████████▌  | 571/658 [00:15<00:02, 35.15it/s]"
     ]
    },
    {
     "name": "stdout",
     "output_type": "stream",
     "text": [
      "['chr21', 'SOD1']\n",
      "['chr17', 'DDX52']\n",
      "['chr19', 'CHMP2A']\n",
      "['chr4', 'TRIML1']\n",
      "This gene does not has any peaks in DHS\n",
      "['chr3', 'RFC4']\n",
      "['chr3', 'ELP6']\n",
      "['chr17', 'KRT33A']\n",
      "This gene does not has any peaks in DHS\n",
      "['chr8', 'DEFB103B']\n",
      "This gene does not has any peaks in DHS\n",
      "['chr8', 'RRS1']\n"
     ]
    },
    {
     "name": "stderr",
     "output_type": "stream",
     "text": [
      "number of gene symbol:  88%|███████████████▊  | 579/658 [00:15<00:02, 34.56it/s]"
     ]
    },
    {
     "name": "stdout",
     "output_type": "stream",
     "text": [
      "['chr2', 'FARSB']\n",
      "['chr22', 'SAMM50']\n",
      "['chr19', 'FFAR1']\n",
      "This gene does not has any peaks in DHS\n",
      "['chr12', 'YEATS4']\n",
      "['chr3', 'IMPDH2']\n",
      "['chr13', 'CDX2']\n",
      "This gene does not has any peaks in DHS\n",
      "['chr19', 'DNM2']\n"
     ]
    },
    {
     "name": "stderr",
     "output_type": "stream",
     "text": [
      "\r",
      "number of gene symbol:  89%|███████████████▉  | 583/658 [00:16<00:02, 30.99it/s]"
     ]
    },
    {
     "name": "stdout",
     "output_type": "stream",
     "text": [
      "['chr15', 'PSMA4']\n",
      "['chr17', 'COG1']\n",
      "['chr16', 'RPL13']\n",
      "['chr8', 'C8orf17']\n",
      "['chr21', 'PAXBP1']\n",
      "['chr5', 'NEUROG1']\n",
      "This gene does not has any peaks in DHS\n"
     ]
    },
    {
     "name": "stderr",
     "output_type": "stream",
     "text": [
      "number of gene symbol:  90%|████████████████▏ | 592/658 [00:16<00:01, 34.73it/s]"
     ]
    },
    {
     "name": "stdout",
     "output_type": "stream",
     "text": [
      "['chr4', 'HMX1']\n",
      "This gene does not has any peaks in DHS\n",
      "['chr6', 'GPX5']\n",
      "['chr1', 'MRPS21']\n",
      "['chr7', 'POLD2']\n",
      "['chr10', 'PRPF18']\n",
      "['chr22', 'VPREB1']\n",
      "This gene does not has any peaks in DHS\n",
      "['chr18', 'KDSR']\n",
      "['chr20', 'SNRPB']\n"
     ]
    },
    {
     "name": "stderr",
     "output_type": "stream",
     "text": [
      "number of gene symbol:  91%|████████████████▍ | 600/658 [00:16<00:01, 32.20it/s]"
     ]
    },
    {
     "name": "stdout",
     "output_type": "stream",
     "text": [
      "['chr1', 'PRAMEF4']\n",
      "This gene does not has any peaks in DHS\n",
      "['chr2', 'SNRNP200']\n",
      "['chr2', 'EIF5B']\n",
      "['chr19', 'RPS5']\n",
      "['chr12', 'CLEC6A']\n",
      "This gene does not has any peaks in DHS\n",
      "['chr17', 'CHMP6']\n"
     ]
    },
    {
     "name": "stderr",
     "output_type": "stream",
     "text": [
      "number of gene symbol:  93%|████████████████▋ | 609/658 [00:16<00:01, 35.89it/s]"
     ]
    },
    {
     "name": "stdout",
     "output_type": "stream",
     "text": [
      "['chr1', 'SPRR4']\n",
      "This gene does not has any peaks in DHS\n",
      "['chr1', 'CATSPER4']\n",
      "['chr2', 'GKN2']\n",
      "This gene does not has any peaks in DHS\n",
      "['chr22', 'ATXN10']\n",
      "['chrY', 'BPY2']\n",
      "This gene does not has any peaks in DHS\n",
      "['chr12', 'IL22']\n",
      "This gene does not has any peaks in DHS\n",
      "['chr3', 'RPL35A']\n",
      "['chr3', 'RPL24']\n",
      "['chr2', 'GTF3C2']\n"
     ]
    },
    {
     "name": "stderr",
     "output_type": "stream",
     "text": [
      "\r",
      "number of gene symbol:  93%|████████████████▊ | 614/658 [00:16<00:01, 36.62it/s]"
     ]
    },
    {
     "name": "stdout",
     "output_type": "stream",
     "text": [
      "['chrX', 'FAM47A']\n",
      "This gene does not has any peaks in DHS\n",
      "['chr4', 'TRIM60']\n",
      "This gene does not has any peaks in DHS\n",
      "['chr13', 'RPL21']\n",
      "['chr1', 'ATP6V0B']\n",
      "['chr3', 'UMPS']\n",
      "['chr3', 'ANAPC13']\n",
      "['chr4', 'YTHDC1']\n",
      "['chr8', 'CPSF1']\n"
     ]
    },
    {
     "name": "stderr",
     "output_type": "stream",
     "text": [
      "number of gene symbol:  95%|█████████████████ | 622/658 [00:17<00:01, 34.22it/s]"
     ]
    },
    {
     "name": "stdout",
     "output_type": "stream",
     "text": [
      "['chr11', 'MRPL16']\n",
      "['chr5', 'GEMIN5']\n",
      "['chr8', 'MAK16']\n",
      "['chr4', 'CENPE']\n",
      "['chrX', 'F9']\n",
      "This gene does not has any peaks in DHS\n",
      "['chr19', 'VN1R4']\n",
      "This gene does not has any peaks in DHS\n",
      "['chr5', 'RIOK2']\n",
      "['chr6', 'LTV1']\n"
     ]
    },
    {
     "name": "stderr",
     "output_type": "stream",
     "text": [
      "number of gene symbol:  96%|█████████████████▎| 631/658 [00:17<00:00, 34.39it/s]"
     ]
    },
    {
     "name": "stdout",
     "output_type": "stream",
     "text": [
      "['chr10', 'MTPAP']\n",
      "['chr15', 'FOXB1']\n",
      "This gene does not has any peaks in DHS\n",
      "['chr5', 'TCERG1']\n",
      "['chr10', 'BUB3']\n",
      "['chr20', 'C20orf173']\n",
      "['chr1', 'EIF2B3']\n",
      "['chr6', 'GRM4']\n"
     ]
    },
    {
     "name": "stderr",
     "output_type": "stream",
     "text": [
      "number of gene symbol:  97%|█████████████████▍| 639/658 [00:17<00:00, 32.02it/s]"
     ]
    },
    {
     "name": "stdout",
     "output_type": "stream",
     "text": [
      "['chr19', 'NANOS2']\n",
      "['chr11', 'CCDC86']\n",
      "['chr3', 'ECT2']\n",
      "['chr16', 'RPS15A']\n",
      "['chr5', 'THG1L']\n",
      "['chr6', 'CDC5L']\n",
      "['chr1', 'GNL2']\n"
     ]
    },
    {
     "name": "stderr",
     "output_type": "stream",
     "text": [
      "\r",
      "number of gene symbol:  98%|█████████████████▌| 643/658 [00:17<00:00, 33.93it/s]"
     ]
    },
    {
     "name": "stdout",
     "output_type": "stream",
     "text": [
      "['chr6', 'SNRNP48']\n",
      "['chr19', 'UQCRFS1']\n",
      "['chr12', 'MRPS35']\n",
      "['chr19', 'FBL']\n",
      "['chr18', 'AFG3L2']\n",
      "['chr11', 'CHEK1']\n",
      "['chr5', 'LARS1']\n"
     ]
    },
    {
     "name": "stderr",
     "output_type": "stream",
     "text": [
      "number of gene symbol:  99%|█████████████████▊| 652/658 [00:18<00:00, 35.29it/s]"
     ]
    },
    {
     "name": "stdout",
     "output_type": "stream",
     "text": [
      "['chr11', 'OR52A1']\n",
      "['chr17', 'MED1']\n",
      "['chr7', 'NEUROD6']\n",
      "This gene does not has any peaks in DHS\n",
      "['chr13', 'RNF113B']\n",
      "['chr2', 'CARF']\n",
      "['chr9', 'SMC2']\n",
      "['chr11', 'MRPL17']\n",
      "['chr17', 'ZNF830']\n"
     ]
    },
    {
     "name": "stderr",
     "output_type": "stream",
     "text": [
      "number of gene symbol: 100%|██████████████████| 658/658 [00:18<00:00, 35.97it/s]"
     ]
    },
    {
     "name": "stdout",
     "output_type": "stream",
     "text": [
      "['chr22', 'BCR']\n",
      "['chr17', 'NLE1']\n",
      "['chr11', 'OR4C11']\n",
      "This gene does not has any peaks in DHS\n"
     ]
    },
    {
     "name": "stderr",
     "output_type": "stream",
     "text": [
      "\n"
     ]
    }
   ],
   "source": [
    "CRISPRiFiles_DHS_K562 = dhs_all_genes(CRISPRi_fileCombo,processedCRISPRiOutpath, dhs_out+'K562/')"
   ]
  },
  {
   "cell_type": "code",
   "execution_count": 13,
   "id": "6de385b8",
   "metadata": {},
   "outputs": [
    {
     "data": {
      "text/plain": [
       "overlap with peak\n",
       "0    123680\n",
       "1     42944\n",
       "Name: count, dtype: int64"
      ]
     },
     "execution_count": 13,
     "metadata": {},
     "output_type": "execute_result"
    }
   ],
   "source": [
    "CRISPRiFiles_DHS_K562['overlap with peak'].value_counts()"
   ]
  },
  {
   "cell_type": "code",
   "execution_count": 14,
   "id": "cffcd509",
   "metadata": {},
   "outputs": [],
   "source": [
    "CRISPRiFiles_DHS_K562.to_csv(f'{peakOverlapOut}K562.csv')"
   ]
  },
  {
   "cell_type": "code",
   "execution_count": 16,
   "id": "4ec9f507",
   "metadata": {},
   "outputs": [],
   "source": [
    "DHS_K562_combined = pd.merge(NewDatasetCombine,CRISPRiFiles_DHS_K562, how = 'inner')"
   ]
  },
  {
   "cell_type": "code",
   "execution_count": 17,
   "id": "1c155cac",
   "metadata": {},
   "outputs": [],
   "source": [
    "DHS_HCT116_combined = pd.merge(NewDatasetCombine,CRISPRiFiles_DHS_HCT116, how = 'inner')"
   ]
  },
  {
   "cell_type": "code",
   "execution_count": 18,
   "id": "a34859b0",
   "metadata": {},
   "outputs": [],
   "source": [
    "DHS_A549_combined = pd.merge(NewDatasetCombine,CRISPRiFiles_DHS_A549, how = 'inner')"
   ]
  },
  {
   "cell_type": "code",
   "execution_count": 20,
   "id": "0e01c5f7",
   "metadata": {},
   "outputs": [],
   "source": [
    "DHS_K562_combined['DHS'] = 'K562'\n",
    "DHS_HCT116_combined['DHS'] = 'HCT116'\n",
    "DHS_A549_combined['DHS'] = 'A549'"
   ]
  },
  {
   "cell_type": "code",
   "execution_count": 21,
   "id": "596a829d",
   "metadata": {},
   "outputs": [],
   "source": [
    "DHS_combined = pd.concat([DHS_K562_combined,DHS_HCT116_combined,DHS_A549_combined])\n"
   ]
  },
  {
   "cell_type": "code",
   "execution_count": 22,
   "id": "da53eb6c",
   "metadata": {},
   "outputs": [
    {
     "data": {
      "text/html": [
       "<div>\n",
       "<style scoped>\n",
       "    .dataframe tbody tr th:only-of-type {\n",
       "        vertical-align: middle;\n",
       "    }\n",
       "\n",
       "    .dataframe tbody tr th {\n",
       "        vertical-align: top;\n",
       "    }\n",
       "\n",
       "    .dataframe thead th {\n",
       "        text-align: right;\n",
       "    }\n",
       "</style>\n",
       "<table border=\"1\" class=\"dataframe\">\n",
       "  <thead>\n",
       "    <tr style=\"text-align: right;\">\n",
       "      <th></th>\n",
       "      <th>Target Gene Symbol</th>\n",
       "      <th>chromosome</th>\n",
       "      <th>sgRNA Context Sequence</th>\n",
       "      <th>sgRNA 'Cut' Position</th>\n",
       "      <th>condition</th>\n",
       "      <th>Domain</th>\n",
       "      <th>DataSet</th>\n",
       "      <th>orginal phenotype</th>\n",
       "      <th>overlap with peak</th>\n",
       "      <th>DHS</th>\n",
       "    </tr>\n",
       "  </thead>\n",
       "  <tbody>\n",
       "    <tr>\n",
       "      <th>0</th>\n",
       "      <td>ACTR6</td>\n",
       "      <td>chr12</td>\n",
       "      <td>TGCTTCGAGCACATAGAGGGATCTGGGCCC</td>\n",
       "      <td>100198288.0</td>\n",
       "      <td>K562</td>\n",
       "      <td>Kox1</td>\n",
       "      <td>Nunez</td>\n",
       "      <td>-0.018881</td>\n",
       "      <td>0</td>\n",
       "      <td>K562</td>\n",
       "    </tr>\n",
       "    <tr>\n",
       "      <th>1</th>\n",
       "      <td>ACTR6</td>\n",
       "      <td>chr12</td>\n",
       "      <td>CTGCTTCGAGCACATAGAGGGATCTGGGCC</td>\n",
       "      <td>100198289.0</td>\n",
       "      <td>K562</td>\n",
       "      <td>Kox1</td>\n",
       "      <td>Nunez</td>\n",
       "      <td>0.009292</td>\n",
       "      <td>0</td>\n",
       "      <td>K562</td>\n",
       "    </tr>\n",
       "    <tr>\n",
       "      <th>2</th>\n",
       "      <td>ACTR6</td>\n",
       "      <td>chr12</td>\n",
       "      <td>GTCCACCTGCTTCGAGCACATAGAGGGATC</td>\n",
       "      <td>100198295.0</td>\n",
       "      <td>K562</td>\n",
       "      <td>Kox1</td>\n",
       "      <td>Nunez</td>\n",
       "      <td>0.000734</td>\n",
       "      <td>0</td>\n",
       "      <td>K562</td>\n",
       "    </tr>\n",
       "    <tr>\n",
       "      <th>3</th>\n",
       "      <td>ACTR6</td>\n",
       "      <td>chr12</td>\n",
       "      <td>GGTCCACCTGCTTCGAGCACATAGAGGGAT</td>\n",
       "      <td>100198296.0</td>\n",
       "      <td>K562</td>\n",
       "      <td>Kox1</td>\n",
       "      <td>Nunez</td>\n",
       "      <td>-0.008256</td>\n",
       "      <td>0</td>\n",
       "      <td>K562</td>\n",
       "    </tr>\n",
       "    <tr>\n",
       "      <th>4</th>\n",
       "      <td>ACTR6</td>\n",
       "      <td>chr12</td>\n",
       "      <td>GGGCTAGACTCTGTCACCTCCGAGGGGTCC</td>\n",
       "      <td>100198321.0</td>\n",
       "      <td>K562</td>\n",
       "      <td>Kox1</td>\n",
       "      <td>Nunez</td>\n",
       "      <td>0.001314</td>\n",
       "      <td>0</td>\n",
       "      <td>K562</td>\n",
       "    </tr>\n",
       "    <tr>\n",
       "      <th>...</th>\n",
       "      <td>...</td>\n",
       "      <td>...</td>\n",
       "      <td>...</td>\n",
       "      <td>...</td>\n",
       "      <td>...</td>\n",
       "      <td>...</td>\n",
       "      <td>...</td>\n",
       "      <td>...</td>\n",
       "      <td>...</td>\n",
       "      <td>...</td>\n",
       "    </tr>\n",
       "    <tr>\n",
       "      <th>431090</th>\n",
       "      <td>HMX1</td>\n",
       "      <td>chr4</td>\n",
       "      <td>GTGAGGGCGCGGGGAGGGTGGGTCAGGCGG</td>\n",
       "      <td>8871196.0</td>\n",
       "      <td>HCT116</td>\n",
       "      <td>Zim3</td>\n",
       "      <td>InHouse</td>\n",
       "      <td>-0.721298</td>\n",
       "      <td>0</td>\n",
       "      <td>A549</td>\n",
       "    </tr>\n",
       "    <tr>\n",
       "      <th>431091</th>\n",
       "      <td>SNUPN</td>\n",
       "      <td>chr15</td>\n",
       "      <td>GCGTGGGCGGGGCCTGGGGCGGGTCGGACT</td>\n",
       "      <td>75625191.0</td>\n",
       "      <td>HCT116</td>\n",
       "      <td>Zim3</td>\n",
       "      <td>InHouse</td>\n",
       "      <td>-1.293837</td>\n",
       "      <td>1</td>\n",
       "      <td>A549</td>\n",
       "    </tr>\n",
       "    <tr>\n",
       "      <th>431092</th>\n",
       "      <td>SNUPN</td>\n",
       "      <td>chr15</td>\n",
       "      <td>GGAGGGTGGAGCGTGGGCGGGGCCTGGGGC</td>\n",
       "      <td>75625201.0</td>\n",
       "      <td>HCT116</td>\n",
       "      <td>Zim3</td>\n",
       "      <td>InHouse</td>\n",
       "      <td>-1.423518</td>\n",
       "      <td>1</td>\n",
       "      <td>A549</td>\n",
       "    </tr>\n",
       "    <tr>\n",
       "      <th>431093</th>\n",
       "      <td>NKX2-2</td>\n",
       "      <td>chr20</td>\n",
       "      <td>CAACTCCCCCCTCCCCCGCCCGCCGGGGCA</td>\n",
       "      <td>21513745.0</td>\n",
       "      <td>HCT116</td>\n",
       "      <td>Zim3</td>\n",
       "      <td>InHouse</td>\n",
       "      <td>-1.040580</td>\n",
       "      <td>0</td>\n",
       "      <td>A549</td>\n",
       "    </tr>\n",
       "    <tr>\n",
       "      <th>431094</th>\n",
       "      <td>KRT36</td>\n",
       "      <td>chr17</td>\n",
       "      <td>ATGTTCCTTCCCTTCCTACAGCAAGGGGAG</td>\n",
       "      <td>41489187.0</td>\n",
       "      <td>HCT116</td>\n",
       "      <td>Zim3</td>\n",
       "      <td>InHouse</td>\n",
       "      <td>-0.510239</td>\n",
       "      <td>0</td>\n",
       "      <td>A549</td>\n",
       "    </tr>\n",
       "  </tbody>\n",
       "</table>\n",
       "<p>1293285 rows × 10 columns</p>\n",
       "</div>"
      ],
      "text/plain": [
       "       Target Gene Symbol chromosome          sgRNA Context Sequence  \\\n",
       "0                   ACTR6      chr12  TGCTTCGAGCACATAGAGGGATCTGGGCCC   \n",
       "1                   ACTR6      chr12  CTGCTTCGAGCACATAGAGGGATCTGGGCC   \n",
       "2                   ACTR6      chr12  GTCCACCTGCTTCGAGCACATAGAGGGATC   \n",
       "3                   ACTR6      chr12  GGTCCACCTGCTTCGAGCACATAGAGGGAT   \n",
       "4                   ACTR6      chr12  GGGCTAGACTCTGTCACCTCCGAGGGGTCC   \n",
       "...                   ...        ...                             ...   \n",
       "431090               HMX1       chr4  GTGAGGGCGCGGGGAGGGTGGGTCAGGCGG   \n",
       "431091              SNUPN      chr15  GCGTGGGCGGGGCCTGGGGCGGGTCGGACT   \n",
       "431092              SNUPN      chr15  GGAGGGTGGAGCGTGGGCGGGGCCTGGGGC   \n",
       "431093             NKX2-2      chr20  CAACTCCCCCCTCCCCCGCCCGCCGGGGCA   \n",
       "431094              KRT36      chr17  ATGTTCCTTCCCTTCCTACAGCAAGGGGAG   \n",
       "\n",
       "        sgRNA 'Cut' Position condition Domain  DataSet  orginal phenotype  \\\n",
       "0                100198288.0      K562   Kox1    Nunez          -0.018881   \n",
       "1                100198289.0      K562   Kox1    Nunez           0.009292   \n",
       "2                100198295.0      K562   Kox1    Nunez           0.000734   \n",
       "3                100198296.0      K562   Kox1    Nunez          -0.008256   \n",
       "4                100198321.0      K562   Kox1    Nunez           0.001314   \n",
       "...                      ...       ...    ...      ...                ...   \n",
       "431090             8871196.0    HCT116   Zim3  InHouse          -0.721298   \n",
       "431091            75625191.0    HCT116   Zim3  InHouse          -1.293837   \n",
       "431092            75625201.0    HCT116   Zim3  InHouse          -1.423518   \n",
       "431093            21513745.0    HCT116   Zim3  InHouse          -1.040580   \n",
       "431094            41489187.0    HCT116   Zim3  InHouse          -0.510239   \n",
       "\n",
       "        overlap with peak   DHS  \n",
       "0                       0  K562  \n",
       "1                       0  K562  \n",
       "2                       0  K562  \n",
       "3                       0  K562  \n",
       "4                       0  K562  \n",
       "...                   ...   ...  \n",
       "431090                  0  A549  \n",
       "431091                  1  A549  \n",
       "431092                  1  A549  \n",
       "431093                  0  A549  \n",
       "431094                  0  A549  \n",
       "\n",
       "[1293285 rows x 10 columns]"
      ]
     },
     "execution_count": 22,
     "metadata": {},
     "output_type": "execute_result"
    }
   ],
   "source": [
    "DHS_combined"
   ]
  },
  {
   "cell_type": "code",
   "execution_count": 23,
   "id": "876f198c",
   "metadata": {},
   "outputs": [
    {
     "data": {
      "text/plain": [
       "overlap with peak\n",
       "0    1065460\n",
       "1     227825\n",
       "Name: count, dtype: int64"
      ]
     },
     "execution_count": 23,
     "metadata": {},
     "output_type": "execute_result"
    }
   ],
   "source": [
    "DHS_combined['overlap with peak'].value_counts()"
   ]
  },
  {
   "cell_type": "code",
   "execution_count": 24,
   "id": "9bdec9e2",
   "metadata": {},
   "outputs": [],
   "source": [
    "out_path = '../../Data/DHS/'\n",
    "DHS_combined.to_csv(out_path+'DHS_PeakOverlap.csv', index = False)"
   ]
  },
  {
   "cell_type": "code",
   "execution_count": null,
   "id": "49c8d27e",
   "metadata": {},
   "outputs": [],
   "source": []
  }
 ],
 "metadata": {
  "kernelspec": {
   "display_name": "Python 3 (ipykernel)",
   "language": "python",
   "name": "python3"
  },
  "language_info": {
   "codemirror_mode": {
    "name": "ipython",
    "version": 3
   },
   "file_extension": ".py",
   "mimetype": "text/x-python",
   "name": "python",
   "nbconvert_exporter": "python",
   "pygments_lexer": "ipython3",
   "version": "3.8.13"
  }
 },
 "nbformat": 4,
 "nbformat_minor": 5
}
