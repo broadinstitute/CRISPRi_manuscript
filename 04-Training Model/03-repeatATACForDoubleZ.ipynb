{
 "cells": [
  {
   "cell_type": "code",
   "execution_count": 1,
   "id": "523f314e",
   "metadata": {},
   "outputs": [],
   "source": [
    "import pandas as pd\n",
    "from copy import deepcopy\n",
    "import statsmodels.api as sm\n",
    "import seaborn as sns\n",
    "import matplotlib.pyplot as plt\n",
    "import gpplot\n",
    "from scipy.stats import yeojohnson, rankdata\n",
    "from sklearn.base import clone\n",
    "import numpy as np\n",
    "from sklearn import preprocessing\n",
    "import warnings\n",
    "import matplotlib\n",
    "from tqdm import tqdm\n",
    "from scipy.stats import mannwhitneyu\n",
    "\n",
    "matplotlib.rcParams['pdf.fonttype'] = 42\n",
    "matplotlib.rcParams['ps.fonttype'] = 42"
   ]
  },
  {
   "cell_type": "code",
   "execution_count": 2,
   "id": "1171c19a",
   "metadata": {},
   "outputs": [],
   "source": [
    "def perform_mannwhitney_tests(chrtest, gene_col, phenotype):\n",
    "    results = []\n",
    "    # Get unique values from the specified columns\n",
    "    experiment_seq = chrtest['ATACseq'].unique()\n",
    "    DataSet = chrtest['DataSet'].unique()\n",
    "    Domain = chrtest['Domain'].unique()\n",
    "\n",
    "    # Iterate over the combinations of parameters\n",
    "    for experiment in tqdm(experiment_seq):\n",
    "        \n",
    "        for data in tqdm(DataSet):\n",
    "            if data == 'InHouse':\n",
    "                alter = 'greater'\n",
    "            elif data == 'Nunez':\n",
    "                alter = 'greater'\n",
    "            elif data == 'Gilbert':\n",
    "                alter = 'less' \n",
    "            for krab in tqdm(Domain):\n",
    "                    chrtest_subset = chrtest[(chrtest['ATACseq'] == experiment) & \n",
    "                                             (chrtest['Domain'] == krab) & \n",
    "                                             (chrtest['DataSet'] == data) ]\n",
    "                    for gene in chrtest_subset[gene_col].unique():\n",
    "                        gene_sp = chrtest_subset[chrtest_subset[gene_col] == gene]\n",
    "                        binary_col = 'overlap with peak'\n",
    "                        if (sum(gene_sp[binary_col] == 1) >= 10) & (sum(gene_sp[binary_col] == 0) >= 10):\n",
    "                            _, pval = mannwhitneyu(gene_sp[gene_sp[binary_col] == 0][phenotype], \n",
    "                                                   gene_sp[gene_sp[binary_col] == 1][phenotype], \n",
    "                                                   alternative=alter, method=\"asymptotic\")\n",
    "                            results.append({\n",
    "                                'ATACseq': experiment,\n",
    "                                'DataSet': data,\n",
    "                                'Domain': krab,\n",
    "                                'gene': gene,\n",
    "                                'pval': pval\n",
    "                            })\n",
    "                        else:\n",
    "                            print(f\"{gene}: Sample size in overlap or non-overlap < 10\")\n",
    "    \n",
    "    # Convert results to DataFrame\n",
    "    results_df = pd.DataFrame(results)\n",
    "    \n",
    "    return results_df\n"
   ]
  },
  {
   "cell_type": "code",
   "execution_count": 3,
   "id": "237807a3",
   "metadata": {},
   "outputs": [],
   "source": [
    "dataOut = '../../../../data/2024/Manuscript/CleanedScaledData/'\n",
    "GilbertRicinScaledData = pd.read_csv(dataOut+'GilbertRicinScaledData.csv')\n",
    "inHouseZim3ScaledData = pd.read_csv(dataOut+'inHouseZim3ScaledData.csv')\n",
    "inHouseKox1ScaledData = pd.read_csv(dataOut+'inHouseKox1ScaledData.csv')\n",
    "nunezScaledData = pd.read_csv(dataOut+'nunezScaledData.csv')\n"
   ]
  },
  {
   "cell_type": "code",
   "execution_count": 4,
   "id": "782dda0b",
   "metadata": {},
   "outputs": [],
   "source": [
    "combinedData = pd.concat([nunezScaledData, inHouseKox1ScaledData, inHouseZim3ScaledData, GilbertRicinScaledData])"
   ]
  },
  {
   "cell_type": "code",
   "execution_count": 5,
   "id": "624d3a44",
   "metadata": {},
   "outputs": [
    {
     "data": {
      "text/plain": [
       "condition  Domain  DataSet  ATACseq\n",
       "K562       Kox1    Nunez    Panc1      68575\n",
       "                            MCF7       68575\n",
       "                            K562       68575\n",
       "                            HepG2      68575\n",
       "                            HCT116     68575\n",
       "                            GM12878    68575\n",
       "                            A549       68575\n",
       "HCT116     Kox1    InHouse  A549       42609\n",
       "                            MCF7       42609\n",
       "                            K562       42609\n",
       "                            HepG2      42609\n",
       "                            HCT116     42609\n",
       "                            GM12878    42609\n",
       "A549       Zim3    InHouse  HepG2      42609\n",
       "                            Panc1      42609\n",
       "                            MCF7       42609\n",
       "                            K562       42609\n",
       "                            HCT116     42609\n",
       "                            GM12878    42609\n",
       "                            A549       42609\n",
       "HCT116     Kox1    InHouse  Panc1      42609\n",
       "A549       Kox1    InHouse  A549       42570\n",
       "                            HCT116     42570\n",
       "                            HepG2      42570\n",
       "                            K562       42570\n",
       "                            MCF7       42570\n",
       "                            Panc1      42570\n",
       "                            GM12878    42570\n",
       "HCT116     Zim3    InHouse  GM12878    42544\n",
       "                            HCT116     42544\n",
       "                            A549       42544\n",
       "                            Panc1      42544\n",
       "                            MCF7       42544\n",
       "                            K562       42544\n",
       "                            HepG2      42544\n",
       "K562       Kox1    Gilbert  HepG2      18509\n",
       "                            HCT116     18509\n",
       "                            MCF7       18509\n",
       "                            Panc1      18509\n",
       "                            GM12878    18509\n",
       "                            A549       18509\n",
       "                            K562       18509\n",
       "dtype: int64"
      ]
     },
     "execution_count": 5,
     "metadata": {},
     "output_type": "execute_result"
    }
   ],
   "source": [
    "# ess gene\n",
    "ess_noness = pd.read_csv('../Data/PrimaryLibrary/design/essentials_nonessentials_CRISPRi_tiling_designs_v2.csv')\n",
    "EssGene = ess_noness[ess_noness.Category == 'Essential']['Target Gene Symbol'].unique()\n",
    "# atac\n",
    "atac_path = '../Data/ATACseq/'\n",
    "ATAC_combined = pd.read_csv(atac_path + 'ATACseqPeakOverlap_v2.csv')\n",
    "\n",
    "# only guide with phenotype\n",
    "InhouseEssATAC = ATAC_combined[(ATAC_combined.DataSet == 'InHouse') & (ATAC_combined['Target Gene Symbol'].isin(EssGene))]\n",
    "otherATAC = ATAC_combined[~(ATAC_combined.DataSet == 'InHouse')]\n",
    "newATAC = pd.concat([InhouseEssATAC,otherATAC])\n",
    "\n",
    "newATAC[['condition', 'Domain', 'DataSet','ATACseq']].value_counts()"
   ]
  },
  {
   "cell_type": "code",
   "execution_count": 6,
   "id": "e8bf7e12-82fb-48a4-8ae9-3dbfd9de5731",
   "metadata": {},
   "outputs": [
    {
     "data": {
      "text/html": [
       "<div>\n",
       "<style scoped>\n",
       "    .dataframe tbody tr th:only-of-type {\n",
       "        vertical-align: middle;\n",
       "    }\n",
       "\n",
       "    .dataframe tbody tr th {\n",
       "        vertical-align: top;\n",
       "    }\n",
       "\n",
       "    .dataframe thead th {\n",
       "        text-align: right;\n",
       "    }\n",
       "</style>\n",
       "<table border=\"1\" class=\"dataframe\">\n",
       "  <thead>\n",
       "    <tr style=\"text-align: right;\">\n",
       "      <th></th>\n",
       "      <th>Target Gene Symbol</th>\n",
       "      <th>chromosome</th>\n",
       "      <th>sgRNA Context Sequence</th>\n",
       "      <th>condition</th>\n",
       "      <th>Domain</th>\n",
       "      <th>DataSet</th>\n",
       "      <th>overlap with peak</th>\n",
       "      <th>orginal phenotype</th>\n",
       "      <th>ATACseq</th>\n",
       "    </tr>\n",
       "  </thead>\n",
       "  <tbody>\n",
       "    <tr>\n",
       "      <th>609616</th>\n",
       "      <td>LARS2</td>\n",
       "      <td>chr3</td>\n",
       "      <td>CAGAAAAAAAAAAACAGGACACAGGGGAGA</td>\n",
       "      <td>A549</td>\n",
       "      <td>Kox1</td>\n",
       "      <td>InHouse</td>\n",
       "      <td>1</td>\n",
       "      <td>-0.398339</td>\n",
       "      <td>K562</td>\n",
       "    </tr>\n",
       "    <tr>\n",
       "      <th>609617</th>\n",
       "      <td>LARS2</td>\n",
       "      <td>chr3</td>\n",
       "      <td>CAGAAAAAAAAAAACAGGACACAGGGGAGA</td>\n",
       "      <td>A549</td>\n",
       "      <td>Kox1</td>\n",
       "      <td>InHouse</td>\n",
       "      <td>0</td>\n",
       "      <td>-0.398339</td>\n",
       "      <td>HCT116</td>\n",
       "    </tr>\n",
       "    <tr>\n",
       "      <th>609618</th>\n",
       "      <td>LARS2</td>\n",
       "      <td>chr3</td>\n",
       "      <td>CAGAAAAAAAAAAACAGGACACAGGGGAGA</td>\n",
       "      <td>A549</td>\n",
       "      <td>Kox1</td>\n",
       "      <td>InHouse</td>\n",
       "      <td>1</td>\n",
       "      <td>-0.398339</td>\n",
       "      <td>A549</td>\n",
       "    </tr>\n",
       "    <tr>\n",
       "      <th>609619</th>\n",
       "      <td>LARS2</td>\n",
       "      <td>chr3</td>\n",
       "      <td>CAGAAAAAAAAAAACAGGACACAGGGGAGA</td>\n",
       "      <td>A549</td>\n",
       "      <td>Kox1</td>\n",
       "      <td>InHouse</td>\n",
       "      <td>0</td>\n",
       "      <td>-0.398339</td>\n",
       "      <td>MCF7</td>\n",
       "    </tr>\n",
       "    <tr>\n",
       "      <th>609620</th>\n",
       "      <td>LARS2</td>\n",
       "      <td>chr3</td>\n",
       "      <td>CAGAAAAAAAAAAACAGGACACAGGGGAGA</td>\n",
       "      <td>A549</td>\n",
       "      <td>Kox1</td>\n",
       "      <td>InHouse</td>\n",
       "      <td>0</td>\n",
       "      <td>-0.398339</td>\n",
       "      <td>Panc1</td>\n",
       "    </tr>\n",
       "    <tr>\n",
       "      <th>...</th>\n",
       "      <td>...</td>\n",
       "      <td>...</td>\n",
       "      <td>...</td>\n",
       "      <td>...</td>\n",
       "      <td>...</td>\n",
       "      <td>...</td>\n",
       "      <td>...</td>\n",
       "      <td>...</td>\n",
       "      <td>...</td>\n",
       "    </tr>\n",
       "    <tr>\n",
       "      <th>609583</th>\n",
       "      <td>WDR11</td>\n",
       "      <td>chr10</td>\n",
       "      <td>GAAATAAAAGCTCCAGAAATGCCAAGGGGC</td>\n",
       "      <td>K562</td>\n",
       "      <td>Kox1</td>\n",
       "      <td>Gilbert</td>\n",
       "      <td>0</td>\n",
       "      <td>-0.021742</td>\n",
       "      <td>A549</td>\n",
       "    </tr>\n",
       "    <tr>\n",
       "      <th>609584</th>\n",
       "      <td>WDR11</td>\n",
       "      <td>chr10</td>\n",
       "      <td>GAAATAAAAGCTCCAGAAATGCCAAGGGGC</td>\n",
       "      <td>K562</td>\n",
       "      <td>Kox1</td>\n",
       "      <td>Gilbert</td>\n",
       "      <td>0</td>\n",
       "      <td>-0.021742</td>\n",
       "      <td>MCF7</td>\n",
       "    </tr>\n",
       "    <tr>\n",
       "      <th>609585</th>\n",
       "      <td>WDR11</td>\n",
       "      <td>chr10</td>\n",
       "      <td>GAAATAAAAGCTCCAGAAATGCCAAGGGGC</td>\n",
       "      <td>K562</td>\n",
       "      <td>Kox1</td>\n",
       "      <td>Gilbert</td>\n",
       "      <td>0</td>\n",
       "      <td>-0.021742</td>\n",
       "      <td>Panc1</td>\n",
       "    </tr>\n",
       "    <tr>\n",
       "      <th>609586</th>\n",
       "      <td>WDR11</td>\n",
       "      <td>chr10</td>\n",
       "      <td>GAAATAAAAGCTCCAGAAATGCCAAGGGGC</td>\n",
       "      <td>K562</td>\n",
       "      <td>Kox1</td>\n",
       "      <td>Gilbert</td>\n",
       "      <td>0</td>\n",
       "      <td>-0.021742</td>\n",
       "      <td>HepG2</td>\n",
       "    </tr>\n",
       "    <tr>\n",
       "      <th>609587</th>\n",
       "      <td>WDR11</td>\n",
       "      <td>chr10</td>\n",
       "      <td>GAAATAAAAGCTCCAGAAATGCCAAGGGGC</td>\n",
       "      <td>K562</td>\n",
       "      <td>Kox1</td>\n",
       "      <td>Gilbert</td>\n",
       "      <td>0</td>\n",
       "      <td>-0.021742</td>\n",
       "      <td>GM12878</td>\n",
       "    </tr>\n",
       "  </tbody>\n",
       "</table>\n",
       "<p>1801912 rows × 9 columns</p>\n",
       "</div>"
      ],
      "text/plain": [
       "       Target Gene Symbol chromosome          sgRNA Context Sequence  \\\n",
       "609616              LARS2       chr3  CAGAAAAAAAAAAACAGGACACAGGGGAGA   \n",
       "609617              LARS2       chr3  CAGAAAAAAAAAAACAGGACACAGGGGAGA   \n",
       "609618              LARS2       chr3  CAGAAAAAAAAAAACAGGACACAGGGGAGA   \n",
       "609619              LARS2       chr3  CAGAAAAAAAAAAACAGGACACAGGGGAGA   \n",
       "609620              LARS2       chr3  CAGAAAAAAAAAAACAGGACACAGGGGAGA   \n",
       "...                   ...        ...                             ...   \n",
       "609583              WDR11      chr10  GAAATAAAAGCTCCAGAAATGCCAAGGGGC   \n",
       "609584              WDR11      chr10  GAAATAAAAGCTCCAGAAATGCCAAGGGGC   \n",
       "609585              WDR11      chr10  GAAATAAAAGCTCCAGAAATGCCAAGGGGC   \n",
       "609586              WDR11      chr10  GAAATAAAAGCTCCAGAAATGCCAAGGGGC   \n",
       "609587              WDR11      chr10  GAAATAAAAGCTCCAGAAATGCCAAGGGGC   \n",
       "\n",
       "       condition Domain  DataSet  overlap with peak  orginal phenotype  \\\n",
       "609616      A549   Kox1  InHouse                  1          -0.398339   \n",
       "609617      A549   Kox1  InHouse                  0          -0.398339   \n",
       "609618      A549   Kox1  InHouse                  1          -0.398339   \n",
       "609619      A549   Kox1  InHouse                  0          -0.398339   \n",
       "609620      A549   Kox1  InHouse                  0          -0.398339   \n",
       "...          ...    ...      ...                ...                ...   \n",
       "609583      K562   Kox1  Gilbert                  0          -0.021742   \n",
       "609584      K562   Kox1  Gilbert                  0          -0.021742   \n",
       "609585      K562   Kox1  Gilbert                  0          -0.021742   \n",
       "609586      K562   Kox1  Gilbert                  0          -0.021742   \n",
       "609587      K562   Kox1  Gilbert                  0          -0.021742   \n",
       "\n",
       "        ATACseq  \n",
       "609616     K562  \n",
       "609617   HCT116  \n",
       "609618     A549  \n",
       "609619     MCF7  \n",
       "609620    Panc1  \n",
       "...         ...  \n",
       "609583     A549  \n",
       "609584     MCF7  \n",
       "609585    Panc1  \n",
       "609586    HepG2  \n",
       "609587  GM12878  \n",
       "\n",
       "[1801912 rows x 9 columns]"
      ]
     },
     "execution_count": 6,
     "metadata": {},
     "output_type": "execute_result"
    }
   ],
   "source": [
    "newATAC"
   ]
  },
  {
   "cell_type": "code",
   "execution_count": 7,
   "id": "90fd2e87",
   "metadata": {},
   "outputs": [
    {
     "data": {
      "text/plain": [
       "68575"
      ]
     },
     "execution_count": 7,
     "metadata": {},
     "output_type": "execute_result"
    }
   ],
   "source": [
    "len(nunezScaledData)"
   ]
  },
  {
   "cell_type": "code",
   "execution_count": 8,
   "id": "748e16e7",
   "metadata": {},
   "outputs": [
    {
     "data": {
      "text/plain": [
       "18509"
      ]
     },
     "execution_count": 8,
     "metadata": {},
     "output_type": "execute_result"
    }
   ],
   "source": [
    "len(GilbertRicinScaledData)\n"
   ]
  },
  {
   "cell_type": "code",
   "execution_count": 9,
   "id": "94285972",
   "metadata": {},
   "outputs": [
    {
     "data": {
      "text/plain": [
       "42104"
      ]
     },
     "execution_count": 9,
     "metadata": {},
     "output_type": "execute_result"
    }
   ],
   "source": [
    "len(inHouseZim3ScaledData)\n"
   ]
  },
  {
   "cell_type": "code",
   "execution_count": 10,
   "id": "b2ebd610",
   "metadata": {},
   "outputs": [
    {
     "data": {
      "text/plain": [
       "42104"
      ]
     },
     "execution_count": 10,
     "metadata": {},
     "output_type": "execute_result"
    }
   ],
   "source": [
    "len(inHouseKox1ScaledData)"
   ]
  },
  {
   "cell_type": "code",
   "execution_count": 11,
   "id": "d8814874",
   "metadata": {},
   "outputs": [],
   "source": [
    "shortenNewATAC = newATAC[['Target Gene Symbol', 'chromosome', 'sgRNA Context Sequence',\n",
    "     'Domain', 'DataSet',\n",
    "      'overlap with peak', 'ATACseq']].drop_duplicates().copy()"
   ]
  },
  {
   "cell_type": "code",
   "execution_count": 12,
   "id": "09546be0",
   "metadata": {},
   "outputs": [
    {
     "data": {
      "text/plain": [
       "Domain  DataSet  ATACseq\n",
       "Kox1    Nunez    A549       68575\n",
       "                 GM12878    68575\n",
       "                 Panc1      68575\n",
       "                 MCF7       68575\n",
       "                 K562       68575\n",
       "                 HepG2      68575\n",
       "                 HCT116     68575\n",
       "Zim3    InHouse  MCF7       42762\n",
       "                 K562       42762\n",
       "                 HepG2      42762\n",
       "                 HCT116     42762\n",
       "                 GM12878    42762\n",
       "                 A549       42762\n",
       "                 Panc1      42762\n",
       "Kox1    InHouse  Panc1      42761\n",
       "                 MCF7       42761\n",
       "                 K562       42761\n",
       "                 HepG2      42761\n",
       "                 HCT116     42761\n",
       "                 GM12878    42761\n",
       "                 A549       42761\n",
       "        Gilbert  GM12878    18509\n",
       "                 Panc1      18509\n",
       "                 MCF7       18509\n",
       "                 K562       18509\n",
       "                 HepG2      18509\n",
       "                 HCT116     18509\n",
       "                 A549       18509\n",
       "dtype: int64"
      ]
     },
     "execution_count": 12,
     "metadata": {},
     "output_type": "execute_result"
    }
   ],
   "source": [
    "shortenNewATAC[['Domain', 'DataSet', 'ATACseq']].value_counts()\n",
    "# more datapoint in Zim3 InHouse because we are taking the union of two cell lines"
   ]
  },
  {
   "cell_type": "code",
   "execution_count": 13,
   "id": "95860d2f",
   "metadata": {},
   "outputs": [
    {
     "data": {
      "text/plain": [
       "Domain  DataSet\n",
       "Kox1    Nunez      68575\n",
       "        InHouse    42104\n",
       "Zim3    InHouse    42104\n",
       "Kox1    Gilbert    18509\n",
       "dtype: int64"
      ]
     },
     "execution_count": 13,
     "metadata": {},
     "output_type": "execute_result"
    }
   ],
   "source": [
    "combinedData[['Domain', 'DataSet']].value_counts()"
   ]
  },
  {
   "cell_type": "code",
   "execution_count": 14,
   "id": "0d26f1fc",
   "metadata": {},
   "outputs": [],
   "source": [
    "shortenNewATAC['sgRNA Context Sequence'] = shortenNewATAC['sgRNA Context Sequence'].str.upper()\n",
    "combinedData['sgRNA Context Sequence'] = combinedData['sgRNA Context Sequence'].str.upper()"
   ]
  },
  {
   "cell_type": "code",
   "execution_count": 15,
   "id": "21bd08f0",
   "metadata": {},
   "outputs": [],
   "source": [
    "combinedDataATAC = pd.merge(shortenNewATAC,combinedData, how = 'inner',\n",
    "                           on = ['Target Gene Symbol',\n",
    "                                 'sgRNA Context Sequence',\n",
    "                                 'Domain', 'DataSet'])\n"
   ]
  },
  {
   "cell_type": "code",
   "execution_count": 16,
   "id": "7d32070b",
   "metadata": {},
   "outputs": [
    {
     "data": {
      "text/plain": [
       "Domain  DataSet  ATACseq\n",
       "Kox1    Nunez    A549       68575\n",
       "                 GM12878    68575\n",
       "                 Panc1      68575\n",
       "                 MCF7       68575\n",
       "                 K562       68575\n",
       "                 HepG2      68575\n",
       "                 HCT116     68575\n",
       "Zim3    InHouse  MCF7       42104\n",
       "                 K562       42104\n",
       "                 HepG2      42104\n",
       "                 HCT116     42104\n",
       "                 GM12878    42104\n",
       "                 A549       42104\n",
       "                 Panc1      42104\n",
       "Kox1    InHouse  Panc1      42104\n",
       "                 MCF7       42104\n",
       "                 K562       42104\n",
       "                 HepG2      42104\n",
       "                 HCT116     42104\n",
       "                 GM12878    42104\n",
       "                 A549       42104\n",
       "        Gilbert  GM12878    18509\n",
       "                 Panc1      18509\n",
       "                 MCF7       18509\n",
       "                 K562       18509\n",
       "                 HepG2      18509\n",
       "                 HCT116     18509\n",
       "                 A549       18509\n",
       "dtype: int64"
      ]
     },
     "execution_count": 16,
     "metadata": {},
     "output_type": "execute_result"
    }
   ],
   "source": [
    "combinedDataATAC[['Domain', 'DataSet', 'ATACseq']].value_counts()"
   ]
  },
  {
   "cell_type": "code",
   "execution_count": 17,
   "id": "b6b7cb29",
   "metadata": {},
   "outputs": [
    {
     "data": {
      "text/html": [
       "<div>\n",
       "<style scoped>\n",
       "    .dataframe tbody tr th:only-of-type {\n",
       "        vertical-align: middle;\n",
       "    }\n",
       "\n",
       "    .dataframe tbody tr th {\n",
       "        vertical-align: top;\n",
       "    }\n",
       "\n",
       "    .dataframe thead th {\n",
       "        text-align: right;\n",
       "    }\n",
       "</style>\n",
       "<table border=\"1\" class=\"dataframe\">\n",
       "  <thead>\n",
       "    <tr style=\"text-align: right;\">\n",
       "      <th></th>\n",
       "      <th>Target Gene Symbol</th>\n",
       "      <th>chromosome</th>\n",
       "      <th>sgRNA Context Sequence</th>\n",
       "      <th>Domain</th>\n",
       "      <th>DataSet</th>\n",
       "      <th>overlap with peak</th>\n",
       "      <th>ATACseq</th>\n",
       "      <th>doubleZscore</th>\n",
       "    </tr>\n",
       "  </thead>\n",
       "  <tbody>\n",
       "    <tr>\n",
       "      <th>0</th>\n",
       "      <td>COPS3</td>\n",
       "      <td>chr17</td>\n",
       "      <td>AAAAAAAAAAAAAGCCGTGTGAGCTGGCGG</td>\n",
       "      <td>Kox1</td>\n",
       "      <td>InHouse</td>\n",
       "      <td>1</td>\n",
       "      <td>K562</td>\n",
       "      <td>0.261777</td>\n",
       "    </tr>\n",
       "    <tr>\n",
       "      <th>1</th>\n",
       "      <td>COPS3</td>\n",
       "      <td>chr17</td>\n",
       "      <td>AAAAAAAAAAAAAGCCGTGTGAGCTGGCGG</td>\n",
       "      <td>Kox1</td>\n",
       "      <td>InHouse</td>\n",
       "      <td>0</td>\n",
       "      <td>HCT116</td>\n",
       "      <td>0.261777</td>\n",
       "    </tr>\n",
       "    <tr>\n",
       "      <th>2</th>\n",
       "      <td>COPS3</td>\n",
       "      <td>chr17</td>\n",
       "      <td>AAAAAAAAAAAAAGCCGTGTGAGCTGGCGG</td>\n",
       "      <td>Kox1</td>\n",
       "      <td>InHouse</td>\n",
       "      <td>1</td>\n",
       "      <td>A549</td>\n",
       "      <td>0.261777</td>\n",
       "    </tr>\n",
       "  </tbody>\n",
       "</table>\n",
       "</div>"
      ],
      "text/plain": [
       "  Target Gene Symbol chromosome          sgRNA Context Sequence Domain  \\\n",
       "0              COPS3      chr17  AAAAAAAAAAAAAGCCGTGTGAGCTGGCGG   Kox1   \n",
       "1              COPS3      chr17  AAAAAAAAAAAAAGCCGTGTGAGCTGGCGG   Kox1   \n",
       "2              COPS3      chr17  AAAAAAAAAAAAAGCCGTGTGAGCTGGCGG   Kox1   \n",
       "\n",
       "   DataSet  overlap with peak ATACseq  doubleZscore  \n",
       "0  InHouse                  1    K562      0.261777  \n",
       "1  InHouse                  0  HCT116      0.261777  \n",
       "2  InHouse                  1    A549      0.261777  "
      ]
     },
     "execution_count": 17,
     "metadata": {},
     "output_type": "execute_result"
    }
   ],
   "source": [
    "combinedDataATAC.head(3)"
   ]
  },
  {
   "cell_type": "code",
   "execution_count": 18,
   "id": "9a438d14",
   "metadata": {},
   "outputs": [],
   "source": [
    "atacPath = '../Data/CleanedScaledData/ATAC/'\n",
    "combinedDataATAC.to_csv(atacPath+'ATACwithScaledData.csv', index = False)"
   ]
  },
  {
   "cell_type": "code",
   "execution_count": 19,
   "id": "59a24a22",
   "metadata": {},
   "outputs": [
    {
     "name": "stderr",
     "output_type": "stream",
     "text": [
      "  0%|                                                                                                                                                              | 0/7 [00:00<?, ?it/s]\n",
      "  0%|                                                                                                                                                              | 0/3 [00:00<?, ?it/s]\u001b[A\n",
      "\n",
      "  0%|                                                                                                                                                              | 0/2 [00:00<?, ?it/s]\u001b[A\u001b[A"
     ]
    },
    {
     "name": "stdout",
     "output_type": "stream",
     "text": [
      "KDSR: Sample size in overlap or non-overlap < 10\n",
      "BRIX1: Sample size in overlap or non-overlap < 10\n",
      "CEBPE: Sample size in overlap or non-overlap < 10\n",
      "ATIC: Sample size in overlap or non-overlap < 10\n"
     ]
    },
    {
     "name": "stderr",
     "output_type": "stream",
     "text": [
      "\n",
      "\n",
      " 50%|███████████████████████████████████████████████████████████████████████████                                                                           | 1/2 [00:00<00:00,  1.22it/s]\u001b[A\u001b[A"
     ]
    },
    {
     "name": "stdout",
     "output_type": "stream",
     "text": [
      "KDSR: Sample size in overlap or non-overlap < 10\n",
      "BRIX1: Sample size in overlap or non-overlap < 10\n",
      "CEBPE: Sample size in overlap or non-overlap < 10\n",
      "ATIC: Sample size in overlap or non-overlap < 10\n"
     ]
    },
    {
     "name": "stderr",
     "output_type": "stream",
     "text": [
      "\n",
      "\n",
      "100%|██████████████████████████████████████████████████████████████████████████████████████████████████████████████████████████████████████████████████████| 2/2 [00:01<00:00,  1.22it/s]\u001b[A\u001b[A\n",
      "\n",
      " 33%|██████████████████████████████████████████████████                                                                                                    | 1/3 [00:01<00:03,  1.65s/it]\u001b[A\n",
      "\n",
      "  0%|                                                                                                                                                              | 0/2 [00:00<?, ?it/s]\u001b[A\u001b[A"
     ]
    },
    {
     "name": "stdout",
     "output_type": "stream",
     "text": [
      "CARF: Sample size in overlap or non-overlap < 10\n",
      "COPB2: Sample size in overlap or non-overlap < 10\n",
      "CWF19L2: Sample size in overlap or non-overlap < 10\n",
      "DBR1: Sample size in overlap or non-overlap < 10\n",
      "DDX21: Sample size in overlap or non-overlap < 10\n",
      "EIF3A: Sample size in overlap or non-overlap < 10\n",
      "EIF3M: Sample size in overlap or non-overlap < 10\n",
      "FBL: Sample size in overlap or non-overlap < 10\n",
      "LEO1: Sample size in overlap or non-overlap < 10\n",
      "MDN1: Sample size in overlap or non-overlap < 10\n",
      "MED18: Sample size in overlap or non-overlap < 10\n",
      "MRPS35: Sample size in overlap or non-overlap < 10\n",
      "MYBL2: Sample size in overlap or non-overlap < 10\n",
      "NIP7: Sample size in overlap or non-overlap < 10\n",
      "NLE1: Sample size in overlap or non-overlap < 10\n",
      "POLR1B: Sample size in overlap or non-overlap < 10\n",
      "SCFD1: Sample size in overlap or non-overlap < 10\n",
      "SNW1: Sample size in overlap or non-overlap < 10\n",
      "STAT5B: Sample size in overlap or non-overlap < 10\n",
      "SUPV3L1: Sample size in overlap or non-overlap < 10\n"
     ]
    },
    {
     "name": "stderr",
     "output_type": "stream",
     "text": [
      "\n",
      "\n",
      " 50%|███████████████████████████████████████████████████████████████████████████                                                                           | 1/2 [00:01<00:01,  1.96s/it]\u001b[A\u001b[A"
     ]
    },
    {
     "name": "stdout",
     "output_type": "stream",
     "text": [
      "VPS54: Sample size in overlap or non-overlap < 10\n"
     ]
    },
    {
     "name": "stderr",
     "output_type": "stream",
     "text": [
      "\n",
      "\n",
      "100%|██████████████████████████████████████████████████████████████████████████████████████████████████████████████████████████████████████████████████████| 2/2 [00:02<00:00,  1.07s/it]\u001b[A\u001b[A\n",
      "\n",
      " 67%|████████████████████████████████████████████████████████████████████████████████████████████████████                                                  | 2/3 [00:03<00:01,  1.95s/it]\u001b[A\n",
      "\n",
      "  0%|                                                                                                                                                              | 0/2 [00:00<?, ?it/s]\u001b[A\u001b[A\n",
      "\n",
      " 50%|███████████████████████████████████████████████████████████████████████████                                                                           | 1/2 [00:00<00:00,  3.51it/s]\u001b[A\u001b[A\n",
      "\n",
      "100%|██████████████████████████████████████████████████████████████████████████████████████████████████████████████████████████████████████████████████████| 2/2 [00:00<00:00,  4.21it/s]\u001b[A\u001b[A\n",
      "\n",
      "100%|██████████████████████████████████████████████████████████████████████████████████████████████████████████████████████████████████████████████████████| 3/3 [00:04<00:00,  1.43s/it]\u001b[A\n",
      " 14%|█████████████████████▍                                                                                                                                | 1/7 [00:04<00:25,  4.29s/it]\n",
      "  0%|                                                                                                                                                              | 0/3 [00:00<?, ?it/s]\u001b[A\n",
      "\n",
      "  0%|                                                                                                                                                              | 0/2 [00:00<?, ?it/s]\u001b[A\u001b[A"
     ]
    },
    {
     "name": "stdout",
     "output_type": "stream",
     "text": [
      "KDSR: Sample size in overlap or non-overlap < 10\n",
      "CEBPE: Sample size in overlap or non-overlap < 10\n",
      "ATIC: Sample size in overlap or non-overlap < 10\n"
     ]
    },
    {
     "name": "stderr",
     "output_type": "stream",
     "text": [
      "\n",
      "\n",
      " 50%|███████████████████████████████████████████████████████████████████████████                                                                           | 1/2 [00:00<00:00,  1.22it/s]\u001b[A\u001b[A"
     ]
    },
    {
     "name": "stdout",
     "output_type": "stream",
     "text": [
      "KDSR: Sample size in overlap or non-overlap < 10\n",
      "CEBPE: Sample size in overlap or non-overlap < 10\n",
      "ATIC: Sample size in overlap or non-overlap < 10\n"
     ]
    },
    {
     "name": "stderr",
     "output_type": "stream",
     "text": [
      "\n",
      "\n",
      "100%|██████████████████████████████████████████████████████████████████████████████████████████████████████████████████████████████████████████████████████| 2/2 [00:01<00:00,  1.27it/s]\u001b[A\u001b[A\n",
      "\n",
      " 33%|██████████████████████████████████████████████████                                                                                                    | 1/3 [00:01<00:03,  1.58s/it]\u001b[A\n",
      "\n",
      "  0%|                                                                                                                                                              | 0/2 [00:00<?, ?it/s]\u001b[A\u001b[A"
     ]
    },
    {
     "name": "stdout",
     "output_type": "stream",
     "text": [
      "DBR1: Sample size in overlap or non-overlap < 10\n",
      "DDX21: Sample size in overlap or non-overlap < 10\n",
      "FDPS: Sample size in overlap or non-overlap < 10\n",
      "LEO1: Sample size in overlap or non-overlap < 10\n",
      "MRPL35: Sample size in overlap or non-overlap < 10\n",
      "MRPS35: Sample size in overlap or non-overlap < 10\n",
      "NIP7: Sample size in overlap or non-overlap < 10\n",
      "NLE1: Sample size in overlap or non-overlap < 10\n",
      "SNRNP35: Sample size in overlap or non-overlap < 10\n",
      "SNW1: Sample size in overlap or non-overlap < 10\n"
     ]
    },
    {
     "name": "stderr",
     "output_type": "stream",
     "text": [
      "\n",
      "\n",
      " 50%|███████████████████████████████████████████████████████████████████████████                                                                           | 1/2 [00:01<00:01,  1.94s/it]\u001b[A\u001b[A\n",
      "\n",
      "100%|██████████████████████████████████████████████████████████████████████████████████████████████████████████████████████████████████████████████████████| 2/2 [00:02<00:00,  1.07s/it]\u001b[A\u001b[A\n",
      "\n",
      " 67%|████████████████████████████████████████████████████████████████████████████████████████████████████                                                  | 2/3 [00:03<00:01,  1.91s/it]\u001b[A\n",
      "\n",
      "  0%|                                                                                                                                                              | 0/2 [00:00<?, ?it/s]\u001b[A\u001b[A\n",
      "\n",
      " 50%|███████████████████████████████████████████████████████████████████████████                                                                           | 1/2 [00:00<00:00,  3.52it/s]\u001b[A\u001b[A\n",
      "\n",
      "100%|██████████████████████████████████████████████████████████████████████████████████████████████████████████████████████████████████████████████████████| 2/2 [00:00<00:00,  4.21it/s]\u001b[A\u001b[A\n",
      "\n",
      "100%|██████████████████████████████████████████████████████████████████████████████████████████████████████████████████████████████████████████████████████| 3/3 [00:04<00:00,  1.40s/it]\u001b[A\n",
      " 29%|██████████████████████████████████████████▊                                                                                                           | 2/7 [00:08<00:21,  4.24s/it]\n",
      "  0%|                                                                                                                                                              | 0/3 [00:00<?, ?it/s]\u001b[A\n",
      "\n",
      "  0%|                                                                                                                                                              | 0/2 [00:00<?, ?it/s]\u001b[A\u001b[A"
     ]
    },
    {
     "name": "stdout",
     "output_type": "stream",
     "text": [
      "SRSF2: Sample size in overlap or non-overlap < 10\n",
      "KDSR: Sample size in overlap or non-overlap < 10\n",
      "OGT: Sample size in overlap or non-overlap < 10\n",
      "CEBPE: Sample size in overlap or non-overlap < 10\n",
      "DNTTIP2: Sample size in overlap or non-overlap < 10\n",
      "ATIC: Sample size in overlap or non-overlap < 10\n"
     ]
    },
    {
     "name": "stderr",
     "output_type": "stream",
     "text": [
      "\n",
      "\n",
      " 50%|███████████████████████████████████████████████████████████████████████████                                                                           | 1/2 [00:00<00:00,  1.19it/s]\u001b[A\u001b[A"
     ]
    },
    {
     "name": "stdout",
     "output_type": "stream",
     "text": [
      "DYNLRB1: Sample size in overlap or non-overlap < 10\n",
      "VPS28: Sample size in overlap or non-overlap < 10\n",
      "SRSF2: Sample size in overlap or non-overlap < 10\n",
      "KDSR: Sample size in overlap or non-overlap < 10\n",
      "OGT: Sample size in overlap or non-overlap < 10\n",
      "CEBPE: Sample size in overlap or non-overlap < 10\n",
      "DNTTIP2: Sample size in overlap or non-overlap < 10\n",
      "ATIC: Sample size in overlap or non-overlap < 10\n"
     ]
    },
    {
     "name": "stderr",
     "output_type": "stream",
     "text": [
      "\n",
      "\n",
      "100%|██████████████████████████████████████████████████████████████████████████████████████████████████████████████████████████████████████████████████████| 2/2 [00:01<00:00,  1.24it/s]\u001b[A\u001b[A\n",
      "\n",
      " 33%|██████████████████████████████████████████████████                                                                                                    | 1/3 [00:01<00:03,  1.61s/it]\u001b[A"
     ]
    },
    {
     "name": "stdout",
     "output_type": "stream",
     "text": [
      "DYNLRB1: Sample size in overlap or non-overlap < 10\n",
      "VPS28: Sample size in overlap or non-overlap < 10\n"
     ]
    },
    {
     "name": "stderr",
     "output_type": "stream",
     "text": [
      "\n",
      "\n",
      "  0%|                                                                                                                                                              | 0/2 [00:00<?, ?it/s]\u001b[A\u001b[A"
     ]
    },
    {
     "name": "stdout",
     "output_type": "stream",
     "text": [
      "ATXN10: Sample size in overlap or non-overlap < 10\n",
      "CARF: Sample size in overlap or non-overlap < 10\n",
      "CLTC: Sample size in overlap or non-overlap < 10\n",
      "DBR1: Sample size in overlap or non-overlap < 10\n",
      "DDX21: Sample size in overlap or non-overlap < 10\n",
      "DNTTIP2: Sample size in overlap or non-overlap < 10\n",
      "EIF3M: Sample size in overlap or non-overlap < 10\n",
      "LEO1: Sample size in overlap or non-overlap < 10\n",
      "LSM2: Sample size in overlap or non-overlap < 10\n",
      "MCM6: Sample size in overlap or non-overlap < 10\n",
      "MDN1: Sample size in overlap or non-overlap < 10\n",
      "MIS18BP1: Sample size in overlap or non-overlap < 10\n",
      "MRPS25: Sample size in overlap or non-overlap < 10\n",
      "MRPS35: Sample size in overlap or non-overlap < 10\n",
      "MYBL2: Sample size in overlap or non-overlap < 10\n",
      "NBAS: Sample size in overlap or non-overlap < 10\n",
      "NIP7: Sample size in overlap or non-overlap < 10\n",
      "NLE1: Sample size in overlap or non-overlap < 10\n",
      "NOP58: Sample size in overlap or non-overlap < 10\n",
      "POLG2: Sample size in overlap or non-overlap < 10\n",
      "POLR1B: Sample size in overlap or non-overlap < 10\n",
      "PRPF8: Sample size in overlap or non-overlap < 10\n",
      "PSMA4: Sample size in overlap or non-overlap < 10\n",
      "SNW1: Sample size in overlap or non-overlap < 10\n",
      "STAT5B: Sample size in overlap or non-overlap < 10\n",
      "TICRR: Sample size in overlap or non-overlap < 10\n",
      "VPS54: Sample size in overlap or non-overlap < 10\n"
     ]
    },
    {
     "name": "stderr",
     "output_type": "stream",
     "text": [
      "\n",
      "\n",
      " 50%|███████████████████████████████████████████████████████████████████████████                                                                           | 1/2 [00:01<00:01,  1.93s/it]\u001b[A\u001b[A"
     ]
    },
    {
     "name": "stdout",
     "output_type": "stream",
     "text": [
      "ZCCHC9: Sample size in overlap or non-overlap < 10\n"
     ]
    },
    {
     "name": "stderr",
     "output_type": "stream",
     "text": [
      "\n",
      "\n",
      "100%|██████████████████████████████████████████████████████████████████████████████████████████████████████████████████████████████████████████████████████| 2/2 [00:02<00:00,  1.06s/it]\u001b[A\u001b[A\n",
      "\n",
      " 67%|████████████████████████████████████████████████████████████████████████████████████████████████████                                                  | 2/3 [00:03<00:01,  1.92s/it]\u001b[A\n",
      "\n",
      "  0%|                                                                                                                                                              | 0/2 [00:00<?, ?it/s]\u001b[A\u001b[A\n",
      "\n",
      " 50%|███████████████████████████████████████████████████████████████████████████                                                                           | 1/2 [00:00<00:00,  3.26it/s]\u001b[A\u001b[A\n",
      "\n",
      "100%|██████████████████████████████████████████████████████████████████████████████████████████████████████████████████████████████████████████████████████| 2/2 [00:00<00:00,  3.94it/s]\u001b[A\u001b[A\n",
      "\n",
      "100%|██████████████████████████████████████████████████████████████████████████████████████████████████████████████████████████████████████████████████████| 3/3 [00:04<00:00,  1.42s/it]\u001b[A\n",
      " 43%|████████████████████████████████████████████████████████████████▎                                                                                     | 3/7 [00:12<00:17,  4.25s/it]\n",
      "  0%|                                                                                                                                                              | 0/3 [00:00<?, ?it/s]\u001b[A\n",
      "\n",
      "  0%|                                                                                                                                                              | 0/2 [00:00<?, ?it/s]\u001b[A\u001b[A"
     ]
    },
    {
     "name": "stdout",
     "output_type": "stream",
     "text": [
      "CEBPE: Sample size in overlap or non-overlap < 10\n"
     ]
    },
    {
     "name": "stderr",
     "output_type": "stream",
     "text": [
      "\n",
      "\n",
      " 50%|███████████████████████████████████████████████████████████████████████████                                                                           | 1/2 [00:00<00:00,  1.19it/s]\u001b[A\u001b[A"
     ]
    },
    {
     "name": "stdout",
     "output_type": "stream",
     "text": [
      "MROH6: Sample size in overlap or non-overlap < 10\n",
      "CEBPE: Sample size in overlap or non-overlap < 10\n"
     ]
    },
    {
     "name": "stderr",
     "output_type": "stream",
     "text": [
      "\n",
      "\n",
      "100%|██████████████████████████████████████████████████████████████████████████████████████████████████████████████████████████████████████████████████████| 2/2 [00:01<00:00,  1.20it/s]\u001b[A\u001b[A\n",
      "\n",
      " 33%|██████████████████████████████████████████████████                                                                                                    | 1/3 [00:01<00:03,  1.67s/it]\u001b[A"
     ]
    },
    {
     "name": "stdout",
     "output_type": "stream",
     "text": [
      "MROH6: Sample size in overlap or non-overlap < 10\n"
     ]
    },
    {
     "name": "stderr",
     "output_type": "stream",
     "text": [
      "\n",
      "\n",
      "  0%|                                                                                                                                                              | 0/2 [00:00<?, ?it/s]\u001b[A\u001b[A"
     ]
    },
    {
     "name": "stdout",
     "output_type": "stream",
     "text": [
      "DBR1: Sample size in overlap or non-overlap < 10\n",
      "DDX21: Sample size in overlap or non-overlap < 10\n",
      "MRPS35: Sample size in overlap or non-overlap < 10\n",
      "NIP7: Sample size in overlap or non-overlap < 10\n",
      "NLE1: Sample size in overlap or non-overlap < 10\n",
      "SNRNP35: Sample size in overlap or non-overlap < 10\n",
      "SNW1: Sample size in overlap or non-overlap < 10\n"
     ]
    },
    {
     "name": "stderr",
     "output_type": "stream",
     "text": [
      "\n",
      "\n",
      " 50%|███████████████████████████████████████████████████████████████████████████                                                                           | 1/2 [00:02<00:02,  2.11s/it]\u001b[A\u001b[A\n",
      "\n",
      "100%|██████████████████████████████████████████████████████████████████████████████████████████████████████████████████████████████████████████████████████| 2/2 [00:02<00:00,  1.15s/it]\u001b[A\u001b[A\n",
      "\n",
      " 67%|████████████████████████████████████████████████████████████████████████████████████████████████████                                                  | 2/3 [00:03<00:02,  2.05s/it]\u001b[A\n",
      "\n",
      "  0%|                                                                                                                                                              | 0/2 [00:00<?, ?it/s]\u001b[A\u001b[A\n",
      "\n",
      " 50%|███████████████████████████████████████████████████████████████████████████                                                                           | 1/2 [00:00<00:00,  2.99it/s]\u001b[A\u001b[A\n",
      "\n",
      "100%|██████████████████████████████████████████████████████████████████████████████████████████████████████████████████████████████████████████████████████| 2/2 [00:00<00:00,  3.79it/s]\u001b[A\u001b[A\n",
      "\n",
      "100%|██████████████████████████████████████████████████████████████████████████████████████████████████████████████████████████████████████████████████████| 3/3 [00:04<00:00,  1.51s/it]\u001b[A\n",
      " 57%|█████████████████████████████████████████████████████████████████████████████████████▋                                                                | 4/7 [00:17<00:13,  4.36s/it]\n",
      "  0%|                                                                                                                                                              | 0/3 [00:00<?, ?it/s]\u001b[A\n",
      "\n",
      "  0%|                                                                                                                                                              | 0/2 [00:00<?, ?it/s]\u001b[A\u001b[A"
     ]
    },
    {
     "name": "stdout",
     "output_type": "stream",
     "text": [
      "KDSR: Sample size in overlap or non-overlap < 10\n",
      "CEBPE: Sample size in overlap or non-overlap < 10\n"
     ]
    },
    {
     "name": "stderr",
     "output_type": "stream",
     "text": [
      "\n",
      "\n",
      " 50%|███████████████████████████████████████████████████████████████████████████                                                                           | 1/2 [00:00<00:00,  1.15it/s]\u001b[A\u001b[A"
     ]
    },
    {
     "name": "stdout",
     "output_type": "stream",
     "text": [
      "KDSR: Sample size in overlap or non-overlap < 10\n",
      "CEBPE: Sample size in overlap or non-overlap < 10\n"
     ]
    },
    {
     "name": "stderr",
     "output_type": "stream",
     "text": [
      "\n",
      "\n",
      "100%|██████████████████████████████████████████████████████████████████████████████████████████████████████████████████████████████████████████████████████| 2/2 [00:01<00:00,  1.17it/s]\u001b[A\u001b[A\n",
      "\n",
      " 33%|██████████████████████████████████████████████████                                                                                                    | 1/3 [00:01<00:03,  1.72s/it]\u001b[A\n",
      "\n",
      "  0%|                                                                                                                                                              | 0/2 [00:00<?, ?it/s]\u001b[A\u001b[A"
     ]
    },
    {
     "name": "stdout",
     "output_type": "stream",
     "text": [
      "DBR1: Sample size in overlap or non-overlap < 10\n",
      "DDX21: Sample size in overlap or non-overlap < 10\n",
      "MRPS35: Sample size in overlap or non-overlap < 10\n",
      "NIP7: Sample size in overlap or non-overlap < 10\n",
      "NLE1: Sample size in overlap or non-overlap < 10\n"
     ]
    },
    {
     "name": "stderr",
     "output_type": "stream",
     "text": [
      "\n",
      "\n",
      " 50%|███████████████████████████████████████████████████████████████████████████                                                                           | 1/2 [00:02<00:02,  2.03s/it]\u001b[A\u001b[A"
     ]
    },
    {
     "name": "stdout",
     "output_type": "stream",
     "text": [
      "STAT5B: Sample size in overlap or non-overlap < 10\n"
     ]
    },
    {
     "name": "stderr",
     "output_type": "stream",
     "text": [
      "\n",
      "\n",
      "100%|██████████████████████████████████████████████████████████████████████████████████████████████████████████████████████████████████████████████████████| 2/2 [00:02<00:00,  1.11s/it]\u001b[A\u001b[A\n",
      "\n",
      " 67%|████████████████████████████████████████████████████████████████████████████████████████████████████                                                  | 2/3 [00:03<00:02,  2.02s/it]\u001b[A\n",
      "\n",
      "  0%|                                                                                                                                                              | 0/2 [00:00<?, ?it/s]\u001b[A\u001b[A\n",
      "\n",
      " 50%|███████████████████████████████████████████████████████████████████████████                                                                           | 1/2 [00:00<00:00,  3.30it/s]\u001b[A\u001b[A\n",
      "\n",
      "100%|██████████████████████████████████████████████████████████████████████████████████████████████████████████████████████████████████████████████████████| 2/2 [00:00<00:00,  4.00it/s]\u001b[A\u001b[A\n",
      "\n",
      "100%|██████████████████████████████████████████████████████████████████████████████████████████████████████████████████████████████████████████████████████| 3/3 [00:04<00:00,  1.49s/it]\u001b[A\n",
      " 71%|███████████████████████████████████████████████████████████████████████████████████████████████████████████▏                                          | 5/7 [00:21<00:08,  4.40s/it]\n",
      "  0%|                                                                                                                                                              | 0/3 [00:00<?, ?it/s]\u001b[A\n",
      "\n",
      "  0%|                                                                                                                                                              | 0/2 [00:00<?, ?it/s]\u001b[A\u001b[A\n",
      "\n",
      " 50%|███████████████████████████████████████████████████████████████████████████                                                                           | 1/2 [00:00<00:00,  1.22it/s]\u001b[A\u001b[A\n",
      "\n",
      "100%|██████████████████████████████████████████████████████████████████████████████████████████████████████████████████████████████████████████████████████| 2/2 [00:01<00:00,  1.22it/s]\u001b[A\u001b[A\n",
      "\n",
      " 33%|██████████████████████████████████████████████████                                                                                                    | 1/3 [00:01<00:03,  1.64s/it]\u001b[A\n",
      "\n",
      "  0%|                                                                                                                                                              | 0/2 [00:00<?, ?it/s]\u001b[A\u001b[A"
     ]
    },
    {
     "name": "stdout",
     "output_type": "stream",
     "text": [
      "CARF: Sample size in overlap or non-overlap < 10\n",
      "DDX21: Sample size in overlap or non-overlap < 10\n",
      "LEO1: Sample size in overlap or non-overlap < 10\n",
      "MRPS35: Sample size in overlap or non-overlap < 10\n",
      "NIP7: Sample size in overlap or non-overlap < 10\n"
     ]
    },
    {
     "name": "stderr",
     "output_type": "stream",
     "text": [
      "\n",
      "\n",
      " 50%|███████████████████████████████████████████████████████████████████████████                                                                           | 1/2 [00:01<00:01,  2.00s/it]\u001b[A\u001b[A\n",
      "\n",
      "100%|██████████████████████████████████████████████████████████████████████████████████████████████████████████████████████████████████████████████████████| 2/2 [00:02<00:00,  1.10s/it]\u001b[A\u001b[A\n",
      "\n",
      " 67%|████████████████████████████████████████████████████████████████████████████████████████████████████                                                  | 2/3 [00:03<00:01,  1.97s/it]\u001b[A\n",
      "\n",
      "  0%|                                                                                                                                                              | 0/2 [00:00<?, ?it/s]\u001b[A\u001b[A\n",
      "\n",
      " 50%|███████████████████████████████████████████████████████████████████████████                                                                           | 1/2 [00:00<00:00,  3.29it/s]\u001b[A\u001b[A\n",
      "\n",
      "100%|██████████████████████████████████████████████████████████████████████████████████████████████████████████████████████████████████████████████████████| 2/2 [00:00<00:00,  3.97it/s]\u001b[A\u001b[A\n",
      "\n",
      "100%|██████████████████████████████████████████████████████████████████████████████████████████████████████████████████████████████████████████████████████| 3/3 [00:04<00:00,  1.45s/it]\u001b[A\n",
      " 86%|████████████████████████████████████████████████████████████████████████████████████████████████████████████████████████████████▌                     | 6/7 [00:26<00:04,  4.38s/it]\n",
      "  0%|                                                                                                                                                              | 0/3 [00:00<?, ?it/s]\u001b[A\n",
      "\n",
      "  0%|                                                                                                                                                              | 0/2 [00:00<?, ?it/s]\u001b[A\u001b[A"
     ]
    },
    {
     "name": "stdout",
     "output_type": "stream",
     "text": [
      "KDSR: Sample size in overlap or non-overlap < 10\n",
      "ATIC: Sample size in overlap or non-overlap < 10\n",
      "UPF2: Sample size in overlap or non-overlap < 10\n"
     ]
    },
    {
     "name": "stderr",
     "output_type": "stream",
     "text": [
      "\n",
      "\n",
      " 50%|███████████████████████████████████████████████████████████████████████████                                                                           | 1/2 [00:00<00:00,  1.16it/s]\u001b[A\u001b[A"
     ]
    },
    {
     "name": "stdout",
     "output_type": "stream",
     "text": [
      "KDSR: Sample size in overlap or non-overlap < 10\n",
      "ATIC: Sample size in overlap or non-overlap < 10\n",
      "UPF2: Sample size in overlap or non-overlap < 10\n"
     ]
    },
    {
     "name": "stderr",
     "output_type": "stream",
     "text": [
      "\n",
      "\n",
      "100%|██████████████████████████████████████████████████████████████████████████████████████████████████████████████████████████████████████████████████████| 2/2 [00:01<00:00,  1.18it/s]\u001b[A\u001b[A\n",
      "\n",
      " 33%|██████████████████████████████████████████████████                                                                                                    | 1/3 [00:01<00:03,  1.70s/it]\u001b[A\n",
      "\n",
      "  0%|                                                                                                                                                              | 0/2 [00:00<?, ?it/s]\u001b[A\u001b[A"
     ]
    },
    {
     "name": "stdout",
     "output_type": "stream",
     "text": [
      "CARF: Sample size in overlap or non-overlap < 10\n",
      "COG8: Sample size in overlap or non-overlap < 10\n",
      "CRNKL1: Sample size in overlap or non-overlap < 10\n",
      "DBR1: Sample size in overlap or non-overlap < 10\n",
      "DDX21: Sample size in overlap or non-overlap < 10\n",
      "EIF3M: Sample size in overlap or non-overlap < 10\n",
      "LEO1: Sample size in overlap or non-overlap < 10\n",
      "MDN1: Sample size in overlap or non-overlap < 10\n",
      "MRPS35: Sample size in overlap or non-overlap < 10\n",
      "MYBL2: Sample size in overlap or non-overlap < 10\n",
      "NIP7: Sample size in overlap or non-overlap < 10\n",
      "NLE1: Sample size in overlap or non-overlap < 10\n",
      "POLR1B: Sample size in overlap or non-overlap < 10\n",
      "RAD51: Sample size in overlap or non-overlap < 10\n",
      "RPF2: Sample size in overlap or non-overlap < 10\n",
      "SLC35A1: Sample size in overlap or non-overlap < 10\n",
      "SNRNP35: Sample size in overlap or non-overlap < 10\n",
      "SNW1: Sample size in overlap or non-overlap < 10\n",
      "STAT5B: Sample size in overlap or non-overlap < 10\n"
     ]
    },
    {
     "name": "stderr",
     "output_type": "stream",
     "text": [
      "\n",
      "\n",
      " 50%|███████████████████████████████████████████████████████████████████████████                                                                           | 1/2 [00:02<00:02,  2.07s/it]\u001b[A\u001b[A"
     ]
    },
    {
     "name": "stdout",
     "output_type": "stream",
     "text": [
      "UTP6: Sample size in overlap or non-overlap < 10\n"
     ]
    },
    {
     "name": "stderr",
     "output_type": "stream",
     "text": [
      "\n",
      "\n",
      "100%|██████████████████████████████████████████████████████████████████████████████████████████████████████████████████████████████████████████████████████| 2/2 [00:02<00:00,  1.13s/it]\u001b[A\u001b[A\n",
      "\n",
      " 67%|████████████████████████████████████████████████████████████████████████████████████████████████████                                                  | 2/3 [00:03<00:02,  2.04s/it]\u001b[A\n",
      "\n",
      "  0%|                                                                                                                                                              | 0/2 [00:00<?, ?it/s]\u001b[A\u001b[A\n",
      "\n",
      " 50%|███████████████████████████████████████████████████████████████████████████                                                                           | 1/2 [00:00<00:00,  3.32it/s]\u001b[A\u001b[A\n",
      "\n",
      "100%|██████████████████████████████████████████████████████████████████████████████████████████████████████████████████████████████████████████████████████| 2/2 [00:00<00:00,  4.02it/s]\u001b[A\u001b[A\n",
      "\n",
      "100%|██████████████████████████████████████████████████████████████████████████████████████████████████████████████████████████████████████████████████████| 3/3 [00:04<00:00,  1.49s/it]\u001b[A\n",
      "100%|██████████████████████████████████████████████████████████████████████████████████████████████████████████████████████████████████████████████████████| 7/7 [00:30<00:00,  4.37s/it]\n"
     ]
    }
   ],
   "source": [
    "results_df = perform_mannwhitney_tests(combinedDataATAC, 'Target Gene Symbol', 'doubleZscore')\n"
   ]
  },
  {
   "cell_type": "code",
   "execution_count": 21,
   "id": "ca13ddde",
   "metadata": {},
   "outputs": [],
   "source": [
    "pathOut = '../Data/CleanedScaledData/ATAC/'\n",
    "results_df.to_csv(pathOut + 'scaledATAC_Pval', index = False)"
   ]
  },
  {
   "cell_type": "code",
   "execution_count": 22,
   "id": "e957ca50",
   "metadata": {},
   "outputs": [],
   "source": [
    "def categorize_pval(df, col= '-log10(pval)'):\n",
    "    new_df = df.copy()\n",
    "    conditions  = [ new_df[col] < 1, \n",
    "                   (new_df[col] >= 1) & (new_df[col]< 2), \n",
    "                   (new_df[col] >= 2) & (new_df[col]< 3), \n",
    "                   (new_df[col] >= 3) & (new_df[col]< 4),\n",
    "                  new_df[col] >= 4]\n",
    "    choices     = [ \"< 1\", '[1,2)', '[2,3)', '[3,4)', '>= 4' ]\n",
    "    new_df[\"-log10(pval) bins\"] = np.select(conditions, choices, default=np.nan)\n",
    "    return new_df\n",
    "def chip_graph(df, title, save = False):\n",
    "    choices     = [ \"< 1\", '[1,2)', '[2,3)', '[3,4)', '>= 4' ]\n",
    "    plt.figure(figsize=(7, 5))\n",
    "    ax = sns.barplot(data=df, x='-log10(pval) bins', \n",
    "                y = 'counts', hue=\"ATACseq\", order = choices)\n",
    "    sns.move_legend(ax, \"upper left\", bbox_to_anchor=(1, 1),title='ATACseq Cell Line', fontsize=20)\n",
    "    plt.setp(ax.get_legend().get_title(), fontsize='20')\n",
    "\n",
    "    ax.set_title(title, fontsize=25)\n",
    "\n",
    "    plt.xlabel('-log10(p-value) Bins',fontsize=20)\n",
    "    sns.despine()\n",
    "    plt.ylabel('Counts',fontsize=20)\n",
    "    plt.tick_params(axis='both', which='major', labelsize=20)\n",
    "#     if save == True:\n",
    "#         #atac_graph_out = '/Users/fzheng/Library/CloudStorage/GoogleDrive-fzheng@broadinstitute.org/Shared drives/GPP Cloud /R&D/People/Fengyi/rule_set/crispri/figure/2023/CRISPRi/ATACseq/'\n",
    "#         plt.savefig(atac_graph_out + title + '.png',\n",
    "#                    dpi = 1000, bbox_inches='tight')"
   ]
  },
  {
   "cell_type": "code",
   "execution_count": 23,
   "id": "6bdb4012",
   "metadata": {},
   "outputs": [],
   "source": [
    "results_df['DataSetID'] = results_df[['DataSet', 'Domain']].agg(\"_\".join, axis=1)"
   ]
  },
  {
   "cell_type": "code",
   "execution_count": 24,
   "id": "9f5c38d1",
   "metadata": {},
   "outputs": [
    {
     "data": {
      "image/png": "[encoded data removed]",
      "text/plain": [
       "<Figure size 504x360 with 1 Axes>"
      ]
     },
     "metadata": {
      "needs_background": "light"
     },
     "output_type": "display_data"
    },
    {
     "data": {
      "image/png": "[encoded data removed]",
      "text/plain": [
       "<Figure size 504x360 with 1 Axes>"
      ]
     },
     "metadata": {
      "needs_background": "light"
     },
     "output_type": "display_data"
    },
    {
     "data": {
      "image/png": "[encoded data removed]",
      "text/plain": [
       "<Figure size 504x360 with 1 Axes>"
      ]
     },
     "metadata": {
      "needs_background": "light"
     },
     "output_type": "display_data"
    },
    {
     "data": {
      "image/png": "[encoded data removed]",
      "text/plain": [
       "<Figure size 504x360 with 1 Axes>"
      ]
     },
     "metadata": {
      "needs_background": "light"
     },
     "output_type": "display_data"
    }
   ],
   "source": [
    "allDataCount = pd.DataFrame()\n",
    "for dataset in results_df.DataSetID.unique():\n",
    "    select_pval = results_df[results_df.DataSetID == dataset].copy()\n",
    "    #select_pval = select_pval.groupby('gene').filter(lambda g: len(g) == 7)\n",
    "    select_pval['-log10(pval)'] = -np.log10(select_pval['pval'])\n",
    "    select_pval = categorize_pval(select_pval)\n",
    "    select_count = pd.DataFrame(select_pval.groupby(['-log10(pval) bins', 'ATACseq']).size().reset_index(name='counts'))\n",
    "    select_count['DataSetID'] = dataset\n",
    "    allDataCount = pd.concat([allDataCount, select_count])\n",
    "    chip_graph(select_count, dataset)"
   ]
  },
  {
   "cell_type": "code",
   "execution_count": 25,
   "id": "745485b8",
   "metadata": {},
   "outputs": [
    {
     "data": {
      "image/png": "[encoded data removed]",
      "text/plain": [
       "<Figure size 360x288 with 1 Axes>"
      ]
     },
     "metadata": {
      "needs_background": "light"
     },
     "output_type": "display_data"
    },
    {
     "data": {
      "image/png": "[encoded data removed]",
      "text/plain": [
       "<Figure size 360x288 with 1 Axes>"
      ]
     },
     "metadata": {
      "needs_background": "light"
     },
     "output_type": "display_data"
    },
    {
     "data": {
      "image/png": "[encoded data removed]",
      "text/plain": [
       "<Figure size 360x288 with 1 Axes>"
      ]
     },
     "metadata": {
      "needs_background": "light"
     },
     "output_type": "display_data"
    },
    {
     "data": {
      "image/png": "[encoded data removed]",
      "text/plain": [
       "<Figure size 360x288 with 1 Axes>"
      ]
     },
     "metadata": {
      "needs_background": "light"
     },
     "output_type": "display_data"
    }
   ],
   "source": [
    "for selectData in allDataCount['DataSetID'].unique():\n",
    "    select_count = allDataCount[allDataCount.DataSetID == selectData].copy()\n",
    "\n",
    "    grouped_df = select_count.groupby(['-log10(pval) bins', 'ATACseq'])['counts'].sum().unstack().fillna(0)\n",
    "    grouped_df = grouped_df[['A549',  'HCT116', 'K562', 'GM12878','HepG2', 'MCF7', 'Panc1']]\n",
    "    # Calculate percentages\n",
    "    grouped_df_percentage = grouped_df.transpose().divide(grouped_df.sum(axis=0), axis=0)\n",
    "    grouped_df_percentage = grouped_df_percentage[['< 1','[1,2)',  '[2,3)','[3,4)','>= 4']]\n",
    "    # Plotting\n",
    "    fig, ax = plt.subplots(figsize=(5, 4))\n",
    "\n",
    "    grouped_df_percentage.plot(kind='bar', stacked=True, ax=ax, width=0.6)\n",
    "\n",
    "    \n",
    "     # Add percentages to the bars and the total count\n",
    "    for i in range(grouped_df_percentage.shape[0]):\n",
    "        total = 0\n",
    "        totalCount = grouped_df.iloc[:, i].sum()  # Calculate the total count for each stack\n",
    "        # Add total count text on top of each stack\n",
    "        ax.text(i, 1.05, f'{int(totalCount)}', ha='center', va='bottom', fontsize=8, fontweight='light', color='black')\n",
    "\n",
    "    plt.ylabel('Proportion')\n",
    "    plt.xlabel('ATACseq Cell-line')\n",
    "    plt.title(selectData,pad =20)\n",
    "    plt.legend(title='-log10(pval) bin', bbox_to_anchor=(1.05, 1), loc='upper left')\n",
    "    sns.despine()\n",
    "    plt.tight_layout()\n",
    "    plt.show()"
   ]
  },
  {
   "cell_type": "code",
   "execution_count": null,
   "id": "fab3dd02",
   "metadata": {},
   "outputs": [],
   "source": []
  }
 ],
 "metadata": {
  "kernelspec": {
   "display_name": "Python 3 (ipykernel)",
   "language": "python",
   "name": "python3"
  },
  "language_info": {
   "codemirror_mode": {
    "name": "ipython",
    "version": 3
   },
   "file_extension": ".py",
   "mimetype": "text/x-python",
   "name": "python",
   "nbconvert_exporter": "python",
   "pygments_lexer": "ipython3",
   "version": "3.8.13"
  }
 },
 "nbformat": 4,
 "nbformat_minor": 5
}
