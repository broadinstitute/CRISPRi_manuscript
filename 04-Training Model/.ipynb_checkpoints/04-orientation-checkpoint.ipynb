{
 "cells": [
  {
   "cell_type": "code",
   "execution_count": 1,
   "id": "aa344fcc",
   "metadata": {},
   "outputs": [],
   "source": [
    "import pandas as pd\n",
    "from copy import deepcopy\n",
    "import numpy as np\n",
    "from scipy.stats import mannwhitneyu\n",
    "import matplotlib\n",
    "import matplotlib.pyplot as plt\n",
    "\n",
    "import seaborn as sns\n",
    "matplotlib.rcParams['pdf.fonttype'] = 42\n",
    "matplotlib.rcParams['ps.fonttype'] = 42"
   ]
  },
  {
   "cell_type": "code",
   "execution_count": 2,
   "id": "f100c4c0",
   "metadata": {},
   "outputs": [],
   "source": [
    "dataOut = '/Users/fzheng/Library/CloudStorage/GoogleDrive-fzheng@broadinstitute.org/Shared drives/GPP Cloud /R&D/People/Fengyi/rule_set/crispri/data/2024/Manuscript/CleanedScaledData/'\n",
    "GilbertRicinScaledData = pd.read_csv(dataOut+'GilbertRicinScaledData.csv')\n",
    "inHouseZim3ScaledData = pd.read_csv(dataOut+'inHouseZim3ScaledData.csv')\n",
    "inHouseKox1ScaledData = pd.read_csv(dataOut+'inHouseKox1ScaledData.csv')\n",
    "nunezScaledData = pd.read_csv(dataOut+'nunezScaledData.csv')\n",
    "combinedData = pd.concat([nunezScaledData, inHouseKox1ScaledData, inHouseZim3ScaledData, GilbertRicinScaledData])"
   ]
  },
  {
   "cell_type": "code",
   "execution_count": 3,
   "id": "70c3d3a2",
   "metadata": {},
   "outputs": [],
   "source": [
    "NunezCleanData = pd.read_csv('/Users/fzheng/Library/CloudStorage/GoogleDrive-fzheng@broadinstitute.org/Shared drives/GPP Cloud /R&D/People/Fengyi/rule_set/crispri/data/2024/Manuscript/Nunez/Nunez2020Cleaned2024_v1.csv')\n",
    "GilbertRicinCleanData = pd.read_csv('/Users/fzheng/Library/CloudStorage/GoogleDrive-fzheng@broadinstitute.org/Shared drives/GPP Cloud /R&D/People/Fengyi/rule_set/crispri/data/2024/Manuscript/Gilbert/Gilbert2014Cleaned2024_v1.csv')\n",
    "# In house CRISPRi Tiling\n",
    "path_out = '/Users/fzheng/Library/CloudStorage/GoogleDrive-fzheng@broadinstitute.org/Shared drives/GPP Cloud /R&D/People/Fengyi/rule_set/crispri/data/2023/tiling/processed_z_score/'\n",
    "annot_guide_lfcs_A549_Kox1 = pd.read_csv(path_out + 'A549_Kox1_zscore.csv')\n",
    "annot_guide_lfcs_A549_Kox1 = annot_guide_lfcs_A549_Kox1[annot_guide_lfcs_A549_Kox1.Category.isin(['Essential', 'Non-essential'])]\n",
    "\n",
    "annot_guide_lfcs_A549_Zim3 = pd.read_csv(path_out +  'A549_Zim3_zscore.csv')\n",
    "annot_guide_lfcs_A549_Zim3 = annot_guide_lfcs_A549_Zim3[annot_guide_lfcs_A549_Zim3.Category.isin(['Essential', 'Non-essential'])]\n",
    "\n",
    "annot_guide_lfcs_HCT116_Kox1 = pd.read_csv(path_out +  'HCT116_Kox1_zscore.csv')\n",
    "annot_guide_lfcs_HCT116_Kox1 = annot_guide_lfcs_HCT116_Kox1[annot_guide_lfcs_HCT116_Kox1.Category.isin(['Essential', 'Non-essential'])]\n",
    "\n",
    "annot_guide_lfcs_HCT116_Zim3 = pd.read_csv(path_out +  'HCT116_Zim3_zscore.csv')\n",
    "annot_guide_lfcs_HCT116_Zim3 = annot_guide_lfcs_HCT116_Zim3[annot_guide_lfcs_HCT116_Zim3.Category.isin(['Essential', 'Non-essential'])]\n",
    "\n",
    "\n",
    "\n",
    "annot_guide_lfcs_A549_Kox1['Domain'] = 'Kox1'\n",
    "annot_guide_lfcs_A549_Zim3['Domain'] = 'Zim3'\n",
    "annot_guide_lfcs_HCT116_Kox1['Domain'] = 'Kox1'\n",
    "annot_guide_lfcs_HCT116_Zim3['Domain'] = 'Zim3'\n",
    "\n",
    "InHouseCleanData = pd.concat([annot_guide_lfcs_A549_Kox1, annot_guide_lfcs_A549_Zim3, annot_guide_lfcs_HCT116_Kox1, annot_guide_lfcs_HCT116_Zim3])\n",
    "# Additional information for In house data\n",
    "ess_noness = pd.read_csv('/Users/fzheng/Library/CloudStorage/GoogleDrive-fzheng@broadinstitute.org/Shared drives/GPP Cloud /R&D/People/Fengyi/rule_set/crispri/data/2022/essential_nonessential/essentials_nonessentials_CRISPRi_tiling_designs_v2.csv')\n",
    "ess_noness['chromosome'] = ess_noness['Reference Sequence'].apply(lambda x: int(x.split(\"NC_\")[1].split(\".\")[0]) if pd.notnull(x) else x)\n",
    "\n",
    "ess_noness = ess_noness[['Target Gene Symbol','Target Gene ID','Category','chromosome','sgRNA Sequence', \n",
    "           'sgRNA Context Sequence', 'TSS Position', \n",
    "       'sgRNA \\'Cut\\' Site TSS Offset', 'sgRNA \\'Cut\\' Position', \n",
    "            'Strand of Target','Strand of sgRNA', 'Orientation',\n",
    "            'On-Target Ruleset','On-Target Efficacy Score']]\n",
    "InHouseCleanData = pd.merge(InHouseCleanData, ess_noness)\n"
   ]
  },
  {
   "cell_type": "code",
   "execution_count": 4,
   "id": "2126f8af",
   "metadata": {},
   "outputs": [
    {
     "data": {
      "text/html": [
       "<div>\n",
       "<style scoped>\n",
       "    .dataframe tbody tr th:only-of-type {\n",
       "        vertical-align: middle;\n",
       "    }\n",
       "\n",
       "    .dataframe tbody tr th {\n",
       "        vertical-align: top;\n",
       "    }\n",
       "\n",
       "    .dataframe thead th {\n",
       "        text-align: right;\n",
       "    }\n",
       "</style>\n",
       "<table border=\"1\" class=\"dataframe\">\n",
       "  <thead>\n",
       "    <tr style=\"text-align: right;\">\n",
       "      <th></th>\n",
       "      <th>Target Gene Symbol</th>\n",
       "      <th>sgRNA Context Sequence</th>\n",
       "      <th>Strand of sgRNA</th>\n",
       "      <th>DataSet</th>\n",
       "      <th>ModifiedGuideStrand</th>\n",
       "    </tr>\n",
       "  </thead>\n",
       "  <tbody>\n",
       "    <tr>\n",
       "      <th>0</th>\n",
       "      <td>ACTR6</td>\n",
       "      <td>TGCTTCGAGCACATAGAGGGATCTGGGCCC</td>\n",
       "      <td>+</td>\n",
       "      <td>Nunez</td>\n",
       "      <td>-</td>\n",
       "    </tr>\n",
       "    <tr>\n",
       "      <th>1</th>\n",
       "      <td>ACTR6</td>\n",
       "      <td>CTGCTTCGAGCACATAGAGGGATCTGGGCC</td>\n",
       "      <td>+</td>\n",
       "      <td>Nunez</td>\n",
       "      <td>-</td>\n",
       "    </tr>\n",
       "    <tr>\n",
       "      <th>2</th>\n",
       "      <td>ACTR6</td>\n",
       "      <td>GTCCACCTGCTTCGAGCACATAGAGGGATC</td>\n",
       "      <td>+</td>\n",
       "      <td>Nunez</td>\n",
       "      <td>-</td>\n",
       "    </tr>\n",
       "    <tr>\n",
       "      <th>3</th>\n",
       "      <td>ACTR6</td>\n",
       "      <td>GGTCCACCTGCTTCGAGCACATAGAGGGAT</td>\n",
       "      <td>+</td>\n",
       "      <td>Nunez</td>\n",
       "      <td>-</td>\n",
       "    </tr>\n",
       "    <tr>\n",
       "      <th>4</th>\n",
       "      <td>ACTR6</td>\n",
       "      <td>GGGCTAGACTCTGTCACCTCCGAGGGGTCC</td>\n",
       "      <td>+</td>\n",
       "      <td>Nunez</td>\n",
       "      <td>-</td>\n",
       "    </tr>\n",
       "    <tr>\n",
       "      <th>...</th>\n",
       "      <td>...</td>\n",
       "      <td>...</td>\n",
       "      <td>...</td>\n",
       "      <td>...</td>\n",
       "      <td>...</td>\n",
       "    </tr>\n",
       "    <tr>\n",
       "      <th>423899</th>\n",
       "      <td>SNUPN</td>\n",
       "      <td>GCGTGGGCGGGGCCTGGGGCGGGTCGGACT</td>\n",
       "      <td>-</td>\n",
       "      <td>InHouse</td>\n",
       "      <td>-</td>\n",
       "    </tr>\n",
       "    <tr>\n",
       "      <th>423900</th>\n",
       "      <td>SNUPN</td>\n",
       "      <td>GGAGGGTGGAGCGTGGGCGGGGCCTGGGGC</td>\n",
       "      <td>-</td>\n",
       "      <td>InHouse</td>\n",
       "      <td>-</td>\n",
       "    </tr>\n",
       "    <tr>\n",
       "      <th>423901</th>\n",
       "      <td>BORA</td>\n",
       "      <td>CGCGTCCCACCCGATTCCCGCCCGGGGCGC</td>\n",
       "      <td>-</td>\n",
       "      <td>InHouse</td>\n",
       "      <td>-</td>\n",
       "    </tr>\n",
       "    <tr>\n",
       "      <th>423902</th>\n",
       "      <td>NKX2-2</td>\n",
       "      <td>CAACTCCCCCCTCCCCCGCCCGCCGGGGCA</td>\n",
       "      <td>-</td>\n",
       "      <td>InHouse</td>\n",
       "      <td>-</td>\n",
       "    </tr>\n",
       "    <tr>\n",
       "      <th>423903</th>\n",
       "      <td>KRT36</td>\n",
       "      <td>ATGTTCCTTCCCTTCCTACAGCAAGGGGAG</td>\n",
       "      <td>+</td>\n",
       "      <td>InHouse</td>\n",
       "      <td>+</td>\n",
       "    </tr>\n",
       "  </tbody>\n",
       "</table>\n",
       "<p>228106 rows × 5 columns</p>\n",
       "</div>"
      ],
      "text/plain": [
       "       Target Gene Symbol          sgRNA Context Sequence Strand of sgRNA  \\\n",
       "0                   ACTR6  TGCTTCGAGCACATAGAGGGATCTGGGCCC               +   \n",
       "1                   ACTR6  CTGCTTCGAGCACATAGAGGGATCTGGGCC               +   \n",
       "2                   ACTR6  GTCCACCTGCTTCGAGCACATAGAGGGATC               +   \n",
       "3                   ACTR6  GGTCCACCTGCTTCGAGCACATAGAGGGAT               +   \n",
       "4                   ACTR6  GGGCTAGACTCTGTCACCTCCGAGGGGTCC               +   \n",
       "...                   ...                             ...             ...   \n",
       "423899              SNUPN  GCGTGGGCGGGGCCTGGGGCGGGTCGGACT               -   \n",
       "423900              SNUPN  GGAGGGTGGAGCGTGGGCGGGGCCTGGGGC               -   \n",
       "423901               BORA  CGCGTCCCACCCGATTCCCGCCCGGGGCGC               -   \n",
       "423902             NKX2-2  CAACTCCCCCCTCCCCCGCCCGCCGGGGCA               -   \n",
       "423903              KRT36  ATGTTCCTTCCCTTCCTACAGCAAGGGGAG               +   \n",
       "\n",
       "        DataSet ModifiedGuideStrand  \n",
       "0         Nunez                   -  \n",
       "1         Nunez                   -  \n",
       "2         Nunez                   -  \n",
       "3         Nunez                   -  \n",
       "4         Nunez                   -  \n",
       "...         ...                 ...  \n",
       "423899  InHouse                   -  \n",
       "423900  InHouse                   -  \n",
       "423901  InHouse                   -  \n",
       "423902  InHouse                   -  \n",
       "423903  InHouse                   +  \n",
       "\n",
       "[228106 rows x 5 columns]"
      ]
     },
     "execution_count": 4,
     "metadata": {},
     "output_type": "execute_result"
    }
   ],
   "source": [
    "NunezCleanData = NunezCleanData[['Target Gene Symbol', 'context_seq','strand']].rename(columns = {'context_seq': 'sgRNA Context Sequence',\n",
    "                                                                                                 'strand': 'Strand of sgRNA'})\n",
    "NunezCleanData['DataSet'] = 'Nunez'\n",
    "NunezCleanData['ModifiedGuideStrand'] = NunezCleanData['Strand of sgRNA'].replace({'-':'+','+':'-'})\n",
    "\n",
    "GilbertRicinCleanData = GilbertRicinCleanData[['Target Gene Symbol', 'context seq','strand targeted']].rename(columns = {'context seq': 'sgRNA Context Sequence',\n",
    "                                                                                                'strand targeted': 'Strand of sgRNA'})\n",
    "GilbertRicinCleanData['DataSet'] = 'Gilbert'\n",
    "GilbertRicinCleanData['ModifiedGuideStrand'] = GilbertRicinCleanData['Strand of sgRNA'].replace({'-':'+','+':'-'})\n",
    "\n",
    "InHouseCleanData = InHouseCleanData[['Target Gene Symbol', 'sgRNA Context Sequence','Strand of sgRNA']]\n",
    "InHouseCleanData['DataSet'] = 'InHouse'\n",
    "\n",
    "InHouseCleanData['ModifiedGuideStrand'] = InHouseCleanData['Strand of sgRNA']\n",
    "\n",
    "combinedDataStrand = pd.concat([NunezCleanData,GilbertRicinCleanData,InHouseCleanData]).drop_duplicates()\n",
    "combinedDataStrand['sgRNA Context Sequence'] = combinedDataStrand['sgRNA Context Sequence'].str.upper()\n",
    "combinedDataStrand"
   ]
  },
  {
   "cell_type": "code",
   "execution_count": 5,
   "id": "f3628203",
   "metadata": {},
   "outputs": [
    {
     "data": {
      "text/html": [
       "<div>\n",
       "<style scoped>\n",
       "    .dataframe tbody tr th:only-of-type {\n",
       "        vertical-align: middle;\n",
       "    }\n",
       "\n",
       "    .dataframe tbody tr th {\n",
       "        vertical-align: top;\n",
       "    }\n",
       "\n",
       "    .dataframe thead th {\n",
       "        text-align: right;\n",
       "    }\n",
       "</style>\n",
       "<table border=\"1\" class=\"dataframe\">\n",
       "  <thead>\n",
       "    <tr style=\"text-align: right;\">\n",
       "      <th></th>\n",
       "      <th>sgRNA Context Sequence</th>\n",
       "      <th>ModifiedGuideStrand</th>\n",
       "    </tr>\n",
       "  </thead>\n",
       "  <tbody>\n",
       "  </tbody>\n",
       "</table>\n",
       "</div>"
      ],
      "text/plain": [
       "Empty DataFrame\n",
       "Columns: [sgRNA Context Sequence, ModifiedGuideStrand]\n",
       "Index: []"
      ]
     },
     "execution_count": 5,
     "metadata": {},
     "output_type": "execute_result"
    }
   ],
   "source": [
    "uniqueStrandSeq = pd.DataFrame(combinedDataStrand.groupby('sgRNA Context Sequence')['ModifiedGuideStrand'].nunique()).reset_index()\n",
    "seqWithMulStrand = uniqueStrandSeq[uniqueStrandSeq['ModifiedGuideStrand'] > 1]\n",
    "seqWithMulStrand"
   ]
  },
  {
   "cell_type": "code",
   "execution_count": 6,
   "id": "897a9efd",
   "metadata": {},
   "outputs": [],
   "source": [
    "cleanedAllData_path = '/Users/fzheng/Library/CloudStorage/GoogleDrive-fzheng@broadinstitute.org/Shared drives/GPP Cloud /R&D/People/Fengyi/rule_set/crispri/data/2024/Manuscript/CleanedData/'\n",
    "# DatasetCombineCleaned.csv is the first version cleaned. It used the orginal phenotype calcuation \n",
    "NewDatasetCombine = pd.read_csv(cleanedAllData_path + 'DatasetCombineCleaned_v3.csv', low_memory=False)\n",
    "NewDatasetCombine['sgRNA Context Sequence'] = NewDatasetCombine['sgRNA Context Sequence'].apply(lambda x: x.upper())\n"
   ]
  },
  {
   "cell_type": "code",
   "execution_count": 7,
   "id": "8cfd1216",
   "metadata": {},
   "outputs": [],
   "source": [
    "NewDatasetCombine = pd.merge(NewDatasetCombine,\n",
    "         combinedDataStrand[['Target Gene Symbol','sgRNA Context Sequence','ModifiedGuideStrand']].drop_duplicates())\n",
    "NewDatasetCombine = NewDatasetCombine[['Target Gene Symbol',\n",
    "       'sgRNA Context Sequence', 'Strand of Target',\n",
    "       'ModifiedGuideStrand']].drop_duplicates()"
   ]
  },
  {
   "cell_type": "code",
   "execution_count": 8,
   "id": "18600147",
   "metadata": {},
   "outputs": [],
   "source": [
    "combinedDataWithStrand = pd.merge(combinedData,\n",
    "         NewDatasetCombine)"
   ]
  },
  {
   "cell_type": "code",
   "execution_count": 9,
   "id": "43b80239",
   "metadata": {},
   "outputs": [],
   "source": [
    "combinedDataWithStrand['Orientation'] = combinedDataWithStrand['Strand of Target'] + combinedDataWithStrand['ModifiedGuideStrand']\n",
    "\n"
   ]
  },
  {
   "cell_type": "code",
   "execution_count": 10,
   "id": "c532ee5b",
   "metadata": {},
   "outputs": [
    {
     "data": {
      "text/plain": [
       "Domain  DataSet\n",
       "Kox1    Nunez      68575\n",
       "        InHouse    42104\n",
       "Zim3    InHouse    42104\n",
       "Kox1    Gilbert    18509\n",
       "dtype: int64"
      ]
     },
     "execution_count": 10,
     "metadata": {},
     "output_type": "execute_result"
    }
   ],
   "source": [
    "combinedDataWithStrand[['Domain','DataSet']].value_counts()"
   ]
  },
  {
   "cell_type": "code",
   "execution_count": 11,
   "id": "5f9d7325",
   "metadata": {},
   "outputs": [
    {
     "data": {
      "text/plain": [
       "Target Gene Symbol  Orientation\n",
       "AATF                ++             328\n",
       "                    +-             286\n",
       "ACTR6               +-             159\n",
       "                    ++             146\n",
       "AFG3L2              -+             165\n",
       "                                  ... \n",
       "ZNF574              +-             110\n",
       "ZNF830              +-             105\n",
       "                    ++              93\n",
       "ZNHIT6              --             127\n",
       "                    -+              52\n",
       "Name: Orientation, Length: 938, dtype: int64"
      ]
     },
     "execution_count": 11,
     "metadata": {},
     "output_type": "execute_result"
    }
   ],
   "source": [
    "combinedDataWithStrand.groupby(['Target Gene Symbol'])['Orientation'].value_counts()"
   ]
  },
  {
   "cell_type": "code",
   "execution_count": 12,
   "id": "3cd9d73d",
   "metadata": {},
   "outputs": [
    {
     "data": {
      "text/html": [
       "<div>\n",
       "<style scoped>\n",
       "    .dataframe tbody tr th:only-of-type {\n",
       "        vertical-align: middle;\n",
       "    }\n",
       "\n",
       "    .dataframe tbody tr th {\n",
       "        vertical-align: top;\n",
       "    }\n",
       "\n",
       "    .dataframe thead th {\n",
       "        text-align: right;\n",
       "    }\n",
       "</style>\n",
       "<table border=\"1\" class=\"dataframe\">\n",
       "  <thead>\n",
       "    <tr style=\"text-align: right;\">\n",
       "      <th></th>\n",
       "      <th>Target Gene Symbol</th>\n",
       "      <th>sgRNA Context Sequence</th>\n",
       "      <th>doubleZscore</th>\n",
       "      <th>Domain</th>\n",
       "      <th>DataSet</th>\n",
       "      <th>Strand of Target</th>\n",
       "      <th>ModifiedGuideStrand</th>\n",
       "      <th>Orientation</th>\n",
       "    </tr>\n",
       "  </thead>\n",
       "  <tbody>\n",
       "    <tr>\n",
       "      <th>27391</th>\n",
       "      <td>HEATR1</td>\n",
       "      <td>GCTCTACAGCATGCCTTAGGTTTCCGGGTG</td>\n",
       "      <td>0.889953</td>\n",
       "      <td>Kox1</td>\n",
       "      <td>Nunez</td>\n",
       "      <td>-</td>\n",
       "      <td>-</td>\n",
       "      <td>--</td>\n",
       "    </tr>\n",
       "    <tr>\n",
       "      <th>27392</th>\n",
       "      <td>HEATR1</td>\n",
       "      <td>GCTCTACAGCATGCCTTAGGTTTCCGGGTG</td>\n",
       "      <td>0.281607</td>\n",
       "      <td>Kox1</td>\n",
       "      <td>InHouse</td>\n",
       "      <td>-</td>\n",
       "      <td>-</td>\n",
       "      <td>--</td>\n",
       "    </tr>\n",
       "    <tr>\n",
       "      <th>27393</th>\n",
       "      <td>HEATR1</td>\n",
       "      <td>GCTCTACAGCATGCCTTAGGTTTCCGGGTG</td>\n",
       "      <td>0.372806</td>\n",
       "      <td>Zim3</td>\n",
       "      <td>InHouse</td>\n",
       "      <td>-</td>\n",
       "      <td>-</td>\n",
       "      <td>--</td>\n",
       "    </tr>\n",
       "    <tr>\n",
       "      <th>27394</th>\n",
       "      <td>HEATR1</td>\n",
       "      <td>GCTCTACAGCATGCCTTAGGTTTCCGGGTG</td>\n",
       "      <td>-0.528031</td>\n",
       "      <td>Kox1</td>\n",
       "      <td>Gilbert</td>\n",
       "      <td>-</td>\n",
       "      <td>-</td>\n",
       "      <td>--</td>\n",
       "    </tr>\n",
       "  </tbody>\n",
       "</table>\n",
       "</div>"
      ],
      "text/plain": [
       "      Target Gene Symbol          sgRNA Context Sequence  doubleZscore Domain  \\\n",
       "27391             HEATR1  GCTCTACAGCATGCCTTAGGTTTCCGGGTG      0.889953   Kox1   \n",
       "27392             HEATR1  GCTCTACAGCATGCCTTAGGTTTCCGGGTG      0.281607   Kox1   \n",
       "27393             HEATR1  GCTCTACAGCATGCCTTAGGTTTCCGGGTG      0.372806   Zim3   \n",
       "27394             HEATR1  GCTCTACAGCATGCCTTAGGTTTCCGGGTG     -0.528031   Kox1   \n",
       "\n",
       "       DataSet Strand of Target ModifiedGuideStrand Orientation  \n",
       "27391    Nunez                -                   -          --  \n",
       "27392  InHouse                -                   -          --  \n",
       "27393  InHouse                -                   -          --  \n",
       "27394  Gilbert                -                   -          --  "
      ]
     },
     "execution_count": 12,
     "metadata": {},
     "output_type": "execute_result"
    }
   ],
   "source": [
    "combinedDataWithStrand[combinedDataWithStrand['sgRNA Context Sequence'] == 'GCTCTACAGCATGCCTTAGGTTTCCGGGTG']"
   ]
  },
  {
   "cell_type": "code",
   "execution_count": 13,
   "id": "82f87897",
   "metadata": {},
   "outputs": [
    {
     "name": "stderr",
     "output_type": "stream",
     "text": [
      "/var/folders/h4/ryygmkjj3m32xw7cjfk2gbvr0000gq/T/ipykernel_48395/3094238944.py:1: SettingWithCopyWarning: \n",
      "A value is trying to be set on a copy of a slice from a DataFrame\n",
      "\n",
      "See the caveats in the documentation: https://pandas.pydata.org/pandas-docs/stable/user_guide/indexing.html#returning-a-view-versus-a-copy\n",
      "  combinedDataWithStrand['doubleZscore'].iloc[combinedDataWithStrand[combinedDataWithStrand.DataSet == 'Gilbert'].index.tolist()] *= -1\n"
     ]
    }
   ],
   "source": [
    "combinedDataWithStrand['doubleZscore'].iloc[combinedDataWithStrand[combinedDataWithStrand.DataSet == 'Gilbert'].index.tolist()] *= -1"
   ]
  },
  {
   "cell_type": "code",
   "execution_count": 14,
   "id": "f501bd0d",
   "metadata": {},
   "outputs": [
    {
     "data": {
      "text/html": [
       "<div>\n",
       "<style scoped>\n",
       "    .dataframe tbody tr th:only-of-type {\n",
       "        vertical-align: middle;\n",
       "    }\n",
       "\n",
       "    .dataframe tbody tr th {\n",
       "        vertical-align: top;\n",
       "    }\n",
       "\n",
       "    .dataframe thead th {\n",
       "        text-align: right;\n",
       "    }\n",
       "</style>\n",
       "<table border=\"1\" class=\"dataframe\">\n",
       "  <thead>\n",
       "    <tr style=\"text-align: right;\">\n",
       "      <th></th>\n",
       "      <th>Target Gene Symbol</th>\n",
       "      <th>sgRNA Context Sequence</th>\n",
       "      <th>doubleZscore</th>\n",
       "      <th>Domain</th>\n",
       "      <th>DataSet</th>\n",
       "      <th>Strand of Target</th>\n",
       "      <th>ModifiedGuideStrand</th>\n",
       "      <th>Orientation</th>\n",
       "    </tr>\n",
       "  </thead>\n",
       "  <tbody>\n",
       "    <tr>\n",
       "      <th>27391</th>\n",
       "      <td>HEATR1</td>\n",
       "      <td>GCTCTACAGCATGCCTTAGGTTTCCGGGTG</td>\n",
       "      <td>0.889953</td>\n",
       "      <td>Kox1</td>\n",
       "      <td>Nunez</td>\n",
       "      <td>-</td>\n",
       "      <td>-</td>\n",
       "      <td>--</td>\n",
       "    </tr>\n",
       "    <tr>\n",
       "      <th>27392</th>\n",
       "      <td>HEATR1</td>\n",
       "      <td>GCTCTACAGCATGCCTTAGGTTTCCGGGTG</td>\n",
       "      <td>0.281607</td>\n",
       "      <td>Kox1</td>\n",
       "      <td>InHouse</td>\n",
       "      <td>-</td>\n",
       "      <td>-</td>\n",
       "      <td>--</td>\n",
       "    </tr>\n",
       "    <tr>\n",
       "      <th>27393</th>\n",
       "      <td>HEATR1</td>\n",
       "      <td>GCTCTACAGCATGCCTTAGGTTTCCGGGTG</td>\n",
       "      <td>0.372806</td>\n",
       "      <td>Zim3</td>\n",
       "      <td>InHouse</td>\n",
       "      <td>-</td>\n",
       "      <td>-</td>\n",
       "      <td>--</td>\n",
       "    </tr>\n",
       "    <tr>\n",
       "      <th>27394</th>\n",
       "      <td>HEATR1</td>\n",
       "      <td>GCTCTACAGCATGCCTTAGGTTTCCGGGTG</td>\n",
       "      <td>0.528031</td>\n",
       "      <td>Kox1</td>\n",
       "      <td>Gilbert</td>\n",
       "      <td>-</td>\n",
       "      <td>-</td>\n",
       "      <td>--</td>\n",
       "    </tr>\n",
       "  </tbody>\n",
       "</table>\n",
       "</div>"
      ],
      "text/plain": [
       "      Target Gene Symbol          sgRNA Context Sequence  doubleZscore Domain  \\\n",
       "27391             HEATR1  GCTCTACAGCATGCCTTAGGTTTCCGGGTG      0.889953   Kox1   \n",
       "27392             HEATR1  GCTCTACAGCATGCCTTAGGTTTCCGGGTG      0.281607   Kox1   \n",
       "27393             HEATR1  GCTCTACAGCATGCCTTAGGTTTCCGGGTG      0.372806   Zim3   \n",
       "27394             HEATR1  GCTCTACAGCATGCCTTAGGTTTCCGGGTG      0.528031   Kox1   \n",
       "\n",
       "       DataSet Strand of Target ModifiedGuideStrand Orientation  \n",
       "27391    Nunez                -                   -          --  \n",
       "27392  InHouse                -                   -          --  \n",
       "27393  InHouse                -                   -          --  \n",
       "27394  Gilbert                -                   -          --  "
      ]
     },
     "execution_count": 14,
     "metadata": {},
     "output_type": "execute_result"
    }
   ],
   "source": [
    "combinedDataWithStrand[combinedDataWithStrand['sgRNA Context Sequence'] == 'GCTCTACAGCATGCCTTAGGTTTCCGGGTG']"
   ]
  },
  {
   "cell_type": "code",
   "execution_count": 15,
   "id": "0bd8a3f5",
   "metadata": {},
   "outputs": [],
   "source": [
    "combinedDataWithStrandAvgZZ = pd.DataFrame(combinedDataWithStrand.groupby(['Target Gene Symbol', 'sgRNA Context Sequence',\n",
    "       'Domain', 'Strand of Target', 'ModifiedGuideStrand',\n",
    "       'Orientation'])['doubleZscore'].mean()).reset_index()"
   ]
  },
  {
   "cell_type": "code",
   "execution_count": 16,
   "id": "553953da",
   "metadata": {},
   "outputs": [],
   "source": [
    "\n",
    "def mann_whitney_u_per_gene(df):\n",
    "    results = []\n",
    "    \n",
    "    # Group by gene\n",
    "    grouped = df.groupby('Target Gene Symbol')\n",
    "    \n",
    "    for gene, group in grouped:\n",
    "        Orientation = group['Orientation'].unique()\n",
    "        \n",
    "        if len(Orientation) == 2:\n",
    "            # Extract metrics for both drugs\n",
    "            metrics_Orientation1 = group[group['Orientation'] == Orientation[0]]['doubleZscore']\n",
    "            metrics_Orientation2 = group[group['Orientation'] == Orientation[1]]['doubleZscore']\n",
    "            if (len(metrics_Orientation1) >= 10) & (len(metrics_Orientation2) >= 10):\n",
    "                # Perform Mann-Whitney U test\n",
    "                stat, p_value = mannwhitneyu(metrics_Orientation1, \n",
    "                                             metrics_Orientation2, \n",
    "                                             alternative='two-sided')\n",
    "                results.append({'gene': gene, \n",
    "                                'metrics_Orientation1': Orientation[0], \n",
    "                                'metrics_Orientation2': Orientation[1], \n",
    "                                'p_value': p_value})\n",
    "            else:\n",
    "                print(f'{gene} does not satisify the sample size')\n",
    "        else:\n",
    "            results.append({'gene': gene, 'metrics_Orientation1': None, \n",
    "                            'metrics_Orientation2': None, 'p_value': None})\n",
    "    \n",
    "    # Convert results to DataFrame\n",
    "    results_df = pd.DataFrame(results)\n",
    "    results_df['-log10(p_value)'] = -np.log10(results_df['p_value'])\n",
    "    return results_df\n",
    "\n"
   ]
  },
  {
   "cell_type": "code",
   "execution_count": 17,
   "id": "bedf7f4e",
   "metadata": {},
   "outputs": [
    {
     "name": "stdout",
     "output_type": "stream",
     "text": [
      "NIP7 does not satisify the sample size\n"
     ]
    }
   ],
   "source": [
    "results_df = mann_whitney_u_per_gene(combinedDataWithStrandAvgZZ)"
   ]
  },
  {
   "cell_type": "code",
   "execution_count": 18,
   "id": "794950f9",
   "metadata": {},
   "outputs": [
    {
     "data": {
      "text/html": [
       "<div>\n",
       "<style scoped>\n",
       "    .dataframe tbody tr th:only-of-type {\n",
       "        vertical-align: middle;\n",
       "    }\n",
       "\n",
       "    .dataframe tbody tr th {\n",
       "        vertical-align: top;\n",
       "    }\n",
       "\n",
       "    .dataframe thead th {\n",
       "        text-align: right;\n",
       "    }\n",
       "</style>\n",
       "<table border=\"1\" class=\"dataframe\">\n",
       "  <thead>\n",
       "    <tr style=\"text-align: right;\">\n",
       "      <th></th>\n",
       "      <th>gene</th>\n",
       "      <th>metrics_Orientation1</th>\n",
       "      <th>metrics_Orientation2</th>\n",
       "      <th>p_value</th>\n",
       "      <th>-log10(p_value)</th>\n",
       "    </tr>\n",
       "  </thead>\n",
       "  <tbody>\n",
       "    <tr>\n",
       "      <th>0</th>\n",
       "      <td>AATF</td>\n",
       "      <td>++</td>\n",
       "      <td>+-</td>\n",
       "      <td>0.029544</td>\n",
       "      <td>1.529526</td>\n",
       "    </tr>\n",
       "    <tr>\n",
       "      <th>1</th>\n",
       "      <td>ACTR6</td>\n",
       "      <td>+-</td>\n",
       "      <td>++</td>\n",
       "      <td>0.854082</td>\n",
       "      <td>0.068500</td>\n",
       "    </tr>\n",
       "    <tr>\n",
       "      <th>2</th>\n",
       "      <td>AFG3L2</td>\n",
       "      <td>--</td>\n",
       "      <td>-+</td>\n",
       "      <td>0.239637</td>\n",
       "      <td>0.620446</td>\n",
       "    </tr>\n",
       "    <tr>\n",
       "      <th>3</th>\n",
       "      <td>ALG14</td>\n",
       "      <td>--</td>\n",
       "      <td>-+</td>\n",
       "      <td>0.044715</td>\n",
       "      <td>1.349549</td>\n",
       "    </tr>\n",
       "    <tr>\n",
       "      <th>4</th>\n",
       "      <td>ANAPC13</td>\n",
       "      <td>-+</td>\n",
       "      <td>--</td>\n",
       "      <td>0.357673</td>\n",
       "      <td>0.446514</td>\n",
       "    </tr>\n",
       "  </tbody>\n",
       "</table>\n",
       "</div>"
      ],
      "text/plain": [
       "      gene metrics_Orientation1 metrics_Orientation2   p_value  \\\n",
       "0     AATF                   ++                   +-  0.029544   \n",
       "1    ACTR6                   +-                   ++  0.854082   \n",
       "2   AFG3L2                   --                   -+  0.239637   \n",
       "3    ALG14                   --                   -+  0.044715   \n",
       "4  ANAPC13                   -+                   --  0.357673   \n",
       "\n",
       "   -log10(p_value)  \n",
       "0         1.529526  \n",
       "1         0.068500  \n",
       "2         0.620446  \n",
       "3         1.349549  \n",
       "4         0.446514  "
      ]
     },
     "execution_count": 18,
     "metadata": {},
     "output_type": "execute_result"
    }
   ],
   "source": [
    "results_df.head()"
   ]
  },
  {
   "cell_type": "code",
   "execution_count": 19,
   "id": "c27d1898",
   "metadata": {},
   "outputs": [
    {
     "data": {
      "image/png": "[encoded data removed]",
      "text/plain": [
       "<Figure size 432x288 with 1 Axes>"
      ]
     },
     "metadata": {
      "needs_background": "light"
     },
     "output_type": "display_data"
    }
   ],
   "source": [
    "graph_pathout = '/Users/fzheng/Library/CloudStorage/GoogleDrive-fzheng@broadinstitute.org/Shared drives/CRISPRi manuscript 2024/Figure 3/Individual Figures/'\n",
    "plt.xlabel('', fontsize=14)\n",
    "ax = sns.histplot(results_df['-log10(p_value)'], color = 'grey')\n",
    "ax.set_title('Sense vs Antisense', fontsize=20)\n",
    "ax.set_ylabel('Count of Gene', fontsize=14)\n",
    "sns.despine()\n",
    "plt.savefig(graph_pathout + \"Orientation.pdf\", dpi=300, bbox_inches='tight')\n"
   ]
  },
  {
   "cell_type": "code",
   "execution_count": 21,
   "id": "183e698a",
   "metadata": {},
   "outputs": [],
   "source": [
    "pathOut = '/Users/fzheng/Library/CloudStorage/GoogleDrive-fzheng@broadinstitute.org/Shared drives/GPP Cloud /R&D/People/Fengyi/rule_set/crispri/data/2024/Manuscript/CleanedScaledData/Orientation/'\n",
    "combinedDataWithStrand.to_csv(pathOut + 'OrientationScaledData.pdf', index = False)"
   ]
  },
  {
   "cell_type": "code",
   "execution_count": null,
   "id": "6a3bef0e",
   "metadata": {},
   "outputs": [],
   "source": []
  }
 ],
 "metadata": {
  "kernelspec": {
   "display_name": "Python 3 (ipykernel)",
   "language": "python",
   "name": "python3"
  },
  "language_info": {
   "codemirror_mode": {
    "name": "ipython",
    "version": 3
   },
   "file_extension": ".py",
   "mimetype": "text/x-python",
   "name": "python",
   "nbconvert_exporter": "python",
   "pygments_lexer": "ipython3",
   "version": "3.8.13"
  }
 },
 "nbformat": 4,
 "nbformat_minor": 5
}
