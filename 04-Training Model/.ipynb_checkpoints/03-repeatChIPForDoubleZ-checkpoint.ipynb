{
 "cells": [
  {
   "cell_type": "code",
   "execution_count": 1,
   "id": "523f314e",
   "metadata": {},
   "outputs": [],
   "source": [
    "import pandas as pd\n",
    "from copy import deepcopy\n",
    "import statsmodels.api as sm\n",
    "import seaborn as sns\n",
    "import matplotlib.pyplot as plt\n",
    "import gpplot\n",
    "from scipy.stats import yeojohnson, rankdata\n",
    "from sklearn.base import clone\n",
    "import numpy as np\n",
    "from sklearn import preprocessing\n",
    "import warnings\n",
    "import matplotlib\n",
    "from tqdm import tqdm\n",
    "from scipy.stats import mannwhitneyu\n",
    "\n",
    "matplotlib.rcParams['pdf.fonttype'] = 42\n",
    "matplotlib.rcParams['ps.fonttype'] = 42"
   ]
  },
  {
   "cell_type": "code",
   "execution_count": 110,
   "id": "1171c19a",
   "metadata": {},
   "outputs": [],
   "source": [
    "def perform_mannwhitney_tests(chrtest, gene_col, phenotype):\n",
    "    results = []\n",
    "    # Get unique values from the specified columns\n",
    "    experiment_seq = chrtest['ATACseq'].unique()\n",
    "    DataSet = chrtest['DataSet'].unique()\n",
    "    Domain = chrtest['Domain'].unique()\n",
    "\n",
    "    # Iterate over the combinations of parameters\n",
    "    for experiment in tqdm(experiment_seq):\n",
    "        \n",
    "        for data in tqdm(DataSet):\n",
    "            if data == 'InHouse':\n",
    "                alter = 'greater'\n",
    "            elif data == 'Nunez':\n",
    "                alter = 'greater'\n",
    "            elif data == 'Gilbert':\n",
    "                alter = 'less' \n",
    "            for krab in tqdm(Domain):\n",
    "                    chrtest_subset = chrtest[(chrtest['ATACseq'] == experiment) & \n",
    "                                             (chrtest['Domain'] == krab) & \n",
    "                                             (chrtest['DataSet'] == data) ]\n",
    "                    for gene in chrtest_subset[gene_col].unique():\n",
    "                        gene_sp = chrtest_subset[chrtest_subset[gene_col] == gene]\n",
    "                        binary_col = 'overlap with peak'\n",
    "                        if (sum(gene_sp[binary_col] == 1) >= 10) & (sum(gene_sp[binary_col] == 0) >= 10):\n",
    "                            _, pval = mannwhitneyu(gene_sp[gene_sp[binary_col] == 0][phenotype], \n",
    "                                                   gene_sp[gene_sp[binary_col] == 1][phenotype], \n",
    "                                                   alternative=alter, method=\"asymptotic\")\n",
    "                            results.append({\n",
    "                                'ATACseq': experiment,\n",
    "                                'DataSet': data,\n",
    "                                'Domain': krab,\n",
    "                                'gene': gene,\n",
    "                                'pval': pval\n",
    "                            })\n",
    "                        else:\n",
    "                            print(f\"{gene}: Sample size in overlap or non-overlap < 10\")\n",
    "    \n",
    "    # Convert results to DataFrame\n",
    "    results_df = pd.DataFrame(results)\n",
    "    \n",
    "    return results_df\n"
   ]
  },
  {
   "cell_type": "code",
   "execution_count": 3,
   "id": "237807a3",
   "metadata": {},
   "outputs": [],
   "source": [
    "dataOut = '/Users/fzheng/Library/CloudStorage/GoogleDrive-fzheng@broadinstitute.org/Shared drives/GPP Cloud /R&D/People/Fengyi/rule_set/crispri/data/2024/Manuscript/CleanedScaledData/'\n",
    "GilbertRicinScaledData = pd.read_csv(dataOut+'GilbertRicinScaledData.csv')\n",
    "inHouseZim3ScaledData = pd.read_csv(dataOut+'inHouseZim3ScaledData.csv')\n",
    "inHouseKox1ScaledData = pd.read_csv(dataOut+'inHouseKox1ScaledData.csv')\n",
    "nunezScaledData = pd.read_csv(dataOut+'nunezScaledData.csv')\n"
   ]
  },
  {
   "cell_type": "code",
   "execution_count": 4,
   "id": "782dda0b",
   "metadata": {},
   "outputs": [],
   "source": [
    "combinedData = pd.concat([nunezScaledData, inHouseKox1ScaledData, inHouseZim3ScaledData, GilbertRicinScaledData])"
   ]
  },
  {
   "cell_type": "code",
   "execution_count": 95,
   "id": "624d3a44",
   "metadata": {},
   "outputs": [
    {
     "data": {
      "text/plain": [
       "condition  Domain  DataSet  ATACseq\n",
       "K562       Kox1    Nunez    Panc1      68575\n",
       "                            MCF7       68575\n",
       "                            K562       68575\n",
       "                            HepG2      68575\n",
       "                            HCT116     68575\n",
       "                            GM12878    68575\n",
       "                            A549       68575\n",
       "HCT116     Kox1    InHouse  A549       42609\n",
       "                            MCF7       42609\n",
       "                            K562       42609\n",
       "                            HepG2      42609\n",
       "                            HCT116     42609\n",
       "                            GM12878    42609\n",
       "A549       Zim3    InHouse  HepG2      42609\n",
       "                            Panc1      42609\n",
       "                            MCF7       42609\n",
       "                            K562       42609\n",
       "                            HCT116     42609\n",
       "                            GM12878    42609\n",
       "                            A549       42609\n",
       "HCT116     Kox1    InHouse  Panc1      42609\n",
       "A549       Kox1    InHouse  A549       42570\n",
       "                            HCT116     42570\n",
       "                            HepG2      42570\n",
       "                            K562       42570\n",
       "                            MCF7       42570\n",
       "                            Panc1      42570\n",
       "                            GM12878    42570\n",
       "HCT116     Zim3    InHouse  GM12878    42544\n",
       "                            HCT116     42544\n",
       "                            A549       42544\n",
       "                            Panc1      42544\n",
       "                            MCF7       42544\n",
       "                            K562       42544\n",
       "                            HepG2      42544\n",
       "K562       Kox1    Gilbert  HepG2      18509\n",
       "                            HCT116     18509\n",
       "                            MCF7       18509\n",
       "                            Panc1      18509\n",
       "                            GM12878    18509\n",
       "                            A549       18509\n",
       "                            K562       18509\n",
       "dtype: int64"
      ]
     },
     "execution_count": 95,
     "metadata": {},
     "output_type": "execute_result"
    }
   ],
   "source": [
    "# ess gene\n",
    "ess_noness = pd.read_csv('/Users/fzheng/Library/CloudStorage/GoogleDrive-fzheng@broadinstitute.org/Shared drives/GPP Cloud /R&D/People/Fengyi/rule_set/crispri/data/2022/essential_nonessential/essentials_nonessentials_CRISPRi_tiling_designs_v2.csv')\n",
    "EssGene = ess_noness[ess_noness.Category == 'Essential']['Target Gene Symbol'].unique()\n",
    "# atac\n",
    "atac_path = '/Users/fzheng/Library/CloudStorage/GoogleDrive-fzheng@broadinstitute.org/Shared drives/GPP Cloud /R&D/People/Fengyi/rule_set/crispri/data/2024/Manuscript/ATACseq/'\n",
    "ATAC_combined = pd.read_csv(atac_path + 'ATACseqPeakOverlap_v2.csv')\n",
    "\n",
    "# only guide with phenotype\n",
    "InhouseEssATAC = ATAC_combined[(ATAC_combined.DataSet == 'InHouse') & (ATAC_combined['Target Gene Symbol'].isin(EssGene))]\n",
    "otherATAC = ATAC_combined[~(ATAC_combined.DataSet == 'InHouse')]\n",
    "newATAC = pd.concat([InhouseEssATAC,otherATAC])\n",
    "\n",
    "newATAC[['condition', 'Domain', 'DataSet','ATACseq']].value_counts()"
   ]
  },
  {
   "cell_type": "code",
   "execution_count": 96,
   "id": "90fd2e87",
   "metadata": {},
   "outputs": [
    {
     "data": {
      "text/plain": [
       "68575"
      ]
     },
     "execution_count": 96,
     "metadata": {},
     "output_type": "execute_result"
    }
   ],
   "source": [
    "len(nunezScaledData)"
   ]
  },
  {
   "cell_type": "code",
   "execution_count": 97,
   "id": "748e16e7",
   "metadata": {},
   "outputs": [
    {
     "data": {
      "text/plain": [
       "18509"
      ]
     },
     "execution_count": 97,
     "metadata": {},
     "output_type": "execute_result"
    }
   ],
   "source": [
    "len(GilbertRicinScaledData)\n"
   ]
  },
  {
   "cell_type": "code",
   "execution_count": 98,
   "id": "94285972",
   "metadata": {},
   "outputs": [
    {
     "data": {
      "text/plain": [
       "42104"
      ]
     },
     "execution_count": 98,
     "metadata": {},
     "output_type": "execute_result"
    }
   ],
   "source": [
    "len(inHouseZim3ScaledData)\n"
   ]
  },
  {
   "cell_type": "code",
   "execution_count": 99,
   "id": "b2ebd610",
   "metadata": {},
   "outputs": [
    {
     "data": {
      "text/plain": [
       "42104"
      ]
     },
     "execution_count": 99,
     "metadata": {},
     "output_type": "execute_result"
    }
   ],
   "source": [
    "len(inHouseKox1ScaledData)"
   ]
  },
  {
   "cell_type": "code",
   "execution_count": 100,
   "id": "d8814874",
   "metadata": {},
   "outputs": [],
   "source": [
    "shortenNewATAC = newATAC[['Target Gene Symbol', 'chromosome', 'sgRNA Context Sequence',\n",
    "     'Domain', 'DataSet',\n",
    "      'overlap with peak', 'ATACseq']].drop_duplicates().copy()"
   ]
  },
  {
   "cell_type": "code",
   "execution_count": 101,
   "id": "09546be0",
   "metadata": {},
   "outputs": [
    {
     "data": {
      "text/plain": [
       "Domain  DataSet  ATACseq\n",
       "Kox1    Nunez    A549       68575\n",
       "                 GM12878    68575\n",
       "                 Panc1      68575\n",
       "                 MCF7       68575\n",
       "                 K562       68575\n",
       "                 HepG2      68575\n",
       "                 HCT116     68575\n",
       "Zim3    InHouse  MCF7       42762\n",
       "                 K562       42762\n",
       "                 HepG2      42762\n",
       "                 HCT116     42762\n",
       "                 GM12878    42762\n",
       "                 A549       42762\n",
       "                 Panc1      42762\n",
       "Kox1    InHouse  Panc1      42761\n",
       "                 MCF7       42761\n",
       "                 K562       42761\n",
       "                 HepG2      42761\n",
       "                 HCT116     42761\n",
       "                 GM12878    42761\n",
       "                 A549       42761\n",
       "        Gilbert  GM12878    18509\n",
       "                 Panc1      18509\n",
       "                 MCF7       18509\n",
       "                 K562       18509\n",
       "                 HepG2      18509\n",
       "                 HCT116     18509\n",
       "                 A549       18509\n",
       "dtype: int64"
      ]
     },
     "execution_count": 101,
     "metadata": {},
     "output_type": "execute_result"
    }
   ],
   "source": [
    "shortenNewATAC[['Domain', 'DataSet', 'ATACseq']].value_counts()\n",
    "# more datapoint in Zim3 InHouse because we are taking the union of two cell lines"
   ]
  },
  {
   "cell_type": "code",
   "execution_count": 102,
   "id": "95860d2f",
   "metadata": {},
   "outputs": [
    {
     "data": {
      "text/plain": [
       "Domain  DataSet\n",
       "Kox1    Nunez      68575\n",
       "        InHouse    42104\n",
       "Zim3    InHouse    42104\n",
       "Kox1    Gilbert    18509\n",
       "dtype: int64"
      ]
     },
     "execution_count": 102,
     "metadata": {},
     "output_type": "execute_result"
    }
   ],
   "source": [
    "combinedData[['Domain', 'DataSet']].value_counts()"
   ]
  },
  {
   "cell_type": "code",
   "execution_count": 103,
   "id": "0d26f1fc",
   "metadata": {},
   "outputs": [],
   "source": [
    "shortenNewATAC['sgRNA Context Sequence'] = shortenNewATAC['sgRNA Context Sequence'].str.upper()\n",
    "combinedData['sgRNA Context Sequence'] = combinedData['sgRNA Context Sequence'].str.upper()"
   ]
  },
  {
   "cell_type": "code",
   "execution_count": 104,
   "id": "21bd08f0",
   "metadata": {},
   "outputs": [],
   "source": [
    "combinedDataATAC = pd.merge(shortenNewATAC,combinedData, how = 'right',\n",
    "                           on = ['Target Gene Symbol',\n",
    "                                 'sgRNA Context Sequence',\n",
    "                                 'Domain', 'DataSet'])\n"
   ]
  },
  {
   "cell_type": "code",
   "execution_count": 106,
   "id": "7d32070b",
   "metadata": {},
   "outputs": [
    {
     "data": {
      "text/plain": [
       "Domain  DataSet  ATACseq\n",
       "Kox1    Nunez    A549       68575\n",
       "                 GM12878    68575\n",
       "                 Panc1      68575\n",
       "                 MCF7       68575\n",
       "                 K562       68575\n",
       "                 HepG2      68575\n",
       "                 HCT116     68575\n",
       "Zim3    InHouse  MCF7       42104\n",
       "                 K562       42104\n",
       "                 HepG2      42104\n",
       "                 HCT116     42104\n",
       "                 GM12878    42104\n",
       "                 A549       42104\n",
       "                 Panc1      42104\n",
       "Kox1    InHouse  Panc1      42104\n",
       "                 MCF7       42104\n",
       "                 K562       42104\n",
       "                 HepG2      42104\n",
       "                 HCT116     42104\n",
       "                 GM12878    42104\n",
       "                 A549       42104\n",
       "        Gilbert  GM12878    18509\n",
       "                 Panc1      18509\n",
       "                 MCF7       18509\n",
       "                 K562       18509\n",
       "                 HepG2      18509\n",
       "                 HCT116     18509\n",
       "                 A549       18509\n",
       "dtype: int64"
      ]
     },
     "execution_count": 106,
     "metadata": {},
     "output_type": "execute_result"
    }
   ],
   "source": [
    "combinedDataATAC[['Domain', 'DataSet', 'ATACseq']].value_counts()"
   ]
  },
  {
   "cell_type": "code",
   "execution_count": 111,
   "id": "59a24a22",
   "metadata": {},
   "outputs": [
    {
     "name": "stderr",
     "output_type": "stream",
     "text": [
      "  0%|                                                     | 0/7 [00:00<?, ?it/s]\n",
      "  0%|                                                     | 0/3 [00:00<?, ?it/s]\u001b[A\n",
      "\n",
      "  0%|                                                     | 0/2 [00:00<?, ?it/s]\u001b[A\u001b[A"
     ]
    },
    {
     "name": "stdout",
     "output_type": "stream",
     "text": [
      "CARF: Sample size in overlap or non-overlap < 10\n",
      "COPB2: Sample size in overlap or non-overlap < 10\n",
      "CWF19L2: Sample size in overlap or non-overlap < 10\n",
      "DBR1: Sample size in overlap or non-overlap < 10\n",
      "DDX21: Sample size in overlap or non-overlap < 10\n",
      "EIF3A: Sample size in overlap or non-overlap < 10\n",
      "EIF3M: Sample size in overlap or non-overlap < 10\n",
      "FBL: Sample size in overlap or non-overlap < 10\n",
      "LEO1: Sample size in overlap or non-overlap < 10\n",
      "MDN1: Sample size in overlap or non-overlap < 10\n",
      "MED18: Sample size in overlap or non-overlap < 10\n",
      "MRPS35: Sample size in overlap or non-overlap < 10\n",
      "MYBL2: Sample size in overlap or non-overlap < 10\n",
      "NIP7: Sample size in overlap or non-overlap < 10\n",
      "NLE1: Sample size in overlap or non-overlap < 10\n",
      "POLR1B: Sample size in overlap or non-overlap < 10\n",
      "SCFD1: Sample size in overlap or non-overlap < 10\n",
      "SNW1: Sample size in overlap or non-overlap < 10\n",
      "STAT5B: Sample size in overlap or non-overlap < 10\n",
      "SUPV3L1: Sample size in overlap or non-overlap < 10\n"
     ]
    },
    {
     "name": "stderr",
     "output_type": "stream",
     "text": [
      "\n",
      "\n",
      " 50%|██████████████████████▌                      | 1/2 [00:02<00:02,  2.66s/it]\u001b[A\u001b[A"
     ]
    },
    {
     "name": "stdout",
     "output_type": "stream",
     "text": [
      "VPS54: Sample size in overlap or non-overlap < 10\n"
     ]
    },
    {
     "name": "stderr",
     "output_type": "stream",
     "text": [
      "\n",
      "\n",
      "100%|█████████████████████████████████████████████| 2/2 [00:02<00:00,  1.47s/it]\u001b[A\u001b[A\n",
      "\n",
      " 33%|███████████████                              | 1/3 [00:02<00:05,  2.93s/it]\u001b[A\n",
      "\n",
      "  0%|                                                     | 0/2 [00:00<?, ?it/s]\u001b[A\u001b[A"
     ]
    },
    {
     "name": "stdout",
     "output_type": "stream",
     "text": [
      "ATIC: Sample size in overlap or non-overlap < 10\n",
      "BRIX1: Sample size in overlap or non-overlap < 10\n",
      "CEBPE: Sample size in overlap or non-overlap < 10\n",
      "KDSR: Sample size in overlap or non-overlap < 10\n"
     ]
    },
    {
     "name": "stderr",
     "output_type": "stream",
     "text": [
      "\n",
      "\n",
      " 50%|██████████████████████▌                      | 1/2 [00:01<00:01,  1.08s/it]\u001b[A\u001b[A"
     ]
    },
    {
     "name": "stdout",
     "output_type": "stream",
     "text": [
      "ATIC: Sample size in overlap or non-overlap < 10\n",
      "BRIX1: Sample size in overlap or non-overlap < 10\n",
      "CEBPE: Sample size in overlap or non-overlap < 10\n",
      "KDSR: Sample size in overlap or non-overlap < 10\n"
     ]
    },
    {
     "name": "stderr",
     "output_type": "stream",
     "text": [
      "\n",
      "\n",
      "100%|█████████████████████████████████████████████| 2/2 [00:02<00:00,  1.10s/it]\u001b[A\u001b[A\n",
      "\n",
      " 67%|██████████████████████████████               | 2/3 [00:05<00:02,  2.50s/it]\u001b[A\n",
      "\n",
      "  0%|                                                     | 0/2 [00:00<?, ?it/s]\u001b[A\u001b[A\n",
      "\n",
      " 50%|██████████████████████▌                      | 1/2 [00:00<00:00,  2.39it/s]\u001b[A\u001b[A\n",
      "\n",
      "100%|█████████████████████████████████████████████| 2/2 [00:00<00:00,  2.86it/s]\u001b[A\u001b[A\n",
      "\n",
      "100%|█████████████████████████████████████████████| 3/3 [00:05<00:00,  1.95s/it]\u001b[A\n",
      " 14%|██████▍                                      | 1/7 [00:05<00:35,  5.85s/it]\n",
      "  0%|                                                     | 0/3 [00:00<?, ?it/s]\u001b[A\n",
      "\n",
      "  0%|                                                     | 0/2 [00:00<?, ?it/s]\u001b[A\u001b[A"
     ]
    },
    {
     "name": "stdout",
     "output_type": "stream",
     "text": [
      "DBR1: Sample size in overlap or non-overlap < 10\n",
      "DDX21: Sample size in overlap or non-overlap < 10\n",
      "FDPS: Sample size in overlap or non-overlap < 10\n",
      "LEO1: Sample size in overlap or non-overlap < 10\n",
      "MRPL35: Sample size in overlap or non-overlap < 10\n",
      "MRPS35: Sample size in overlap or non-overlap < 10\n",
      "NIP7: Sample size in overlap or non-overlap < 10\n",
      "NLE1: Sample size in overlap or non-overlap < 10\n",
      "SNRNP35: Sample size in overlap or non-overlap < 10\n",
      "SNW1: Sample size in overlap or non-overlap < 10\n"
     ]
    },
    {
     "name": "stderr",
     "output_type": "stream",
     "text": [
      "\n",
      "\n",
      " 50%|██████████████████████▌                      | 1/2 [00:02<00:02,  2.77s/it]\u001b[A\u001b[A\n",
      "\n",
      "100%|█████████████████████████████████████████████| 2/2 [00:03<00:00,  1.52s/it]\u001b[A\u001b[A\n",
      "\n",
      " 33%|███████████████                              | 1/3 [00:03<00:06,  3.05s/it]\u001b[A\n",
      "\n",
      "  0%|                                                     | 0/2 [00:00<?, ?it/s]\u001b[A\u001b[A"
     ]
    },
    {
     "name": "stdout",
     "output_type": "stream",
     "text": [
      "ATIC: Sample size in overlap or non-overlap < 10\n",
      "CEBPE: Sample size in overlap or non-overlap < 10\n",
      "KDSR: Sample size in overlap or non-overlap < 10\n"
     ]
    },
    {
     "name": "stderr",
     "output_type": "stream",
     "text": [
      "\n",
      "\n",
      " 50%|██████████████████████▌                      | 1/2 [00:01<00:01,  1.17s/it]\u001b[A\u001b[A"
     ]
    },
    {
     "name": "stdout",
     "output_type": "stream",
     "text": [
      "ATIC: Sample size in overlap or non-overlap < 10\n",
      "CEBPE: Sample size in overlap or non-overlap < 10\n",
      "KDSR: Sample size in overlap or non-overlap < 10\n"
     ]
    },
    {
     "name": "stderr",
     "output_type": "stream",
     "text": [
      "\n",
      "\n",
      "100%|█████████████████████████████████████████████| 2/2 [00:02<00:00,  1.11s/it]\u001b[A\u001b[A\n",
      "\n",
      " 67%|██████████████████████████████               | 2/3 [00:05<00:02,  2.56s/it]\u001b[A\n",
      "\n",
      "  0%|                                                     | 0/2 [00:00<?, ?it/s]\u001b[A\u001b[A\n",
      "\n",
      " 50%|██████████████████████▌                      | 1/2 [00:00<00:00,  2.40it/s]\u001b[A\u001b[A\n",
      "\n",
      "100%|█████████████████████████████████████████████| 2/2 [00:00<00:00,  2.87it/s]\u001b[A\u001b[A\n",
      "\n",
      "100%|█████████████████████████████████████████████| 3/3 [00:05<00:00,  1.99s/it]\u001b[A\n",
      " 29%|████████████▊                                | 2/7 [00:11<00:29,  5.92s/it]\n",
      "  0%|                                                     | 0/3 [00:00<?, ?it/s]\u001b[A\n",
      "\n",
      "  0%|                                                     | 0/2 [00:00<?, ?it/s]\u001b[A\u001b[A"
     ]
    },
    {
     "name": "stdout",
     "output_type": "stream",
     "text": [
      "ATXN10: Sample size in overlap or non-overlap < 10\n",
      "CARF: Sample size in overlap or non-overlap < 10\n",
      "CLTC: Sample size in overlap or non-overlap < 10\n",
      "DBR1: Sample size in overlap or non-overlap < 10\n",
      "DDX21: Sample size in overlap or non-overlap < 10\n",
      "DNTTIP2: Sample size in overlap or non-overlap < 10\n",
      "EIF3M: Sample size in overlap or non-overlap < 10\n",
      "LEO1: Sample size in overlap or non-overlap < 10\n",
      "LSM2: Sample size in overlap or non-overlap < 10\n",
      "MCM6: Sample size in overlap or non-overlap < 10\n",
      "MDN1: Sample size in overlap or non-overlap < 10\n",
      "MIS18BP1: Sample size in overlap or non-overlap < 10\n",
      "MRPS25: Sample size in overlap or non-overlap < 10\n",
      "MRPS35: Sample size in overlap or non-overlap < 10\n",
      "MYBL2: Sample size in overlap or non-overlap < 10\n",
      "NBAS: Sample size in overlap or non-overlap < 10\n",
      "NIP7: Sample size in overlap or non-overlap < 10\n",
      "NLE1: Sample size in overlap or non-overlap < 10\n",
      "NOP58: Sample size in overlap or non-overlap < 10\n",
      "POLG2: Sample size in overlap or non-overlap < 10\n",
      "POLR1B: Sample size in overlap or non-overlap < 10\n",
      "PRPF8: Sample size in overlap or non-overlap < 10\n",
      "PSMA4: Sample size in overlap or non-overlap < 10\n",
      "SNW1: Sample size in overlap or non-overlap < 10\n",
      "STAT5B: Sample size in overlap or non-overlap < 10\n",
      "TICRR: Sample size in overlap or non-overlap < 10\n"
     ]
    },
    {
     "name": "stderr",
     "output_type": "stream",
     "text": [
      "\n",
      "\n",
      " 50%|██████████████████████▌                      | 1/2 [00:02<00:02,  2.79s/it]\u001b[A\u001b[A"
     ]
    },
    {
     "name": "stdout",
     "output_type": "stream",
     "text": [
      "VPS54: Sample size in overlap or non-overlap < 10\n",
      "ZCCHC9: Sample size in overlap or non-overlap < 10\n"
     ]
    },
    {
     "name": "stderr",
     "output_type": "stream",
     "text": [
      "\n",
      "\n",
      "100%|█████████████████████████████████████████████| 2/2 [00:03<00:00,  1.54s/it]\u001b[A\u001b[A\n",
      "\n",
      " 33%|███████████████                              | 1/3 [00:03<00:06,  3.08s/it]\u001b[A\n",
      "\n",
      "  0%|                                                     | 0/2 [00:00<?, ?it/s]\u001b[A\u001b[A"
     ]
    },
    {
     "name": "stdout",
     "output_type": "stream",
     "text": [
      "ATIC: Sample size in overlap or non-overlap < 10\n",
      "CEBPE: Sample size in overlap or non-overlap < 10\n",
      "DNTTIP2: Sample size in overlap or non-overlap < 10\n",
      "DYNLRB1: Sample size in overlap or non-overlap < 10\n",
      "KDSR: Sample size in overlap or non-overlap < 10\n",
      "OGT: Sample size in overlap or non-overlap < 10\n"
     ]
    },
    {
     "name": "stderr",
     "output_type": "stream",
     "text": [
      "\n",
      "\n",
      " 50%|██████████████████████▌                      | 1/2 [00:01<00:01,  1.20s/it]\u001b[A\u001b[A"
     ]
    },
    {
     "name": "stdout",
     "output_type": "stream",
     "text": [
      "SRSF2: Sample size in overlap or non-overlap < 10\n",
      "VPS28: Sample size in overlap or non-overlap < 10\n",
      "ATIC: Sample size in overlap or non-overlap < 10\n",
      "CEBPE: Sample size in overlap or non-overlap < 10\n",
      "DNTTIP2: Sample size in overlap or non-overlap < 10\n",
      "DYNLRB1: Sample size in overlap or non-overlap < 10\n",
      "KDSR: Sample size in overlap or non-overlap < 10\n",
      "OGT: Sample size in overlap or non-overlap < 10\n"
     ]
    },
    {
     "name": "stderr",
     "output_type": "stream",
     "text": [
      "\n",
      "\n",
      "100%|█████████████████████████████████████████████| 2/2 [00:02<00:00,  1.13s/it]\u001b[A\u001b[A\n",
      "\n",
      " 67%|██████████████████████████████               | 2/3 [00:05<00:02,  2.61s/it]\u001b[A"
     ]
    },
    {
     "name": "stdout",
     "output_type": "stream",
     "text": [
      "SRSF2: Sample size in overlap or non-overlap < 10\n",
      "VPS28: Sample size in overlap or non-overlap < 10\n"
     ]
    },
    {
     "name": "stderr",
     "output_type": "stream",
     "text": [
      "\n",
      "\n",
      "  0%|                                                     | 0/2 [00:00<?, ?it/s]\u001b[A\u001b[A\n",
      "\n",
      " 50%|██████████████████████▌                      | 1/2 [00:00<00:00,  2.48it/s]\u001b[A\u001b[A\n",
      "\n",
      "100%|█████████████████████████████████████████████| 2/2 [00:00<00:00,  2.98it/s]\u001b[A\u001b[A\n",
      "\n",
      "100%|█████████████████████████████████████████████| 3/3 [00:06<00:00,  2.01s/it]\u001b[A\n",
      " 43%|███████████████████▎                         | 3/7 [00:17<00:23,  5.98s/it]\n",
      "  0%|                                                     | 0/3 [00:00<?, ?it/s]\u001b[A\n",
      "\n",
      "  0%|                                                     | 0/2 [00:00<?, ?it/s]\u001b[A\u001b[A"
     ]
    },
    {
     "name": "stdout",
     "output_type": "stream",
     "text": [
      "DBR1: Sample size in overlap or non-overlap < 10\n",
      "DDX21: Sample size in overlap or non-overlap < 10\n",
      "MRPS35: Sample size in overlap or non-overlap < 10\n",
      "NIP7: Sample size in overlap or non-overlap < 10\n",
      "NLE1: Sample size in overlap or non-overlap < 10\n",
      "SNRNP35: Sample size in overlap or non-overlap < 10\n",
      "SNW1: Sample size in overlap or non-overlap < 10\n"
     ]
    },
    {
     "name": "stderr",
     "output_type": "stream",
     "text": [
      "\n",
      "\n",
      " 50%|██████████████████████▌                      | 1/2 [00:02<00:02,  2.92s/it]\u001b[A\u001b[A\n",
      "\n",
      "100%|█████████████████████████████████████████████| 2/2 [00:03<00:00,  1.60s/it]\u001b[A\u001b[A\n",
      "\n",
      " 33%|███████████████                              | 1/3 [00:03<00:06,  3.19s/it]\u001b[A\n",
      "\n",
      "  0%|                                                     | 0/2 [00:00<?, ?it/s]\u001b[A\u001b[A"
     ]
    },
    {
     "name": "stdout",
     "output_type": "stream",
     "text": [
      "CEBPE: Sample size in overlap or non-overlap < 10\n",
      "MROH6: Sample size in overlap or non-overlap < 10\n"
     ]
    },
    {
     "name": "stderr",
     "output_type": "stream",
     "text": [
      "\n",
      "\n",
      " 50%|██████████████████████▌                      | 1/2 [00:01<00:01,  1.07s/it]\u001b[A\u001b[A"
     ]
    },
    {
     "name": "stdout",
     "output_type": "stream",
     "text": [
      "CEBPE: Sample size in overlap or non-overlap < 10\n",
      "MROH6: Sample size in overlap or non-overlap < 10\n"
     ]
    },
    {
     "name": "stderr",
     "output_type": "stream",
     "text": [
      "\n",
      "\n",
      "100%|█████████████████████████████████████████████| 2/2 [00:02<00:00,  1.11s/it]\u001b[A\u001b[A\n",
      "\n",
      " 67%|██████████████████████████████               | 2/3 [00:05<00:02,  2.62s/it]\u001b[A\n",
      "\n",
      "  0%|                                                     | 0/2 [00:00<?, ?it/s]\u001b[A\u001b[A\n",
      "\n",
      " 50%|██████████████████████▌                      | 1/2 [00:00<00:00,  2.25it/s]\u001b[A\u001b[A\n",
      "\n",
      "100%|█████████████████████████████████████████████| 2/2 [00:00<00:00,  2.79it/s]\u001b[A\u001b[A\n",
      "\n",
      "100%|█████████████████████████████████████████████| 3/3 [00:06<00:00,  2.05s/it]\u001b[A\n",
      " 57%|█████████████████████████▋                   | 4/7 [00:24<00:18,  6.04s/it]\n",
      "  0%|                                                     | 0/3 [00:00<?, ?it/s]\u001b[A\n",
      "\n",
      "  0%|                                                     | 0/2 [00:00<?, ?it/s]\u001b[A\u001b[A"
     ]
    },
    {
     "name": "stdout",
     "output_type": "stream",
     "text": [
      "DBR1: Sample size in overlap or non-overlap < 10\n",
      "DDX21: Sample size in overlap or non-overlap < 10\n",
      "MRPS35: Sample size in overlap or non-overlap < 10\n",
      "NIP7: Sample size in overlap or non-overlap < 10\n",
      "NLE1: Sample size in overlap or non-overlap < 10\n",
      "STAT5B: Sample size in overlap or non-overlap < 10\n"
     ]
    },
    {
     "name": "stderr",
     "output_type": "stream",
     "text": [
      "\n",
      "\n",
      " 50%|██████████████████████▌                      | 1/2 [00:02<00:02,  2.79s/it]\u001b[A\u001b[A\n",
      "\n",
      "100%|█████████████████████████████████████████████| 2/2 [00:03<00:00,  1.53s/it]\u001b[A\u001b[A\n",
      "\n",
      " 33%|███████████████                              | 1/3 [00:03<00:06,  3.06s/it]\u001b[A\n",
      "\n",
      "  0%|                                                     | 0/2 [00:00<?, ?it/s]\u001b[A\u001b[A"
     ]
    },
    {
     "name": "stdout",
     "output_type": "stream",
     "text": [
      "CEBPE: Sample size in overlap or non-overlap < 10\n",
      "KDSR: Sample size in overlap or non-overlap < 10\n"
     ]
    },
    {
     "name": "stderr",
     "output_type": "stream",
     "text": [
      "\n",
      "\n",
      " 50%|██████████████████████▌                      | 1/2 [00:01<00:01,  1.15s/it]\u001b[A\u001b[A"
     ]
    },
    {
     "name": "stdout",
     "output_type": "stream",
     "text": [
      "CEBPE: Sample size in overlap or non-overlap < 10\n",
      "KDSR: Sample size in overlap or non-overlap < 10\n"
     ]
    },
    {
     "name": "stderr",
     "output_type": "stream",
     "text": [
      "\n",
      "\n",
      "100%|█████████████████████████████████████████████| 2/2 [00:02<00:00,  1.17s/it]\u001b[A\u001b[A\n",
      "\n",
      " 67%|██████████████████████████████               | 2/3 [00:05<00:02,  2.64s/it]\u001b[A\n",
      "\n",
      "  0%|                                                     | 0/2 [00:00<?, ?it/s]\u001b[A\u001b[A\n",
      "\n",
      " 50%|██████████████████████▌                      | 1/2 [00:00<00:00,  2.26it/s]\u001b[A\u001b[A\n",
      "\n",
      "100%|█████████████████████████████████████████████| 2/2 [00:00<00:00,  2.82it/s]\u001b[A\u001b[A\n",
      "\n",
      "100%|█████████████████████████████████████████████| 3/3 [00:06<00:00,  2.05s/it]\u001b[A\n",
      " 71%|████████████████████████████████▏            | 5/7 [00:30<00:12,  6.08s/it]\n",
      "  0%|                                                     | 0/3 [00:00<?, ?it/s]\u001b[A\n",
      "\n",
      "  0%|                                                     | 0/2 [00:00<?, ?it/s]\u001b[A\u001b[A"
     ]
    },
    {
     "name": "stdout",
     "output_type": "stream",
     "text": [
      "CARF: Sample size in overlap or non-overlap < 10\n",
      "DDX21: Sample size in overlap or non-overlap < 10\n",
      "LEO1: Sample size in overlap or non-overlap < 10\n",
      "MRPS35: Sample size in overlap or non-overlap < 10\n",
      "NIP7: Sample size in overlap or non-overlap < 10\n"
     ]
    },
    {
     "name": "stderr",
     "output_type": "stream",
     "text": [
      "\n",
      "\n",
      " 50%|██████████████████████▌                      | 1/2 [00:02<00:02,  2.96s/it]\u001b[A\u001b[A\n",
      "\n",
      "100%|█████████████████████████████████████████████| 2/2 [00:03<00:00,  1.62s/it]\u001b[A\u001b[A\n",
      "\n",
      " 33%|███████████████                              | 1/3 [00:03<00:06,  3.24s/it]\u001b[A\n",
      "\n",
      "  0%|                                                     | 0/2 [00:00<?, ?it/s]\u001b[A\u001b[A\n",
      "\n",
      " 50%|██████████████████████▌                      | 1/2 [00:01<00:01,  1.13s/it]\u001b[A\u001b[A\n",
      "\n",
      "100%|█████████████████████████████████████████████| 2/2 [00:02<00:00,  1.18s/it]\u001b[A\u001b[A\n",
      "\n",
      " 67%|██████████████████████████████               | 2/3 [00:05<00:02,  2.72s/it]\u001b[A\n",
      "\n",
      "  0%|                                                     | 0/2 [00:00<?, ?it/s]\u001b[A\u001b[A\n",
      "\n",
      " 50%|██████████████████████▌                      | 1/2 [00:00<00:00,  2.33it/s]\u001b[A\u001b[A\n",
      "\n",
      "100%|█████████████████████████████████████████████| 2/2 [00:00<00:00,  2.68it/s]\u001b[A\u001b[A\n",
      "\n",
      "100%|█████████████████████████████████████████████| 3/3 [00:06<00:00,  2.12s/it]\u001b[A\n",
      " 86%|██████████████████████████████████████▌      | 6/7 [00:36<00:06,  6.17s/it]\n",
      "  0%|                                                     | 0/3 [00:00<?, ?it/s]\u001b[A\n",
      "\n",
      "  0%|                                                     | 0/2 [00:00<?, ?it/s]\u001b[A\u001b[A"
     ]
    },
    {
     "name": "stdout",
     "output_type": "stream",
     "text": [
      "CARF: Sample size in overlap or non-overlap < 10\n",
      "COG8: Sample size in overlap or non-overlap < 10\n",
      "CRNKL1: Sample size in overlap or non-overlap < 10\n",
      "DBR1: Sample size in overlap or non-overlap < 10\n",
      "DDX21: Sample size in overlap or non-overlap < 10\n",
      "EIF3M: Sample size in overlap or non-overlap < 10\n",
      "LEO1: Sample size in overlap or non-overlap < 10\n",
      "MDN1: Sample size in overlap or non-overlap < 10\n",
      "MRPS35: Sample size in overlap or non-overlap < 10\n",
      "MYBL2: Sample size in overlap or non-overlap < 10\n",
      "NIP7: Sample size in overlap or non-overlap < 10\n",
      "NLE1: Sample size in overlap or non-overlap < 10\n",
      "POLR1B: Sample size in overlap or non-overlap < 10\n",
      "RAD51: Sample size in overlap or non-overlap < 10\n",
      "RPF2: Sample size in overlap or non-overlap < 10\n",
      "SLC35A1: Sample size in overlap or non-overlap < 10\n",
      "SNRNP35: Sample size in overlap or non-overlap < 10\n",
      "SNW1: Sample size in overlap or non-overlap < 10\n",
      "STAT5B: Sample size in overlap or non-overlap < 10\n"
     ]
    },
    {
     "name": "stderr",
     "output_type": "stream",
     "text": [
      "\n",
      "\n",
      " 50%|██████████████████████▌                      | 1/2 [00:03<00:03,  3.14s/it]\u001b[A\u001b[A"
     ]
    },
    {
     "name": "stdout",
     "output_type": "stream",
     "text": [
      "UTP6: Sample size in overlap or non-overlap < 10\n"
     ]
    },
    {
     "name": "stderr",
     "output_type": "stream",
     "text": [
      "\n",
      "\n",
      "100%|█████████████████████████████████████████████| 2/2 [00:03<00:00,  1.75s/it]\u001b[A\u001b[A\n",
      "\n",
      " 33%|███████████████                              | 1/3 [00:03<00:06,  3.50s/it]\u001b[A\n",
      "\n",
      "  0%|                                                     | 0/2 [00:00<?, ?it/s]\u001b[A\u001b[A"
     ]
    },
    {
     "name": "stdout",
     "output_type": "stream",
     "text": [
      "ATIC: Sample size in overlap or non-overlap < 10\n",
      "KDSR: Sample size in overlap or non-overlap < 10\n"
     ]
    },
    {
     "name": "stderr",
     "output_type": "stream",
     "text": [
      "\n",
      "\n",
      " 50%|██████████████████████▌                      | 1/2 [00:01<00:01,  1.24s/it]\u001b[A\u001b[A"
     ]
    },
    {
     "name": "stdout",
     "output_type": "stream",
     "text": [
      "UPF2: Sample size in overlap or non-overlap < 10\n",
      "ATIC: Sample size in overlap or non-overlap < 10\n",
      "KDSR: Sample size in overlap or non-overlap < 10\n"
     ]
    },
    {
     "name": "stderr",
     "output_type": "stream",
     "text": [
      "\n",
      "\n",
      "100%|█████████████████████████████████████████████| 2/2 [00:02<00:00,  1.21s/it]\u001b[A\u001b[A\n",
      "\n",
      " 67%|██████████████████████████████               | 2/3 [00:05<00:02,  2.87s/it]\u001b[A"
     ]
    },
    {
     "name": "stdout",
     "output_type": "stream",
     "text": [
      "UPF2: Sample size in overlap or non-overlap < 10\n"
     ]
    },
    {
     "name": "stderr",
     "output_type": "stream",
     "text": [
      "\n",
      "\n",
      "  0%|                                                     | 0/2 [00:00<?, ?it/s]\u001b[A\u001b[A\n",
      "\n",
      " 50%|██████████████████████▌                      | 1/2 [00:00<00:00,  2.21it/s]\u001b[A\u001b[A\n",
      "\n",
      "100%|█████████████████████████████████████████████| 2/2 [00:00<00:00,  2.78it/s]\u001b[A\u001b[A\n",
      "\n",
      "100%|█████████████████████████████████████████████| 3/3 [00:06<00:00,  2.22s/it]\u001b[A\n",
      "100%|█████████████████████████████████████████████| 7/7 [00:43<00:00,  6.17s/it]\n"
     ]
    }
   ],
   "source": [
    "results_df = perform_mannwhitney_tests(combinedDataATAC, 'Target Gene Symbol', 'doubleZscore')\n"
   ]
  },
  {
   "cell_type": "code",
   "execution_count": 18,
   "id": "ca13ddde",
   "metadata": {},
   "outputs": [],
   "source": [
    "# pathOut = '/Users/fzheng/Library/CloudStorage/GoogleDrive-fzheng@broadinstitute.org/Shared drives/GPP Cloud /R&D/People/Fengyi/rule_set/crispri/data/2024/Manuscript/DHS/Pval/scaledData/'\n",
    "# results_df.to_csv(pathOut + 'scaledDHS_Pval', index = False)"
   ]
  },
  {
   "cell_type": "code",
   "execution_count": 112,
   "id": "e957ca50",
   "metadata": {},
   "outputs": [],
   "source": [
    "def categorize_pval(df, col= '-log10(pval)'):\n",
    "    new_df = df.copy()\n",
    "    conditions  = [ new_df[col] < 1, \n",
    "                   (new_df[col] >= 1) & (new_df[col]< 2), \n",
    "                   (new_df[col] >= 2) & (new_df[col]< 3), \n",
    "                   (new_df[col] >= 3) & (new_df[col]< 4),\n",
    "                  new_df[col] >= 4]\n",
    "    choices     = [ \"< 1\", '[1,2)', '[2,3)', '[3,4)', '>= 4' ]\n",
    "    new_df[\"-log10(pval) bins\"] = np.select(conditions, choices, default=np.nan)\n",
    "    return new_df\n",
    "def chip_graph(df, title, save = False):\n",
    "    choices     = [ \"< 1\", '[1,2)', '[2,3)', '[3,4)', '>= 4' ]\n",
    "    plt.figure(figsize=(7, 5))\n",
    "    ax = sns.barplot(data=df, x='-log10(pval) bins', \n",
    "                y = 'counts', hue=\"ATACseq\", order = choices)\n",
    "    sns.move_legend(ax, \"upper left\", bbox_to_anchor=(1, 1),title='ATACseq Cell Line', fontsize=20)\n",
    "    plt.setp(ax.get_legend().get_title(), fontsize='20')\n",
    "\n",
    "    ax.set_title(title, fontsize=25)\n",
    "\n",
    "    plt.xlabel('-log10(p-value) Bins',fontsize=20)\n",
    "    sns.despine()\n",
    "    plt.ylabel('Counts',fontsize=20)\n",
    "    plt.tick_params(axis='both', which='major', labelsize=20)\n",
    "#     if save == True:\n",
    "#         #atac_graph_out = '/Users/fzheng/Library/CloudStorage/GoogleDrive-fzheng@broadinstitute.org/Shared drives/GPP Cloud /R&D/People/Fengyi/rule_set/crispri/figure/2023/CRISPRi/ATACseq/'\n",
    "#         plt.savefig(atac_graph_out + title + '.png',\n",
    "#                    dpi = 1000, bbox_inches='tight')"
   ]
  },
  {
   "cell_type": "code",
   "execution_count": 113,
   "id": "6bdb4012",
   "metadata": {},
   "outputs": [],
   "source": [
    "results_df['DataSetID'] = results_df[['DataSet', 'Domain']].agg(\"_\".join, axis=1)"
   ]
  },
  {
   "cell_type": "code",
   "execution_count": 119,
   "id": "9f5c38d1",
   "metadata": {},
   "outputs": [
    {
     "data": {
      "image/png": "[encoded data removed]",
      "text/plain": [
       "<Figure size 504x360 with 1 Axes>"
      ]
     },
     "metadata": {
      "needs_background": "light"
     },
     "output_type": "display_data"
    },
    {
     "data": {
      "image/png": "[encoded data removed]",
      "text/plain": [
       "<Figure size 504x360 with 1 Axes>"
      ]
     },
     "metadata": {
      "needs_background": "light"
     },
     "output_type": "display_data"
    },
    {
     "data": {
      "image/png": "[encoded data removed]",
      "text/plain": [
       "<Figure size 504x360 with 1 Axes>"
      ]
     },
     "metadata": {
      "needs_background": "light"
     },
     "output_type": "display_data"
    },
    {
     "data": {
      "image/png": "[encoded data removed]",
      "text/plain": [
       "<Figure size 504x360 with 1 Axes>"
      ]
     },
     "metadata": {
      "needs_background": "light"
     },
     "output_type": "display_data"
    }
   ],
   "source": [
    "allDataCount = pd.DataFrame()\n",
    "for dataset in results_df.DataSetID.unique():\n",
    "    select_pval = results_df[results_df.DataSetID == dataset].copy()\n",
    "    select_pval = select_pval.groupby('gene').filter(lambda g: len(g) == 7)\n",
    "    select_pval['-log10(pval)'] = -np.log10(select_pval['pval'])\n",
    "    select_pval = categorize_pval(select_pval)\n",
    "    select_count = pd.DataFrame(select_pval.groupby(['-log10(pval) bins', 'ATACseq']).size().reset_index(name='counts'))\n",
    "    select_count['DataSetID'] = dataset\n",
    "    allDataCount = pd.concat([allDataCount, select_count])\n",
    "    chip_graph(select_count, dataset)"
   ]
  },
  {
   "cell_type": "code",
   "execution_count": 120,
   "id": "745485b8",
   "metadata": {},
   "outputs": [
    {
     "data": {
      "image/png": "[encoded data removed]",
      "text/plain": [
       "<Figure size 360x288 with 1 Axes>"
      ]
     },
     "metadata": {
      "needs_background": "light"
     },
     "output_type": "display_data"
    },
    {
     "data": {
      "image/png": "[encoded data removed]",
      "text/plain": [
       "<Figure size 360x288 with 1 Axes>"
      ]
     },
     "metadata": {
      "needs_background": "light"
     },
     "output_type": "display_data"
    },
    {
     "data": {
      "image/png": "[encoded data removed]",
      "text/plain": [
       "<Figure size 360x288 with 1 Axes>"
      ]
     },
     "metadata": {
      "needs_background": "light"
     },
     "output_type": "display_data"
    },
    {
     "data": {
      "image/png": "[encoded data removed]",
      "text/plain": [
       "<Figure size 360x288 with 1 Axes>"
      ]
     },
     "metadata": {
      "needs_background": "light"
     },
     "output_type": "display_data"
    }
   ],
   "source": [
    "for selectData in allDataCount['DataSetID'].unique():\n",
    "    select_count = allDataCount[allDataCount.DataSetID == selectData].copy()\n",
    "\n",
    "    grouped_df = select_count.groupby(['-log10(pval) bins', 'ATACseq'])['counts'].sum().unstack().fillna(0)\n",
    "    grouped_df = grouped_df[['A549',  'HCT116', 'K562', 'GM12878','HepG2', 'MCF7', 'Panc1']]\n",
    "    # Calculate percentages\n",
    "    grouped_df_percentage = grouped_df.transpose().divide(grouped_df.sum(axis=0), axis=0)\n",
    "    grouped_df_percentage = grouped_df_percentage[['< 1','[1,2)',  '[2,3)','[3,4)','>= 4']]\n",
    "    # Plotting\n",
    "    fig, ax = plt.subplots(figsize=(5, 4))\n",
    "\n",
    "    grouped_df_percentage.plot(kind='bar', stacked=True, ax=ax, width=0.6)\n",
    "\n",
    "    \n",
    "     # Add percentages to the bars and the total count\n",
    "    for i in range(grouped_df_percentage.shape[0]):\n",
    "        total = 0\n",
    "        totalCount = grouped_df.iloc[:, i].sum()  # Calculate the total count for each stack\n",
    "        # Add total count text on top of each stack\n",
    "        ax.text(i, 1.05, f'{int(totalCount)}', ha='center', va='bottom', fontsize=8, fontweight='light', color='black')\n",
    "\n",
    "    plt.ylabel('Proportion')\n",
    "    plt.xlabel('ATACseq Cell-line')\n",
    "    plt.title(selectData,pad =20)\n",
    "    plt.legend(title='-log10(pval) bin', bbox_to_anchor=(1.05, 1), loc='upper left')\n",
    "    sns.despine()\n",
    "    plt.tight_layout()\n",
    "    #plt.savefig(graph_pathout + selectData+\"_ATAC.pdf\", dpi=300, bbox_inches='tight')\n",
    "    plt.show()"
   ]
  },
  {
   "cell_type": "code",
   "execution_count": 118,
   "id": "c4ab9f67",
   "metadata": {},
   "outputs": [
    {
     "data": {
      "text/html": [
       "<div>\n",
       "<style scoped>\n",
       "    .dataframe tbody tr th:only-of-type {\n",
       "        vertical-align: middle;\n",
       "    }\n",
       "\n",
       "    .dataframe tbody tr th {\n",
       "        vertical-align: top;\n",
       "    }\n",
       "\n",
       "    .dataframe thead th {\n",
       "        text-align: right;\n",
       "    }\n",
       "</style>\n",
       "<table border=\"1\" class=\"dataframe\">\n",
       "  <thead>\n",
       "    <tr style=\"text-align: right;\">\n",
       "      <th>-log10(pval) bins</th>\n",
       "      <th>&lt; 1</th>\n",
       "      <th>[1,2)</th>\n",
       "      <th>[2,3)</th>\n",
       "      <th>[3,4)</th>\n",
       "      <th>&gt;= 4</th>\n",
       "    </tr>\n",
       "    <tr>\n",
       "      <th>ATACseq</th>\n",
       "      <th></th>\n",
       "      <th></th>\n",
       "      <th></th>\n",
       "      <th></th>\n",
       "      <th></th>\n",
       "    </tr>\n",
       "  </thead>\n",
       "  <tbody>\n",
       "    <tr>\n",
       "      <th>A549</th>\n",
       "      <td>0.111111</td>\n",
       "      <td>0.027778</td>\n",
       "      <td>0.000000</td>\n",
       "      <td>0.111111</td>\n",
       "      <td>0.750000</td>\n",
       "    </tr>\n",
       "    <tr>\n",
       "      <th>HCT116</th>\n",
       "      <td>0.083333</td>\n",
       "      <td>0.055556</td>\n",
       "      <td>0.083333</td>\n",
       "      <td>0.027778</td>\n",
       "      <td>0.750000</td>\n",
       "    </tr>\n",
       "    <tr>\n",
       "      <th>K562</th>\n",
       "      <td>0.138889</td>\n",
       "      <td>0.000000</td>\n",
       "      <td>0.027778</td>\n",
       "      <td>0.027778</td>\n",
       "      <td>0.805556</td>\n",
       "    </tr>\n",
       "    <tr>\n",
       "      <th>GM12878</th>\n",
       "      <td>0.111111</td>\n",
       "      <td>0.027778</td>\n",
       "      <td>0.083333</td>\n",
       "      <td>0.027778</td>\n",
       "      <td>0.750000</td>\n",
       "    </tr>\n",
       "    <tr>\n",
       "      <th>HepG2</th>\n",
       "      <td>0.083333</td>\n",
       "      <td>0.083333</td>\n",
       "      <td>0.027778</td>\n",
       "      <td>0.000000</td>\n",
       "      <td>0.805556</td>\n",
       "    </tr>\n",
       "    <tr>\n",
       "      <th>MCF7</th>\n",
       "      <td>0.083333</td>\n",
       "      <td>0.055556</td>\n",
       "      <td>0.027778</td>\n",
       "      <td>0.055556</td>\n",
       "      <td>0.777778</td>\n",
       "    </tr>\n",
       "    <tr>\n",
       "      <th>Panc1</th>\n",
       "      <td>0.111111</td>\n",
       "      <td>0.027778</td>\n",
       "      <td>0.083333</td>\n",
       "      <td>0.055556</td>\n",
       "      <td>0.722222</td>\n",
       "    </tr>\n",
       "  </tbody>\n",
       "</table>\n",
       "</div>"
      ],
      "text/plain": [
       "-log10(pval) bins       < 1     [1,2)     [2,3)     [3,4)      >= 4\n",
       "ATACseq                                                            \n",
       "A549               0.111111  0.027778  0.000000  0.111111  0.750000\n",
       "HCT116             0.083333  0.055556  0.083333  0.027778  0.750000\n",
       "K562               0.138889  0.000000  0.027778  0.027778  0.805556\n",
       "GM12878            0.111111  0.027778  0.083333  0.027778  0.750000\n",
       "HepG2              0.083333  0.083333  0.027778  0.000000  0.805556\n",
       "MCF7               0.083333  0.055556  0.027778  0.055556  0.777778\n",
       "Panc1              0.111111  0.027778  0.083333  0.055556  0.722222"
      ]
     },
     "execution_count": 118,
     "metadata": {},
     "output_type": "execute_result"
    }
   ],
   "source": [
    "grouped_df_percentage"
   ]
  },
  {
   "cell_type": "code",
   "execution_count": null,
   "id": "7f32ceda",
   "metadata": {},
   "outputs": [],
   "source": []
  }
 ],
 "metadata": {
  "kernelspec": {
   "display_name": "Python 3 (ipykernel)",
   "language": "python",
   "name": "python3"
  },
  "language_info": {
   "codemirror_mode": {
    "name": "ipython",
    "version": 3
   },
   "file_extension": ".py",
   "mimetype": "text/x-python",
   "name": "python",
   "nbconvert_exporter": "python",
   "pygments_lexer": "ipython3",
   "version": "3.8.13"
  }
 },
 "nbformat": 4,
 "nbformat_minor": 5
}
